{
 "cells": [
  {
   "cell_type": "code",
   "execution_count": 28,
   "id": "269764e2",
   "metadata": {
    "tags": []
   },
   "outputs": [],
   "source": [
    "# Add directory above current directory to path\n",
    "import sys as SYS; SYS.path.insert(0, '..')\n",
    "import os"
   ]
  },
  {
   "cell_type": "code",
   "execution_count": 6,
   "id": "d2b978f7",
   "metadata": {
    "tags": []
   },
   "outputs": [],
   "source": [
    "from src.random_hamiltonian import random_unitary\n",
    "import matplotlib.pyplot as plt\n",
    "import numpy as np\n",
    "rng = np.random.default_rng()\n",
    "\n",
    "from src import measurements as measure, density_matrix as DM\n",
    "\n",
    "import time"
   ]
  },
  {
   "cell_type": "code",
   "execution_count": 7,
   "id": "ce6de1b6",
   "metadata": {
    "tags": []
   },
   "outputs": [],
   "source": [
    "def line_order(n):\n",
    "    shift = rng.integers(n)\n",
    "    return lambda:  np.roll(list(range(n)), shift)\n",
    "\n",
    "def random_order(n):\n",
    "    return lambda: rng.permutation(n)\n",
    "\n",
    "def messenger_order_8():\n",
    "    orders = [[0,1,2,3,4,5,6,7],[0,1,2,4,3,5,6,7]]\n",
    "    return lambda: rng.choice(orders)\n",
    "\n",
    "def messenger_order_12_type1_chunk_size_4():\n",
    "    orders = [[0,1,2,3,4,5,6,7,8,9,10,11],[0,1,2,7,4,5,6,3,8,9,10,11],[0,1,2,3,4,5,6,11,8,9,10,7],[0,1,2,11,4,5,6,7,8,9,10,3]]\n",
    "    return lambda: rng.choice(orders)\n",
    "\n",
    "def messenger_order_12_type2_chunk_size_6():\n",
    "    orders = [[0,1,2,3,4,5,6,7,8,9,10,11],[0,1,2,3,4,6,5,7,8,9,10,11]]\n",
    "    return lambda: rng.choice(orders)"
   ]
  },
  {
   "cell_type": "code",
   "execution_count": 38,
   "id": "f3887e95",
   "metadata": {
    "tags": []
   },
   "outputs": [],
   "source": [
    "def run_n_trials(qm_sys: DM.DensityMatrix, num_blocks: int, measurment_set, num_trials: int, possible_orders):\n",
    "    \n",
    "    if type(measurment_set) != list:\n",
    "        measurment_set = [measurment_set]\n",
    "        \n",
    "    \n",
    "    \n",
    "    start = time.time()\n",
    "    N = qm_sys.number_of_qbits\n",
    "    \n",
    "    \n",
    "    measurments = [np.array(measurment(qm_sys)) for measurment in measurment_set]\n",
    "\n",
    "    assert N % num_blocks == 0, f\"num_block = {num_blocks} must divide the size of the system {N}\"\n",
    "    block_size = N // num_blocks\n",
    "    for i in range(num_trials):\n",
    "        sub_system_unitaries = [random_unitary(block_size) for _ in range(num_blocks)]\n",
    "        U = DM.tensor(sub_system_unitaries)\n",
    "\n",
    "        # shift the order of the qbits\n",
    "\n",
    "        order = possible_orders()\n",
    "\n",
    "        U.relabel_basis(order)\n",
    "        U.change_to_energy_basis()\n",
    "\n",
    "        qm_sys = U * qm_sys * U.H\n",
    "\n",
    "        \n",
    "        measurments = [np.vstack((measurments[i], measurment(qm_sys)))  for i,measurment in enumerate(measurment_set)]\n",
    "    print(f\"{np.round(time.time() - start, 2)} seconds elapsed\")\n",
    "    return measurments"
   ]
  },
  {
   "cell_type": "code",
   "execution_count": 41,
   "id": "afdfc9e9",
   "metadata": {},
   "outputs": [],
   "source": [
    "N = 4\n",
    "num_blocks = 1\n",
    "pops = [.1, .1, .1, .4]\n",
    "my_sys = DM.n_thermal_qbits(pops)\n",
    "my_sys.change_to_energy_basis()\n"
   ]
  },
  {
   "cell_type": "code",
   "execution_count": 54,
   "id": "ff98a5d0",
   "metadata": {},
   "outputs": [
    {
     "name": "stdout",
     "output_type": "stream",
     "text": [
      "0.19 seconds elapsed\n"
     ]
    }
   ],
   "source": [
    "results = run_n_trials(my_sys,num_blocks,[measure.pops,measure.extractable_work_of_each_qubit],5,random_order(4))"
   ]
  },
  {
   "cell_type": "code",
   "execution_count": 58,
   "id": "0dc36515-ebfb-4ee3-b9a4-99584d2713d5",
   "metadata": {},
   "outputs": [],
   "source": [
    "extractable_work = results[1]\n",
    "pops = results[0]"
   ]
  },
  {
   "cell_type": "code",
   "execution_count": 59,
   "id": "c956851e",
   "metadata": {},
   "outputs": [
    {
     "data": {
      "image/png": "[encoded data removed]",
      "text/plain": [
       "<Figure size 640x480 with 1 Axes>"
      ]
     },
     "metadata": {},
     "output_type": "display_data"
    }
   ],
   "source": [
    "plt.plot(np.real(extractable_work),linestyle='-', marker='.',alpha = .5)\n",
    "plt.show()"
   ]
  },
  {
   "cell_type": "code",
   "execution_count": 60,
   "id": "8ee4237c",
   "metadata": {},
   "outputs": [
    {
     "name": "stdout",
     "output_type": "stream",
     "text": [
      "6\n"
     ]
    },
    {
     "ename": "IndexError",
     "evalue": "pop index out of range",
     "output_type": "error",
     "traceback": [
      "\u001b[1;31m---------------------------------------------------------------------------\u001b[0m",
      "\u001b[1;31mIndexError\u001b[0m                                Traceback (most recent call last)",
      "Input \u001b[1;32mIn [60]\u001b[0m, in \u001b[0;36m<cell line: 20>\u001b[1;34m()\u001b[0m\n\u001b[0;32m     18\u001b[0m \u001b[38;5;66;03m#find the number of positive changes across landscape for initially cold qubits\u001b[39;00m\n\u001b[0;32m     19\u001b[0m list_number_of_positive_for_initially_cold_qubits \u001b[38;5;241m=\u001b[39m [ \u001b[38;5;28msum\u001b[39m(x) \u001b[38;5;28;01mfor\u001b[39;00m x \u001b[38;5;129;01min\u001b[39;00m \u001b[38;5;28mzip\u001b[39m(\u001b[38;5;241m*\u001b[39mwhere_positive)]\n\u001b[1;32m---> 20\u001b[0m \u001b[43mlist_number_of_positive_for_initially_cold_qubits\u001b[49m\u001b[38;5;241;43m.\u001b[39;49m\u001b[43mpop\u001b[49m\u001b[43m(\u001b[49m\u001b[38;5;241;43m5\u001b[39;49m\u001b[43m)\u001b[49m\n\u001b[0;32m     21\u001b[0m \u001b[38;5;28mprint\u001b[39m(list_number_of_positive_for_initially_cold_qubits)\n\u001b[0;32m     23\u001b[0m \u001b[38;5;66;03m#find the number of positive changes across landscape for initially hot qubits\u001b[39;00m\n",
      "\u001b[1;31mIndexError\u001b[0m: pop index out of range"
     ]
    }
   ],
   "source": [
    "#this gets the change in work between each time step\n",
    "change_in_work = extractable_work[1:]-extractable_work[:-1]\n",
    "\n",
    "#this finds where the change in work is greater than zero (a larger cutoff can be used here to find more significant changes)\n",
    "where_positive = change_in_work>0\n",
    "\n",
    "#this gets where the change in work is positive for the ith qubit in time ordered manner\n",
    "def change_in_work_Q_i(i):\n",
    "    return change_in_work.real[0:,i]>0\n",
    "\n",
    "#find the number of positive changes\n",
    "num_positive_change = np.sum(where_positive)\n",
    "print(num_positive_change)\n",
    "\n",
    "#find the percent of positive changes\n",
    "num_positive_change/(len(change_in_work)*N)\n",
    "\n",
    "#find the number of positive changes across landscape for initially cold qubits\n",
    "list_number_of_positive_for_initially_cold_qubits = [ sum(x) for x in zip(*where_positive)]\n",
    "list_number_of_positive_for_initially_cold_qubits.pop(5)\n",
    "print(list_number_of_positive_for_initially_cold_qubits)\n",
    "\n",
    "#find the number of positive changes across landscape for initially hot qubits\n",
    "print(sum(change_in_work_Q_i(5)))\n"
   ]
  },
  {
   "cell_type": "code",
   "execution_count": 27,
   "id": "a7272d76-a544-4da0-b29e-a805a4d91145",
   "metadata": {},
   "outputs": [
    {
     "data": {
      "text/plain": [
       "[0,\n",
       " 0,\n",
       " 0,\n",
       " 1,\n",
       " 2,\n",
       " 0,\n",
       " 0,\n",
       " 1,\n",
       " 1,\n",
       " 0,\n",
       " 1,\n",
       " 0,\n",
       " 0,\n",
       " 1,\n",
       " 2,\n",
       " 2,\n",
       " 0,\n",
       " 1,\n",
       " 3,\n",
       " 0,\n",
       " 0,\n",
       " 1,\n",
       " 0,\n",
       " 0,\n",
       " 1,\n",
       " 1,\n",
       " 1,\n",
       " 2,\n",
       " 2]"
      ]
     },
     "execution_count": 27,
     "metadata": {},
     "output_type": "execute_result"
    }
   ],
   "source": [
    "intervals_length_for_Q_i(0)"
   ]
  },
  {
   "cell_type": "code",
   "execution_count": 26,
   "id": "5423320d",
   "metadata": {},
   "outputs": [],
   "source": [
    "#gives a list of intervals for each qubit i where change in work is positive\n",
    "def intervals_length_for_Q_i(qubit):\n",
    "    interval = [0]\n",
    "    length = 0\n",
    "    change_in_work_qubit = change_in_work_Q_i(qubit).tolist()\n",
    "    change_in_work_qubit.append(0)\n",
    "    for i in range(0,51):\n",
    "        if change_in_work_qubit[i]==1:\n",
    "            length = length +1\n",
    "        else:\n",
    "            interval.append(length)\n",
    "            length = 0 \n",
    "    return interval"
   ]
  },
  {
   "cell_type": "code",
   "execution_count": 29,
   "id": "8c66ff82",
   "metadata": {},
   "outputs": [],
   "source": [
    "#gives list of interval for which change in work is positive for the entire landscape\n",
    "def all_intervals_on_landscape():\n",
    "    all_intervals_on_landscape = []\n",
    "    for i in range (0,N):\n",
    "        all_intervals_on_landscape = all_intervals_on_landscape + intervals_length_for_Q_i(i)\n",
    "    return all_intervals_on_landscape"
   ]
  },
  {
   "cell_type": "code",
   "execution_count": 204,
   "id": "d9afdc7b",
   "metadata": {},
   "outputs": [
    {
     "data": {
      "image/png": "[encoded data removed]",
      "text/plain": [
       "<Figure size 432x288 with 1 Axes>"
      ]
     },
     "metadata": {
      "needs_background": "light"
     },
     "output_type": "display_data"
    }
   ],
   "source": [
    "#plot histogram of interval lengths\n",
    "plt.hist(all_intervals_on_landscape(),range=[1,10])\n",
    "plt.show()"
   ]
  },
  {
   "cell_type": "code",
   "execution_count": 254,
   "id": "42149199",
   "metadata": {},
   "outputs": [
    {
     "data": {
      "image/png": "[encoded data removed]",
      "text/plain": [
       "<Figure size 432x288 with 1 Axes>"
      ]
     },
     "metadata": {
      "needs_background": "light"
     },
     "output_type": "display_data"
    }
   ],
   "source": [
    "#creates boxplot for number of positive events for the initial hot vs cold qubit\n",
    "plt.boxplot([list_number_of_positive_for_initially_cold_qubits])\n",
    "plt.show()"
   ]
  },
  {
   "cell_type": "code",
   "execution_count": 75,
   "id": "66970c8e-301a-43dd-884b-c41c74779f4d",
   "metadata": {
    "tags": []
   },
   "outputs": [],
   "source": [
    "def save_data(data:np.ndarray, num_qbits:str,measurment:str,num_chunks:str,connectivity_type:str,run_index:str,sim_index = int,extra = \"\"):\n",
    "    index = 0\n",
    "    if extra != \"\":\n",
    "        path = f\"../data/num_qbits={num_qbits}_num_chunks={num_chunks}_connectivity_type={connectivity_type}_other={extra}_index={sim_index}\"\n",
    "    else:\n",
    "        path = f\"../data/num_qbits={num_qbits}_num_chunks={num_chunks}_connectivity_type={connectivity_type}_index={sim_index}\"\n",
    "    if not os.path.exists(path):\n",
    "        os.mkdir(path)\n",
    "    file_name = path+f\"/{measurment}_{run_index}.dat\"\n",
    "    np.savetxt(file_name,data,header=f\"{measurment} for {num_qbits} qbits with connectivity {connectivity_type} in chunks {num_chunks}\")"
   ]
  },
  {
   "cell_type": "code",
   "execution_count": 36,
   "id": "5164468e-903b-48c6-aa69-8182a188f50e",
   "metadata": {},
   "outputs": [],
   "source": [
    "save_data(data = np.real(extractable_work),num_qbits = 12,measurment = \"extractable_work\",num_chunks = 2,connectivity_type = \"messenger_qbit\",run_index = 0)"
   ]
  },
  {
   "cell_type": "code",
   "execution_count": 76,
   "id": "917d4a69-05b4-482a-94f9-803d988862fa",
   "metadata": {},
   "outputs": [
    {
     "name": "stdout",
     "output_type": "stream",
     "text": [
      "working on the 0th run\n",
      "12.08 seconds elapsed\n",
      "working on the 1th run\n",
      "11.88 seconds elapsed\n",
      "working on the 2th run\n",
      "11.85 seconds elapsed\n"
     ]
    }
   ],
   "source": [
    "N = 12\n",
    "num_chunks = 3\n",
    "for index in range(20):\n",
    "    print(f\"working on the {index}th run\")\n",
    "    pops = [.2 for _ in range(12)]\n",
    "    pops[5] = .4\n",
    "    \n",
    "    my_sys = DM.n_thermal_qbits(pops)\n",
    "    my_sys.change_to_energy_basis()\n",
    "    results = run_n_trials(my_sys,num_chunks,[measure.pops,measure.extractable_work_of_each_qubit],100,line_order(N))\n",
    "    save_data(results[0], N, \"pops\" ,num_chunks,\"line\",index,0)\n",
    "    save_data(results[1], N, \"extractable_work\",num_chunks,\"line\",index,0)"
   ]
  },
  {
   "cell_type": "code",
   "execution_count": null,
   "id": "10724b5d-e612-4bb0-b185-3285027a5f2e",
   "metadata": {},
   "outputs": [],
   "source": []
  }
 ],
 "metadata": {
  "kernelspec": {
   "display_name": "Python 3 (ipykernel)",
   "language": "python",
   "name": "python3"
  },
  "language_info": {
   "codemirror_mode": {
    "name": "ipython",
    "version": 3
   },
   "file_extension": ".py",
   "mimetype": "text/x-python",
   "name": "python",
   "nbconvert_exporter": "python",
   "pygments_lexer": "ipython3",
   "version": "3.10.4"
  }
 },
 "nbformat": 4,
 "nbformat_minor": 5
}
