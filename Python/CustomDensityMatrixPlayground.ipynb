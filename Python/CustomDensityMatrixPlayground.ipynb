{
 "cells": [
  {
   "cell_type": "code",
   "execution_count": 11,
   "id": "bf7dcdce-361e-4495-9ae5-f1c5609893fe",
   "metadata": {},
   "outputs": [],
   "source": [
    "import density_matrix as DM"
   ]
  },
  {
   "cell_type": "code",
   "execution_count": 19,
   "id": "214688f5-fb4d-4c6d-8d93-7df8d6ee9716",
   "metadata": {},
   "outputs": [
    {
     "ename": "ModuleNotFoundError",
     "evalue": "No module named 'Python'",
     "output_type": "error",
     "traceback": [
      "\u001b[1;31m---------------------------------------------------------------------------\u001b[0m",
      "\u001b[1;31mModuleNotFoundError\u001b[0m                       Traceback (most recent call last)",
      "\u001b[1;32m<ipython-input-19-1f5f1ef95a3b>\u001b[0m in \u001b[0;36m<module>\u001b[1;34m\u001b[0m\n\u001b[1;32m----> 1\u001b[1;33m \u001b[1;32mimport\u001b[0m \u001b[0mPython\u001b[0m\u001b[1;33m.\u001b[0m\u001b[0mdensity_matrix\u001b[0m \u001b[1;32mas\u001b[0m \u001b[0mDM\u001b[0m\u001b[1;33m\u001b[0m\u001b[1;33m\u001b[0m\u001b[0m\n\u001b[0m\u001b[0;32m      2\u001b[0m \u001b[1;32mimport\u001b[0m \u001b[0mnumpy\u001b[0m \u001b[1;32mas\u001b[0m \u001b[0mnp\u001b[0m\u001b[1;33m\u001b[0m\u001b[1;33m\u001b[0m\u001b[0m\n\u001b[0;32m      3\u001b[0m \u001b[1;32mfrom\u001b[0m \u001b[0mPython\u001b[0m\u001b[1;33m.\u001b[0m\u001b[0mrandom_hamiltonian\u001b[0m \u001b[1;32mimport\u001b[0m \u001b[0mrandom_hamiltonian\u001b[0m\u001b[1;33m\u001b[0m\u001b[1;33m\u001b[0m\u001b[0m\n\u001b[0;32m      4\u001b[0m \u001b[1;32mimport\u001b[0m \u001b[0mmatplotlib\u001b[0m\u001b[1;33m.\u001b[0m\u001b[0mpyplot\u001b[0m \u001b[1;32mas\u001b[0m \u001b[0mplt\u001b[0m\u001b[1;33m\u001b[0m\u001b[1;33m\u001b[0m\u001b[0m\n\u001b[0;32m      5\u001b[0m \u001b[1;32mfrom\u001b[0m \u001b[0mPython\u001b[0m\u001b[1;33m.\u001b[0m\u001b[0mket\u001b[0m \u001b[1;32mimport\u001b[0m \u001b[0mcanonical_basis\u001b[0m\u001b[1;33m,\u001b[0m \u001b[0menergy_basis\u001b[0m\u001b[1;33m\u001b[0m\u001b[1;33m\u001b[0m\u001b[0m\n",
      "\u001b[1;31mModuleNotFoundError\u001b[0m: No module named 'Python'"
     ]
    }
   ],
   "source": [
    "import density_matrix as DM\n",
    "import numpy as np\n",
    "from random_hamiltonian import random_hamiltonian\n",
    "import matplotlib.pyplot as plt\n",
    "from ket import canonical_basis, energy_basis\n",
    "\n",
    "N = 6\n",
    "temps = [.1, .1, .1, .1, .1, 10]\n",
    "system = DM.nqbit(temps)\n",
    "for i in range(100):\n",
    "    print(i)\n",
    "    I = DM.Identity(energy_basis(3))\n",
    "    H = random_hamiltonian(3).tensor(I) + I.tensor(random_hamiltonian(3))\n",
    "    # assert U.basis == energy_basis(6)\n",
    "    H.change_to_energy_basis()\n",
    "    assert H.basis == energy_basis(6)\n",
    "    U = DM.exp(H * .1j)\n",
    "    U.change_to_energy_basis()\n",
    "    system.change_to_energy_basis()\n",
    "\n",
    "    system = U * system\n",
    "    system = system * U.H\n",
    "system.change_to_canonical_basis()\n",
    "system.plot()\n",
    "system.change_to_energy_basis()\n",
    "system.plot()\n"
   ]
  },
  {
   "cell_type": "code",
   "execution_count": null,
   "id": "bd9d4a4d-58cf-4ee3-b7af-ad27c7d520b4",
   "metadata": {},
   "outputs": [],
   "source": []
  }
 ],
 "metadata": {
  "kernelspec": {
   "display_name": "Python 3",
   "language": "python",
   "name": "python3"
  },
  "language_info": {
   "codemirror_mode": {
    "name": "ipython",
    "version": 3
   },
   "file_extension": ".py",
   "mimetype": "text/x-python",
   "name": "python",
   "nbconvert_exporter": "python",
   "pygments_lexer": "ipython3",
   "version": "3.8.8"
  }
 },
 "nbformat": 4,
 "nbformat_minor": 5
}
