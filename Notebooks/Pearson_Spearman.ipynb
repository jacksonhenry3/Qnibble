{
 "cells": [
  {
   "cell_type": "code",
   "execution_count": 1,
   "id": "f0c7983a-8c50-4936-84c6-c71ed16052b3",
   "metadata": {},
   "outputs": [],
   "source": [
    "# Add directory above current directory to path\n",
    "import sys as SYS; SYS.path.insert(0, '..')\n",
    "\n",
    "# for saving\n",
    "import os\n",
    "\n",
    "from collections import defaultdict\n",
    "import numpy as np\n",
    "import matplotlib.pyplot as plt\n",
    "\n",
    "from src import setup\n",
    "# setup.use_gpu()"
   ]
  },
  {
   "cell_type": "code",
   "execution_count": 2,
   "id": "f95b048e-87fd-448b-a9eb-4b076d1d062a",
   "metadata": {},
   "outputs": [],
   "source": [
    "from src import ( \n",
    "    measurements as measure,\n",
    "    density_matrix as DM,\n",
    "    simulation as sim,\n",
    "    orders,\n",
    "    order_rules,\n",
    "    random_unitary,\n",
    "    simulation)\n",
    "\n",
    "from Scripts import simulation_CLI as cleo"
   ]
  },
  {
   "cell_type": "code",
   "execution_count": 3,
   "id": "b6fe0948-4349-44bb-ad29-cd7aba12390b",
   "metadata": {},
   "outputs": [],
   "source": [
    "import matplotlib.pyplot as plt \n",
    "import matplotlib.colors as mcolors \n",
    "\n",
    "import matplotlib.animation as animation\n",
    "# Add directory above current directory to path\n",
    "import sys as SYS; SYS.path.insert(0, '../..')\n",
    "import h5py\n",
    "import networkx as nx\n",
    "import matplotlib.pyplot as plt\n",
    "import numpy as np\n",
    "from src import ket as ket\n",
    "from src import density_matrix as DM"
   ]
  },
  {
   "cell_type": "code",
   "execution_count": 7,
   "id": "fcf60420-8fcb-41ef-a44b-589bf5aea60b",
   "metadata": {},
   "outputs": [],
   "source": [
    "G1edges=[np.array([[ 0., 81., 70., 70., 57., 86., 72., 63.],\n",
    "       [81.,  0., 77., 70., 53., 69., 78., 71.],\n",
    "       [70., 77.,  0., 74., 70., 73., 74., 61.],\n",
    "       [70., 70., 74.,  0., 79., 65., 65., 76.],\n",
    "       [57., 53., 70., 79.,  0., 85., 66., 89.],\n",
    "       [86., 69., 73., 65., 85.,  0., 63., 58.],\n",
    "       [72., 78., 74., 65., 66., 63.,  0., 81.],\n",
    "       [63., 71., 61., 76., 89., 58., 81.,  0.]]),np.array([[ 0., 71., 72., 73., 65., 76., 78., 64.],\n",
    "       [71.,  0., 57., 85., 60., 82., 74., 70.],\n",
    "       [72., 57.,  0., 64., 83., 68., 69., 86.],\n",
    "       [73., 85., 64.,  0., 76., 72., 60., 69.],\n",
    "       [65., 60., 83., 76.,  0., 64., 78., 73.],\n",
    "       [76., 82., 68., 72., 64.,  0., 70., 67.],\n",
    "       [78., 74., 69., 60., 78., 70.,  0., 70.],\n",
    "       [64., 70., 86., 69., 73., 67., 70.,  0.]]),np.array([[ 0., 78., 63., 93., 76., 92., 49., 48.],\n",
    "       [78.,  0., 77., 60., 75., 80., 70., 59.],\n",
    "       [63., 77.,  0., 76., 54., 76., 68., 85.],\n",
    "       [93., 60., 76.,  0., 84., 52., 52., 82.],\n",
    "       [76., 75., 54., 84.,  0., 48., 85., 77.],\n",
    "       [92., 80., 76., 52., 48.,  0., 89., 62.],\n",
    "       [49., 70., 68., 52., 85., 89.,  0., 86.],\n",
    "       [48., 59., 85., 82., 77., 62., 86.,  0.]]),np.array([[  0.,   0.,   1.,   0.,   1., 493.,   3.,   1.],\n",
    "       [  0.,   0.,   1.,   2., 493.,   1.,   0.,   2.],\n",
    "       [  1.,   1.,   0.,   1.,   1.,   0.,   2., 493.],\n",
    "       [  0.,   2.,   1.,   0.,   3.,   1., 492.,   0.],\n",
    "       [  1., 493.,   1.,   3.,   0.,   1.,   0.,   0.],\n",
    "       [493.,   1.,   0.,   1.,   1.,   0.,   1.,   2.],\n",
    "       [  3.,   0.,   2., 492.,   0.,   1.,   0.,   1.],\n",
    "       [  1.,   2., 493.,   0.,   0.,   2.,   1.,   0.]])];"
   ]
  },
  {
   "cell_type": "code",
   "execution_count": 8,
   "id": "51c4c221-b223-4d8a-b18d-c74b98965e66",
   "metadata": {},
   "outputs": [],
   "source": [
    "G2edges=[np.array([[0.        , 0.00447126, 0.00462432, 0.00311855, 0.00334066,\n",
    "        0.00236682, 0.00439406, 0.00466434],\n",
    "       [0.00447126, 0.        , 0.00441267, 0.0027655 , 0.00371087,\n",
    "        0.00189819, 0.00386997, 0.0030265 ],\n",
    "       [0.00462432, 0.00441267, 0.        , 0.00345204, 0.00560786,\n",
    "        0.00269925, 0.00445565, 0.00368035],\n",
    "       [0.00311855, 0.0027655 , 0.00345204, 0.        , 0.00252231,\n",
    "        0.00318034, 0.00365139, 0.00193529],\n",
    "       [0.00334066, 0.00371087, 0.00560786, 0.00252231, 0.        ,\n",
    "        0.00189649, 0.00339318, 0.00368068],\n",
    "       [0.00236682, 0.00189819, 0.00269925, 0.00318034, 0.00189649,\n",
    "        0.        , 0.00203322, 0.00231932],\n",
    "       [0.00439406, 0.00386997, 0.00445565, 0.00365139, 0.00339318,\n",
    "        0.00203322, 0.        , 0.00256445],\n",
    "       [0.00466434, 0.0030265 , 0.00368035, 0.00193529, 0.00368068,\n",
    "        0.00231932, 0.00256445, 0.        ]]),np.array([[0.        , 0.00233122, 0.00292562, 0.00242988, 0.0021096 ,\n",
    "        0.0029352 , 0.00213344, 0.00368767],\n",
    "       [0.00233122, 0.        , 0.00203821, 0.00284457, 0.00194883,\n",
    "        0.00301986, 0.0018486 , 0.00193986],\n",
    "       [0.00292562, 0.00203821, 0.        , 0.00417222, 0.00363315,\n",
    "        0.00419894, 0.00349049, 0.00540057],\n",
    "       [0.00242988, 0.00284457, 0.00417222, 0.        , 0.00464348,\n",
    "        0.00366689, 0.00302191, 0.00560361],\n",
    "       [0.0021096 , 0.00194883, 0.00363315, 0.00464348, 0.        ,\n",
    "        0.0025402 , 0.00249324, 0.0032672 ],\n",
    "       [0.0029352 , 0.00301986, 0.00419894, 0.00366689, 0.0025402 ,\n",
    "        0.        , 0.00406623, 0.00516302],\n",
    "       [0.00213344, 0.0018486 , 0.00349049, 0.00302191, 0.00249324,\n",
    "        0.00406623, 0.        , 0.00340951],\n",
    "       [0.00368767, 0.00193986, 0.00540057, 0.00560361, 0.0032672 ,\n",
    "        0.00516302, 0.00340951, 0.        ]]),np.array([[0.        , 0.00306659, 0.00345463, 0.00383706, 0.0040359 ,\n",
    "        0.00320574, 0.0033893 , 0.00346077],\n",
    "       [0.00306659, 0.        , 0.00212126, 0.00223934, 0.00216582,\n",
    "        0.00245015, 0.00188453, 0.00202523],\n",
    "       [0.00345463, 0.00212126, 0.        , 0.00312238, 0.00329954,\n",
    "        0.00428732, 0.00386886, 0.00241225],\n",
    "       [0.00383706, 0.00223934, 0.00312238, 0.        , 0.00398433,\n",
    "        0.00350584, 0.00251622, 0.00307493],\n",
    "       [0.0040359 , 0.00216582, 0.00329954, 0.00398433, 0.        ,\n",
    "        0.00300407, 0.00365506, 0.00301485],\n",
    "       [0.00320574, 0.00245015, 0.00428732, 0.00350584, 0.00300407,\n",
    "        0.        , 0.00796979, 0.00412459],\n",
    "       [0.0033893 , 0.00188453, 0.00386886, 0.00251622, 0.00365506,\n",
    "        0.00796979, 0.        , 0.00264932],\n",
    "       [0.00346077, 0.00202523, 0.00241225, 0.00307493, 0.00301485,\n",
    "        0.00412459, 0.00264932, 0.        ]]),np.array([[0.        , 0.00204384, 0.00674182, 0.00680605, 0.02773628,\n",
    "        0.00196032, 0.0077259 , 0.00581472],\n",
    "       [0.00204384, 0.        , 0.00253247, 0.00427025, 0.0029081 ,\n",
    "        0.00129849, 0.00077398, 0.00093111],\n",
    "       [0.00674182, 0.00253247, 0.        , 0.01065028, 0.00661111,\n",
    "        0.00434258, 0.00236082, 0.00159202],\n",
    "       [0.00680605, 0.00427025, 0.01065028, 0.        , 0.01605909,\n",
    "        0.00740731, 0.00419034, 0.00265644],\n",
    "       [0.02773628, 0.0029081 , 0.00661111, 0.01605909, 0.        ,\n",
    "        0.00459017, 0.01682413, 0.00948628],\n",
    "       [0.00196032, 0.00129849, 0.00434258, 0.00740731, 0.00459017,\n",
    "        0.        , 0.00285876, 0.00072507],\n",
    "       [0.0077259 , 0.00077398, 0.00236082, 0.00419034, 0.01682413,\n",
    "        0.00285876, 0.        , 0.00282383],\n",
    "       [0.00581472, 0.00093111, 0.00159202, 0.00265644, 0.00948628,\n",
    "        0.00072507, 0.00282383, 0.        ]])];"
   ]
  },
  {
   "cell_type": "code",
   "execution_count": 14,
   "id": "272e0342-654c-486c-858d-06fe1539e82d",
   "metadata": {},
   "outputs": [
    {
     "data": {
      "text/plain": [
       "array([[  0.,   0.,   1.,   0.,   1., 493.,   3.,   1.],\n",
       "       [  0.,   0.,   1.,   2., 493.,   1.,   0.,   2.],\n",
       "       [  1.,   1.,   0.,   1.,   1.,   0.,   2., 493.],\n",
       "       [  0.,   2.,   1.,   0.,   3.,   1., 492.,   0.],\n",
       "       [  1., 493.,   1.,   3.,   0.,   1.,   0.,   0.],\n",
       "       [493.,   1.,   0.,   1.,   1.,   0.,   1.,   2.],\n",
       "       [  3.,   0.,   2., 492.,   0.,   1.,   0.,   1.],\n",
       "       [  1.,   2., 493.,   0.,   0.,   2.,   1.,   0.]])"
      ]
     },
     "execution_count": 14,
     "metadata": {},
     "output_type": "execute_result"
    }
   ],
   "source": [
    "G1edges[3]"
   ]
  },
  {
   "cell_type": "code",
   "execution_count": 15,
   "id": "34245a4a-815c-44e2-89de-272cace11e85",
   "metadata": {},
   "outputs": [
    {
     "data": {
      "text/plain": [
       "array([[0.        , 0.00204384, 0.00674182, 0.00680605, 0.02773628,\n",
       "        0.00196032, 0.0077259 , 0.00581472],\n",
       "       [0.00204384, 0.        , 0.00253247, 0.00427025, 0.0029081 ,\n",
       "        0.00129849, 0.00077398, 0.00093111],\n",
       "       [0.00674182, 0.00253247, 0.        , 0.01065028, 0.00661111,\n",
       "        0.00434258, 0.00236082, 0.00159202],\n",
       "       [0.00680605, 0.00427025, 0.01065028, 0.        , 0.01605909,\n",
       "        0.00740731, 0.00419034, 0.00265644],\n",
       "       [0.02773628, 0.0029081 , 0.00661111, 0.01605909, 0.        ,\n",
       "        0.00459017, 0.01682413, 0.00948628],\n",
       "       [0.00196032, 0.00129849, 0.00434258, 0.00740731, 0.00459017,\n",
       "        0.        , 0.00285876, 0.00072507],\n",
       "       [0.0077259 , 0.00077398, 0.00236082, 0.00419034, 0.01682413,\n",
       "        0.00285876, 0.        , 0.00282383],\n",
       "       [0.00581472, 0.00093111, 0.00159202, 0.00265644, 0.00948628,\n",
       "        0.00072507, 0.00282383, 0.        ]])"
      ]
     },
     "execution_count": 15,
     "metadata": {},
     "output_type": "execute_result"
    }
   ],
   "source": [
    "G2edges[3]"
   ]
  },
  {
   "cell_type": "code",
   "execution_count": 22,
   "id": "03bf9caa-9334-4dce-845f-ea79e8ad6ee5",
   "metadata": {},
   "outputs": [
    {
     "name": "stdout",
     "output_type": "stream",
     "text": [
      "G1 edges: [(0, 1, {'weight': 78.0}), (0, 2, {'weight': 63.0}), (0, 3, {'weight': 93.0}), (0, 4, {'weight': 76.0}), (0, 5, {'weight': 92.0}), (0, 6, {'weight': 49.0}), (0, 7, {'weight': 48.0}), (1, 2, {'weight': 77.0}), (1, 3, {'weight': 60.0}), (1, 4, {'weight': 75.0}), (1, 5, {'weight': 80.0}), (1, 6, {'weight': 70.0}), (1, 7, {'weight': 59.0}), (2, 3, {'weight': 76.0}), (2, 4, {'weight': 54.0}), (2, 5, {'weight': 76.0}), (2, 6, {'weight': 68.0}), (2, 7, {'weight': 85.0}), (3, 4, {'weight': 84.0}), (3, 5, {'weight': 52.0}), (3, 6, {'weight': 52.0}), (3, 7, {'weight': 82.0}), (4, 5, {'weight': 48.0}), (4, 6, {'weight': 85.0}), (4, 7, {'weight': 77.0}), (5, 6, {'weight': 89.0}), (5, 7, {'weight': 62.0}), (6, 7, {'weight': 86.0})]\n",
      "G2 edges: [(0, 1, {'weight': 0.00306659}), (0, 2, {'weight': 0.00345463}), (0, 3, {'weight': 0.00383706}), (0, 4, {'weight': 0.0040359}), (0, 5, {'weight': 0.00320574}), (0, 6, {'weight': 0.0033893}), (0, 7, {'weight': 0.00346077}), (1, 2, {'weight': 0.00212126}), (1, 3, {'weight': 0.00223934}), (1, 4, {'weight': 0.00216582}), (1, 5, {'weight': 0.00245015}), (1, 6, {'weight': 0.00188453}), (1, 7, {'weight': 0.00202523}), (2, 3, {'weight': 0.00312238}), (2, 4, {'weight': 0.00329954}), (2, 5, {'weight': 0.00428732}), (2, 6, {'weight': 0.00386886}), (2, 7, {'weight': 0.00241225}), (3, 4, {'weight': 0.00398433}), (3, 5, {'weight': 0.00350584}), (3, 6, {'weight': 0.00251622}), (3, 7, {'weight': 0.00307493}), (4, 5, {'weight': 0.00300407}), (4, 6, {'weight': 0.00365506}), (4, 7, {'weight': 0.00301485}), (5, 6, {'weight': 0.00796979}), (5, 7, {'weight': 0.00412459}), (6, 7, {'weight': 0.00264932})]\n",
      "Pearson Correlation: -0.27525826719415236\n",
      "Spearman Rank Correlation: -0.5587127805736725\n"
     ]
    }
   ],
   "source": [
    "import networkx as nx\n",
    "import numpy as np\n",
    "from scipy.stats import pearsonr, spearmanr\n",
    "\n",
    "\n",
    "import networkx as nx\n",
    "import numpy as np\n",
    "\n",
    "# Example adjacency matrix (numpy array)\n",
    "adj_matrix_G1 = G1edges[3]\n",
    "\n",
    "adj_matrix_G2 = G2edges[3]\n",
    "\n",
    "# Function to convert adjacency matrix to edge list\n",
    "def adj_matrix_to_edge_list(adj_matrix):\n",
    "    edge_list = []\n",
    "    num_nodes = adj_matrix.shape[0]\n",
    "    for i in range(num_nodes):\n",
    "        for j in range(i+1, num_nodes):  # Only consider upper triangle for undirected graph\n",
    "            if adj_matrix[i, j] != 0:\n",
    "                edge_list.append((i, j, adj_matrix[i, j]))  # (node1, node2, weight)\n",
    "    return edge_list\n",
    "\n",
    "# Convert adjacency matrices to edge lists\n",
    "G1_edges = adj_matrix_to_edge_list(adj_matrix_G1)\n",
    "G2_edges = adj_matrix_to_edge_list(adj_matrix_G2)\n",
    "\n",
    "\n",
    "\n",
    "# Print the graphs' edges to verify\n",
    "print(\"G1 edges:\", G1.edges(data=True))\n",
    "print(\"G2 edges:\", G2.edges(data=True))\n",
    "\n",
    "\n",
    "# Function to extract edge weights from a graph\n",
    "def get_edge_weights(graph):\n",
    "    edge_weights = {}\n",
    "    for (u, v, w) in graph.edges(data='weight'):\n",
    "        edge_weights[(u, v)] = w\n",
    "    return edge_weights\n",
    "\n",
    "# Function to align edge weights of two graphs\n",
    "def align_edge_weights(g1_weights, g2_weights):\n",
    "    common_edges = set(g1_weights.keys()).intersection(g2_weights.keys())\n",
    "    g1_aligned = [g1_weights[edge] for edge in common_edges]\n",
    "    g2_aligned = [g2_weights[edge] for edge in common_edges]\n",
    "    return g1_aligned, g2_aligned\n",
    "\n",
    "# Pearson and Spearman correlation calculation\n",
    "def calculate_edge_correlations(G1, G2):\n",
    "    # Extract edge weights from both graphs\n",
    "    g1_weights = get_edge_weights(G1)\n",
    "    g2_weights = get_edge_weights(G2)\n",
    "    \n",
    "    # Align the edge weights based on common edges\n",
    "    g1_aligned, g2_aligned = align_edge_weights(g1_weights, g2_weights)\n",
    "    \n",
    "    # Calculate Pearson correlation\n",
    "    pearson_corr, _ = pearsonr(g1_aligned, g2_aligned)\n",
    "    \n",
    "    # Calculate Spearman rank correlation\n",
    "    spearman_corr, _ = spearmanr(g1_aligned, g2_aligned)\n",
    "    \n",
    "    return pearson_corr, spearman_corr\n",
    "\n",
    "# Example usage\n",
    "# Create two weighted graphs G1 and G2\n",
    "# Create graphs using the edge lists\n",
    "G1 = nx.Graph()\n",
    "G1.add_weighted_edges_from(G1_edges)\n",
    "\n",
    "G2 = nx.Graph()\n",
    "G2.add_weighted_edges_from(G2_edges)\n",
    "\n",
    "# Calculate correlations\n",
    "pearson_corr, spearman_corr = calculate_edge_correlations(G1, G2)\n",
    "print(f\"Pearson Correlation: {pearson_corr}\")\n",
    "print(f\"Spearman Rank Correlation: {spearman_corr}\")\n"
   ]
  },
  {
   "cell_type": "code",
   "execution_count": 11,
   "id": "49c3b99a-fd11-4c68-b197-f085495f271f",
   "metadata": {},
   "outputs": [
    {
     "data": {
      "text/plain": [
       "array([ 0., 81., 70., 70., 57., 86., 72., 63.])"
      ]
     },
     "execution_count": 11,
     "metadata": {},
     "output_type": "execute_result"
    }
   ],
   "source": []
  },
  {
   "cell_type": "code",
   "execution_count": null,
   "id": "a3ba0c8d-4813-4cda-97f9-eddd0325b3ab",
   "metadata": {},
   "outputs": [],
   "source": []
  }
 ],
 "metadata": {
  "kernelspec": {
   "display_name": "Python 3 (ipykernel)",
   "language": "python",
   "name": "python3"
  },
  "language_info": {
   "codemirror_mode": {
    "name": "ipython",
    "version": 3
   },
   "file_extension": ".py",
   "mimetype": "text/x-python",
   "name": "python",
   "nbconvert_exporter": "python",
   "pygments_lexer": "ipython3",
   "version": "3.11.7"
  }
 },
 "nbformat": 4,
 "nbformat_minor": 5
}
