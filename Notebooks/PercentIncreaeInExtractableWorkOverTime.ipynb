{
 "cells": [
  {
   "cell_type": "code",
   "execution_count": 1,
   "id": "c83a9a5f-5388-4239-bc8f-c1de3a1c0ff2",
   "metadata": {},
   "outputs": [],
   "source": [
    "# Add directory above current directory to path\n",
    "import sys as SYS; SYS.path.insert(0, '..')\n",
    "\n",
    "# for saving\n",
    "import os\n",
    "\n",
    "from collections import defaultdict\n",
    "import numpy as np\n",
    "import matplotlib.pyplot as plt\n",
    "\n",
    "from src import setup\n",
    "# setup.use_gpu()"
   ]
  },
  {
   "cell_type": "code",
   "execution_count": 2,
   "id": "51997227-1798-4c31-849e-b79253ee7259",
   "metadata": {},
   "outputs": [],
   "source": [
    "from src import ( \n",
    "    measurements as measure,\n",
    "    density_matrix as DM,\n",
    "    simulation as sim,\n",
    "    orders,\n",
    "    random_unitary,\n",
    "    simulation)"
   ]
  },
  {
   "cell_type": "code",
   "execution_count": 3,
   "id": "31510ec0-af92-4e0e-b01c-6958391a61e7",
   "metadata": {},
   "outputs": [
    {
     "name": "stdout",
     "output_type": "stream",
     "text": [
      "[array([[1.+0.j]]), array([[1.+0.j, 0.+0.j, 0.+0.j, 0.+0.j],\n",
      "       [0.+0.j, 1.+0.j, 0.+0.j, 0.+0.j],\n",
      "       [0.+0.j, 0.+0.j, 1.+0.j, 0.+0.j],\n",
      "       [0.+0.j, 0.+0.j, 0.+0.j, 1.+0.j]], dtype=complex64), array([[1.+0.j, 0.+0.j, 0.+0.j, 0.+0.j, 0.+0.j, 0.+0.j],\n",
      "       [0.+0.j, 1.+0.j, 0.+0.j, 0.+0.j, 0.+0.j, 0.+0.j],\n",
      "       [0.+0.j, 0.+0.j, 1.+0.j, 0.+0.j, 0.+0.j, 0.+0.j],\n",
      "       [0.+0.j, 0.+0.j, 0.+0.j, 1.+0.j, 0.+0.j, 0.+0.j],\n",
      "       [0.+0.j, 0.+0.j, 0.+0.j, 0.+0.j, 1.+0.j, 0.+0.j],\n",
      "       [0.+0.j, 0.+0.j, 0.+0.j, 0.+0.j, 0.+0.j, 1.+0.j]], dtype=complex64), array([[1.+0.j, 0.+0.j, 0.+0.j, 0.+0.j],\n",
      "       [0.+0.j, 1.+0.j, 0.+0.j, 0.+0.j],\n",
      "       [0.+0.j, 0.+0.j, 1.+0.j, 0.+0.j],\n",
      "       [0.+0.j, 0.+0.j, 0.+0.j, 1.+0.j]], dtype=complex64), array([[1.+0.j]])]\n"
     ]
    }
   ],
   "source": [
    "identity = DM.Identity(DM.energy_basis(4))\n",
    "print(identity.data.blocks)"
   ]
  },
  {
   "cell_type": "code",
   "execution_count": 4,
   "id": "2ee7c3cf-f3d4-4cc3-8426-6b701e906e8f",
   "metadata": {},
   "outputs": [],
   "source": [
    "num_iterations = 200\n",
    "measurments = [measure.extractable_work_of_each_qubit]\n",
    "num_samples = 50"
   ]
  },
  {
   "cell_type": "code",
   "execution_count": 8,
   "id": "fefd576d-034a-4bb9-9a1d-c379ed1ace55",
   "metadata": {},
   "outputs": [
    {
     "name": "stdout",
     "output_type": "stream",
     "text": [
      "working on 8\n",
      "working on connectivity six\n",
      "[0 1 2 4 8 16 32 64 128 3 5 6 9 10 12 17 18 20 24 33 34 36 40 48 65 66 68 72 80 96 129 130 132 136 144 160 192 7 11 13 14 19 21 22 25 26 28 35 37 38 41 42 44 49 50 52 56 67 69 70 73 74 76 81 82 84 88 97 98 100 104 112 131 133 134 137 138 140 145 146 148 152 161 162 164 168 176 193 194 196 200 208 224 15 23 27 29 30 39 43 45 46 51 53 54 57 58 60 71 75 77 78 83 85 86 89 90 92 99 101 102 105 106 108 113 114 116 120 135 139 141 142 147 149 150 153 154 156 163 165 166 169 170 172 177 178 180 184 195 197 198 201 202 204 209 210 212 216 225 226 228 232 240 31 47 55 59 61 62 79 87 91 93 94 103 107 109 110 115 117 118 121 122 124 143 151 155 157 158 167 171 173 174 179 181 182 185 186 188 199 203 205 206 211 213 214 217 218 220 227 229 230 233 234 236 241 242 244 248 63 95 111 119 123 125 126 159 175 183 187 189 190 207 215 219 221 222 231 235 237 238 243 245 246 249 250 252 127 191 223 239 247 251 253 254 255]\n"
     ]
    },
    {
     "ename": "AssertionError",
     "evalue": "",
     "output_type": "error",
     "traceback": [
      "\u001b[1;31m---------------------------------------------------------------------------\u001b[0m",
      "\u001b[1;31mAssertionError\u001b[0m                            Traceback (most recent call last)",
      "Input \u001b[1;32mIn [8]\u001b[0m, in \u001b[0;36m<cell line: 4>\u001b[1;34m()\u001b[0m\n\u001b[0;32m     37\u001b[0m system \u001b[38;5;241m=\u001b[39m DM\u001b[38;5;241m.\u001b[39mn_thermal_qbits(initial_pops)\n\u001b[0;32m     38\u001b[0m \u001b[38;5;28mprint\u001b[39m(system\u001b[38;5;241m.\u001b[39mbasis)\n\u001b[1;32m---> 40\u001b[0m data \u001b[38;5;241m=\u001b[39m \u001b[43msim\u001b[49m\u001b[38;5;241;43m.\u001b[39;49m\u001b[43mrun\u001b[49m\u001b[43m(\u001b[49m\u001b[43msystem\u001b[49m\u001b[43m,\u001b[49m\n\u001b[0;32m     41\u001b[0m \u001b[43m                  \u001b[49m\u001b[43mmeasurement_set\u001b[49m\u001b[43m \u001b[49m\u001b[38;5;241;43m=\u001b[39;49m\u001b[43m \u001b[49m\u001b[43mmeasurments\u001b[49m\u001b[43m,\u001b[49m\n\u001b[0;32m     42\u001b[0m \u001b[43m                  \u001b[49m\u001b[43mnum_iterations\u001b[49m\u001b[43m \u001b[49m\u001b[38;5;241;43m=\u001b[39;49m\u001b[43m \u001b[49m\u001b[43mnum_iterations\u001b[49m\u001b[43m,\u001b[49m\n\u001b[0;32m     43\u001b[0m \u001b[43m                  \u001b[49m\u001b[43morders\u001b[49m\u001b[43m \u001b[49m\u001b[38;5;241;43m=\u001b[39;49m\u001b[43m \u001b[49m\u001b[43mordering\u001b[49m\u001b[43m,\u001b[49m\n\u001b[0;32m     44\u001b[0m \u001b[43m                  \u001b[49m\u001b[43mUnitaries\u001b[49m\u001b[43m \u001b[49m\u001b[38;5;241;43m=\u001b[39;49m\u001b[43m \u001b[49m\u001b[43munitary\u001b[49m\n\u001b[0;32m     45\u001b[0m \u001b[43m                  \u001b[49m\u001b[43m)\u001b[49m[\u001b[38;5;241m0\u001b[39m];\n\u001b[0;32m     47\u001b[0m \u001b[38;5;28;01mif\u001b[39;00m index \u001b[38;5;241m%\u001b[39m\u001b[38;5;241m1\u001b[39m\u001b[38;5;241m==\u001b[39m\u001b[38;5;241m0\u001b[39m: \u001b[38;5;28mprint\u001b[39m(index)\n\u001b[0;32m     49\u001b[0m \u001b[38;5;66;03m# results[titles[i]][\"pops\"].append(data[0])\u001b[39;00m\n",
      "File \u001b[1;32m~\\Documents\\GitHub\\Qnibble\\Notebooks\\..\\src\\simulation.py:71\u001b[0m, in \u001b[0;36mrun\u001b[1;34m(dm, measurement_set, num_iterations, orders, qbits_to_measure, Unitaries, verbose)\u001b[0m\n\u001b[0;32m     68\u001b[0m     \u001b[38;5;28;01melse\u001b[39;00m:\n\u001b[0;32m     69\u001b[0m         U \u001b[38;5;241m=\u001b[39m Unitaries[i \u001b[38;5;241m%\u001b[39m num_unitaries]\n\u001b[1;32m---> 71\u001b[0m     dm \u001b[38;5;241m=\u001b[39m \u001b[43mstep\u001b[49m\u001b[43m(\u001b[49m\u001b[43mdm\u001b[49m\u001b[43m,\u001b[49m\u001b[43m \u001b[49m\u001b[43morder\u001b[49m\u001b[43m,\u001b[49m\u001b[43m \u001b[49m\u001b[43mU\u001b[49m\u001b[43m,\u001b[49m\u001b[43m \u001b[49m\u001b[38;5;129;43;01mnot\u001b[39;49;00m\u001b[43m \u001b[49m\u001b[43mgenerate_random_unitary\u001b[49m\u001b[43m)\u001b[49m\n\u001b[0;32m     73\u001b[0m     measurement_values \u001b[38;5;241m=\u001b[39m [xp\u001b[38;5;241m.\u001b[39mvstack((measurement_values[i], measurement(dm\u001b[38;5;241m.\u001b[39mptrace(qbits_to_trace_out)))) \u001b[38;5;28;01mfor\u001b[39;00m i, measurement \u001b[38;5;129;01min\u001b[39;00m \u001b[38;5;28menumerate\u001b[39m(measurement_set)]\n\u001b[0;32m     75\u001b[0m \u001b[38;5;28;01mreturn\u001b[39;00m measurement_values, dm\n",
      "File \u001b[1;32m~\\Documents\\GitHub\\Qnibble\\Notebooks\\..\\src\\simulation.py:97\u001b[0m, in \u001b[0;36mstep\u001b[1;34m(dm, order, Unitary, unitary_reused)\u001b[0m\n\u001b[0;32m     93\u001b[0m \u001b[38;5;28;01massert\u001b[39;00m \u001b[38;5;28mset\u001b[39m(\u001b[38;5;28mlist\u001b[39m(order)) \u001b[38;5;241m==\u001b[39m \u001b[38;5;28mset\u001b[39m(\u001b[38;5;28mrange\u001b[39m(dm\u001b[38;5;241m.\u001b[39mnumber_of_qbits)), \u001b[38;5;124mf\u001b[39m\u001b[38;5;124m\"\u001b[39m\u001b[38;5;132;01m{\u001b[39;00m\u001b[38;5;28mset\u001b[39m(order)\u001b[38;5;132;01m}\u001b[39;00m\u001b[38;5;124m vs \u001b[39m\u001b[38;5;132;01m{\u001b[39;00m\u001b[38;5;28mset\u001b[39m(\u001b[38;5;28mrange\u001b[39m(dm\u001b[38;5;241m.\u001b[39mnumber_of_qbits))\u001b[38;5;132;01m}\u001b[39;00m\u001b[38;5;124m\"\u001b[39m\n\u001b[0;32m     94\u001b[0m \u001b[38;5;66;03m# Unitary.relabel_basis(order)\u001b[39;00m\n\u001b[0;32m     95\u001b[0m \u001b[38;5;66;03m# Unitary.change_to_energy_basis()\u001b[39;00m\n\u001b[0;32m     96\u001b[0m \u001b[38;5;66;03m# dm.change_to_energy_basis()\u001b[39;00m\n\u001b[1;32m---> 97\u001b[0m dm \u001b[38;5;241m=\u001b[39m \u001b[43mUnitary\u001b[49m\u001b[43m \u001b[49m\u001b[38;5;241;43m*\u001b[39;49m\u001b[43m \u001b[49m\u001b[43mdm\u001b[49m\n\u001b[0;32m     98\u001b[0m dm \u001b[38;5;241m=\u001b[39m dm \u001b[38;5;241m*\u001b[39m Unitary\u001b[38;5;241m.\u001b[39mH\n\u001b[0;32m    100\u001b[0m \u001b[38;5;28;01mif\u001b[39;00m unitary_reused:\n",
      "File \u001b[1;32m~\\Documents\\GitHub\\Qnibble\\Notebooks\\..\\src\\density_matrix.py:80\u001b[0m, in \u001b[0;36mDensityMatrix.__mul__\u001b[1;34m(self, other)\u001b[0m\n\u001b[0;32m     78\u001b[0m     \u001b[38;5;28;01mreturn\u001b[39;00m DensityMatrix(\u001b[38;5;28mself\u001b[39m\u001b[38;5;241m.\u001b[39m_data \u001b[38;5;241m*\u001b[39m other, \u001b[38;5;28mself\u001b[39m\u001b[38;5;241m.\u001b[39m_basis)\n\u001b[0;32m     79\u001b[0m \u001b[38;5;28;01melif\u001b[39;00m \u001b[38;5;28misinstance\u001b[39m(other, DensityMatrix):\n\u001b[1;32m---> 80\u001b[0m     \u001b[38;5;28;01massert\u001b[39;00m \u001b[38;5;28mself\u001b[39m\u001b[38;5;241m.\u001b[39mbasis \u001b[38;5;241m==\u001b[39m other\u001b[38;5;241m.\u001b[39mbasis\n\u001b[0;32m     81\u001b[0m     \u001b[38;5;66;03m# TODO figure out why this coppy is needed and remove it\u001b[39;00m\n\u001b[0;32m     82\u001b[0m     \u001b[38;5;28;01mreturn\u001b[39;00m DensityMatrix(\u001b[38;5;28mself\u001b[39m\u001b[38;5;241m.\u001b[39mdata \u001b[38;5;241m@\u001b[39m other\u001b[38;5;241m.\u001b[39mdata, copy\u001b[38;5;241m.\u001b[39mcopy(\u001b[38;5;28mself\u001b[39m\u001b[38;5;241m.\u001b[39mbasis))\n",
      "\u001b[1;31mAssertionError\u001b[0m: "
     ]
    }
   ],
   "source": [
    "titles = [\"six\",\"five\",\"messenger\"]\n",
    "results_overall = {8:defaultdict(lambda: defaultdict(list)),12:defaultdict(lambda: defaultdict(list)),16:defaultdict(lambda: defaultdict(list))}\n",
    "\n",
    "for num_qbits in [8]:\n",
    "    print(f\"working on {num_qbits}\")\n",
    "    # orderings\n",
    "    # gas_orderings = orders.n_random_gas_orders(num_qbits,chunk_sizes = [4 for _ in range(num_qbits//4)],n = num_iterations)\n",
    "    line_orderings= orders.n_random_line_orders(num_qbits,chunk_sizes = [4 for _ in range(num_qbits//4)],n = num_iterations)\n",
    "    five_orderings = orders.n_alternating_c5_orders(num_qbits,n = num_iterations)\n",
    "    messenger_orderings = orders.n_alternating_messenger_orders(num_qbits,n=num_iterations)\n",
    "\n",
    "    orderings = [line_orderings,five_orderings,messenger_orderings]\n",
    "    \n",
    "    initial_pops = [.2 for _ in range(num_qbits)]\n",
    "    initial_pops[0] = .4\n",
    "\n",
    "    for i,ordering in enumerate(orderings):\n",
    "        print(f\"working on connectivity {titles[i]}\")\n",
    "                                                     \n",
    "\n",
    "\n",
    "        results = results_overall[num_qbits]\n",
    "\n",
    "        results[titles[i]][\"pops\"] = []\n",
    "        results[titles[i]][\"ex_work\"] = []\n",
    "\n",
    "        for index in range(num_samples):\n",
    "\n",
    "            sub_unitary = random_unitary.random_unitary_in_subspace(4,2)\n",
    "\n",
    "            unitary_list = []\n",
    "            for unitary_index in range(num_qbits):\n",
    "                piece = DM.tensor([sub_unitary if j==unitary_index else identity for j in range(num_qbits//4)])\n",
    "                unitary_list.append(piece)\n",
    "            unitary = np.product(unitary_list)\n",
    "\n",
    "            system = DM.n_thermal_qbits(initial_pops)\n",
    "            print(system.basis == )\n",
    "\n",
    "            data = sim.run(system,\n",
    "                              measurement_set = measurments,\n",
    "                              num_iterations = num_iterations,\n",
    "                              orders = ordering,\n",
    "                              Unitaries = unitary\n",
    "                              )[0];\n",
    "\n",
    "            if index %1==0: print(index)\n",
    "\n",
    "            # results[titles[i]][\"pops\"].append(data[0])\n",
    "            results[titles[i]][\"ex_work\"].append(data[0])"
   ]
  },
  {
   "cell_type": "code",
   "execution_count": null,
   "id": "d9c9788d-c8cb-4c92-94f4-9ab4e7913c6d",
   "metadata": {},
   "outputs": [],
   "source": []
  }
 ],
 "metadata": {
  "kernelspec": {
   "display_name": "PyCharm (Qnibble)",
   "language": "python",
   "name": "pycharm-c82c9ad0"
  },
  "language_info": {
   "codemirror_mode": {
    "name": "ipython",
    "version": 3
   },
   "file_extension": ".py",
   "mimetype": "text/x-python",
   "name": "python",
   "nbconvert_exporter": "python",
   "pygments_lexer": "ipython3",
   "version": "3.10.4"
  }
 },
 "nbformat": 4,
 "nbformat_minor": 5
}
