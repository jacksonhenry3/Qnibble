{
 "cells": [
  {
   "cell_type": "code",
   "execution_count": 1,
   "id": "0ec17b33-d28d-4708-b482-5e13127790ca",
   "metadata": {},
   "outputs": [],
   "source": [
    "# Add directory above current directory to path\n",
    "import sys as SYS; SYS.path.insert(0, '..')\n",
    "import os"
   ]
  },
  {
   "cell_type": "code",
   "execution_count": 2,
   "id": "59c5a8ea-72fa-44ec-b80f-21fb2faee9b0",
   "metadata": {},
   "outputs": [],
   "source": [
    "from src import ( \n",
    "    measurements as measure,\n",
    "    density_matrix as DM,\n",
    "    simulation as sim,\n",
    "    orders)"
   ]
  },
  {
   "cell_type": "code",
   "execution_count": 3,
   "id": "248bdb14-b9dd-40e4-9a6b-ea2a4cf4d62d",
   "metadata": {},
   "outputs": [],
   "source": [
    "N = 8\n",
    "num_chunks = 2\n",
    "measurments = [measure.pops,measure.extractable_work_of_each_qubit]\n",
    "ordering = orders.n_random_line_orders(line_length = 4,n = 50)\n",
    "initial_pops = [.2 for _ in range(N)]\n",
    "initial_pops[5] = .4"
   ]
  },
  {
   "cell_type": "code",
   "execution_count": 4,
   "id": "762997d2-4738-4b6d-8fd0-8cc1282e4d8b",
   "metadata": {},
   "outputs": [
    {
     "name": "stdout",
     "output_type": "stream",
     "text": [
      "using random unitaries\n"
     ]
    }
   ],
   "source": [
    "for index in range(1):\n",
    "    \n",
    "    system = DM.n_thermal_qbits(initial_pops)\n",
    "    system.change_to_energy_basis()\n",
    "    \n",
    "    results = sim.run(system,\n",
    "                      measurement_set = [measure.pops,measure.extractable_work_of_each_qubit],\n",
    "                      num_iterations=100,\n",
    "                      num_chunks=num_chunks,\n",
    "                      orders = [[0,1,2,3,4,5,6,7],[0,1,2,4,3,5,6,7]]);\n",
    "    \n",
    "    sim.save_data(results[0], N, \"pops\" ,num_chunks,\"mess_with_same_uni\",index,0)\n",
    "    sim.save_data(results[1], N, \"extractable_work\",num_chunks,\"mess_with_same_uni\",index,0)"
   ]
  },
  {
   "cell_type": "code",
   "execution_count": null,
   "id": "13fdfd5b-7085-4e4a-8026-65a4922f457d",
   "metadata": {},
   "outputs": [],
   "source": []
  }
 ],
 "metadata": {
  "kernelspec": {
   "display_name": "PyCharm (Qnibble)",
   "language": "python",
   "name": "pycharm-c82c9ad0"
  },
  "language_info": {
   "codemirror_mode": {
    "name": "ipython",
    "version": 3
   },
   "file_extension": ".py",
   "mimetype": "text/x-python",
   "name": "python",
   "nbconvert_exporter": "python",
   "pygments_lexer": "ipython3",
   "version": "3.10.4"
  }
 },
 "nbformat": 4,
 "nbformat_minor": 5
}
