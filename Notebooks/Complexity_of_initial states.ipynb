{
 "cells": [
  {
   "cell_type": "code",
   "execution_count": 9,
   "id": "ec0c5332-768d-4a28-b406-4179524601c3",
   "metadata": {},
   "outputs": [],
   "source": [
    "#Clustering Coefficient\n",
    "def clustering_coeff_function_of_time(adjacency_matrix_list):\n",
    "    C_list = []\n",
    "    #adjacency_matrix_list=np.array(adjacency_matrix_list)\n",
    "    for adj_mat in adjacency_matrix_list:\n",
    "        adj_mat=np.array(adj_mat)\n",
    "        M_sq = adj_mat@adj_mat\n",
    "        sum_of_M_sq = np.sum(M_sq)\n",
    "        M_cube = adj_mat@adj_mat@adj_mat\n",
    "        M_cube_trace = np.trace(M_cube)\n",
    "        C_list.append(M_cube_trace/sum_of_M_sq)\n",
    "    return(C_list)\n",
    "\n",
    "#Disparity\n",
    "def disparity_function_of_time(adjacency_matrix_list, N):\n",
    "    D_list = []\n",
    "    for adj_mat in adjacency_matrix_list:\n",
    "        M_row_sum_squared = np.sum(adj_mat, axis=1)**2\n",
    "        M_row_sum_of_squared_elements = np.sum(adj_mat**2, axis=1)\n",
    "        # Check for zero division before performing division\n",
    "        Di = np.where(M_row_sum_squared != 0, M_row_sum_of_squared_elements / M_row_sum_squared, 0)\n",
    "        D_list.append(np.sum(Di) / N)\n",
    "    return D_list"
   ]
  },
  {
   "cell_type": "code",
   "execution_count": 8,
   "id": "d7b506bf-2a17-4e7e-874b-ff3311b1e9f9",
   "metadata": {},
   "outputs": [
    {
     "name": "stdout",
     "output_type": "stream",
     "text": [
      "[[0.  0.  0.  0.5 0.  0.  0. ]\n",
      " [0.  0.  0.  0.5 0.  0.  0. ]\n",
      " [0.  0.  0.  0.5 0.  0.  0. ]\n",
      " [0.5 0.5 0.5 0.  0.5 0.5 0.5]\n",
      " [0.  0.  0.  0.5 0.  0.  0. ]\n",
      " [0.  0.  0.  0.5 0.  0.  0. ]\n",
      " [0.  0.  0.  0.5 0.  0.  0. ]]\n",
      "[[0.  0.  0.  0.  0.2 0.  0.  0. ]\n",
      " [0.  0.  0.  0.  0.2 0.  0.  0. ]\n",
      " [0.  0.  0.  0.  0.2 0.  0.  0. ]\n",
      " [0.  0.  0.  0.  0.2 0.  0.  0. ]\n",
      " [0.2 0.2 0.2 0.2 0.  0.2 0.2 0.2]\n",
      " [0.  0.  0.  0.  0.2 0.  0.  0. ]\n",
      " [0.  0.  0.  0.  0.2 0.  0.  0. ]\n",
      " [0.  0.  0.  0.  0.2 0.  0.  0. ]]\n",
      "[[0.        0.11      0.24      0.28      0.0009467 0.18      0.13\n",
      "  0.02     ]\n",
      " [0.11      0.        0.13      0.17      0.1109467 0.07      0.02\n",
      "  0.09     ]\n",
      " [0.24      0.13      0.        0.04      0.2409467 0.06      0.11\n",
      "  0.22     ]\n",
      " [0.28      0.17      0.04      0.        0.2809467 0.1       0.15\n",
      "  0.26     ]\n",
      " [0.0009467 0.1109467 0.2409467 0.2809467 0.        0.1809467 0.1309467\n",
      "  0.0209467]\n",
      " [0.18      0.07      0.06      0.1       0.1809467 0.        0.05\n",
      "  0.16     ]\n",
      " [0.13      0.02      0.11      0.15      0.1309467 0.05      0.\n",
      "  0.11     ]\n",
      " [0.02      0.09      0.22      0.26      0.0209467 0.16      0.11\n",
      "  0.       ]]\n"
     ]
    }
   ],
   "source": [
    "def create_adjacency_matrix(numbers):\n",
    "    n = len(numbers)\n",
    "    adjacency_matrix = np.zeros((n, n))\n",
    "    \n",
    "    for i in range(n):\n",
    "        for j in range(n):\n",
    "            adjacency_matrix[i][j] = abs(numbers[i] - numbers[j])\n",
    "    \n",
    "    return adjacency_matrix\n",
    "\n",
    "\n",
    "# Example usage\n",
    "IC1 = [0,0,0,0.5,0,0,0]\n",
    "IC2 = [0.2,0.2,0.2,0.2,0.4,0.2,0.2,0.2]\n",
    "IC3 =[.12,.23, .36, .4, 0.1190533, .30, .25, .14]\n",
    "adj_matrixIC1 = create_adjacency_matrix(IC1)\n",
    "print(adj_matrixIC1)\n",
    "adj_matrixIC2 = create_adjacency_matrix(IC2)\n",
    "print(adj_matrixIC2)\n",
    "adj_matrixIC3 = create_adjacency_matrix(IC3)\n",
    "print(adj_matrixIC3)"
   ]
  },
  {
   "cell_type": "code",
   "execution_count": 17,
   "id": "73c60a39-3485-4e9d-bc97-e69e05a0fb6d",
   "metadata": {},
   "outputs": [
    {
     "data": {
      "text/plain": [
       "[0.08499074572962995]"
      ]
     },
     "execution_count": 17,
     "metadata": {},
     "output_type": "execute_result"
    }
   ],
   "source": [
    "clustering_coeff_function_of_time([adj_matrixIC3])"
   ]
  },
  {
   "cell_type": "code",
   "execution_count": 16,
   "id": "432b0d65-431f-48e2-9c4b-9c3318c03d23",
   "metadata": {},
   "outputs": [
    {
     "data": {
      "text/plain": [
       "[0.1888081423081579]"
      ]
     },
     "execution_count": 16,
     "metadata": {},
     "output_type": "execute_result"
    }
   ],
   "source": [
    "disparity_function_of_time([adj_matrixIC3],8)"
   ]
  },
  {
   "cell_type": "code",
   "execution_count": null,
   "id": "4cca9fec-5b1c-4dd4-ae85-cde4442ab0bf",
   "metadata": {},
   "outputs": [],
   "source": []
  }
 ],
 "metadata": {
  "kernelspec": {
   "display_name": "Python 3 (ipykernel)",
   "language": "python",
   "name": "python3"
  },
  "language_info": {
   "codemirror_mode": {
    "name": "ipython",
    "version": 3
   },
   "file_extension": ".py",
   "mimetype": "text/x-python",
   "name": "python",
   "nbconvert_exporter": "python",
   "pygments_lexer": "ipython3",
   "version": "3.11.7"
  }
 },
 "nbformat": 4,
 "nbformat_minor": 5
}
