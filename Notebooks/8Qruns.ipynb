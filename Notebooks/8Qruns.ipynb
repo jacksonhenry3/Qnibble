{
 "cells": [
  {
   "cell_type": "code",
   "execution_count": 25,
   "id": "540ae469-005a-4148-babb-d29ebcf39076",
   "metadata": {},
   "outputs": [],
   "source": [
    "# Add directory above current directory to path\n",
    "import sys as SYS; SYS.path.insert(0, '..')\n",
    "\n",
    "# for saving\n",
    "import os\n",
    "\n",
    "from collections import defaultdict\n",
    "import numpy as np\n",
    "import matplotlib.pyplot as plt\n",
    "\n",
    "from src import setup\n",
    "# setup.use_gpu()"
   ]
  },
  {
   "cell_type": "code",
   "execution_count": 26,
   "id": "88ebe62b-80bc-492e-827b-bcddc823e997",
   "metadata": {},
   "outputs": [],
   "source": [
    "from src import ( \n",
    "    measurements as measure,\n",
    "    density_matrix as DM,\n",
    "    simulation as sim,\n",
    "    orders,\n",
    "    order_rules,\n",
    "    random_unitary,\n",
    "    simulation)\n",
    "\n",
    "from Scripts import simulation_CLI as cleo"
   ]
  },
  {
   "cell_type": "code",
   "execution_count": 27,
   "id": "5eb70c2b-44b0-4205-99cc-3f6617c4e8a9",
   "metadata": {},
   "outputs": [
    {
     "ename": "AssertionError",
     "evalue": "population must be between 0 and .5 but you chose [0, 0, 0, 0, 1, 0, 0, 0]",
     "output_type": "error",
     "traceback": [
      "\u001b[0;31m---------------------------------------------------------------------------\u001b[0m",
      "\u001b[0;31mAssertionError\u001b[0m                            Traceback (most recent call last)",
      "Cell \u001b[0;32mIn[27], line 6\u001b[0m\n\u001b[1;32m      4\u001b[0m initial_pops \u001b[38;5;241m=\u001b[39m [\u001b[38;5;241m0\u001b[39m,\u001b[38;5;241m0\u001b[39m,\u001b[38;5;241m0\u001b[39m,\u001b[38;5;241m0\u001b[39m,\u001b[38;5;241m1\u001b[39m,\u001b[38;5;241m0\u001b[39m,\u001b[38;5;241m0\u001b[39m,\u001b[38;5;241m0\u001b[39m]\n\u001b[1;32m      5\u001b[0m \u001b[38;5;66;03m#initial_pops = [0.4, 0.2, .2, .2,0.4,0.2,0.2,0.2]\u001b[39;00m\n\u001b[0;32m----> 6\u001b[0m system \u001b[38;5;241m=\u001b[39m DM\u001b[38;5;241m.\u001b[39mn_thermal_qbits(initial_pops)\n\u001b[1;32m      7\u001b[0m connectivity \u001b[38;5;241m=\u001b[39m \u001b[38;5;124m\"\u001b[39m\u001b[38;5;124mc2_2local\u001b[39m\u001b[38;5;124m\"\u001b[39m\n\u001b[1;32m      8\u001b[0m unitary_energy_subspace \u001b[38;5;241m=\u001b[39m \u001b[38;5;241m1\u001b[39m\n",
      "File \u001b[0;32m~/Documents/GitHub/Qnibble/Notebooks/../src/density_matrix.py:325\u001b[0m, in \u001b[0;36mn_thermal_qbits\u001b[0;34m(pops)\u001b[0m\n\u001b[1;32m    317\u001b[0m \u001b[38;5;250m\u001b[39m\u001b[38;5;124;03m\"\"\"\u001b[39;00m\n\u001b[1;32m    318\u001b[0m \u001b[38;5;124;03mArgs:\u001b[39;00m\n\u001b[1;32m    319\u001b[0m \u001b[38;5;124;03m    pops: a list of population numbers between 0 and .5\u001b[39;00m\n\u001b[0;32m   (...)\u001b[0m\n\u001b[1;32m    322\u001b[0m \u001b[38;5;124;03m    A density matrix for n thermal qbits with the specified populations\u001b[39;00m\n\u001b[1;32m    323\u001b[0m \u001b[38;5;124;03m\"\"\"\u001b[39;00m\n\u001b[1;32m    324\u001b[0m \u001b[38;5;66;03m# assert pops to be between 0 and .5\u001b[39;00m\n\u001b[0;32m--> 325\u001b[0m \u001b[38;5;28;01massert\u001b[39;00m \u001b[38;5;28mall\u001b[39m([\u001b[38;5;241m0\u001b[39m \u001b[38;5;241m<\u001b[39m\u001b[38;5;241m=\u001b[39m pop \u001b[38;5;241m<\u001b[39m\u001b[38;5;241m=\u001b[39m \u001b[38;5;241m.5\u001b[39m \u001b[38;5;28;01mfor\u001b[39;00m pop \u001b[38;5;129;01min\u001b[39;00m pops]), \u001b[38;5;124mf\u001b[39m\u001b[38;5;124m\"\u001b[39m\u001b[38;5;124mpopulation must be between 0 and .5 but you chose \u001b[39m\u001b[38;5;132;01m{\u001b[39;00mpops\u001b[38;5;132;01m}\u001b[39;00m\u001b[38;5;124m\"\u001b[39m\n\u001b[1;32m    326\u001b[0m num_states \u001b[38;5;241m=\u001b[39m \u001b[38;5;241m2\u001b[39m \u001b[38;5;241m*\u001b[39m\u001b[38;5;241m*\u001b[39m \u001b[38;5;28mlen\u001b[39m(pops)\n\u001b[1;32m    327\u001b[0m data \u001b[38;5;241m=\u001b[39m []\n",
      "\u001b[0;31mAssertionError\u001b[0m: population must be between 0 and .5 but you chose [0, 0, 0, 0, 1, 0, 0, 0]"
     ]
    }
   ],
   "source": [
    "Trials = 1\n",
    "for unitary_seed in range(Trials):\n",
    "    #initial_pops = [0.31, 0.23, 0.2, 0.23, 0.36, 0.15, 0.18, 0.408125]\n",
    "    initial_pops = [0,0,0,0,1,0,0,0]\n",
    "    #initial_pops = [0.4, 0.2, .2, .2,0.4,0.2,0.2,0.2]\n",
    "    system = DM.n_thermal_qbits(initial_pops)\n",
    "    connectivity = \"c2_2local\"\n",
    "    unitary_energy_subspace = 1\n",
    "    ordering_seed = 1\n",
    "    chunk_size = 2\n",
    "    order_rule_name = \"random\"\n",
    "    num_steps = 500\n",
    "    data = cleo.execute(file_name=\"random\",\n",
    "                       connectivity=connectivity,\n",
    "                       order_rule_name = order_rule_name, \n",
    "                       unitary_seed=unitary_seed,\n",
    "                       unitary_energy_subspace=unitary_energy_subspace,\n",
    "                       evolution_generation_type=\"haar2Qunitary\",\n",
    "                       chunk_size=chunk_size,\n",
    "                       num_steps=num_steps,\n",
    "                       initial_pops=initial_pops,\n",
    "                       verbosity = .9)"
   ]
  },
  {
   "cell_type": "code",
   "execution_count": 5,
   "id": "89edef00-9213-4933-8c69-4f059455c768",
   "metadata": {},
   "outputs": [
    {
     "name": "stdout",
     "output_type": "stream",
     "text": [
      "90%\n",
      "simulation complete, extracting and saving data to : ../data/random/random-8_qubits-c4_2local_connectivity-unitary_energy_subspace_1-unitary_seed_0-order_rule_name_random\n",
      "simulation complete, extracting and saving data to : ../data/random/random-8_qubits-c4_2local_connectivity-unitary_energy_subspace_1-unitary_seed_0-order_rule_name_random\n"
     ]
    }
   ],
   "source": [
    "Trials = 1\n",
    "for unitary_seed in range(Trials):\n",
    "    #initial_pops = [0.31, 0.23, 0.2, 0.23, 0.36, 0.15, 0.18, 0.408125]\n",
    "    #initial_pops = [0.5,0,0,0,0.5,0,0,0]\n",
    "    initial_pops = [0.4, 0.2, .2, .2,0.4,0.2,0.2,0.2]\n",
    "    system = DM.n_thermal_qbits(initial_pops)\n",
    "    connectivity = \"c4_2local\"\n",
    "    unitary_energy_subspace = 1\n",
    "    ordering_seed = 1\n",
    "    chunk_size = 2\n",
    "    order_rule_name = \"random\"\n",
    "    num_steps = 500\n",
    "    data = cleo.execute(file_name=\"random\",\n",
    "                       connectivity=connectivity,\n",
    "                       order_rule_name = order_rule_name, \n",
    "                       unitary_seed=unitary_seed,\n",
    "                       unitary_energy_subspace=unitary_energy_subspace,\n",
    "                       evolution_generation_type=\"haar2Qunitary\",\n",
    "                       chunk_size=chunk_size,\n",
    "                       num_steps=num_steps,\n",
    "                       initial_pops=initial_pops,\n",
    "                       verbosity = .9)"
   ]
  },
  {
   "cell_type": "code",
   "execution_count": 6,
   "id": "5de6c3b3-f124-45ab-8d20-82da7151fec7",
   "metadata": {},
   "outputs": [
    {
     "name": "stdout",
     "output_type": "stream",
     "text": [
      "90%\n",
      "simulation complete, extracting and saving data to : ../data/random/random-8_qubits-c5_2local_connectivity-unitary_energy_subspace_1-unitary_seed_0-order_rule_name_random\n",
      "simulation complete, extracting and saving data to : ../data/random/random-8_qubits-c5_2local_connectivity-unitary_energy_subspace_1-unitary_seed_0-order_rule_name_random\n"
     ]
    }
   ],
   "source": [
    "Trials = 1\n",
    "for unitary_seed in range(Trials):\n",
    "    #initial_pops = [0.31, 0.23, 0.2, 0.23, 0.36, 0.15, 0.18, 0.408125]\n",
    "    #initial_pops = [0.5,0,0,0,0.5,0,0,0]\n",
    "    initial_pops = [0.4, 0.2, .2, .2,0.4,0.2,0.2,0.2]\n",
    "    system = DM.n_thermal_qbits(initial_pops)\n",
    "    connectivity = \"c5_2local\"\n",
    "    unitary_energy_subspace = 1\n",
    "    ordering_seed = 1\n",
    "    chunk_size = 2\n",
    "    order_rule_name = \"random\"\n",
    "    num_steps = 500\n",
    "    data = cleo.execute(file_name=\"random\",\n",
    "                       connectivity=connectivity,\n",
    "                       order_rule_name = order_rule_name, \n",
    "                       unitary_seed=unitary_seed,\n",
    "                       unitary_energy_subspace=unitary_energy_subspace,\n",
    "                       evolution_generation_type=\"haar2Qunitary\",\n",
    "                       chunk_size=chunk_size,\n",
    "                       num_steps=num_steps,\n",
    "                       initial_pops=initial_pops,\n",
    "                       verbosity = .9)"
   ]
  },
  {
   "cell_type": "code",
   "execution_count": 7,
   "id": "00634891-c389-452e-aeaa-127cb272e9c8",
   "metadata": {},
   "outputs": [
    {
     "name": "stdout",
     "output_type": "stream",
     "text": [
      "90%\n",
      "simulation complete, extracting and saving data to : ../data/random/random-8_qubits-c6_2local_connectivity-unitary_energy_subspace_1-unitary_seed_0-order_rule_name_random\n",
      "simulation complete, extracting and saving data to : ../data/random/random-8_qubits-c6_2local_connectivity-unitary_energy_subspace_1-unitary_seed_0-order_rule_name_random\n"
     ]
    }
   ],
   "source": [
    "Trials = 1\n",
    "for unitary_seed in range(Trials):\n",
    "    initial_pops = [0.31, 0.23, 0.22, .281714, 0.36, 0.15, 0.18, 0.23]\n",
    "    #initial_pops = [0.5,0,0,0,0.5,0,0,0]\n",
    "    initial_pops = [0.4, 0.2, .2, .2,0.4,0.2,0.2,0.2]\n",
    "    system = DM.n_thermal_qbits(initial_pops)\n",
    "    connectivity = \"c6_2local\"\n",
    "    unitary_energy_subspace = 1\n",
    "    ordering_seed = 1\n",
    "    chunk_size = 2\n",
    "    order_rule_name = \"random\"\n",
    "    num_steps = 500\n",
    "    data = cleo.execute(file_name=\"random\",\n",
    "                       connectivity=connectivity,\n",
    "                       order_rule_name = order_rule_name, \n",
    "                       unitary_seed=unitary_seed,\n",
    "                       unitary_energy_subspace=unitary_energy_subspace,\n",
    "                       evolution_generation_type=\"haar2Qunitary\",\n",
    "                       chunk_size=chunk_size,\n",
    "                       num_steps=num_steps,\n",
    "                       initial_pops=initial_pops,\n",
    "                       verbosity = .9)"
   ]
  },
  {
   "cell_type": "code",
   "execution_count": 8,
   "id": "2bec75b0-62af-43a7-8d46-428b72b342ec",
   "metadata": {},
   "outputs": [
    {
     "name": "stdout",
     "output_type": "stream",
     "text": [
      "90%\n",
      "simulation complete, extracting and saving data to : ../data/random/random-8_qubits-cN_2local_connectivity-unitary_energy_subspace_1-unitary_seed_0-order_rule_name_random\n",
      "simulation complete, extracting and saving data to : ../data/random/random-8_qubits-cN_2local_connectivity-unitary_energy_subspace_1-unitary_seed_0-order_rule_name_random\n"
     ]
    }
   ],
   "source": [
    "Trials = 1\n",
    "for unitary_seed in range(Trials):\n",
    "    initial_pops = [0.31, 0.23, 0.22, .281714, 0.36, 0.15, 0.18, 0.23]\n",
    "    #initial_pops = [0.5,0,0,0,0.5,0,0,0]\n",
    "    initial_pops = [0.4, 0.2, .2, .2,0.4,0.2,0.2,0.2]\n",
    "    system = DM.n_thermal_qbits(initial_pops)\n",
    "    connectivity = \"cN_2local\"\n",
    "    unitary_energy_subspace = 1\n",
    "    ordering_seed = 1\n",
    "    chunk_size = 2\n",
    "    order_rule_name = \"random\"\n",
    "    num_steps = 500\n",
    "    data = cleo.execute(file_name=\"random\",\n",
    "                       connectivity=connectivity,\n",
    "                       order_rule_name = order_rule_name, \n",
    "                       unitary_seed=unitary_seed,\n",
    "                       unitary_energy_subspace=unitary_energy_subspace,\n",
    "                       evolution_generation_type=\"haar2Qunitary\",\n",
    "                       chunk_size=chunk_size,\n",
    "                       num_steps=num_steps,\n",
    "                       initial_pops=initial_pops,\n",
    "                       verbosity = .9)"
   ]
  },
  {
   "cell_type": "code",
   "execution_count": 8,
   "id": "78b773b4-8c2b-443a-91db-6fec9dd43cb1",
   "metadata": {},
   "outputs": [],
   "source": [
    "import sys as SYS; SYS.path.insert(0, '../..')\n",
    "from Scripts import hdf5merge\n",
    "hdf5merge.merge_hdf5_files(\"../data/random\")"
   ]
  },
  {
   "cell_type": "code",
   "execution_count": 9,
   "id": "6ddba038-8b85-4822-8544-c62b5ef80c06",
   "metadata": {},
   "outputs": [
    {
     "name": "stdout",
     "output_type": "stream",
     "text": [
      "90%\n",
      "simulation complete, extracting and saving data to : ../data/greedy/greedy-8_qubits-c2_2local_connectivity-unitary_energy_subspace_1-unitary_seed_0-order_rule_name_greedy\n",
      "simulation complete, extracting and saving data to : ../data/greedy/greedy-8_qubits-c2_2local_connectivity-unitary_energy_subspace_1-unitary_seed_0-order_rule_name_greedy\n"
     ]
    }
   ],
   "source": [
    "Trials = 1\n",
    "for unitary_seed in range(Trials):\n",
    "    initial_pops = [0.31, 0.23, 0.22, .281714, 0.36, 0.15, 0.18, 0.23]\n",
    "    #initial_pops = [0.5,0,0,0,0.5,0,0,0]\n",
    "    initial_pops = [0.4, 0.2, .2, .2,0.4,0.2,0.2,0.2]\n",
    "    system = DM.n_thermal_qbits(initial_pops)\n",
    "    connectivity = \"c2_2local\"\n",
    "    unitary_energy_subspace = 1\n",
    "    ordering_seed = 1\n",
    "    chunk_size = 2\n",
    "    order_rule_name = \"greedy\"\n",
    "    num_steps = 500\n",
    "    data = cleo.execute(file_name=\"greedy\",\n",
    "                       connectivity=connectivity,\n",
    "                       order_rule_name = order_rule_name, \n",
    "                       unitary_seed=unitary_seed,\n",
    "                       unitary_energy_subspace=unitary_energy_subspace,\n",
    "                       evolution_generation_type=\"haar2Qunitary\",\n",
    "                       chunk_size=chunk_size,\n",
    "                       num_steps=num_steps,\n",
    "                       initial_pops=initial_pops,\n",
    "                       verbosity = .9)"
   ]
  },
  {
   "cell_type": "code",
   "execution_count": 10,
   "id": "16f59f33-d4af-4239-bceb-82e9982ce6a6",
   "metadata": {},
   "outputs": [
    {
     "name": "stdout",
     "output_type": "stream",
     "text": [
      "90%\n",
      "simulation complete, extracting and saving data to : ../data/greedy/greedy-8_qubits-c4_2local_connectivity-unitary_energy_subspace_1-unitary_seed_0-order_rule_name_greedy\n",
      "simulation complete, extracting and saving data to : ../data/greedy/greedy-8_qubits-c4_2local_connectivity-unitary_energy_subspace_1-unitary_seed_0-order_rule_name_greedy\n"
     ]
    }
   ],
   "source": [
    "Trials = 1\n",
    "for unitary_seed in range(Trials):\n",
    "    initial_pops = [0.31, 0.23, 0.22, .281714, 0.36, 0.15, 0.18, 0.23]\n",
    "    #initial_pops = [0.5,0,0,0,0.5,0,0,0]\n",
    "    initial_pops = [0.4, 0.2, .2, .2,0.4,0.2,0.2,0.2]\n",
    "    system = DM.n_thermal_qbits(initial_pops)\n",
    "    connectivity = \"c4_2local\"\n",
    "    unitary_energy_subspace = 1\n",
    "    ordering_seed = 1\n",
    "    chunk_size = 2\n",
    "    order_rule_name = \"greedy\"\n",
    "    num_steps = 500\n",
    "    data = cleo.execute(file_name=\"greedy\",\n",
    "                       connectivity=connectivity,\n",
    "                       order_rule_name = order_rule_name, \n",
    "                       unitary_seed=unitary_seed,\n",
    "                       unitary_energy_subspace=unitary_energy_subspace,\n",
    "                       evolution_generation_type=\"haar2Qunitary\",\n",
    "                       chunk_size=chunk_size,\n",
    "                       num_steps=num_steps,\n",
    "                       initial_pops=initial_pops,\n",
    "                       verbosity = .9)"
   ]
  },
  {
   "cell_type": "code",
   "execution_count": 11,
   "id": "beb19c98-403b-42aa-a303-ba315cda0edd",
   "metadata": {},
   "outputs": [
    {
     "name": "stdout",
     "output_type": "stream",
     "text": [
      "90%\n",
      "simulation complete, extracting and saving data to : ../data/greedy/greedy-8_qubits-c5_2local_connectivity-unitary_energy_subspace_1-unitary_seed_0-order_rule_name_greedy\n",
      "simulation complete, extracting and saving data to : ../data/greedy/greedy-8_qubits-c5_2local_connectivity-unitary_energy_subspace_1-unitary_seed_0-order_rule_name_greedy\n"
     ]
    }
   ],
   "source": [
    "Trials = 1\n",
    "for unitary_seed in range(Trials):\n",
    "    initial_pops = [0.31, 0.23, 0.22, .281714, 0.36, 0.15, 0.18, 0.23]\n",
    "    #initial_pops = [0.5,0,0,0,0.5,0,0,0]\n",
    "    initial_pops = [0.4, 0.2, .2, .2,0.4,0.2,0.2,0.2]\n",
    "    system = DM.n_thermal_qbits(initial_pops)\n",
    "    connectivity = \"c5_2local\"\n",
    "    unitary_energy_subspace = 1\n",
    "    ordering_seed = 1\n",
    "    chunk_size = 2\n",
    "    order_rule_name = \"greedy\"\n",
    "    num_steps = 500\n",
    "    data = cleo.execute(file_name=\"greedy\",\n",
    "                       connectivity=connectivity,\n",
    "                       order_rule_name = order_rule_name, \n",
    "                       unitary_seed=unitary_seed,\n",
    "                       unitary_energy_subspace=unitary_energy_subspace,\n",
    "                       evolution_generation_type=\"haar2Qunitary\",\n",
    "                       chunk_size=chunk_size,\n",
    "                       num_steps=num_steps,\n",
    "                       initial_pops=initial_pops,\n",
    "                       verbosity = .9)"
   ]
  },
  {
   "cell_type": "code",
   "execution_count": 12,
   "id": "723d2552-5c81-4596-bddc-9d7b7e6e85bc",
   "metadata": {},
   "outputs": [
    {
     "name": "stdout",
     "output_type": "stream",
     "text": [
      "90%\n",
      "simulation complete, extracting and saving data to : ../data/greedy/greedy-8_qubits-c6_2local_connectivity-unitary_energy_subspace_1-unitary_seed_0-order_rule_name_greedy\n",
      "simulation complete, extracting and saving data to : ../data/greedy/greedy-8_qubits-c6_2local_connectivity-unitary_energy_subspace_1-unitary_seed_0-order_rule_name_greedy\n"
     ]
    }
   ],
   "source": [
    "Trials = 1\n",
    "for unitary_seed in range(Trials):\n",
    "    initial_pops = [0.31, 0.23, 0.22, .281714, 0.36, 0.15, 0.18, 0.23]\n",
    "    #initial_pops = [0.5,0,0,0,0.5,0,0,0]\n",
    "    initial_pops = [0.4, 0.2, .2, .2,0.4,0.2,0.2,0.2]\n",
    "    system = DM.n_thermal_qbits(initial_pops)\n",
    "    connectivity = \"c6_2local\"\n",
    "    unitary_energy_subspace = 1\n",
    "    ordering_seed = 1\n",
    "    chunk_size = 2\n",
    "    order_rule_name = \"greedy\"\n",
    "    num_steps = 500\n",
    "    data = cleo.execute(file_name=\"greedy\",\n",
    "                       connectivity=connectivity,\n",
    "                       order_rule_name = order_rule_name, \n",
    "                       unitary_seed=unitary_seed,\n",
    "                       unitary_energy_subspace=unitary_energy_subspace,\n",
    "                       evolution_generation_type=\"haar2Qunitary\",\n",
    "                       chunk_size=chunk_size,\n",
    "                       num_steps=num_steps,\n",
    "                       initial_pops=initial_pops,\n",
    "                       verbosity = .9)"
   ]
  },
  {
   "cell_type": "code",
   "execution_count": 13,
   "id": "f900ceb8-95f9-4ebf-80c3-fb5e4909f094",
   "metadata": {},
   "outputs": [
    {
     "name": "stdout",
     "output_type": "stream",
     "text": [
      "90%\n",
      "simulation complete, extracting and saving data to : ../data/greedy/greedy-8_qubits-cN_2local_connectivity-unitary_energy_subspace_1-unitary_seed_0-order_rule_name_greedy\n",
      "simulation complete, extracting and saving data to : ../data/greedy/greedy-8_qubits-cN_2local_connectivity-unitary_energy_subspace_1-unitary_seed_0-order_rule_name_greedy\n"
     ]
    }
   ],
   "source": [
    "Trials = 1\n",
    "for unitary_seed in range(Trials):\n",
    "    initial_pops = [0.31, 0.23, 0.22, .281714, 0.36, 0.15, 0.18, 0.23]\n",
    "    #initial_pops = [0.5,0,0,0,0.5,0,0,0]\n",
    "    initial_pops = [0.4, 0.2, .2, .2,0.4,0.2,0.2,0.2]\n",
    "    system = DM.n_thermal_qbits(initial_pops)\n",
    "    connectivity = \"cN_2local\"\n",
    "    unitary_energy_subspace = 1\n",
    "    ordering_seed = 1\n",
    "    chunk_size = 2\n",
    "    order_rule_name = \"greedy\"\n",
    "    num_steps = 500\n",
    "    data = cleo.execute(file_name=\"greedy\",\n",
    "                       connectivity=connectivity,\n",
    "                       order_rule_name = order_rule_name, \n",
    "                       unitary_seed=unitary_seed,\n",
    "                       unitary_energy_subspace=unitary_energy_subspace,\n",
    "                       evolution_generation_type=\"haar2Qunitary\",\n",
    "                       chunk_size=chunk_size,\n",
    "                       num_steps=num_steps,\n",
    "                       initial_pops=initial_pops,\n",
    "                       verbosity = .9)"
   ]
  },
  {
   "cell_type": "code",
   "execution_count": 14,
   "id": "06343074-d1db-44c1-ae9f-decd2594369d",
   "metadata": {},
   "outputs": [],
   "source": [
    "import sys as SYS; SYS.path.insert(0, '../..')\n",
    "from Scripts import hdf5merge\n",
    "hdf5merge.merge_hdf5_files(\"../data/greedy\")"
   ]
  },
  {
   "cell_type": "code",
   "execution_count": 14,
   "id": "ba40b6e6-6a41-456e-866a-09c36fd0d4f6",
   "metadata": {},
   "outputs": [
    {
     "name": "stderr",
     "output_type": "stream",
     "text": [
      "/Users/uja5020/Documents/GitHub/Qnibble/Notebooks/../src/measurements.py:56: RuntimeWarning: invalid value encountered in log\n",
      "  return 1 / (np.log((1 - pop) / pop))\n"
     ]
    },
    {
     "name": "stdout",
     "output_type": "stream",
     "text": [
      "90%\n",
      "simulation complete, extracting and saving data to : ../data/mimic/mimic-8_qubits-c2_2local_connectivity-unitary_energy_subspace_1-unitary_seed_0-order_rule_name_mimic\n",
      "simulation complete, extracting and saving data to : ../data/mimic/mimic-8_qubits-c2_2local_connectivity-unitary_energy_subspace_1-unitary_seed_0-order_rule_name_mimic\n"
     ]
    }
   ],
   "source": [
    "Trials = 1\n",
    "for unitary_seed in range(Trials):\n",
    "    #initial_pops = [0.31, 0.23, 0.2, 0.23, 0.36, 0.15, 0.18, 0.408125]\n",
    "    #initial_pops = [0.5,0,0,0,0.5,0,0,0]\n",
    "    initial_pops = [0.4, 0.2, .2, .2,0.4,0.2,0.2,0.2]\n",
    "    system = DM.n_thermal_qbits(initial_pops)\n",
    "    connectivity = \"c2_2local\"\n",
    "    unitary_energy_subspace = 1\n",
    "    ordering_seed = 1\n",
    "    chunk_size = 2\n",
    "    order_rule_name = \"mimic\"\n",
    "    num_steps = 500\n",
    "    data = cleo.execute(file_name=\"mimic\",\n",
    "                       connectivity=connectivity,\n",
    "                       order_rule_name = order_rule_name, \n",
    "                       unitary_seed=unitary_seed,\n",
    "                       unitary_energy_subspace=unitary_energy_subspace,\n",
    "                       evolution_generation_type=\"haar2Qunitary\",\n",
    "                       chunk_size=chunk_size,\n",
    "                       num_steps=num_steps,\n",
    "                       initial_pops=initial_pops,\n",
    "                       verbosity = .9)"
   ]
  },
  {
   "cell_type": "code",
   "execution_count": 15,
   "id": "66bedc0b-262e-4a6f-91d2-96fbb41bb893",
   "metadata": {},
   "outputs": [
    {
     "name": "stdout",
     "output_type": "stream",
     "text": [
      "90%\n",
      "simulation complete, extracting and saving data to : ../data/mimic/mimic-8_qubits-c4_2local_connectivity-unitary_energy_subspace_1-unitary_seed_0-order_rule_name_mimic\n",
      "simulation complete, extracting and saving data to : ../data/mimic/mimic-8_qubits-c4_2local_connectivity-unitary_energy_subspace_1-unitary_seed_0-order_rule_name_mimic\n"
     ]
    }
   ],
   "source": [
    "Trials = 1\n",
    "for unitary_seed in range(Trials):\n",
    "    #initial_pops = [0.31, 0.23, 0.2, 0.23, 0.36, 0.15, 0.18, 0.408125]\n",
    "    #initial_pops = [0.5,0,0,0,0.5,0,0,0]\n",
    "    initial_pops = [0.4, 0.2, .2, .2,0.4,0.2,0.2,0.2]\n",
    "    system = DM.n_thermal_qbits(initial_pops)\n",
    "    connectivity = \"c4_2local\"\n",
    "    unitary_energy_subspace = 1\n",
    "    ordering_seed = 1\n",
    "    chunk_size = 2\n",
    "    order_rule_name = \"mimic\"\n",
    "    num_steps = 500\n",
    "    data = cleo.execute(file_name=\"mimic\",\n",
    "                       connectivity=connectivity,\n",
    "                       order_rule_name = order_rule_name, \n",
    "                       unitary_seed=unitary_seed,\n",
    "                       unitary_energy_subspace=unitary_energy_subspace,\n",
    "                       evolution_generation_type=\"haar2Qunitary\",\n",
    "                       chunk_size=chunk_size,\n",
    "                       num_steps=num_steps,\n",
    "                       initial_pops=initial_pops,\n",
    "                       verbosity = .9)"
   ]
  },
  {
   "cell_type": "code",
   "execution_count": 16,
   "id": "03cc5774-39c2-48b9-b74b-798a544d1dbc",
   "metadata": {},
   "outputs": [
    {
     "name": "stdout",
     "output_type": "stream",
     "text": [
      "90%\n",
      "simulation complete, extracting and saving data to : ../data/mimic/mimic-8_qubits-c5_2local_connectivity-unitary_energy_subspace_1-unitary_seed_0-order_rule_name_mimic\n",
      "simulation complete, extracting and saving data to : ../data/mimic/mimic-8_qubits-c5_2local_connectivity-unitary_energy_subspace_1-unitary_seed_0-order_rule_name_mimic\n"
     ]
    }
   ],
   "source": [
    "Trials = 1\n",
    "for unitary_seed in range(Trials):\n",
    "    #initial_pops = [0.31, 0.23, 0.2, 0.23, 0.36, 0.15, 0.18, 0.408125]\n",
    "    #initial_pops = [0.5,0,0,0,0.5,0,0,0]\n",
    "    initial_pops = [0.4, 0.2, .2, .2,0.4,0.2,0.2,0.2]\n",
    "    system = DM.n_thermal_qbits(initial_pops)\n",
    "    connectivity = \"c5_2local\"\n",
    "    unitary_energy_subspace = 1\n",
    "    ordering_seed = 1\n",
    "    chunk_size = 2\n",
    "    order_rule_name = \"mimic\"\n",
    "    num_steps = 500\n",
    "    data = cleo.execute(file_name=\"mimic\",\n",
    "                       connectivity=connectivity,\n",
    "                       order_rule_name = order_rule_name, \n",
    "                       unitary_seed=unitary_seed,\n",
    "                       unitary_energy_subspace=unitary_energy_subspace,\n",
    "                       evolution_generation_type=\"haar2Qunitary\",\n",
    "                       chunk_size=chunk_size,\n",
    "                       num_steps=num_steps,\n",
    "                       initial_pops=initial_pops,\n",
    "                       verbosity = .9)"
   ]
  },
  {
   "cell_type": "code",
   "execution_count": 17,
   "id": "c8e599c6-29eb-44fb-b163-7bac5c857def",
   "metadata": {},
   "outputs": [
    {
     "name": "stdout",
     "output_type": "stream",
     "text": [
      "90%\n",
      "simulation complete, extracting and saving data to : ../data/mimic/mimic-8_qubits-c6_2local_connectivity-unitary_energy_subspace_1-unitary_seed_0-order_rule_name_mimic\n",
      "simulation complete, extracting and saving data to : ../data/mimic/mimic-8_qubits-c6_2local_connectivity-unitary_energy_subspace_1-unitary_seed_0-order_rule_name_mimic\n"
     ]
    }
   ],
   "source": [
    "Trials = 1\n",
    "for unitary_seed in range(Trials):\n",
    "    #initial_pops = [0.31, 0.23, 0.2, 0.23, 0.36, 0.15, 0.18, 0.408125]\n",
    "    #initial_pops = [0.5,0,0,0,0.5,0,0,0]\n",
    "    initial_pops = [0.4, 0.2, .2, .2,0.4,0.2,0.2,0.2]\n",
    "    system = DM.n_thermal_qbits(initial_pops)\n",
    "    connectivity = \"c6_2local\"\n",
    "    unitary_energy_subspace = 1\n",
    "    ordering_seed = 1\n",
    "    chunk_size = 2\n",
    "    order_rule_name = \"mimic\"\n",
    "    num_steps = 500\n",
    "    data = cleo.execute(file_name=\"mimic\",\n",
    "                       connectivity=connectivity,\n",
    "                       order_rule_name = order_rule_name, \n",
    "                       unitary_seed=unitary_seed,\n",
    "                       unitary_energy_subspace=unitary_energy_subspace,\n",
    "                       evolution_generation_type=\"haar2Qunitary\",\n",
    "                       chunk_size=chunk_size,\n",
    "                       num_steps=num_steps,\n",
    "                       initial_pops=initial_pops,\n",
    "                       verbosity = .9)"
   ]
  },
  {
   "cell_type": "code",
   "execution_count": 18,
   "id": "c605c750-600e-4ee2-9c80-7707a1f62334",
   "metadata": {},
   "outputs": [
    {
     "name": "stdout",
     "output_type": "stream",
     "text": [
      "90%\n",
      "simulation complete, extracting and saving data to : ../data/mimic/mimic-8_qubits-cN_2local_connectivity-unitary_energy_subspace_1-unitary_seed_0-order_rule_name_mimic\n",
      "simulation complete, extracting and saving data to : ../data/mimic/mimic-8_qubits-cN_2local_connectivity-unitary_energy_subspace_1-unitary_seed_0-order_rule_name_mimic\n"
     ]
    }
   ],
   "source": [
    "Trials = 1\n",
    "for unitary_seed in range(Trials):\n",
    "    #initial_pops = [0.31, 0.23, 0.2, 0.23, 0.36, 0.15, 0.18, 0.408125]\n",
    "    #initial_pops = [0.5,0,0,0,0.5,0,0,0]\n",
    "    initial_pops = [0.4, 0.2, .2, .2,0.4,0.2,0.2,0.2]\n",
    "    system = DM.n_thermal_qbits(initial_pops)\n",
    "    connectivity = \"cN_2local\"\n",
    "    unitary_energy_subspace = 1\n",
    "    ordering_seed = 1\n",
    "    chunk_size = 2\n",
    "    order_rule_name = \"mimic\"\n",
    "    num_steps = 500\n",
    "    data = cleo.execute(file_name=\"mimic\",\n",
    "                       connectivity=connectivity,\n",
    "                       order_rule_name = order_rule_name, \n",
    "                       unitary_seed=unitary_seed,\n",
    "                       unitary_energy_subspace=unitary_energy_subspace,\n",
    "                       evolution_generation_type=\"haar2Qunitary\",\n",
    "                       chunk_size=chunk_size,\n",
    "                       num_steps=num_steps,\n",
    "                       initial_pops=initial_pops,\n",
    "                       verbosity = .9)"
   ]
  },
  {
   "cell_type": "code",
   "execution_count": 20,
   "id": "59e1ae6b-0706-4353-a3a5-f4e717c40853",
   "metadata": {},
   "outputs": [],
   "source": [
    "import sys as SYS; SYS.path.insert(0, '../..')\n",
    "from Scripts import hdf5merge\n",
    "hdf5merge.merge_hdf5_files(\"../data/mimic\")"
   ]
  },
  {
   "cell_type": "code",
   "execution_count": 19,
   "id": "e42b84b4-6857-453a-abd2-b5e32e232332",
   "metadata": {},
   "outputs": [
    {
     "name": "stdout",
     "output_type": "stream",
     "text": [
      "90%\n",
      "simulation complete, extracting and saving data to : ../data/landscape_maximizes/landscape_maximizes-8_qubits-c2_2local_connectivity-unitary_energy_subspace_1-unitary_seed_0-order_rule_name_landscape_maximizes\n",
      "simulation complete, extracting and saving data to : ../data/landscape_maximizes/landscape_maximizes-8_qubits-c2_2local_connectivity-unitary_energy_subspace_1-unitary_seed_0-order_rule_name_landscape_maximizes\n"
     ]
    }
   ],
   "source": [
    "Trials = 1\n",
    "for unitary_seed in range(Trials):\n",
    "    initial_pops = [0.31, 0.23, 0.22, .281714, 0.36, 0.15, 0.18, 0.23]\n",
    "    initial_pops = [0.5,0,0,0,0.5,0,0,0]\n",
    "    initial_pops = [0.4, 0.2, .2, .2,0.4,0.2,0.2,0.2]\n",
    "    system = DM.n_thermal_qbits(initial_pops)\n",
    "    connectivity = \"c2_2local\"\n",
    "    unitary_energy_subspace = 1\n",
    "    ordering_seed = 1\n",
    "    chunk_size = 2\n",
    "    order_rule_name = \"landscape_maximizes\"\n",
    "    num_steps = 500\n",
    "    data = cleo.execute(file_name=\"landscape_maximizes\",\n",
    "                       connectivity=connectivity,\n",
    "                       order_rule_name = order_rule_name, \n",
    "                       unitary_seed=unitary_seed,\n",
    "                       unitary_energy_subspace=unitary_energy_subspace,\n",
    "                       evolution_generation_type=\"haar2Qunitary\",\n",
    "                       chunk_size=chunk_size,\n",
    "                       num_steps=num_steps,\n",
    "                       initial_pops=initial_pops,\n",
    "                       verbosity = .9)"
   ]
  },
  {
   "cell_type": "code",
   "execution_count": 20,
   "id": "fda75c1c-26a9-4a70-98d7-9c117eb0f57f",
   "metadata": {},
   "outputs": [
    {
     "name": "stdout",
     "output_type": "stream",
     "text": [
      "90%\n",
      "simulation complete, extracting and saving data to : ../data/landscape_maximizes/landscape_maximizes-8_qubits-c4_2local_connectivity-unitary_energy_subspace_1-unitary_seed_0-order_rule_name_landscape_maximizes\n",
      "simulation complete, extracting and saving data to : ../data/landscape_maximizes/landscape_maximizes-8_qubits-c4_2local_connectivity-unitary_energy_subspace_1-unitary_seed_0-order_rule_name_landscape_maximizes\n"
     ]
    }
   ],
   "source": [
    "Trials = 1\n",
    "for unitary_seed in range(Trials):\n",
    "    initial_pops = [0.31, 0.23, 0.22, .281714, 0.36, 0.15, 0.18, 0.23]\n",
    "    #initial_pops = [0.5,0,0,0,0.5,0,0,0]\n",
    "    initial_pops = [0.4, 0.2, .2, .2,0.4,0.2,0.2,0.2]\n",
    "    system = DM.n_thermal_qbits(initial_pops)\n",
    "    connectivity = \"c4_2local\"\n",
    "    unitary_energy_subspace = 1\n",
    "    ordering_seed = 1\n",
    "    chunk_size = 2\n",
    "    order_rule_name = \"landscape_maximizes\"\n",
    "    num_steps = 500\n",
    "    data = cleo.execute(file_name=\"landscape_maximizes\",\n",
    "                       connectivity=connectivity,\n",
    "                       order_rule_name = order_rule_name, \n",
    "                       unitary_seed=unitary_seed,\n",
    "                       unitary_energy_subspace=unitary_energy_subspace,\n",
    "                       evolution_generation_type=\"haar2Qunitary\",\n",
    "                       chunk_size=chunk_size,\n",
    "                       num_steps=num_steps,\n",
    "                       initial_pops=initial_pops,\n",
    "                       verbosity = .9)"
   ]
  },
  {
   "cell_type": "code",
   "execution_count": 21,
   "id": "54bc92b1-1108-4180-914d-8c7888165591",
   "metadata": {},
   "outputs": [
    {
     "name": "stdout",
     "output_type": "stream",
     "text": [
      "90%\n",
      "simulation complete, extracting and saving data to : ../data/landscape_maximizes/landscape_maximizes-8_qubits-c5_2local_connectivity-unitary_energy_subspace_1-unitary_seed_0-order_rule_name_landscape_maximizes\n",
      "simulation complete, extracting and saving data to : ../data/landscape_maximizes/landscape_maximizes-8_qubits-c5_2local_connectivity-unitary_energy_subspace_1-unitary_seed_0-order_rule_name_landscape_maximizes\n"
     ]
    }
   ],
   "source": [
    "Trials = 1\n",
    "for unitary_seed in range(Trials):\n",
    "    initial_pops = [0.31, 0.23, 0.22, .281714, 0.36, 0.15, 0.18, 0.23]\n",
    "    #initial_pops = [0.5,0,0,0,0.5,0,0,0]\n",
    "    initial_pops = [0.4, 0.2, .2, .2,0.4,0.2,0.2,0.2]\n",
    "    system = DM.n_thermal_qbits(initial_pops)\n",
    "    connectivity = \"c5_2local\"\n",
    "    unitary_energy_subspace = 1\n",
    "    ordering_seed = 1\n",
    "    chunk_size = 2\n",
    "    order_rule_name = \"landscape_maximizes\"\n",
    "    num_steps = 500\n",
    "    data = cleo.execute(file_name=\"landscape_maximizes\",\n",
    "                       connectivity=connectivity,\n",
    "                       order_rule_name = order_rule_name, \n",
    "                       unitary_seed=unitary_seed,\n",
    "                       unitary_energy_subspace=unitary_energy_subspace,\n",
    "                       evolution_generation_type=\"haar2Qunitary\",\n",
    "                       chunk_size=chunk_size,\n",
    "                       num_steps=num_steps,\n",
    "                       initial_pops=initial_pops,\n",
    "                       verbosity = .9)"
   ]
  },
  {
   "cell_type": "code",
   "execution_count": 22,
   "id": "3294890f-af44-40a6-89a5-0ecc33bf082f",
   "metadata": {},
   "outputs": [
    {
     "name": "stdout",
     "output_type": "stream",
     "text": [
      "90%\n",
      "simulation complete, extracting and saving data to : ../data/landscape_maximizes/landscape_maximizes-8_qubits-c6_2local_connectivity-unitary_energy_subspace_1-unitary_seed_0-order_rule_name_landscape_maximizes\n",
      "simulation complete, extracting and saving data to : ../data/landscape_maximizes/landscape_maximizes-8_qubits-c6_2local_connectivity-unitary_energy_subspace_1-unitary_seed_0-order_rule_name_landscape_maximizes\n"
     ]
    }
   ],
   "source": [
    "Trials = 1\n",
    "for unitary_seed in range(Trials):\n",
    "    initial_pops = [0.31, 0.23, 0.22, .281714, 0.36, 0.15, 0.18, 0.23]\n",
    "    #initial_pops = [0.5,0,0,0,0.5,0,0,0]\n",
    "    initial_pops = [0.4, 0.2, .2, .2,0.4,0.2,0.2,0.2]\n",
    "    system = DM.n_thermal_qbits(initial_pops)\n",
    "    connectivity = \"c6_2local\"\n",
    "    unitary_energy_subspace = 1\n",
    "    ordering_seed = 1\n",
    "    chunk_size = 2\n",
    "    order_rule_name = \"landscape_maximizes\"\n",
    "    num_steps = 500\n",
    "    data = cleo.execute(file_name=\"landscape_maximizes\",\n",
    "                       connectivity=connectivity,\n",
    "                       order_rule_name = order_rule_name, \n",
    "                       unitary_seed=unitary_seed,\n",
    "                       unitary_energy_subspace=unitary_energy_subspace,\n",
    "                       evolution_generation_type=\"haar2Qunitary\",\n",
    "                       chunk_size=chunk_size,\n",
    "                       num_steps=num_steps,\n",
    "                       initial_pops=initial_pops,\n",
    "                       verbosity = .9)"
   ]
  },
  {
   "cell_type": "code",
   "execution_count": 23,
   "id": "f4ee1d6b-ede1-4676-a133-44a9afdbef0f",
   "metadata": {},
   "outputs": [
    {
     "name": "stdout",
     "output_type": "stream",
     "text": [
      "90%\n",
      "simulation complete, extracting and saving data to : ../data/landscape_maximizes/landscape_maximizes-8_qubits-cN_2local_connectivity-unitary_energy_subspace_1-unitary_seed_0-order_rule_name_landscape_maximizes\n",
      "simulation complete, extracting and saving data to : ../data/landscape_maximizes/landscape_maximizes-8_qubits-cN_2local_connectivity-unitary_energy_subspace_1-unitary_seed_0-order_rule_name_landscape_maximizes\n"
     ]
    }
   ],
   "source": [
    "Trials = 1\n",
    "for unitary_seed in range(Trials):\n",
    "    initial_pops = [0.31, 0.23, 0.22, .281714, 0.36, 0.15, 0.18, 0.23]\n",
    "    #initial_pops = [0.5,0,0,0,0.5,0,0,0]\n",
    "    initial_pops = [0.4, 0.2, .2, .2,0.4,0.2,0.2,0.2]\n",
    "    system = DM.n_thermal_qbits(initial_pops)\n",
    "    connectivity = \"cN_2local\"\n",
    "    unitary_energy_subspace = 1\n",
    "    ordering_seed = 1\n",
    "    chunk_size = 2\n",
    "    order_rule_name = \"landscape_maximizes\"\n",
    "    num_steps = 500\n",
    "    data = cleo.execute(file_name=\"landscape_maximizes\",\n",
    "                       connectivity=connectivity,\n",
    "                       order_rule_name = order_rule_name, \n",
    "                       unitary_seed=unitary_seed,\n",
    "                       unitary_energy_subspace=unitary_energy_subspace,\n",
    "                       evolution_generation_type=\"haar2Qunitary\",\n",
    "                       chunk_size=chunk_size,\n",
    "                       num_steps=num_steps,\n",
    "                       initial_pops=initial_pops,\n",
    "                       verbosity = .9)"
   ]
  },
  {
   "cell_type": "code",
   "execution_count": null,
   "id": "28287915-db1d-4323-b775-6273c4adba7d",
   "metadata": {},
   "outputs": [],
   "source": []
  },
  {
   "cell_type": "code",
   "execution_count": null,
   "id": "b60d31c7-9ee2-42fd-b3a9-48857f878056",
   "metadata": {},
   "outputs": [],
   "source": []
  },
  {
   "cell_type": "code",
   "execution_count": null,
   "id": "f5f267e7-a206-470e-bad0-a4a8005ce829",
   "metadata": {},
   "outputs": [],
   "source": []
  }
 ],
 "metadata": {
  "kernelspec": {
   "display_name": "Python 3 (ipykernel)",
   "language": "python",
   "name": "python3"
  },
  "language_info": {
   "codemirror_mode": {
    "name": "ipython",
    "version": 3
   },
   "file_extension": ".py",
   "mimetype": "text/x-python",
   "name": "python",
   "nbconvert_exporter": "python",
   "pygments_lexer": "ipython3",
   "version": "3.11.7"
  }
 },
 "nbformat": 4,
 "nbformat_minor": 5
}
