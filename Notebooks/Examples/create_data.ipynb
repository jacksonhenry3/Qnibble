{
 "cells": [
  {
   "cell_type": "code",
   "execution_count": 1,
   "id": "4cb32e3e-b148-495d-8fc9-0f6c9d8493c2",
   "metadata": {},
   "outputs": [],
   "source": [
    "# Add directory above current directory to path\n",
    "import sys as SYS; SYS.path.insert(0, '../..')"
   ]
  },
  {
   "cell_type": "code",
   "execution_count": 2,
   "id": "34b6e496-2245-427c-ac6e-3f7e0546e5c2",
   "metadata": {},
   "outputs": [],
   "source": [
    "from Scripts import simulation_CLI as cleo"
   ]
  },
  {
   "cell_type": "code",
   "execution_count": 3,
   "id": "83070d99-0468-471e-8715-bd6921f844d9",
   "metadata": {},
   "outputs": [
    {
     "name": "stdout",
     "output_type": "stream",
     "text": [
      "0\n",
      "90%\n",
      "1\n",
      "90%\n",
      "2\n",
      "90%\n",
      "3\n",
      "90%\n",
      "4\n",
      "90%\n",
      "5\n",
      "90%\n",
      "6\n",
      "90%\n",
      "7\n",
      "90%\n",
      "8\n",
      "90%\n",
      "9\n",
      "90%\n"
     ]
    }
   ],
   "source": [
    "connectivity = \"c5\"\n",
    "unitary_energy_subspace = None\n",
    "ordering_seed = 1\n",
    "chunk_size = 4\n",
    "num_steps = 100\n",
    "initial_pops = [.4, .2, .2, .2, .4, .2, .2, .2]\n",
    "\n",
    "for unitary_seed in range(10):\n",
    "    data = cleo.execute(file_name=\"I_am_qenough\",\n",
    "                       connectivity=connectivity,\n",
    "                       unitary_energy_subspace=unitary_energy_subspace,\n",
    "                       unitary_seed=unitary_seed,\n",
    "                       ordering_seed=ordering_seed,\n",
    "                       chunk_size=chunk_size,\n",
    "                       num_steps=num_steps,\n",
    "                       initial_pops=initial_pops,\n",
    "                       verbosity = .9,\n",
    "                       sample_frequency=10)\n"
   ]
  },
  {
   "cell_type": "code",
   "execution_count": null,
   "id": "2767ffec-36f3-425a-ac25-90e0149d0f5b",
   "metadata": {},
   "outputs": [],
   "source": []
  }
 ],
 "metadata": {
  "kernelspec": {
   "display_name": "Python 3 (ipykernel)",
   "language": "python",
   "name": "python3"
  },
  "language_info": {
   "codemirror_mode": {
    "name": "ipython",
    "version": 3
   },
   "file_extension": ".py",
   "mimetype": "text/x-python",
   "name": "python",
   "nbconvert_exporter": "python",
   "pygments_lexer": "ipython3",
   "version": "3.11.5"
  }
 },
 "nbformat": 4,
 "nbformat_minor": 5
}
