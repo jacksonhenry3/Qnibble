{
 "cells": [
  {
   "cell_type": "code",
   "execution_count": 2,
   "id": "4edd2d85-38a9-4521-85c9-ba21d4f273d6",
   "metadata": {},
   "outputs": [],
   "source": [
    "# Add directory above current directory to path\n",
    "import sys as SYS; SYS.path.insert(0, '../..')"
   ]
  },
  {
   "cell_type": "code",
   "execution_count": 3,
   "id": "ff1da0d0-4e88-457a-ad78-9802675f032a",
   "metadata": {},
   "outputs": [],
   "source": [
    "from Scripts import hdf5merge"
   ]
  },
  {
   "cell_type": "code",
   "execution_count": 4,
   "id": "0d3c3036-7dd4-44b5-a635-d7eebd2f1cbf",
   "metadata": {},
   "outputs": [],
   "source": [
    "hdf5merge.merge_hdf5_files(\"../../data/i_am_qenough\")"
   ]
  },
  {
   "cell_type": "code",
   "execution_count": null,
   "id": "99e34909-f165-4ca2-a377-83718a0b8f79",
   "metadata": {},
   "outputs": [],
   "source": []
  }
 ],
 "metadata": {
  "kernelspec": {
   "display_name": "PyCharm (Qnibble)",
   "language": "python",
   "name": "pycharm-c82c9ad0"
  },
  "language_info": {
   "codemirror_mode": {
    "name": "ipython",
    "version": 3
   },
   "file_extension": ".py",
   "mimetype": "text/x-python",
   "name": "python",
   "nbconvert_exporter": "python",
   "pygments_lexer": "ipython3",
   "version": "3.10.4"
  }
 },
 "nbformat": 4,
 "nbformat_minor": 5
}
