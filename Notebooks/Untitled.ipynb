{
 "cells": [
  {
   "cell_type": "code",
   "execution_count": 1,
   "id": "89334bf1-7de1-4489-8dc1-749b93186aa5",
   "metadata": {},
   "outputs": [],
   "source": [
    "# Add directory above current directory to path\n",
    "import sys as SYS; SYS.path.insert(0, '..')\n",
    "import os"
   ]
  },
  {
   "cell_type": "code",
   "execution_count": 2,
   "id": "6515098d-0eda-4931-a38c-e926db21a1d7",
   "metadata": {},
   "outputs": [],
   "source": [
    "from src import setup\n",
    "setup.use_gpu()"
   ]
  },
  {
   "cell_type": "code",
   "execution_count": 3,
   "id": "bfd1fc1b-ce57-4c0f-801c-f3f36efcbe38",
   "metadata": {},
   "outputs": [],
   "source": [
    "from src import ( \n",
    "    measurements as measure,\n",
    "    density_matrix as DM,\n",
    "    simulation as sim,\n",
    "    orders)"
   ]
  },
  {
   "cell_type": "code",
   "execution_count": 7,
   "id": "083f34e2-a896-45f4-9ad5-6fc8832c3142",
   "metadata": {},
   "outputs": [],
   "source": [
    "N = 14\n",
    "num_chunks = 3\n",
    "num_iterations = 500\n",
    "measurments = [measure.pops,measure.extractable_work_of_each_qubit]\n",
    "ordering = orders.n_random_gas_orders(N,n = num_iterations)\n",
    "initial_pops = [.2 for _ in range(N)]\n",
    "initial_pops[5] = .4"
   ]
  },
  {
   "cell_type": "code",
   "execution_count": 8,
   "id": "264d0a0f-300e-4a17-87ae-8815343bd7ab",
   "metadata": {
    "tags": []
   },
   "outputs": [
    {
     "name": "stdout",
     "output_type": "stream",
     "text": [
      "using random unitaries\n",
      "0.0\n",
      "0.01\n",
      "0.02\n",
      "0.03\n",
      "0.04\n",
      "0.05\n",
      "0.06\n",
      "0.07\n",
      "0.08\n",
      "0.09\n",
      "0.1\n",
      "0.11\n",
      "0.12\n",
      "0.13\n",
      "0.14\n",
      "0.15\n",
      "0.16\n",
      "0.17\n",
      "0.18\n",
      "0.19\n",
      "0.2\n",
      "0.21\n",
      "0.22\n",
      "0.23\n",
      "0.24\n",
      "0.25\n",
      "0.26\n",
      "0.27\n",
      "0.28\n",
      "0.29\n",
      "0.3\n",
      "0.31\n",
      "0.32\n",
      "0.33\n",
      "0.34\n",
      "0.35\n",
      "0.36\n",
      "0.37\n",
      "0.38\n",
      "0.39\n",
      "0.4\n",
      "0.41\n",
      "0.42\n",
      "0.43\n",
      "0.44\n",
      "0.45\n",
      "0.46\n",
      "0.47\n",
      "0.48\n",
      "0.49\n",
      "0.5\n",
      "0.51\n",
      "0.52\n",
      "0.53\n",
      "0.54\n",
      "0.55\n",
      "0.56\n",
      "0.57\n",
      "0.58\n",
      "0.59\n",
      "0.6\n",
      "0.61\n",
      "0.62\n",
      "0.63\n",
      "0.64\n",
      "0.65\n",
      "0.66\n",
      "0.67\n",
      "0.68\n",
      "0.69\n",
      "0.7\n",
      "0.71\n",
      "0.72\n",
      "0.73\n",
      "0.74\n",
      "0.75\n",
      "0.76\n",
      "0.77\n",
      "0.78\n",
      "0.79\n",
      "0.8\n",
      "0.81\n",
      "0.82\n",
      "0.83\n",
      "0.84\n",
      "0.85\n",
      "0.86\n",
      "0.87\n",
      "0.88\n",
      "0.89\n",
      "0.9\n",
      "0.91\n",
      "0.92\n",
      "0.93\n",
      "0.94\n",
      "0.95\n",
      "0.96\n",
      "0.97\n",
      "0.98\n",
      "0.99\n"
     ]
    }
   ],
   "source": [
    "system = DM.n_thermal_qbits(initial_pops)\n",
    "system.change_to_energy_basis()\n",
    "\n",
    "results_gas = sim.run(system,\n",
    "                  measurement_set = measurments,\n",
    "                  num_iterations=num_iterations,\n",
    "                  num_chunks=num_chunks,\n",
    "                  orders = ordering,\n",
    "                  verbose = .01);\n",
    "\n",
    "sim.save_data(results[0], N, \"pops\" ,num_chunks,\"gas\",0,0)\n",
    "sim.save_data(results[1], N, \"extractable_work\",num_chunks,\"gas\",0,0)"
   ]
  },
  {
   "cell_type": "code",
   "execution_count": null,
   "id": "8f9ce224-b568-4e21-9c4c-cc4cd7092a50",
   "metadata": {},
   "outputs": [],
   "source": [
    "system = DM.n_thermal_qbits(initial_pops)\n",
    "system.change_to_energy_basis()\n",
    "\n",
    "results = sim.run(system,\n",
    "                  measurement_set = measurments,\n",
    "                  num_iterations=500,\n",
    "                  num_chunks=num_chunks,\n",
    "                  orders = orders.n_random_gas_orderss_orders(14,500),\n",
    "                  verbose = .1);\n",
    "\n",
    "sim.save_data(results[0], N, \"pops\" ,num_chunks,\"gas\",0,0)\n",
    "sim.save_data(results[1], N, \"extractable_work\",num_chunks,\"gas\",0,0)"
   ]
  },
  {
   "cell_type": "code",
   "execution_count": null,
   "id": "f434761a-1cc4-4754-8fa5-309350defe86",
   "metadata": {},
   "outputs": [],
   "source": []
  }
 ],
 "metadata": {
  "kernelspec": {
   "display_name": "PyCharm (Qnibble)",
   "language": "python",
   "name": "pycharm-c82c9ad0"
  },
  "language_info": {
   "codemirror_mode": {
    "name": "ipython",
    "version": 3
   },
   "file_extension": ".py",
   "mimetype": "text/x-python",
   "name": "python",
   "nbconvert_exporter": "python",
   "pygments_lexer": "ipython3",
   "version": "3.10.4"
  }
 },
 "nbformat": 4,
 "nbformat_minor": 5
}
