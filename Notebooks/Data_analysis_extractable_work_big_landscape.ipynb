{
 "cells": [
  {
   "cell_type": "code",
   "execution_count": 1,
   "id": "bcf91a9f-e8f3-454c-8095-b4a2b3ab43d2",
   "metadata": {},
   "outputs": [],
   "source": [
    "# Add directory above current directory to path\n",
    "import sys as SYS; SYS.path.insert(0, '..')\n",
    "\n",
    "# for saving\n",
    "import os\n",
    "\n",
    "from collections import defaultdict\n",
    "import numpy as np\n",
    "import matplotlib.pyplot as plt\n",
    "\n",
    "from src import setup\n",
    "# setup.use_gpu()"
   ]
  },
  {
   "cell_type": "code",
   "execution_count": 2,
   "id": "bc32b8d9-6912-40ff-9c8a-579e55c6a20a",
   "metadata": {},
   "outputs": [],
   "source": [
    "from src import ( \n",
    "    measurements as measure,\n",
    "    density_matrix as DM,\n",
    "    simulation as sim,\n",
    "    orders,\n",
    "    order_rules,\n",
    "    random_unitary,\n",
    "    simulation)\n",
    "\n",
    "from Scripts import simulation_CLI as cleo"
   ]
  },
  {
   "cell_type": "code",
   "execution_count": 3,
   "id": "824b94cb",
   "metadata": {},
   "outputs": [],
   "source": [
    "import matplotlib.pyplot as plt \n",
    "import matplotlib.colors as mcolors \n",
    "\n",
    "import matplotlib.animation as animation\n",
    "# Add directory above current directory to path\n",
    "import sys as SYS; SYS.path.insert(0, '../..')\n",
    "import h5py\n",
    "import networkx as nx\n",
    "import matplotlib.pyplot as plt\n",
    "import numpy as np\n",
    "from src import ket as ket\n",
    "from src import density_matrix as DM"
   ]
  },
  {
   "cell_type": "code",
   "execution_count": 4,
   "id": "4415d616",
   "metadata": {},
   "outputs": [],
   "source": [
    "#pick={therm,inhomov1,inhomov2,pure} pick one of these to properly store images with the correct labels\n",
    "dataset_label = \"pure\""
   ]
  },
  {
   "cell_type": "code",
   "execution_count": 5,
   "id": "209105d5-c3c9-425d-a5ae-cddfdcf20104",
   "metadata": {},
   "outputs": [],
   "source": [
    "import sys as SYS; SYS.path.insert(0, '../..')\n",
    "from Scripts import hdf5merge\n",
    "hdf5merge.merge_hdf5_files(\"../data/greedy\")"
   ]
  },
  {
   "cell_type": "code",
   "execution_count": null,
   "id": "c8b992f9-1480-48ef-b969-e0338af62814",
   "metadata": {},
   "outputs": [],
   "source": [
    "import sys as SYS; SYS.path.insert(0, '../..')\n",
    "from Scripts import hdf5merge\n",
    "hdf5merge.merge_hdf5_files(\"../data/random\")"
   ]
  },
  {
   "cell_type": "code",
   "execution_count": 7,
   "id": "4dd586dd-1cee-42fb-a09e-63011f1f12f0",
   "metadata": {},
   "outputs": [],
   "source": [
    "import sys as SYS; SYS.path.insert(0, '../..')\n",
    "from Scripts import hdf5merge\n",
    "hdf5merge.merge_hdf5_files(\"../data/landscape_maximizes\")"
   ]
  },
  {
   "cell_type": "code",
   "execution_count": 8,
   "id": "810bb7e5-72b6-41b6-be46-47fd2c2a8703",
   "metadata": {},
   "outputs": [],
   "source": [
    "import sys as SYS; SYS.path.insert(0, '../..')\n",
    "from Scripts import hdf5merge\n",
    "hdf5merge.merge_hdf5_files(\"../data/mimic\")"
   ]
  },
  {
   "cell_type": "code",
   "execution_count": null,
   "id": "90afc867",
   "metadata": {},
   "outputs": [],
   "source": [
    "newdata1 = dict(h5py.File(\"../data/random/random.hdf5\"))\n",
    "#newdata2 = dict(h5py.File(\"../data/greedy/greedy.hdf5\"))\n",
    "#newdata3 = dict(h5py.File(\"../data/mimic/mimic.hdf5\"))\n",
    "#newdata4 = dict(h5py.File(\"../data/landscape_maximizes/landscape_maximizes.hdf5\"))"
   ]
  },
  {
   "cell_type": "code",
   "execution_count": 9,
   "id": "c60c6770-fae3-4ab6-9553-6ff822a66d1a",
   "metadata": {},
   "outputs": [],
   "source": [
    "def get_pops(data, n_qubits, connectivity,update_rule):\n",
    "    #dimension 0 is each trial\n",
    "    #dimension 1 is each time step\n",
    "    #dimension 2 is each qubit\n",
    "    result = []\n",
    "    for trial in data[f'{n_qubits} qubits'][f'{connectivity} connectivity']['unitary energy subspace 1']:\n",
    "        seed = trial.split(' ')[-1]\n",
    "        dat = dict(data[f'{n_qubits} qubits'][f'{connectivity} connectivity']['unitary energy subspace 1'][f'unitary seed {seed}'][f'ordering seed {update_rule}']['pops'])\n",
    "        dat = {int(k.split('(')[0]): dat[k] for k in dat}\n",
    "        dat = np.array([np.array([dat[k][subkey][()] for subkey in sorted(dat[k])]) for k in sorted(dat)])\n",
    "        result.append(dat)\n",
    "    return(np.array(result))\n",
    "\n",
    "def get_2_qbit_dms(data, n_qubits, connectivity,update_rule):\n",
    "    basis = ket.canonical_basis(2)\n",
    "    #dimension 0 is each trial\n",
    "    #dimension 1 is each time step (recall that sampling step is 5 by default)\n",
    "    #dimension 2 is qubit pair\n",
    "    #dimension 3 and 4 is the 2 qubit density matrix\n",
    "    result = []\n",
    "    \n",
    "    def to_tuple(string):\n",
    "        tuple_elements = string.strip('()').split(',')\n",
    "        return tuple(int(elem.strip()) for elem in tuple_elements)\n",
    "\n",
    "    for trial in data[f'{n_qubits} qubits'][f'{connectivity} connectivity']['unitary energy subspace 1']:\n",
    "        seed = trial.split(' ')[-1]\n",
    "        dat = dict(data[f'{n_qubits} qubits'][f'{connectivity} connectivity']['unitary energy subspace 1'][f'unitary seed {seed}'][f'ordering seed {update_rule}']['two_qubit_dms'])\n",
    "        dat = {int(k.split('(')[0]): dat[k] for k in dat}\n",
    "        \n",
    "        dat = np.array([{to_tuple(subkey):DM.DensityMatrix(dat[k][subkey],basis) for subkey in sorted(dat[k])} for k in sorted(dat)])\n",
    "        result.append(dat)\n",
    "    return(np.array(result))"
   ]
  },
  {
   "cell_type": "code",
   "execution_count": null,
   "id": "453d04a2",
   "metadata": {},
   "outputs": [],
   "source": [
    "#Finds the pops data for each rule, all the trials\n",
    "num=8 #insert num of qubits"
   ]
  },
  {
   "cell_type": "code",
   "execution_count": null,
   "id": "88870eda",
   "metadata": {},
   "outputs": [],
   "source": [
    "pops_random_c2 = get_pops(newdata1, num, \"c2_2local\", \"random\")\n",
    "pops_random_c4 = get_pops(newdata1, num, \"c4_2local\", \"random\")\n",
    "pops_random_c5 = get_pops(newdata1, num, \"c5_2local\", \"random\")\n",
    "pops_random_c6 = get_pops(newdata1, num, \"c6_2local\", \"random\")\n",
    "pops_random_cn = get_pops(newdata1, num, \"cN_2local\", \"random\")"
   ]
  },
  {
   "cell_type": "code",
   "execution_count": null,
   "id": "e23826b8",
   "metadata": {},
   "outputs": [],
   "source": [
    "pops_greedy_c2 = get_pops(newdata2, num, \"c2_2local\", \"greedy\")\n",
    "pops_greedy_c4 = get_pops(newdata2, num, \"c4_2local\", \"greedy\")\n",
    "pops_greedy_c5 = get_pops(newdata2, num, \"c5_2local\", \"greedy\")\n",
    "pops_greedy_c6 = get_pops(newdata2, num, \"c6_2local\", \"greedy\")\n",
    "pops_greedy_cn = get_pops(newdata2, num, \"cN_2local\", \"greedy\")"
   ]
  },
  {
   "cell_type": "code",
   "execution_count": null,
   "id": "ea669950",
   "metadata": {},
   "outputs": [],
   "source": [
    "pops_mimic_c2 = get_pops(newdata3, num, \"c2_2local\", \"mimic\")\n",
    "pops_mimic_c4 = get_pops(newdata3, num, \"c4_2local\", \"mimic\")\n",
    "pops_mimic_c5 = get_pops(newdata3, num, \"c5_2local\", \"mimic\")\n",
    "pops_mimic_c6 = get_pops(newdata3, num, \"c6_2local\", \"mimic\")\n",
    "pops_mimic_cn = get_pops(newdata3, num, \"cN_2local\", \"mimic\")"
   ]
  },
  {
   "cell_type": "code",
   "execution_count": null,
   "id": "43e2c929",
   "metadata": {},
   "outputs": [],
   "source": [
    "pops_landscape_maximizes_c2 = get_pops(newdata4, num, \"c2_2local\", \"landscape_maximizes\")\n",
    "pops_landscape_maximizes_c4 = get_pops(newdata4, num, \"c4_2local\", \"landscape_maximizes\")\n",
    "pops_landscape_maximizes_c5 = get_pops(newdata4, num, \"c5_2local\", \"landscape_maximizes\")\n",
    "pops_landscape_maximizes_c6 = get_pops(newdata4, num, \"c6_2local\", \"landscape_maximizes\")\n",
    "pops_landscape_maximizes_cn = get_pops(newdata4, num, \"cN_2local\", \"landscape_maximizes\")"
   ]
  },
  {
   "cell_type": "code",
   "execution_count": null,
   "id": "fc68f10f",
   "metadata": {},
   "outputs": [],
   "source": [
    "#Ensemble average across 100 data sets"
   ]
  },
  {
   "cell_type": "code",
   "execution_count": null,
   "id": "748d35f1",
   "metadata": {},
   "outputs": [],
   "source": [
    "def ensemble_averaged_one_point_measures_mean_std(datasets):\n",
    "    # Assuming datasets is a list of 100 datasets, where each dataset is a 2D array of shape (100, N)\n",
    "    # Stack datasets into a 3D array\n",
    "    stacked_data = np.stack(datasets)  # Shape (100, 100, N)\n",
    "\n",
    "    # Take the ensemble average along the first axis (averaging over all datasets)\n",
    "    ensemble_average = np.mean(stacked_data, axis=0)  # Shape (100, N)\n",
    "\n",
    "    # Calculate the standard deviation along the first axis\n",
    "    ensemble_std = np.std(stacked_data, axis=0) \n",
    "    return (ensemble_average, ensemble_std)"
   ]
  },
  {
   "cell_type": "code",
   "execution_count": null,
   "id": "f4df8445",
   "metadata": {},
   "outputs": [],
   "source": [
    "pops_random_c2_ens_avg = ensemble_averaged_one_point_measures_mean_std(pops_random_c2)[0]\n",
    "pops_random_c4_ens_avg = ensemble_averaged_one_point_measures_mean_std(pops_random_c4)[0]\n",
    "pops_random_c5_ens_avg = ensemble_averaged_one_point_measures_mean_std(pops_random_c5)[0]\n",
    "pops_random_c6_ens_avg = ensemble_averaged_one_point_measures_mean_std(pops_random_c6)[0]\n",
    "pops_random_cn_ens_avg = ensemble_averaged_one_point_measures_mean_std(pops_random_cn)[0]"
   ]
  },
  {
   "cell_type": "code",
   "execution_count": null,
   "id": "c4055caf",
   "metadata": {},
   "outputs": [],
   "source": [
    "pops_greedy_c2_ens_avg = ensemble_averaged_one_point_measures_mean_std(pops_greedy_c2)[0]\n",
    "pops_greedy_c4_ens_avg = ensemble_averaged_one_point_measures_mean_std(pops_greedy_c4)[0]\n",
    "pops_greedy_c5_ens_avg = ensemble_averaged_one_point_measures_mean_std(pops_greedy_c5)[0]\n",
    "pops_greedy_c6_ens_avg = ensemble_averaged_one_point_measures_mean_std(pops_greedy_c6)[0]\n",
    "pops_greedy_cn_ens_avg = ensemble_averaged_one_point_measures_mean_std(pops_greedy_cn)[0]"
   ]
  },
  {
   "cell_type": "code",
   "execution_count": null,
   "id": "6afc9be8",
   "metadata": {},
   "outputs": [],
   "source": [
    "pops_mimic_c2_ens_avg = ensemble_averaged_one_point_measures_mean_std(pops_mimic_c2)[0]\n",
    "pops_mimic_c4_ens_avg = ensemble_averaged_one_point_measures_mean_std(pops_mimic_c4)[0]\n",
    "pops_mimic_c5_ens_avg = ensemble_averaged_one_point_measures_mean_std(pops_mimic_c5)[0]\n",
    "pops_mimic_c6_ens_avg = ensemble_averaged_one_point_measures_mean_std(pops_mimic_c6)[0]\n",
    "pops_mimic_cn_ens_avg = ensemble_averaged_one_point_measures_mean_std(pops_mimic_cn)[0]"
   ]
  },
  {
   "cell_type": "code",
   "execution_count": null,
   "id": "08761c79",
   "metadata": {},
   "outputs": [],
   "source": [
    "pops_landscape_maximizes_c2_ens_avg = ensemble_averaged_one_point_measures_mean_std(pops_landscape_maximizes_c2)[0]\n",
    "pops_landscape_maximizes_c4_ens_avg = ensemble_averaged_one_point_measures_mean_std(pops_landscape_maximizes_c4)[0]\n",
    "pops_landscape_maximizes_c5_ens_avg = ensemble_averaged_one_point_measures_mean_std(pops_landscape_maximizes_c5)[0]\n",
    "pops_landscape_maximizes_c6_ens_avg = ensemble_averaged_one_point_measures_mean_std(pops_landscape_maximizes_c6)[0]\n",
    "pops_landscape_maximizes_cn_ens_avg = ensemble_averaged_one_point_measures_mean_std(pops_landscape_maximizes_cn)[0]"
   ]
  },
  {
   "cell_type": "code",
   "execution_count": null,
   "id": "e4d994bf",
   "metadata": {},
   "outputs": [],
   "source": [
    "def extractable_work_of_one_trial(pops,trial_index):\n",
    "    return ext_work= np.array([[measure.extractable_work_of_each_qubit_from_pops(p) for p in time_slice ]for time_slice in pops[trial]])"
   ]
  },
  {
   "cell_type": "code",
   "execution_count": null,
   "id": "eb1f3ed0",
   "metadata": {},
   "outputs": [],
   "source": [
    "def extractable_work_of_all_trials(pops):\n",
    "    ext_work_all = []\n",
    "    for trial in range(100):\n",
    "        ext_work_all.append(extractable_work_of_one_trial(pops,trial_index))\n",
    "    return ext_work_all"
   ]
  },
  {
   "cell_type": "code",
   "execution_count": null,
   "id": "7876a406",
   "metadata": {},
   "outputs": [],
   "source": [
    "#Ext work for all trials of a particular rule and connectivity"
   ]
  },
  {
   "cell_type": "code",
   "execution_count": null,
   "id": "7ae9573b",
   "metadata": {},
   "outputs": [],
   "source": [
    "ext_work_all_random_c2 = extractable_work_of_all_trials(pops_random_c2)\n",
    "ext_work_all_random_c4 = extractable_work_of_all_trials(pops_random_c4)\n",
    "ext_work_all_random_c5 = extractable_work_of_all_trials(pops_random_c5)\n",
    "ext_work_all_random_c6 = extractable_work_of_all_trials(pops_random_c6)\n",
    "ext_work_all_random_cn = extractable_work_of_all_trials(pops_random_cn)"
   ]
  },
  {
   "cell_type": "code",
   "execution_count": null,
   "id": "1d2952a1",
   "metadata": {},
   "outputs": [],
   "source": [
    "ext_work_all_greedy_c2 = extractable_work_of_all_trials(pops_greedy_c2)\n",
    "ext_work_all_greedy_c4 = extractable_work_of_all_trials(pops_greedy_c4)\n",
    "ext_work_all_greedy_c5 = extractable_work_of_all_trials(pops_greedy_c5)\n",
    "ext_work_all_greedy_c6 = extractable_work_of_all_trials(pops_greedy_c6)\n",
    "ext_work_all_greedy_cn = extractable_work_of_all_trials(pops_greedy_cn)"
   ]
  },
  {
   "cell_type": "code",
   "execution_count": null,
   "id": "abf8fa73",
   "metadata": {},
   "outputs": [],
   "source": [
    "ext_work_all_mimic_c2 = extractable_work_of_all_trials(pops_mimic_c2)\n",
    "ext_work_all_mimic_c4 = extractable_work_of_all_trials(pops_mimic_c4)\n",
    "ext_work_all_mimic_c5 = extractable_work_of_all_trials(pops_mimic_c5)\n",
    "ext_work_all_mimic_c6 = extractable_work_of_all_trials(pops_mimic_c6)\n",
    "ext_work_all_mimic_cn = extractable_work_of_all_trials(pops_mimic_cn)"
   ]
  },
  {
   "cell_type": "code",
   "execution_count": null,
   "id": "f9e0b33a",
   "metadata": {},
   "outputs": [],
   "source": [
    "ext_work_all_landscape_maximizes_c2 = extractable_work_of_all_trials(pops_landscape_maximizes_c2)\n",
    "ext_work_all_landscape_maximizes_c4 = extractable_work_of_all_trials(pops_landscape_maximizes_c4)\n",
    "ext_work_all_landscape_maximizes_c5 = extractable_work_of_all_trials(pops_landscape_maximizes_c5)\n",
    "ext_work_all_landscape_maximizes_c6 = extractable_work_of_all_trials(pops_landscape_maximizes_c6)\n",
    "ext_work_all_landscape_maximizes_cn = extractable_work_of_all_trials(pops_landscape_maximizes_cn)"
   ]
  },
  {
   "cell_type": "code",
   "execution_count": null,
   "id": "3c82145a",
   "metadata": {},
   "outputs": [],
   "source": [
    "#Extractable work of the ensembled average trial per connectivity per rule W(<p>) where p is the landscape"
   ]
  },
  {
   "cell_type": "code",
   "execution_count": null,
   "id": "481eb2c1",
   "metadata": {},
   "outputs": [],
   "source": [
    "ext_work_of_ens_avg_random_c2 = extractable_work_of_one_trial(pops_random_c2_ens_avg,0)\n",
    "ext_work_of_ens_avg_random_c4 = extractable_work_of_one_trial(pops_random_c4_ens_avg,0)\n",
    "ext_work_of_ens_avg_random_c5 = extractable_work_of_one_trial(pops_random_c5_ens_avg,0)\n",
    "ext_work_of_ens_avg_random_c6 = extractable_work_of_one_trial(pops_random_c6_ens_avg,0)\n",
    "ext_work_of_ens_avg_random_cn = extractable_work_of_one_trial(pops_random_cn_ens_avg,0)"
   ]
  },
  {
   "cell_type": "code",
   "execution_count": null,
   "id": "2c40ba4a",
   "metadata": {},
   "outputs": [],
   "source": [
    "ext_work_of_ens_avg_greedy_c2 = extractable_work_of_one_trial(pops_random_c2_ens_avg,0)\n",
    "ext_work_of_ens_avg_greedy_c2 = extractable_work_of_one_trial(pops_random_c4_ens_avg,0)\n",
    "ext_work_of_ens_avg_greedy_c2 = extractable_work_of_one_trial(pops_random_c5_ens_avg,0)\n",
    "ext_work_of_ens_avg_greedy_c2 = extractable_work_of_one_trial(pops_random_c6_ens_avg,0)\n",
    "ext_work_of_ens_avg_greedy_c2 = extractable_work_of_one_trial(pops_random_cn_ens_avg,0)"
   ]
  },
  {
   "cell_type": "code",
   "execution_count": null,
   "id": "de781f8d",
   "metadata": {},
   "outputs": [],
   "source": [
    "ext_work_of_ens_avg_mimic_c2 = extractable_work_of_one_trial(pops_mimic_c2_ens_avg,0)\n",
    "ext_work_of_ens_avg_mimic_c4 = extractable_work_of_one_trial(pops_mimic_c4_ens_avg,0)\n",
    "ext_work_of_ens_avg_mimic_c5 = extractable_work_of_one_trial(pops_mimic_c5_ens_avg,0)\n",
    "ext_work_of_ens_avg_mimic_c6 = extractable_work_of_one_trial(pops_mimic_c6_ens_avg,0)\n",
    "ext_work_of_ens_avg_mimic_cn = extractable_work_of_one_trial(pops_mimic_cn_ens_avg,0)"
   ]
  },
  {
   "cell_type": "code",
   "execution_count": null,
   "id": "d3e2e7bd",
   "metadata": {},
   "outputs": [],
   "source": [
    "ext_work_of_ens_avg_landscape_maximizes_c2 = extractable_work_of_one_trial(pops_landscape_maximizes_c2_ens_avg,0)\n",
    "ext_work_of_ens_avg_landscape_maximizes_c4 = extractable_work_of_one_trial(pops_landscape_maximizes_c4_ens_avg,0)\n",
    "ext_work_of_ens_avg_landscape_maximizes_c5 = extractable_work_of_one_trial(pops_landscape_maximizes_c5_ens_avg,0)\n",
    "ext_work_of_ens_avg_landscape_maximizes_c6 = extractable_work_of_one_trial(pops_landscape_maximizes_c6_ens_avg,0)\n",
    "ext_work_of_ens_avg_landscape_maximizes_cn = extractable_work_of_one_trial(pops_landscape_maximizes_cn_ens_avg,0)"
   ]
  },
  {
   "cell_type": "code",
   "execution_count": null,
   "id": "d7674b6a",
   "metadata": {},
   "outputs": [],
   "source": [
    "#Ensemble average of extractable work computed for each trial per connectivity per rule <W(p)> where p is the landscape"
   ]
  },
  {
   "cell_type": "code",
   "execution_count": null,
   "id": "f4434fa2",
   "metadata": {},
   "outputs": [],
   "source": [
    "ens_avg_ext_work_random_c2 = ensemble_averaged_one_point_measures_mean_std(ext_work_all_random_c2)[0]\n",
    "ens_avg_ext_work_random_c4 = ensemble_averaged_one_point_measures_mean_std(ext_work_all_random_c4)[0]\n",
    "ens_avg_ext_work_random_c5 = ensemble_averaged_one_point_measures_mean_std(ext_work_all_random_c5)[0]\n",
    "ens_avg_ext_work_random_c6 = ensemble_averaged_one_point_measures_mean_std(ext_work_all_random_c6)[0]\n",
    "ens_avg_ext_work_random_cn = ensemble_averaged_one_point_measures_mean_std(ext_work_all_random_cn)[0]"
   ]
  },
  {
   "cell_type": "code",
   "execution_count": null,
   "id": "c098233f",
   "metadata": {},
   "outputs": [],
   "source": [
    "ens_avg_ext_work_greedy_c2 = ensemble_averaged_one_point_measures_mean_std(ext_work_all_greedy_c2)[0]\n",
    "ens_avg_ext_work_greedy_c4 = ensemble_averaged_one_point_measures_mean_std(ext_work_all_greedy_c4)[0]\n",
    "ens_avg_ext_work_greedy_c5 = ensemble_averaged_one_point_measures_mean_std(ext_work_all_greedy_c5)[0]\n",
    "ens_avg_ext_work_greedy_c6 = ensemble_averaged_one_point_measures_mean_std(ext_work_all_greedy_c6)[0]\n",
    "ens_avg_ext_work_greedy_cn = ensemble_averaged_one_point_measures_mean_std(ext_work_all_greedy_cn)[0]"
   ]
  },
  {
   "cell_type": "code",
   "execution_count": null,
   "id": "2c0b5ce6",
   "metadata": {},
   "outputs": [],
   "source": [
    "ens_avg_ext_work_mimic_c2 = ensemble_averaged_one_point_measures_mean_std(ext_work_all_mimic_c2)[0]\n",
    "ens_avg_ext_work_mimic_c4 = ensemble_averaged_one_point_measures_mean_std(ext_work_all_mimic_c4)[0]\n",
    "ens_avg_ext_work_mimic_c5 = ensemble_averaged_one_point_measures_mean_std(ext_work_all_mimic_c5)[0]\n",
    "ens_avg_ext_work_mimic_c6 = ensemble_averaged_one_point_measures_mean_std(ext_work_all_mimic_c6)[0]\n",
    "ens_avg_ext_work_mimic_cn = ensemble_averaged_one_point_measures_mean_std(ext_work_all_mimic_cn)[0]"
   ]
  },
  {
   "cell_type": "code",
   "execution_count": null,
   "id": "ecec1f34",
   "metadata": {},
   "outputs": [],
   "source": [
    "ens_avg_ext_work_landscape_maximizes_c2 = ensemble_averaged_one_point_measures_mean_std(ext_work_all_landscape_maximizes_c2)[0]\n",
    "ens_avg_ext_work_landscape_maximizes_c4 = ensemble_averaged_one_point_measures_mean_std(ext_work_all_landscape_maximizes_c4)[0]\n",
    "ens_avg_ext_work_landscape_maximizes_c5 = ensemble_averaged_one_point_measures_mean_std(ext_work_all_landscape_maximizes_c5)[0]\n",
    "ens_avg_ext_work_landscape_maximizes_c6 = ensemble_averaged_one_point_measures_mean_std(ext_work_all_landscape_maximizes_c6)[0]\n",
    "ens_avg_ext_work_landscape_maximizes_cn = ensemble_averaged_one_point_measures_mean_std(ext_work_all_landscape_maximizes_cn)[0]"
   ]
  },
  {
   "cell_type": "code",
   "execution_count": null,
   "id": "911aca7b",
   "metadata": {},
   "outputs": [],
   "source": [
    "#Plot ext work per qubit as a function of time "
   ]
  },
  {
   "cell_type": "code",
   "execution_count": null,
   "id": "0af99f14",
   "metadata": {},
   "outputs": [],
   "source": [
    "#Ensembled average ext work <W(p)>"
   ]
  },
  {
   "cell_type": "code",
   "execution_count": null,
   "id": "ff4eacc5",
   "metadata": {},
   "outputs": [],
   "source": [
    "#random\n",
    "# Define a list of colors (you can choose any color names or hex codes)\n",
    "#for 8Q\n",
    "#colors = ['#5B8FD8', '#FF6F61', '#6DBE45', '#D79F9D', '#7E7B9A','#F0E68C', '#008080', '#C2A2D2']\n",
    "#for 10 Q\n",
    "colors = ['#5B8FD8', '#FF6F61', '#6DBE45', '#D79F9D', '#7E7B9A','#F0E68C', '#008080', '#C2A2D2', '#D04E00', '#A8E6CF']\n",
    "#for 12 Q\n",
    "#colors = ['#5B8FD8', '#FF6F61', '#6DBE45', '#D79F9D', '#7E7B9A','#F0E68C', '#008080', '#C2A2D2', '#D04E00', '#A8E6CF','#FFDAB9', '#B2B09C']\n",
    "#for 14Q\n",
    "#colors = ['#5B8FD8', '#FF6F61', '#6DBE45', '#D79F9D', '#7E7B9A','#F0E68C', '#008080', '#C2A2D2', '#D04E00', '#A8E6CF','#FFDAB9', '#B2B09C', '#C4BEB5', '#8E7BBA']\n",
    "dataset_names = ['c2', 'c4', 'c5', 'c6', 'cn']  # Names corresponding to each dataset\n",
    "datas=[ens_avg_ext_work_random_c2,ens_avg_ext_work_random_c4,ens_avg_ext_work_random_c5,ens_avg_ext_work_random_c6,ens_avg_ext_work_random_cn]\n",
    "\n",
    "\n",
    "for data,conn in zip(datas, dataset_names):\n",
    "    num_time_steps = len(data)-2  # The number of rows in the data corresponds to the number of time steps\n",
    "    t = np.arange(num_time_steps)  # Create a list of time steps [0, 1, 2, ..., num_time_steps-1]\n",
    "    \n",
    "    data=np.array(data[1:499])\n",
    "    data_transposed = data.T  # Now rows are [x1_all_times, x2_all_times, ..., xN_all_times]\n",
    "    \n",
    "    plt.figure(figsize=(12, 8))\n",
    "    #change this when analyzing pure dataset\n",
    "    #plt.axhline(y=ytherm10, color='r', linestyle='--', label=f'y = {ytherm10}')\n",
    "\n",
    "    # Plot each number as a function of t with specified colors\n",
    "    for i, y_values in enumerate(data_transposed):\n",
    "        color = colors[i % len(colors)]  # Cycle through the color list\n",
    "        plt.plot(t, y_values, label=f'$Q_{i+1}$', color=color)\n",
    "    \n",
    "    # Add labels and legend\n",
    "    plt.xlabel('Time (t)',fontsize=14)\n",
    "    plt.ylabel('Value',fontsize=14)\n",
    "    plt.title('$<\\Delta W(\\mathcal{Q}_i) >$ as a function of time',fontsize=16)\n",
    "    plt.legend(fontsize=12)\n",
    "    \n",
    "    # Show the plot\n",
    "    plt.savefig(f'Ensemble averaged extractable work of network {num}q_conn_{conn}_rule_R1_{dataset_label}.pdf', format='pdf', bbox_inches='tight')\n",
    "\n",
    "    plt.show()"
   ]
  },
  {
   "cell_type": "code",
   "execution_count": null,
   "id": "d3f310df",
   "metadata": {},
   "outputs": [],
   "source": [
    "#greedy\n",
    "# Define a list of colors (you can choose any color names or hex codes)\n",
    "#for 8Q\n",
    "#colors = ['#5B8FD8', '#FF6F61', '#6DBE45', '#D79F9D', '#7E7B9A','#F0E68C', '#008080', '#C2A2D2']\n",
    "#for 10 Q\n",
    "colors = ['#5B8FD8', '#FF6F61', '#6DBE45', '#D79F9D', '#7E7B9A','#F0E68C', '#008080', '#C2A2D2', '#D04E00', '#A8E6CF']\n",
    "#for 12 Q\n",
    "#colors = ['#5B8FD8', '#FF6F61', '#6DBE45', '#D79F9D', '#7E7B9A','#F0E68C', '#008080', '#C2A2D2', '#D04E00', '#A8E6CF','#FFDAB9', '#B2B09C']\n",
    "#for 14Q\n",
    "#colors = ['#5B8FD8', '#FF6F61', '#6DBE45', '#D79F9D', '#7E7B9A','#F0E68C', '#008080', '#C2A2D2', '#D04E00', '#A8E6CF','#FFDAB9', '#B2B09C', '#C4BEB5', '#8E7BBA']\n",
    "dataset_names = ['c2', 'c4', 'c5', 'c6', 'cn']  # Names corresponding to each dataset\n",
    "datas=[ens_avg_ext_work_greedy_c2,ens_avg_ext_work_greedy_c4,ens_avg_ext_work_greedy_c5,ens_avg_ext_work_greedy_c6,ens_avg_ext_work_greedy_cn]\n",
    "\n",
    "\n",
    "for data,conn in zip(datas, dataset_names):\n",
    "    num_time_steps = len(data)-2  # The number of rows in the data corresponds to the number of time steps\n",
    "    t = np.arange(num_time_steps)  # Create a list of time steps [0, 1, 2, ..., num_time_steps-1]\n",
    "    \n",
    "    data=np.array(data[1:499])\n",
    "    data_transposed = data.T  # Now rows are [x1_all_times, x2_all_times, ..., xN_all_times]\n",
    "    \n",
    "    plt.figure(figsize=(12, 8))\n",
    "    #change this when analyzing pure dataset\n",
    "    #plt.axhline(y=ytherm10, color='r', linestyle='--', label=f'y = {ytherm10}')\n",
    "\n",
    "    # Plot each number as a function of t with specified colors\n",
    "    for i, y_values in enumerate(data_transposed):\n",
    "        color = colors[i % len(colors)]  # Cycle through the color list\n",
    "        plt.plot(t, y_values, label=f'$Q_{i+1}$', color=color)\n",
    "    \n",
    "    # Add labels and legend\n",
    "    plt.xlabel('Time (t)',fontsize=14)\n",
    "    plt.ylabel('Value',fontsize=14)\n",
    "    plt.title('$<\\Delta W(\\mathcal{Q}_i) >$ as a function of time',fontsize=16)\n",
    "    plt.legend(fontsize=12)\n",
    "    \n",
    "    # Show the plot\n",
    "    plt.savefig(f'Ensemble averaged extractable work of network {num}q_conn_{conn}_rule_R2_{dataset_label}.pdf', format='pdf', bbox_inches='tight')\n",
    "\n",
    "    plt.show()"
   ]
  },
  {
   "cell_type": "code",
   "execution_count": null,
   "id": "83601019",
   "metadata": {},
   "outputs": [],
   "source": [
    "#mimic\n",
    "# Define a list of colors (you can choose any color names or hex codes)\n",
    "#for 8Q\n",
    "#colors = ['#5B8FD8', '#FF6F61', '#6DBE45', '#D79F9D', '#7E7B9A','#F0E68C', '#008080', '#C2A2D2']\n",
    "#for 10 Q\n",
    "colors = ['#5B8FD8', '#FF6F61', '#6DBE45', '#D79F9D', '#7E7B9A','#F0E68C', '#008080', '#C2A2D2', '#D04E00', '#A8E6CF']\n",
    "#for 12 Q\n",
    "#colors = ['#5B8FD8', '#FF6F61', '#6DBE45', '#D79F9D', '#7E7B9A','#F0E68C', '#008080', '#C2A2D2', '#D04E00', '#A8E6CF','#FFDAB9', '#B2B09C']\n",
    "#for 14Q\n",
    "#colors = ['#5B8FD8', '#FF6F61', '#6DBE45', '#D79F9D', '#7E7B9A','#F0E68C', '#008080', '#C2A2D2', '#D04E00', '#A8E6CF','#FFDAB9', '#B2B09C', '#C4BEB5', '#8E7BBA']\n",
    "dataset_names = ['c2', 'c4', 'c5', 'c6', 'cn']  # Names corresponding to each dataset\n",
    "datas=[ens_avg_ext_work_mimic_c2,ens_avg_ext_work_mimic_c4,ens_avg_ext_work_mimic_c5,ens_avg_ext_work_mimic_c6,ens_avg_ext_work_mimic_cn]\n",
    "\n",
    "\n",
    "for data,conn in zip(datas, dataset_names):\n",
    "    num_time_steps = len(data)-2  # The number of rows in the data corresponds to the number of time steps\n",
    "    t = np.arange(num_time_steps)  # Create a list of time steps [0, 1, 2, ..., num_time_steps-1]\n",
    "    \n",
    "    data=np.array(data[1:499])\n",
    "    data_transposed = data.T  # Now rows are [x1_all_times, x2_all_times, ..., xN_all_times]\n",
    "    \n",
    "    plt.figure(figsize=(12, 8))\n",
    "    #change this when analyzing pure dataset\n",
    "    #plt.axhline(y=ytherm10, color='r', linestyle='--', label=f'y = {ytherm10}')\n",
    "\n",
    "    # Plot each number as a function of t with specified colors\n",
    "    for i, y_values in enumerate(data_transposed):\n",
    "        color = colors[i % len(colors)]  # Cycle through the color list\n",
    "        plt.plot(t, y_values, label=f'$Q_{i+1}$', color=color)\n",
    "    \n",
    "    # Add labels and legend\n",
    "    plt.xlabel('Time (t)',fontsize=14)\n",
    "    plt.ylabel('Value',fontsize=14)\n",
    "    plt.title('$<\\Delta W(\\mathcal{Q}_i) >$ as a function of time',fontsize=16)\n",
    "    plt.legend(fontsize=12)\n",
    "    \n",
    "    # Show the plot\n",
    "    plt.savefig(f'Ensemble averaged extractable work of network {num}q_conn_{conn}_rule_R3_{dataset_label}.pdf', format='pdf', bbox_inches='tight')\n",
    "\n",
    "    plt.show()"
   ]
  },
  {
   "cell_type": "code",
   "execution_count": null,
   "id": "d2c8cfb9",
   "metadata": {},
   "outputs": [],
   "source": [
    "#landmax\n",
    "# Define a list of colors (you can choose any color names or hex codes)\n",
    "#for 8Q\n",
    "#colors = ['#5B8FD8', '#FF6F61', '#6DBE45', '#D79F9D', '#7E7B9A','#F0E68C', '#008080', '#C2A2D2']\n",
    "#for 10 Q\n",
    "colors = ['#5B8FD8', '#FF6F61', '#6DBE45', '#D79F9D', '#7E7B9A','#F0E68C', '#008080', '#C2A2D2', '#D04E00', '#A8E6CF']\n",
    "#for 12 Q\n",
    "#colors = ['#5B8FD8', '#FF6F61', '#6DBE45', '#D79F9D', '#7E7B9A','#F0E68C', '#008080', '#C2A2D2', '#D04E00', '#A8E6CF','#FFDAB9', '#B2B09C']\n",
    "#for 14Q\n",
    "#colors = ['#5B8FD8', '#FF6F61', '#6DBE45', '#D79F9D', '#7E7B9A','#F0E68C', '#008080', '#C2A2D2', '#D04E00', '#A8E6CF','#FFDAB9', '#B2B09C', '#C4BEB5', '#8E7BBA']\n",
    "dataset_names = ['c2', 'c4', 'c5', 'c6', 'cn']  # Names corresponding to each dataset\n",
    "datas=[ens_avg_ext_work_landscape_maximizes_c2,ens_avg_ext_work_landscape_maximizes_c4,ens_avg_ext_work_landscape_maximizes_c5,ens_avg_ext_work_landscape_maximizes_c6,ens_avg_ext_work_landscape_maximizes_cn]\n",
    "\n",
    "\n",
    "for data,conn in zip(datas, dataset_names):\n",
    "    num_time_steps = len(data)-2  # The number of rows in the data corresponds to the number of time steps\n",
    "    t = np.arange(num_time_steps)  # Create a list of time steps [0, 1, 2, ..., num_time_steps-1]\n",
    "    \n",
    "    data=np.array(data[1:499])\n",
    "    data_transposed = data.T  # Now rows are [x1_all_times, x2_all_times, ..., xN_all_times]\n",
    "    \n",
    "    plt.figure(figsize=(12, 8))\n",
    "    #change this when analyzing pure dataset\n",
    "    #plt.axhline(y=ytherm10, color='r', linestyle='--', label=f'y = {ytherm10}')\n",
    "\n",
    "    # Plot each number as a function of t with specified colors\n",
    "    for i, y_values in enumerate(data_transposed):\n",
    "        color = colors[i % len(colors)]  # Cycle through the color list\n",
    "        plt.plot(t, y_values, label=f'$Q_{i+1}$', color=color)\n",
    "    \n",
    "    # Add labels and legend\n",
    "    plt.xlabel('Time (t)',fontsize=14)\n",
    "    plt.ylabel('Value',fontsize=14)\n",
    "    plt.title('$<\\Delta W(\\mathcal{Q}_i) >$ as a function of time',fontsize=16)\n",
    "    plt.legend(fontsize=12)\n",
    "    \n",
    "    # Show the plot\n",
    "    plt.savefig(f'Ensemble averaged extractable work of network {num}q_conn_{conn}_rule_R4_{dataset_label}.pdf', format='pdf', bbox_inches='tight')\n",
    "\n",
    "    plt.show()"
   ]
  },
  {
   "cell_type": "code",
   "execution_count": null,
   "id": "c6b6b9d8",
   "metadata": {},
   "outputs": [],
   "source": [
    "#Ext Work of ensemble average landscape pops"
   ]
  },
  {
   "cell_type": "code",
   "execution_count": null,
   "id": "e7c4a4d6",
   "metadata": {},
   "outputs": [],
   "source": [
    "#random\n",
    "# Define a list of colors (you can choose any color names or hex codes)\n",
    "#for 8Q\n",
    "#colors = ['#5B8FD8', '#FF6F61', '#6DBE45', '#D79F9D', '#7E7B9A','#F0E68C', '#008080', '#C2A2D2']\n",
    "#for 10 Q\n",
    "colors = ['#5B8FD8', '#FF6F61', '#6DBE45', '#D79F9D', '#7E7B9A','#F0E68C', '#008080', '#C2A2D2', '#D04E00', '#A8E6CF']\n",
    "#for 12 Q\n",
    "#colors = ['#5B8FD8', '#FF6F61', '#6DBE45', '#D79F9D', '#7E7B9A','#F0E68C', '#008080', '#C2A2D2', '#D04E00', '#A8E6CF','#FFDAB9', '#B2B09C']\n",
    "#for 14Q\n",
    "#colors = ['#5B8FD8', '#FF6F61', '#6DBE45', '#D79F9D', '#7E7B9A','#F0E68C', '#008080', '#C2A2D2', '#D04E00', '#A8E6CF','#FFDAB9', '#B2B09C', '#C4BEB5', '#8E7BBA']\n",
    "dataset_names = ['c2', 'c4', 'c5', 'c6', 'cn']  # Names corresponding to each dataset\n",
    "datas=[ext_work_of_ens_avg_random_c2,ext_work_of_ens_avg_random_c4,ext_work_of_ens_avg_random_c5,ext_work_of_ens_avg_random_c6,ext_work_of_ens_avg_random_cn]\n",
    "\n",
    "\n",
    "for data,conn in zip(datas, dataset_names):\n",
    "    num_time_steps = len(data)-2  # The number of rows in the data corresponds to the number of time steps\n",
    "    t = np.arange(num_time_steps)  # Create a list of time steps [0, 1, 2, ..., num_time_steps-1]\n",
    "    \n",
    "    data=np.array(data[1:499])\n",
    "    data_transposed = data.T  # Now rows are [x1_all_times, x2_all_times, ..., xN_all_times]\n",
    "    \n",
    "    plt.figure(figsize=(12, 8))\n",
    "    #change this when analyzing pure dataset\n",
    "    #plt.axhline(y=ytherm10, color='r', linestyle='--', label=f'y = {ytherm10}')\n",
    "\n",
    "    # Plot each number as a function of t with specified colors\n",
    "    for i, y_values in enumerate(data_transposed):\n",
    "        color = colors[i % len(colors)]  # Cycle through the color list\n",
    "        plt.plot(t, y_values, label=f'$Q_{i+1}$', color=color)\n",
    "    \n",
    "    # Add labels and legend\n",
    "    plt.xlabel('Time (t)',fontsize=14)\n",
    "    plt.ylabel('Value',fontsize=14)\n",
    "    plt.title('$\\Delta W(<\\mathcal{Q}_i >)$ as a function of time',fontsize=16)\n",
    "    plt.legend(fontsize=12)\n",
    "    \n",
    "    # Show the plot\n",
    "    plt.savefig(f'Extractable work of ensemble averaged network {num}q_conn_{conn}_rule_R1_{dataset_label}.pdf', format='pdf', bbox_inches='tight')\n",
    "\n",
    "    plt.show()"
   ]
  },
  {
   "cell_type": "code",
   "execution_count": null,
   "id": "ef6ff08b",
   "metadata": {},
   "outputs": [],
   "source": [
    "#greedy\n",
    "# Define a list of colors (you can choose any color names or hex codes)\n",
    "#for 8Q\n",
    "#colors = ['#5B8FD8', '#FF6F61', '#6DBE45', '#D79F9D', '#7E7B9A','#F0E68C', '#008080', '#C2A2D2']\n",
    "#for 10 Q\n",
    "colors = ['#5B8FD8', '#FF6F61', '#6DBE45', '#D79F9D', '#7E7B9A','#F0E68C', '#008080', '#C2A2D2', '#D04E00', '#A8E6CF']\n",
    "#for 12 Q\n",
    "#colors = ['#5B8FD8', '#FF6F61', '#6DBE45', '#D79F9D', '#7E7B9A','#F0E68C', '#008080', '#C2A2D2', '#D04E00', '#A8E6CF','#FFDAB9', '#B2B09C']\n",
    "#for 14Q\n",
    "#colors = ['#5B8FD8', '#FF6F61', '#6DBE45', '#D79F9D', '#7E7B9A','#F0E68C', '#008080', '#C2A2D2', '#D04E00', '#A8E6CF','#FFDAB9', '#B2B09C', '#C4BEB5', '#8E7BBA']\n",
    "dataset_names = ['c2', 'c4', 'c5', 'c6', 'cn']  # Names corresponding to each dataset\n",
    "datas=[ext_work_of_ens_avg_greedy_c2,ext_work_of_ens_avg_greedy_c4,ext_work_of_ens_avg_greedy_c5,ext_work_of_ens_avg_greedy_c6,ext_work_of_ens_avg_greedy_cn]\n",
    "\n",
    "\n",
    "for data,conn in zip(datas, dataset_names):\n",
    "    num_time_steps = len(data)-2  # The number of rows in the data corresponds to the number of time steps\n",
    "    t = np.arange(num_time_steps)  # Create a list of time steps [0, 1, 2, ..., num_time_steps-1]\n",
    "    \n",
    "    data=np.array(data[1:499])\n",
    "    data_transposed = data.T  # Now rows are [x1_all_times, x2_all_times, ..., xN_all_times]\n",
    "    \n",
    "    plt.figure(figsize=(12, 8))\n",
    "    #change this when analyzing pure dataset\n",
    "    #plt.axhline(y=ytherm10, color='r', linestyle='--', label=f'y = {ytherm10}')\n",
    "\n",
    "    # Plot each number as a function of t with specified colors\n",
    "    for i, y_values in enumerate(data_transposed):\n",
    "        color = colors[i % len(colors)]  # Cycle through the color list\n",
    "        plt.plot(t, y_values, label=f'$Q_{i+1}$', color=color)\n",
    "    \n",
    "    # Add labels and legend\n",
    "    plt.xlabel('Time (t)',fontsize=14)\n",
    "    plt.ylabel('Value',fontsize=14)\n",
    "    plt.title('$\\Delta W(<\\mathcal{Q}_i >)$ as a function of time',fontsize=16)\n",
    "    plt.legend(fontsize=12)\n",
    "    \n",
    "    # Show the plot\n",
    "    plt.savefig(f'Extractable work of ensemble averaged network {num}q_conn_{conn}_rule_R2_{dataset_label}.pdf', format='pdf', bbox_inches='tight')\n",
    "\n",
    "    plt.show()"
   ]
  },
  {
   "cell_type": "code",
   "execution_count": null,
   "id": "2978ec41",
   "metadata": {},
   "outputs": [],
   "source": [
    "#mimic\n",
    "# Define a list of colors (you can choose any color names or hex codes)\n",
    "#for 8Q\n",
    "#colors = ['#5B8FD8', '#FF6F61', '#6DBE45', '#D79F9D', '#7E7B9A','#F0E68C', '#008080', '#C2A2D2']\n",
    "#for 10 Q\n",
    "colors = ['#5B8FD8', '#FF6F61', '#6DBE45', '#D79F9D', '#7E7B9A','#F0E68C', '#008080', '#C2A2D2', '#D04E00', '#A8E6CF']\n",
    "#for 12 Q\n",
    "#colors = ['#5B8FD8', '#FF6F61', '#6DBE45', '#D79F9D', '#7E7B9A','#F0E68C', '#008080', '#C2A2D2', '#D04E00', '#A8E6CF','#FFDAB9', '#B2B09C']\n",
    "#for 14Q\n",
    "#colors = ['#5B8FD8', '#FF6F61', '#6DBE45', '#D79F9D', '#7E7B9A','#F0E68C', '#008080', '#C2A2D2', '#D04E00', '#A8E6CF','#FFDAB9', '#B2B09C', '#C4BEB5', '#8E7BBA']\n",
    "dataset_names = ['c2', 'c4', 'c5', 'c6', 'cn']  # Names corresponding to each dataset\n",
    "datas=[ext_work_of_ens_avg_mimic_c2,ext_work_of_ens_avg_mimic_c4,ext_work_of_ens_avg_mimic_c5,ext_work_of_ens_avg_mimic_c6,ext_work_of_ens_avg_mimic_cn]\n",
    "\n",
    "\n",
    "for data,conn in zip(datas, dataset_names):\n",
    "    num_time_steps = len(data)-2  # The number of rows in the data corresponds to the number of time steps\n",
    "    t = np.arange(num_time_steps)  # Create a list of time steps [0, 1, 2, ..., num_time_steps-1]\n",
    "    \n",
    "    data=np.array(data[1:499])\n",
    "    data_transposed = data.T  # Now rows are [x1_all_times, x2_all_times, ..., xN_all_times]\n",
    "    \n",
    "    plt.figure(figsize=(12, 8))\n",
    "    #change this when analyzing pure dataset\n",
    "    #plt.axhline(y=ytherm10, color='r', linestyle='--', label=f'y = {ytherm10}')\n",
    "\n",
    "    # Plot each number as a function of t with specified colors\n",
    "    for i, y_values in enumerate(data_transposed):\n",
    "        color = colors[i % len(colors)]  # Cycle through the color list\n",
    "        plt.plot(t, y_values, label=f'$Q_{i+1}$', color=color)\n",
    "    \n",
    "    # Add labels and legend\n",
    "    plt.xlabel('Time (t)',fontsize=14)\n",
    "    plt.ylabel('Value',fontsize=14)\n",
    "    plt.title('$\\Delta W(<\\mathcal{Q}_i >)$ as a function of time',fontsize=16)\n",
    "    plt.legend(fontsize=12)\n",
    "    \n",
    "    # Show the plot\n",
    "    plt.savefig(f'Extractable work of ensemble averaged network {num}q_conn_{conn}_rule_R3_{dataset_label}.pdf', format='pdf', bbox_inches='tight')\n",
    "\n",
    "    plt.show()"
   ]
  },
  {
   "cell_type": "code",
   "execution_count": null,
   "id": "c6f3dfdc",
   "metadata": {},
   "outputs": [],
   "source": [
    "#random\n",
    "# Define a list of colors (you can choose any color names or hex codes)\n",
    "#for 8Q\n",
    "#colors = ['#5B8FD8', '#FF6F61', '#6DBE45', '#D79F9D', '#7E7B9A','#F0E68C', '#008080', '#C2A2D2']\n",
    "#for 10 Q\n",
    "colors = ['#5B8FD8', '#FF6F61', '#6DBE45', '#D79F9D', '#7E7B9A','#F0E68C', '#008080', '#C2A2D2', '#D04E00', '#A8E6CF']\n",
    "#for 12 Q\n",
    "#colors = ['#5B8FD8', '#FF6F61', '#6DBE45', '#D79F9D', '#7E7B9A','#F0E68C', '#008080', '#C2A2D2', '#D04E00', '#A8E6CF','#FFDAB9', '#B2B09C']\n",
    "#for 14Q\n",
    "#colors = ['#5B8FD8', '#FF6F61', '#6DBE45', '#D79F9D', '#7E7B9A','#F0E68C', '#008080', '#C2A2D2', '#D04E00', '#A8E6CF','#FFDAB9', '#B2B09C', '#C4BEB5', '#8E7BBA']\n",
    "dataset_names = ['c2', 'c4', 'c5', 'c6', 'cn']  # Names corresponding to each dataset\n",
    "datas=[ext_work_of_ens_avg_landscape_maximizes_c2,ext_work_of_ens_avg_landscape_maximizes_c4,ext_work_of_ens_avg_landscape_maximizes_c5,ext_work_of_ens_avg_landscape_maximizes_c6,ext_work_of_ens_avg_landscape_maximizes_cn]\n",
    "\n",
    "\n",
    "for data,conn in zip(datas, dataset_names):\n",
    "    num_time_steps = len(data)-2  # The number of rows in the data corresponds to the number of time steps\n",
    "    t = np.arange(num_time_steps)  # Create a list of time steps [0, 1, 2, ..., num_time_steps-1]\n",
    "    \n",
    "    data=np.array(data[1:499])\n",
    "    data_transposed = data.T  # Now rows are [x1_all_times, x2_all_times, ..., xN_all_times]\n",
    "    \n",
    "    plt.figure(figsize=(12, 8))\n",
    "    #change this when analyzing pure dataset\n",
    "    #plt.axhline(y=ytherm10, color='r', linestyle='--', label=f'y = {ytherm10}')\n",
    "\n",
    "    # Plot each number as a function of t with specified colors\n",
    "    for i, y_values in enumerate(data_transposed):\n",
    "        color = colors[i % len(colors)]  # Cycle through the color list\n",
    "        plt.plot(t, y_values, label=f'$Q_{i+1}$', color=color)\n",
    "    \n",
    "    # Add labels and legend\n",
    "    plt.xlabel('Time (t)',fontsize=14)\n",
    "    plt.ylabel('Value',fontsize=14)\n",
    "    plt.title('$\\Delta W(<\\mathcal{Q}_i >)$ as a function of time',fontsize=16)\n",
    "    plt.legend(fontsize=12)\n",
    "    \n",
    "    # Show the plot\n",
    "    plt.savefig(f'Extractable work of ensemble averaged network {num}q_conn_{conn}_rule_R4_{dataset_label}.pdf', format='pdf', bbox_inches='tight')\n",
    "\n",
    "    plt.show()"
   ]
  }
 ],
 "metadata": {
  "kernelspec": {
   "display_name": "Python 3 (ipykernel)",
   "language": "python",
   "name": "python3"
  },
  "language_info": {
   "codemirror_mode": {
    "name": "ipython",
    "version": 3
   },
   "file_extension": ".py",
   "mimetype": "text/x-python",
   "name": "python",
   "nbconvert_exporter": "python",
   "pygments_lexer": "ipython3",
   "version": "3.11.5"
  }
 },
 "nbformat": 4,
 "nbformat_minor": 5
}
