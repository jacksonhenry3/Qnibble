{
 "cells": [
  {
   "cell_type": "code",
   "execution_count": 1,
   "id": "f83ff3f6-3672-4fa4-a1c3-2af0eec25fe8",
   "metadata": {},
   "outputs": [],
   "source": [
    "# Add directory above current directory to path\n",
    "import sys as SYS; SYS.path.insert(0, '..')\n",
    "import os\n",
    "import numpy as np\n",
    "import matplotlib.pyplot as plt\n",
    "from multiprocessing import Pool\n",
    "import random\n",
    "import itertools\n",
    "\n",
    "from src import setup"
   ]
  },
  {
   "cell_type": "code",
   "execution_count": 6,
   "id": "d3cda8e5-a995-4d36-81b2-d33616b56712",
   "metadata": {},
   "outputs": [],
   "source": [
    "from src import ( \n",
    "    measurements as measure,\n",
    "    density_matrix as DM,\n",
    "    simulation as sim,\n",
    "    orders,\n",
    "    random_unitary,\n",
    "    simulation,\n",
    "    Block_Sparse_Matrix as BSM)"
   ]
  },
  {
   "cell_type": "code",
   "execution_count": 7,
   "id": "3c34d5b7-0f55-4109-8c81-c3dd31ece0ad",
   "metadata": {},
   "outputs": [],
   "source": [
    "sx = BSM.BlockSparseMatrix(DM.np.array([[0,1],[1,0]]))\n",
    "sx = DM.DensityMatrix(sx,DM.canonical_basis(1))\n",
    "sy = BSM.BlockSparseMatrix(np.array([[0,-1j],[1j,0]]))\n",
    "sy = DM.DensityMatrix(sy,DM.canonical_basis(1))\n",
    "I = DM.Identity(DM.canonical_basis(1))\n",
    "def S(i,j,n):\n",
    "    res = DM.tensor([sx if index in[i,j] else I for index in range(n)])\n",
    "    return res+DM.tensor([sy if index in[i,j] else I for index in range(n)])\n"
   ]
  },
  {
   "cell_type": "code",
   "execution_count": 24,
   "id": "5d60aa5f-3934-4501-8690-d1bbf9ba1951",
   "metadata": {},
   "outputs": [
    {
     "data": {
      "text/plain": [
       "[0 1 2 3]"
      ]
     },
     "execution_count": 24,
     "metadata": {},
     "output_type": "execute_result"
    }
   ],
   "source": [
    "S(1,1,2).basis"
   ]
  },
  {
   "cell_type": "code",
   "execution_count": 8,
   "id": "fb14feac-b1cc-4aed-82b8-97173ce890d6",
   "metadata": {
    "jupyter": {
     "source_hidden": true
    },
    "tags": []
   },
   "outputs": [],
   "source": [
    "\n",
    "def generate_random_pairs(n, m):\n",
    "    if m < 2:\n",
    "        raise ValueError(\"m should be at least 2\")\n",
    "\n",
    "    points = []\n",
    "    \n",
    "    while len(points) < n:\n",
    "        x = random.randint(0, m-1)\n",
    "        y = random.randint(0, m-1)\n",
    "        if x != y:\n",
    "            points.append((x, y))\n",
    "\n",
    "    return points\n",
    "\n",
    "def generate_all_pairs(m):\n",
    "    pairs = []\n",
    "\n",
    "    for i in range(m):\n",
    "        for j in range(i + 1, m):\n",
    "            pairs.append((i, j))\n",
    "\n",
    "    return pairs\n",
    "\n",
    "\n",
    "from itertools import chain, combinations\n",
    "\n",
    "def powerset(iterable):\n",
    "    \"powerset([1,2,3]) --> () (1,) (2,) (3,) (1,2) (1,3) (2,3) (1,2,3)\"\n",
    "    s = list(iterable)\n",
    "    return chain.from_iterable(combinations(s, r) for r in range(len(s)+1))\n",
    "\n",
    "def check_pairs_share_element(pair_list):\n",
    "    for i in range(len(pair_list)):\n",
    "        for j in range(i + 1, len(pair_list)):\n",
    "            pair1 = pair_list[i]\n",
    "            pair2 = pair_list[j]\n",
    "            if any(element in pair2 for element in pair1):\n",
    "                return True\n",
    "    return False\n",
    "\n",
    "def check_numbers_in_pairs(pair_list, m):\n",
    "    # Create a set to store all unique numbers in the pairs\n",
    "    unique_numbers = set()\n",
    "\n",
    "    # Iterate through the pairs and add their elements to the set\n",
    "    for pair in pair_list:\n",
    "        unique_numbers.update(pair)\n",
    "\n",
    "    # Check if the set contains all numbers from 1 to m\n",
    "    for num in range(0, m ):\n",
    "        if num not in unique_numbers:\n",
    "            return False\n",
    "\n",
    "    return True\n",
    "\n",
    "def check_connected_pairs(pair_list):\n",
    "    # Create a dictionary to represent the connections between elements\n",
    "    connections = {}\n",
    "\n",
    "    # Initialize the connections dictionary\n",
    "    for pair in pair_list:\n",
    "        for element in pair:\n",
    "            connections[element] = set()\n",
    "\n",
    "    # Populate the connections dictionary with shared elements\n",
    "    for pair in pair_list:\n",
    "        for ele1 in pair:\n",
    "            for ele2 in pair:\n",
    "                connections[ele1].add(ele2)\n",
    "                connections[ele2].add(ele1)\n",
    "\n",
    "    # Perform a depth-first search to check connectedness\n",
    "    visited = set()\n",
    "    stack = [pair_list[0][0]]\n",
    "\n",
    "    while stack:\n",
    "        current_element = stack.pop()\n",
    "        visited.add(current_element)\n",
    "        neighbors = connections[current_element] - visited\n",
    "        stack.extend(neighbors)\n",
    "\n",
    "    return len(visited) == len(connections)\n",
    "\n"
   ]
  },
  {
   "cell_type": "code",
   "execution_count": 25,
   "id": "7139ed95-f50f-4042-87ff-bdfe5bd6b9b9",
   "metadata": {
    "tags": []
   },
   "outputs": [
    {
     "ename": "ValueError",
     "evalue": "The number of FixedLocator locations (40), usually from a call to set_ticks, does not match the number of ticklabels (4).",
     "output_type": "error",
     "traceback": [
      "\u001b[1;31m---------------------------------------------------------------------------\u001b[0m",
      "\u001b[1;31mValueError\u001b[0m                                Traceback (most recent call last)",
      "Input \u001b[1;32mIn [25]\u001b[0m, in \u001b[0;36m<cell line: 7>\u001b[1;34m()\u001b[0m\n\u001b[0;32m      3\u001b[0m a \u001b[38;5;241m=\u001b[39m np\u001b[38;5;241m.\u001b[39msum([S(p1,p2,n_qbits) \u001b[38;5;28;01mfor\u001b[39;00m p1,p2 \u001b[38;5;129;01min\u001b[39;00m pairs])\n\u001b[0;32m      6\u001b[0m \u001b[38;5;66;03m# a.change_to_energy_basis()\u001b[39;00m\n\u001b[1;32m----> 7\u001b[0m \u001b[43ma\u001b[49m\u001b[38;5;241;43m.\u001b[39;49m\u001b[43mplot\u001b[49m\u001b[43m(\u001b[49m\u001b[43m)\u001b[49m\n",
      "File \u001b[1;32m~\\Documents\\GitHub\\Qnibble\\Notebooks\\..\\src\\density_matrix.py:255\u001b[0m, in \u001b[0;36mDensityMatrix.plot\u001b[1;34m(self)\u001b[0m\n\u001b[0;32m    253\u001b[0m ax\u001b[38;5;241m.\u001b[39mset_xticks(xp\u001b[38;5;241m.\u001b[39marange(\u001b[38;5;241m.5\u001b[39m, \u001b[38;5;28mself\u001b[39m\u001b[38;5;241m.\u001b[39msize \u001b[38;5;241m+\u001b[39m \u001b[38;5;241m.5\u001b[39m), minor\u001b[38;5;241m=\u001b[39m\u001b[38;5;28;01mTrue\u001b[39;00m)\n\u001b[0;32m    254\u001b[0m ax\u001b[38;5;241m.\u001b[39mset_yticks(xp\u001b[38;5;241m.\u001b[39marange(\u001b[38;5;241m.5\u001b[39m, \u001b[38;5;28mself\u001b[39m\u001b[38;5;241m.\u001b[39msize \u001b[38;5;241m+\u001b[39m \u001b[38;5;241m.5\u001b[39m), minor\u001b[38;5;241m=\u001b[39m\u001b[38;5;28;01mTrue\u001b[39;00m)\n\u001b[1;32m--> 255\u001b[0m \u001b[43max\u001b[49m\u001b[38;5;241;43m.\u001b[39;49m\u001b[43mset_xticklabels\u001b[49m\u001b[43m(\u001b[49m\u001b[43mlabel_list\u001b[49m\u001b[43m)\u001b[49m\n\u001b[0;32m    256\u001b[0m ax\u001b[38;5;241m.\u001b[39mset_yticklabels(label_list)\n\u001b[0;32m    257\u001b[0m ax\u001b[38;5;241m.\u001b[39mxaxis\u001b[38;5;241m.\u001b[39mtick_top()\n",
      "File \u001b[1;32m~\\anaconda3\\envs\\Qnibble\\lib\\site-packages\\matplotlib\\axes\\_base.py:75\u001b[0m, in \u001b[0;36m_axis_method_wrapper.__set_name__.<locals>.wrapper\u001b[1;34m(self, *args, **kwargs)\u001b[0m\n\u001b[0;32m     74\u001b[0m \u001b[38;5;28;01mdef\u001b[39;00m \u001b[38;5;21mwrapper\u001b[39m(\u001b[38;5;28mself\u001b[39m, \u001b[38;5;241m*\u001b[39margs, \u001b[38;5;241m*\u001b[39m\u001b[38;5;241m*\u001b[39mkwargs):\n\u001b[1;32m---> 75\u001b[0m     \u001b[38;5;28;01mreturn\u001b[39;00m get_method(\u001b[38;5;28mself\u001b[39m)(\u001b[38;5;241m*\u001b[39margs, \u001b[38;5;241m*\u001b[39m\u001b[38;5;241m*\u001b[39mkwargs)\n",
      "File \u001b[1;32m~\\anaconda3\\envs\\Qnibble\\lib\\site-packages\\matplotlib\\axis.py:1798\u001b[0m, in \u001b[0;36mAxis._set_ticklabels\u001b[1;34m(self, labels, fontdict, minor, **kwargs)\u001b[0m\n\u001b[0;32m   1796\u001b[0m \u001b[38;5;28;01mif\u001b[39;00m fontdict \u001b[38;5;129;01mis\u001b[39;00m \u001b[38;5;129;01mnot\u001b[39;00m \u001b[38;5;28;01mNone\u001b[39;00m:\n\u001b[0;32m   1797\u001b[0m     kwargs\u001b[38;5;241m.\u001b[39mupdate(fontdict)\n\u001b[1;32m-> 1798\u001b[0m \u001b[38;5;28;01mreturn\u001b[39;00m \u001b[38;5;28mself\u001b[39m\u001b[38;5;241m.\u001b[39mset_ticklabels(labels, minor\u001b[38;5;241m=\u001b[39mminor, \u001b[38;5;241m*\u001b[39m\u001b[38;5;241m*\u001b[39mkwargs)\n",
      "File \u001b[1;32m~\\anaconda3\\envs\\Qnibble\\lib\\site-packages\\matplotlib\\axis.py:1720\u001b[0m, in \u001b[0;36mAxis.set_ticklabels\u001b[1;34m(self, ticklabels, minor, **kwargs)\u001b[0m\n\u001b[0;32m   1716\u001b[0m \u001b[38;5;28;01mif\u001b[39;00m \u001b[38;5;28misinstance\u001b[39m(locator, mticker\u001b[38;5;241m.\u001b[39mFixedLocator):\n\u001b[0;32m   1717\u001b[0m     \u001b[38;5;66;03m# Passing [] as a list of ticklabels is often used as a way to\u001b[39;00m\n\u001b[0;32m   1718\u001b[0m     \u001b[38;5;66;03m# remove all tick labels, so only error for > 0 ticklabels\u001b[39;00m\n\u001b[0;32m   1719\u001b[0m     \u001b[38;5;28;01mif\u001b[39;00m \u001b[38;5;28mlen\u001b[39m(locator\u001b[38;5;241m.\u001b[39mlocs) \u001b[38;5;241m!=\u001b[39m \u001b[38;5;28mlen\u001b[39m(ticklabels) \u001b[38;5;129;01mand\u001b[39;00m \u001b[38;5;28mlen\u001b[39m(ticklabels) \u001b[38;5;241m!=\u001b[39m \u001b[38;5;241m0\u001b[39m:\n\u001b[1;32m-> 1720\u001b[0m         \u001b[38;5;28;01mraise\u001b[39;00m \u001b[38;5;167;01mValueError\u001b[39;00m(\n\u001b[0;32m   1721\u001b[0m             \u001b[38;5;124m\"\u001b[39m\u001b[38;5;124mThe number of FixedLocator locations\u001b[39m\u001b[38;5;124m\"\u001b[39m\n\u001b[0;32m   1722\u001b[0m             \u001b[38;5;124mf\u001b[39m\u001b[38;5;124m\"\u001b[39m\u001b[38;5;124m (\u001b[39m\u001b[38;5;132;01m{\u001b[39;00m\u001b[38;5;28mlen\u001b[39m(locator\u001b[38;5;241m.\u001b[39mlocs)\u001b[38;5;132;01m}\u001b[39;00m\u001b[38;5;124m), usually from a call to\u001b[39m\u001b[38;5;124m\"\u001b[39m\n\u001b[0;32m   1723\u001b[0m             \u001b[38;5;124m\"\u001b[39m\u001b[38;5;124m set_ticks, does not match\u001b[39m\u001b[38;5;124m\"\u001b[39m\n\u001b[0;32m   1724\u001b[0m             \u001b[38;5;124mf\u001b[39m\u001b[38;5;124m\"\u001b[39m\u001b[38;5;124m the number of ticklabels (\u001b[39m\u001b[38;5;132;01m{\u001b[39;00m\u001b[38;5;28mlen\u001b[39m(ticklabels)\u001b[38;5;132;01m}\u001b[39;00m\u001b[38;5;124m).\u001b[39m\u001b[38;5;124m\"\u001b[39m)\n\u001b[0;32m   1725\u001b[0m     tickd \u001b[38;5;241m=\u001b[39m {loc: lab \u001b[38;5;28;01mfor\u001b[39;00m loc, lab \u001b[38;5;129;01min\u001b[39;00m \u001b[38;5;28mzip\u001b[39m(locator\u001b[38;5;241m.\u001b[39mlocs, ticklabels)}\n\u001b[0;32m   1726\u001b[0m     func \u001b[38;5;241m=\u001b[39m functools\u001b[38;5;241m.\u001b[39mpartial(\u001b[38;5;28mself\u001b[39m\u001b[38;5;241m.\u001b[39m_format_with_dict, tickd)\n",
      "\u001b[1;31mValueError\u001b[0m: The number of FixedLocator locations (40), usually from a call to set_ticks, does not match the number of ticklabels (4)."
     ]
    },
    {
     "data": {
      "image/png": "[encoded data removed]",
      "text/plain": [
       "<Figure size 640x480 with 1 Axes>"
      ]
     },
     "metadata": {},
     "output_type": "display_data"
    }
   ],
   "source": [
    "n_qbits = 2\n",
    "pairs = generate_random_pairs(n_interacting_pairs,n_qbits)\n",
    "a = np.sum([S(p1,p2,n_qbits) for p1,p2 in pairs])\n",
    "\n",
    "\n",
    "# a.change_to_energy_basis()\n",
    "a.plot()"
   ]
  },
  {
   "cell_type": "code",
   "execution_count": 9,
   "id": "0f4af1a3-78c4-445b-9d44-2687e7d4e950",
   "metadata": {
    "tags": []
   },
   "outputs": [
    {
     "ename": "AttributeError",
     "evalue": "'BlockSparseMatrix' object has no attribute 'nnz'",
     "output_type": "error",
     "traceback": [
      "\u001b[1;31m---------------------------------------------------------------------------\u001b[0m",
      "\u001b[1;31mAttributeError\u001b[0m                            Traceback (most recent call last)",
      "Input \u001b[1;32mIn [9]\u001b[0m, in \u001b[0;36m<cell line: 4>\u001b[1;34m()\u001b[0m\n\u001b[0;32m      2\u001b[0m pairs \u001b[38;5;241m=\u001b[39m generate_all_pairs(n_qbits)\n\u001b[0;32m      3\u001b[0m sets_of_pairs \u001b[38;5;241m=\u001b[39m powerset(pairs)\n\u001b[1;32m----> 4\u001b[0m total \u001b[38;5;241m=\u001b[39m \u001b[43mrandom_unitary\u001b[49m\u001b[38;5;241;43m.\u001b[39;49m\u001b[43mrandom_energy_preserving_unitary\u001b[49m\u001b[43m(\u001b[49m\u001b[43mn_qbits\u001b[49m\u001b[43m)\u001b[49m\u001b[38;5;241;43m.\u001b[39;49m\u001b[43mdata\u001b[49m\u001b[38;5;241;43m.\u001b[39;49m\u001b[43mnnz\u001b[49m\n\u001b[0;32m      5\u001b[0m \u001b[38;5;28;01mfor\u001b[39;00m set_of_pairs \u001b[38;5;129;01min\u001b[39;00m sets_of_pairs:\n\u001b[0;32m      6\u001b[0m     \u001b[38;5;28;01mif\u001b[39;00m \u001b[38;5;28mlen\u001b[39m(set_of_pairs)\u001b[38;5;241m>\u001b[39m\u001b[38;5;241m0\u001b[39m \u001b[38;5;129;01mand\u001b[39;00m check_connected_pairs(set_of_pairs) \u001b[38;5;129;01mand\u001b[39;00m check_numbers_in_pairs(set_of_pairs,n_qbits):\n",
      "\u001b[1;31mAttributeError\u001b[0m: 'BlockSparseMatrix' object has no attribute 'nnz'"
     ]
    }
   ],
   "source": [
    "n_qbits = 3\n",
    "pairs = generate_all_pairs(n_qbits)\n",
    "sets_of_pairs = powerset(pairs)\n",
    "total = random_unitary.random_energy_preserving_unitary(n_qbits).data.nnz\n",
    "for set_of_pairs in sets_of_pairs:\n",
    "    if len(set_of_pairs)>0 and check_connected_pairs(set_of_pairs) and check_numbers_in_pairs(set_of_pairs,n_qbits):\n",
    "        print(set_of_pairs)\n",
    "        a = np.sum([S(p1,p2,n_qbits) for p1,p2 in set_of_pairs])\n",
    "        a.change_to_energy_basis()\n",
    "        \n",
    "        u = DM.dm_exp(-.1j*a)\n",
    "        sys = DM.n_thermal_qbits([random.random()/2.0 for _ in range(n_qbits)])\n",
    "        sys.change_to_energy_basis()\n",
    "        sys = u*sys*u.H\n",
    "        sys = u*sys*u.H\n",
    "        \n",
    "       \n",
    "        # if sys.data.nnz<total:\n",
    "            # a.plot()\n",
    "            # sys.plot()"
   ]
  },
  {
   "cell_type": "code",
   "execution_count": null,
   "id": "3bb95d66-47a3-4da3-a84a-8ff0d66b1216",
   "metadata": {},
   "outputs": [],
   "source": []
  }
 ],
 "metadata": {
  "kernelspec": {
   "display_name": "PyCharm (Qnibble)",
   "language": "python",
   "name": "pycharm-c82c9ad0"
  },
  "language_info": {
   "codemirror_mode": {
    "name": "ipython",
    "version": 3
   },
   "file_extension": ".py",
   "mimetype": "text/x-python",
   "name": "python",
   "nbconvert_exporter": "python",
   "pygments_lexer": "ipython3",
   "version": "3.10.4"
  }
 },
 "nbformat": 4,
 "nbformat_minor": 5
}
