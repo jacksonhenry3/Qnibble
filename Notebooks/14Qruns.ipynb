{
 "cells": [
  {
   "cell_type": "code",
   "execution_count": 1,
   "id": "540ae469-005a-4148-babb-d29ebcf39076",
   "metadata": {},
   "outputs": [],
   "source": [
    "# Add directory above current directory to path\n",
    "import sys as SYS; SYS.path.insert(0, '..')\n",
    "\n",
    "# for saving\n",
    "import os\n",
    "\n",
    "from collections import defaultdict\n",
    "import numpy as np\n",
    "import matplotlib.pyplot as plt\n",
    "\n",
    "from src import setup\n",
    "# setup.use_gpu()"
   ]
  },
  {
   "cell_type": "code",
   "execution_count": 2,
   "id": "88ebe62b-80bc-492e-827b-bcddc823e997",
   "metadata": {},
   "outputs": [],
   "source": [
    "from src import ( \n",
    "    measurements as measure,\n",
    "    density_matrix as DM,\n",
    "    simulation as sim,\n",
    "    orders,\n",
    "    order_rules,\n",
    "    random_unitary,\n",
    "    simulation)\n",
    "\n",
    "from Scripts import simulation_CLI as cleo"
   ]
  },
  {
   "cell_type": "code",
   "execution_count": 12,
   "id": "5eb70c2b-44b0-4205-99cc-3f6617c4e8a9",
   "metadata": {},
   "outputs": [
    {
     "ename": "TypeError",
     "evalue": "'NoneType' object is not subscriptable",
     "output_type": "error",
     "traceback": [
      "\u001b[0;31m---------------------------------------------------------------------------\u001b[0m",
      "\u001b[0;31mTypeError\u001b[0m                                 Traceback (most recent call last)",
      "Cell \u001b[0;32mIn[12], line 13\u001b[0m\n\u001b[1;32m     11\u001b[0m order_rule_name \u001b[38;5;241m=\u001b[39m \u001b[38;5;124m\"\u001b[39m\u001b[38;5;124mrandom\u001b[39m\u001b[38;5;124m\"\u001b[39m\n\u001b[1;32m     12\u001b[0m num_steps \u001b[38;5;241m=\u001b[39m \u001b[38;5;241m500\u001b[39m\n\u001b[0;32m---> 13\u001b[0m data \u001b[38;5;241m=\u001b[39m cleo\u001b[38;5;241m.\u001b[39mexecute(file_name\u001b[38;5;241m=\u001b[39m\u001b[38;5;124m\"\u001b[39m\u001b[38;5;124mrandom\u001b[39m\u001b[38;5;124m\"\u001b[39m,\n\u001b[1;32m     14\u001b[0m                    connectivity\u001b[38;5;241m=\u001b[39mconnectivity,\n\u001b[1;32m     15\u001b[0m                    order_rule_name \u001b[38;5;241m=\u001b[39m order_rule_name, \n\u001b[1;32m     16\u001b[0m                    unitary_seed\u001b[38;5;241m=\u001b[39munitary_seed,\n\u001b[1;32m     17\u001b[0m                    unitary_energy_subspace\u001b[38;5;241m=\u001b[39munitary_energy_subspace,\n\u001b[1;32m     18\u001b[0m                    evolution_generator_type\u001b[38;5;241m=\u001b[39mevolution_generator_type,\n\u001b[1;32m     19\u001b[0m                    chunk_size\u001b[38;5;241m=\u001b[39mchunk_size,\n\u001b[1;32m     20\u001b[0m                    num_steps\u001b[38;5;241m=\u001b[39mnum_steps,\n\u001b[1;32m     21\u001b[0m                    initial_pops\u001b[38;5;241m=\u001b[39minitial_pops,\n\u001b[1;32m     22\u001b[0m                    verbosity \u001b[38;5;241m=\u001b[39m \u001b[38;5;241m.9\u001b[39m)\n",
      "File \u001b[0;32m~/Documents/GitHub/Qnibble/Notebooks/../Scripts/simulation_CLI.py:167\u001b[0m, in \u001b[0;36mexecute\u001b[0;34m(file_name, connectivity, order_rule_name, unitary_energy_subspace, unitary_seed, num_steps, initial_pops, evolution_generator_type, chunk_size, verbosity, first_10_order)\u001b[0m\n\u001b[1;32m    164\u001b[0m     \u001b[38;5;28;01mif\u001b[39;00m \u001b[38;5;18m__name__\u001b[39m \u001b[38;5;241m==\u001b[39m \u001b[38;5;124m\"\u001b[39m\u001b[38;5;124m__main__\u001b[39m\u001b[38;5;124m\"\u001b[39m: \u001b[38;5;28mprint\u001b[39m(\u001b[38;5;124m\"\u001b[39m\u001b[38;5;124mrunning simulation\u001b[39m\u001b[38;5;124m\"\u001b[39m)\n\u001b[1;32m    165\u001b[0m \u001b[38;5;66;03m#three_qubit_dms\u001b[39;00m\n\u001b[0;32m--> 167\u001b[0m     pops, two_qubit_dms \u001b[38;5;241m=\u001b[39m sim\u001b[38;5;241m.\u001b[39mrun(system,\n\u001b[1;32m    168\u001b[0m                                   num_iterations\u001b[38;5;241m=\u001b[39mnum_steps,\n\u001b[1;32m    169\u001b[0m                                   Unitaries\u001b[38;5;241m=\u001b[39munitary,\n\u001b[1;32m    170\u001b[0m                                   sub_unitary\u001b[38;5;241m=\u001b[39msub_unitary,\n\u001b[1;32m    171\u001b[0m                                   verbose\u001b[38;5;241m=\u001b[39mverbosity,\n\u001b[1;32m    172\u001b[0m                                   order_rule\u001b[38;5;241m=\u001b[39morder_rule,\n\u001b[1;32m    173\u001b[0m                                   first_10_order\u001b[38;5;241m=\u001b[39mfirst_10_order,\n\u001b[1;32m    174\u001b[0m                                   connectivity\u001b[38;5;241m=\u001b[39mconnectivity,\n\u001b[1;32m    175\u001b[0m                                   )[\u001b[38;5;241m0\u001b[39m]\n\u001b[1;32m    176\u001b[0m     \u001b[38;5;66;03m#save_data(file_name=file_name, data=three_qubit_dms, connectivity=connectivity, unitary_energy_subspace=unitary_energy_subspace, unitary_seed=unitary_seed,\u001b[39;00m\n\u001b[1;32m    177\u001b[0m              \u001b[38;5;66;03m# order_rule_name=order_rule_name,measurment=\"three_qubit_dms\", num_qubits=num_qbits)\u001b[39;00m\n\u001b[1;32m    178\u001b[0m     \u001b[38;5;66;03m#save_data(file_name=file_name, data=previous_order, connectivity=connectivity,\u001b[39;00m\n\u001b[1;32m    179\u001b[0m              \u001b[38;5;66;03m# unitary_energy_subspace=unitary_energy_subspace, unitary_seed=unitary_seed,\u001b[39;00m\n\u001b[1;32m    180\u001b[0m               \u001b[38;5;66;03m#order_rule_name=order_rule_name,\u001b[39;00m\n\u001b[1;32m    181\u001b[0m               \u001b[38;5;66;03m#measurment=\"previous_order\", num_qubits=num_qbits)\u001b[39;00m\n\u001b[1;32m    182\u001b[0m     save_data(file_name\u001b[38;5;241m=\u001b[39mfile_name, data\u001b[38;5;241m=\u001b[39mtwo_qubit_dms, connectivity\u001b[38;5;241m=\u001b[39mconnectivity, unitary_energy_subspace\u001b[38;5;241m=\u001b[39munitary_energy_subspace, unitary_seed\u001b[38;5;241m=\u001b[39munitary_seed, order_rule_name\u001b[38;5;241m=\u001b[39morder_rule_name,\n\u001b[1;32m    183\u001b[0m               measurment\u001b[38;5;241m=\u001b[39m\u001b[38;5;124m\"\u001b[39m\u001b[38;5;124mtwo_qubit_dms\u001b[39m\u001b[38;5;124m\"\u001b[39m, num_qubits\u001b[38;5;241m=\u001b[39mnum_qbits)\n",
      "File \u001b[0;32m~/Documents/GitHub/Qnibble/Notebooks/../src/simulation.py:51\u001b[0m, in \u001b[0;36mrun\u001b[0;34m(dm, num_iterations, order_rule, first_10_order, sub_unitary, connectivity, Unitaries, verbose)\u001b[0m\n\u001b[1;32m     49\u001b[0m \u001b[38;5;28;01mfor\u001b[39;00m i \u001b[38;5;129;01min\u001b[39;00m \u001b[38;5;28mrange\u001b[39m(\u001b[38;5;241m1\u001b[39m, num_iterations):\n\u001b[1;32m     50\u001b[0m     \u001b[38;5;28;01mif\u001b[39;00m i \u001b[38;5;129;01min\u001b[39;00m \u001b[38;5;28mrange\u001b[39m (\u001b[38;5;241m10\u001b[39m):\n\u001b[0;32m---> 51\u001b[0m         order \u001b[38;5;241m=\u001b[39m first_10_order[i]\n\u001b[1;32m     52\u001b[0m         previous_order \u001b[38;5;241m=\u001b[39m first_10_order[i]\n\u001b[1;32m     55\u001b[0m     chunk_sizes \u001b[38;5;241m=\u001b[39m [\u001b[38;5;28mlen\u001b[39m(chunk) \u001b[38;5;28;01mfor\u001b[39;00m chunk \u001b[38;5;129;01min\u001b[39;00m order]\n",
      "\u001b[0;31mTypeError\u001b[0m: 'NoneType' object is not subscriptable"
     ]
    }
   ],
   "source": [
    "Trials = 1\n",
    "for unitary_seed in range(Trials):\n",
    "    #initial_pops = [0.25, 0.43, 0.31, 0.23, 0.28, 0.32002, 0.21, 0.23, 0.36, 0.25,0.152871, 0.408125, 0.321763, 0.15]\n",
    "    initial_pops = [0.2, 0.2, 0.4, 0.2, 0.2, 0.2, 0.2, 0.4, 0.2, 0.2, 0.2, 0.2, 0.4, 0.2]\n",
    "    system = DM.n_thermal_qbits(initial_pops)\n",
    "    connectivity = \"gas\"\n",
    "    unitary_energy_subspace = 1\n",
    "    ordering_seed = 1\n",
    "    chunk_size = 2\n",
    "    evolution_generator_type=\"haar2Qunitary\"\n",
    "    order_rule_name = \"random\"\n",
    "    num_steps = 500\n",
    "    data = cleo.execute(file_name=\"random\",\n",
    "                       connectivity=connectivity,\n",
    "                       order_rule_name = order_rule_name, \n",
    "                       unitary_seed=unitary_seed,\n",
    "                       unitary_energy_subspace=unitary_energy_subspace,\n",
    "                       evolution_generator_type=evolution_generator_type,\n",
    "                       chunk_size=chunk_size,\n",
    "                       num_steps=num_steps,\n",
    "                       initial_pops=initial_pops,\n",
    "                       verbosity = .9)"
   ]
  },
  {
   "cell_type": "code",
   "execution_count": 4,
   "id": "89edef00-9213-4933-8c69-4f059455c768",
   "metadata": {},
   "outputs": [
    {
     "name": "stdout",
     "output_type": "stream",
     "text": [
      "90%\n",
      "simulation complete, extracting and saving data to : ../data/random/random-10_qubits-c4_2local_connectivity-unitary_energy_subspace_1-unitary_seed_0-order_rule_name_random\n",
      "simulation complete, extracting and saving data to : ../data/random/random-10_qubits-c4_2local_connectivity-unitary_energy_subspace_1-unitary_seed_0-order_rule_name_random\n"
     ]
    }
   ],
   "source": [
    "Trials = 1\n",
    "for unitary_seed in range(Trials):\n",
    "    initial_pops = [0.25, 0.43, 0.31, 0.23, 0.28, 0.32002, 0.21, 0.23, 0.36, 0.25,0.152871, 0.408125, 0.321763, 0.15]\n",
    "    #initial_pops = [0.2, 0.2, 0.4, 0.2, 0.2, 0.2, 0.2, 0.4, 0.2, 0.2, 0.2, 0.2, 0.4, 0.2]\n",
    "    system = DM.n_thermal_qbits(initial_pops)\n",
    "    connectivity = \"c4_2local\"\n",
    "    unitary_energy_subspace = 1\n",
    "    ordering_seed = 1\n",
    "    chunk_size = 2\n",
    "    order_rule_name = \"random\"\n",
    "    num_steps = 500\n",
    "    data = cleo.execute(file_name=\"random\",\n",
    "                       connectivity=connectivity,\n",
    "                       order_rule_name = order_rule_name, \n",
    "                       unitary_seed=unitary_seed,\n",
    "                       unitary_energy_subspace=unitary_energy_subspace,\n",
    "                       evolution_generation_type=\"haar2Qunitary\",\n",
    "                       chunk_size=chunk_size,\n",
    "                       num_steps=num_steps,\n",
    "                       initial_pops=initial_pops,\n",
    "                       verbosity = .9)"
   ]
  },
  {
   "cell_type": "code",
   "execution_count": 5,
   "id": "5de6c3b3-f124-45ab-8d20-82da7151fec7",
   "metadata": {},
   "outputs": [
    {
     "name": "stdout",
     "output_type": "stream",
     "text": [
      "90%\n",
      "simulation complete, extracting and saving data to : ../data/random/random-10_qubits-c5_2local_connectivity-unitary_energy_subspace_1-unitary_seed_0-order_rule_name_random\n",
      "simulation complete, extracting and saving data to : ../data/random/random-10_qubits-c5_2local_connectivity-unitary_energy_subspace_1-unitary_seed_0-order_rule_name_random\n"
     ]
    }
   ],
   "source": [
    "Trials = 1\n",
    "for unitary_seed in range(Trials):\n",
    "    initial_pops = [0.25, 0.43, 0.31, 0.23, 0.28, 0.32002, 0.21, 0.23, 0.36, 0.25,0.152871, 0.408125, 0.321763, 0.15]\n",
    "    #initial_pops = [0.2, 0.2, 0.4, 0.2, 0.2, 0.2, 0.2, 0.4, 0.2, 0.2, 0.2, 0.2, 0.4, 0.2]\n",
    "    system = DM.n_thermal_qbits(initial_pops)\n",
    "    connectivity = \"c5_2local\"\n",
    "    unitary_energy_subspace = 1\n",
    "    ordering_seed = 1\n",
    "    chunk_size = 2\n",
    "    order_rule_name = \"random\"\n",
    "    num_steps = 500\n",
    "    data = cleo.execute(file_name=\"random\",\n",
    "                       connectivity=connectivity,\n",
    "                       order_rule_name = order_rule_name, \n",
    "                       unitary_seed=unitary_seed,\n",
    "                       unitary_energy_subspace=unitary_energy_subspace,\n",
    "                       evolution_generation_type=\"haar2Qunitary\",\n",
    "                       chunk_size=chunk_size,\n",
    "                       num_steps=num_steps,\n",
    "                       initial_pops=initial_pops,\n",
    "                       verbosity = .9)"
   ]
  },
  {
   "cell_type": "code",
   "execution_count": 6,
   "id": "00634891-c389-452e-aeaa-127cb272e9c8",
   "metadata": {},
   "outputs": [
    {
     "name": "stdout",
     "output_type": "stream",
     "text": [
      "90%\n",
      "simulation complete, extracting and saving data to : ../data/random/random-10_qubits-c6_2local_connectivity-unitary_energy_subspace_1-unitary_seed_0-order_rule_name_random\n",
      "simulation complete, extracting and saving data to : ../data/random/random-10_qubits-c6_2local_connectivity-unitary_energy_subspace_1-unitary_seed_0-order_rule_name_random\n"
     ]
    }
   ],
   "source": [
    "Trials = 1\n",
    "for unitary_seed in range(Trials):\n",
    "    initial_pops = [0.25, 0.43, 0.31, 0.23, 0.28, 0.32002, 0.21, 0.23, 0.36, 0.25,0.152871, 0.408125, 0.321763, 0.15]\n",
    "    #initial_pops = [0.2, 0.2, 0.4, 0.2, 0.2, 0.2, 0.2, 0.4, 0.2, 0.2, 0.2, 0.2, 0.4, 0.2]\n",
    "    system = DM.n_thermal_qbits(initial_pops)\n",
    "    connectivity = \"c6_2local\"\n",
    "    unitary_energy_subspace = 1\n",
    "    ordering_seed = 1\n",
    "    chunk_size = 2\n",
    "    order_rule_name = \"random\"\n",
    "    num_steps = 500\n",
    "    data = cleo.execute(file_name=\"random\",\n",
    "                       connectivity=connectivity,\n",
    "                       order_rule_name = order_rule_name, \n",
    "                       unitary_seed=unitary_seed,\n",
    "                       unitary_energy_subspace=unitary_energy_subspace,\n",
    "                       evolution_generation_type=\"haar2Qunitary\",\n",
    "                       chunk_size=chunk_size,\n",
    "                       num_steps=num_steps,\n",
    "                       initial_pops=initial_pops,\n",
    "                       verbosity = .9)"
   ]
  },
  {
   "cell_type": "code",
   "execution_count": 7,
   "id": "2bec75b0-62af-43a7-8d46-428b72b342ec",
   "metadata": {},
   "outputs": [
    {
     "name": "stdout",
     "output_type": "stream",
     "text": [
      "90%\n",
      "simulation complete, extracting and saving data to : ../data/random/random-10_qubits-cN_2local_connectivity-unitary_energy_subspace_1-unitary_seed_0-order_rule_name_random\n",
      "simulation complete, extracting and saving data to : ../data/random/random-10_qubits-cN_2local_connectivity-unitary_energy_subspace_1-unitary_seed_0-order_rule_name_random\n"
     ]
    }
   ],
   "source": [
    "Trials = 1\n",
    "for unitary_seed in range(Trials):\n",
    "    initial_pops = [0.25, 0.43, 0.31, 0.23, 0.28, 0.32002, 0.21, 0.23, 0.36, 0.25,0.152871, 0.408125, 0.321763, 0.15]\n",
    "    #initial_pops = [0.2, 0.2, 0.4, 0.2, 0.2, 0.2, 0.2, 0.4, 0.2, 0.2, 0.2, 0.2, 0.4, 0.2]\n",
    "    system = DM.n_thermal_qbits(initial_pops)\n",
    "    connectivity = \"cN_2local\"\n",
    "    unitary_energy_subspace = 1\n",
    "    ordering_seed = 1\n",
    "    chunk_size = 2\n",
    "    order_rule_name = \"random\"\n",
    "    num_steps = 500\n",
    "    data = cleo.execute(file_name=\"random\",\n",
    "                       connectivity=connectivity,\n",
    "                       order_rule_name = order_rule_name, \n",
    "                       unitary_seed=unitary_seed,\n",
    "                       unitary_energy_subspace=unitary_energy_subspace,\n",
    "                       evolution_generation_type=\"haar2Qunitary\",\n",
    "                       chunk_size=chunk_size,\n",
    "                       num_steps=num_steps,\n",
    "                       initial_pops=initial_pops,\n",
    "                       verbosity = .9)"
   ]
  },
  {
   "cell_type": "code",
   "execution_count": 8,
   "id": "78b773b4-8c2b-443a-91db-6fec9dd43cb1",
   "metadata": {},
   "outputs": [],
   "source": [
    "import sys as SYS; SYS.path.insert(0, '../..')\n",
    "from Scripts import hdf5merge\n",
    "hdf5merge.merge_hdf5_files(\"../data/random\")"
   ]
  },
  {
   "cell_type": "code",
   "execution_count": 9,
   "id": "6ddba038-8b85-4822-8544-c62b5ef80c06",
   "metadata": {},
   "outputs": [
    {
     "name": "stdout",
     "output_type": "stream",
     "text": [
      "90%\n",
      "simulation complete, extracting and saving data to : ../data/greedy/greedy-10_qubits-c2_2local_connectivity-unitary_energy_subspace_1-unitary_seed_0-order_rule_name_greedy\n",
      "simulation complete, extracting and saving data to : ../data/greedy/greedy-10_qubits-c2_2local_connectivity-unitary_energy_subspace_1-unitary_seed_0-order_rule_name_greedy\n"
     ]
    }
   ],
   "source": [
    "Trials = 1\n",
    "for unitary_seed in range(Trials):\n",
    "    initial_pops = [0.25, 0.43, 0.31, 0.23, 0.28, 0.32002, 0.21, 0.23, 0.36, 0.25,0.152871, 0.408125, 0.321763, 0.15]\n",
    "    #initial_pops = [0.2, 0.2, 0.4, 0.2, 0.2, 0.2, 0.2, 0.4, 0.2, 0.2, 0.2, 0.2, 0.4, 0.2]\n",
    "    system = DM.n_thermal_qbits(initial_pops)\n",
    "    connectivity = \"c2_2local\"\n",
    "    unitary_energy_subspace = 1\n",
    "    ordering_seed = 1\n",
    "    chunk_size = 2\n",
    "    order_rule_name = \"greedy\"\n",
    "    num_steps = 500\n",
    "    data = cleo.execute(file_name=\"greedy\",\n",
    "                       connectivity=connectivity,\n",
    "                       order_rule_name = order_rule_name, \n",
    "                       unitary_seed=unitary_seed,\n",
    "                       unitary_energy_subspace=unitary_energy_subspace,\n",
    "                       evolution_generation_type=\"haar2Qunitary\",\n",
    "                       chunk_size=chunk_size,\n",
    "                       num_steps=num_steps,\n",
    "                       initial_pops=initial_pops,\n",
    "                       verbosity = .9)"
   ]
  },
  {
   "cell_type": "code",
   "execution_count": 10,
   "id": "16f59f33-d4af-4239-bceb-82e9982ce6a6",
   "metadata": {},
   "outputs": [
    {
     "name": "stdout",
     "output_type": "stream",
     "text": [
      "90%\n",
      "simulation complete, extracting and saving data to : ../data/greedy/greedy-10_qubits-c4_2local_connectivity-unitary_energy_subspace_1-unitary_seed_0-order_rule_name_greedy\n",
      "simulation complete, extracting and saving data to : ../data/greedy/greedy-10_qubits-c4_2local_connectivity-unitary_energy_subspace_1-unitary_seed_0-order_rule_name_greedy\n"
     ]
    }
   ],
   "source": [
    "Trials = 1\n",
    "for unitary_seed in range(Trials):\n",
    "    initial_pops = [0.25, 0.43, 0.31, 0.23, 0.28, 0.32002, 0.21, 0.23, 0.36, 0.25,0.152871, 0.408125, 0.321763, 0.15]\n",
    "    #initial_pops = [0.2, 0.2, 0.4, 0.2, 0.2, 0.2, 0.2, 0.4, 0.2, 0.2, 0.2, 0.2, 0.4, 0.2]\n",
    "    system = DM.n_thermal_qbits(initial_pops)\n",
    "    connectivity = \"c4_2local\"\n",
    "    unitary_energy_subspace = 1\n",
    "    ordering_seed = 1\n",
    "    chunk_size = 2\n",
    "    order_rule_name = \"greedy\"\n",
    "    num_steps = 500\n",
    "    data = cleo.execute(file_name=\"greedy\",\n",
    "                       connectivity=connectivity,\n",
    "                       order_rule_name = order_rule_name, \n",
    "                       unitary_seed=unitary_seed,\n",
    "                       unitary_energy_subspace=unitary_energy_subspace,\n",
    "                       evolution_generation_type=\"haar2Qunitary\",\n",
    "                       chunk_size=chunk_size,\n",
    "                       num_steps=num_steps,\n",
    "                       initial_pops=initial_pops,\n",
    "                       verbosity = .9)"
   ]
  },
  {
   "cell_type": "code",
   "execution_count": 11,
   "id": "beb19c98-403b-42aa-a303-ba315cda0edd",
   "metadata": {},
   "outputs": [
    {
     "name": "stdout",
     "output_type": "stream",
     "text": [
      "90%\n",
      "simulation complete, extracting and saving data to : ../data/greedy/greedy-10_qubits-c5_2local_connectivity-unitary_energy_subspace_1-unitary_seed_0-order_rule_name_greedy\n",
      "simulation complete, extracting and saving data to : ../data/greedy/greedy-10_qubits-c5_2local_connectivity-unitary_energy_subspace_1-unitary_seed_0-order_rule_name_greedy\n"
     ]
    }
   ],
   "source": [
    "Trials = 1\n",
    "for unitary_seed in range(Trials):\n",
    "    initial_pops = [0.25, 0.43, 0.31, 0.23, 0.28, 0.32002, 0.21, 0.23, 0.36, 0.25,0.152871, 0.408125, 0.321763, 0.15]\n",
    "    #initial_pops = [0.2, 0.2, 0.4, 0.2, 0.2, 0.2, 0.2, 0.4, 0.2, 0.2, 0.2, 0.2, 0.4, 0.2]\n",
    "    system = DM.n_thermal_qbits(initial_pops)\n",
    "    connectivity = \"c5_2local\"\n",
    "    unitary_energy_subspace = 1\n",
    "    ordering_seed = 1\n",
    "    chunk_size = 2\n",
    "    order_rule_name = \"greedy\"\n",
    "    num_steps = 500\n",
    "    data = cleo.execute(file_name=\"greedy\",\n",
    "                       connectivity=connectivity,\n",
    "                       order_rule_name = order_rule_name, \n",
    "                       unitary_seed=unitary_seed,\n",
    "                       unitary_energy_subspace=unitary_energy_subspace,\n",
    "                       evolution_generation_type=\"haar2Qunitary\",\n",
    "                       chunk_size=chunk_size,\n",
    "                       num_steps=num_steps,\n",
    "                       initial_pops=initial_pops,\n",
    "                       verbosity = .9)"
   ]
  },
  {
   "cell_type": "code",
   "execution_count": 12,
   "id": "723d2552-5c81-4596-bddc-9d7b7e6e85bc",
   "metadata": {},
   "outputs": [
    {
     "name": "stdout",
     "output_type": "stream",
     "text": [
      "90%\n",
      "simulation complete, extracting and saving data to : ../data/greedy/greedy-10_qubits-c6_2local_connectivity-unitary_energy_subspace_1-unitary_seed_0-order_rule_name_greedy\n",
      "simulation complete, extracting and saving data to : ../data/greedy/greedy-10_qubits-c6_2local_connectivity-unitary_energy_subspace_1-unitary_seed_0-order_rule_name_greedy\n"
     ]
    }
   ],
   "source": [
    "Trials = 1\n",
    "for unitary_seed in range(Trials):\n",
    "    initial_pops = [0.25, 0.43, 0.31, 0.23, 0.28, 0.32002, 0.21, 0.23, 0.36, 0.25,0.152871, 0.408125, 0.321763, 0.15]\n",
    "    #initial_pops = [0.2, 0.2, 0.4, 0.2, 0.2, 0.2, 0.2, 0.4, 0.2, 0.2, 0.2, 0.2, 0.4, 0.2]\n",
    "    system = DM.n_thermal_qbits(initial_pops)\n",
    "    connectivity = \"c6_2local\"\n",
    "    unitary_energy_subspace = 1\n",
    "    ordering_seed = 1\n",
    "    chunk_size = 2\n",
    "    order_rule_name = \"greedy\"\n",
    "    num_steps = 500\n",
    "    data = cleo.execute(file_name=\"greedy\",\n",
    "                       connectivity=connectivity,\n",
    "                       order_rule_name = order_rule_name, \n",
    "                       unitary_seed=unitary_seed,\n",
    "                       unitary_energy_subspace=unitary_energy_subspace,\n",
    "                       evolution_generation_type=\"haar2Qunitary\",\n",
    "                       chunk_size=chunk_size,\n",
    "                       num_steps=num_steps,\n",
    "                       initial_pops=initial_pops,\n",
    "                       verbosity = .9)"
   ]
  },
  {
   "cell_type": "code",
   "execution_count": null,
   "id": "f900ceb8-95f9-4ebf-80c3-fb5e4909f094",
   "metadata": {},
   "outputs": [
    {
     "name": "stdout",
     "output_type": "stream",
     "text": [
      "90%\n"
     ]
    }
   ],
   "source": [
    "Trials = 1\n",
    "for unitary_seed in range(Trials):\n",
    "    initial_pops = [0.25, 0.43, 0.31, 0.23, 0.28, 0.32002, 0.21, 0.23, 0.36, 0.25,0.152871, 0.408125, 0.321763, 0.15]\n",
    "    #initial_pops = [0.2, 0.2, 0.4, 0.2, 0.2, 0.2, 0.2, 0.4, 0.2, 0.2, 0.2, 0.2, 0.4, 0.2]\n",
    "    system = DM.n_thermal_qbits(initial_pops)\n",
    "    connectivity = \"cN_2local\"\n",
    "    unitary_energy_subspace = 1\n",
    "    ordering_seed = 1\n",
    "    chunk_size = 2\n",
    "    order_rule_name = \"greedy\"\n",
    "    num_steps = 500\n",
    "    data = cleo.execute(file_name=\"greedy\",\n",
    "                       connectivity=connectivity,\n",
    "                       order_rule_name = order_rule_name, \n",
    "                       unitary_seed=unitary_seed,\n",
    "                       unitary_energy_subspace=unitary_energy_subspace,\n",
    "                       evolution_generation_type=\"haar2Qunitary\",\n",
    "                       chunk_size=chunk_size,\n",
    "                       num_steps=num_steps,\n",
    "                       initial_pops=initial_pops,\n",
    "                       verbosity = .9)"
   ]
  },
  {
   "cell_type": "code",
   "execution_count": null,
   "id": "06343074-d1db-44c1-ae9f-decd2594369d",
   "metadata": {},
   "outputs": [],
   "source": [
    "import sys as SYS; SYS.path.insert(0, '../..')\n",
    "from Scripts import hdf5merge\n",
    "hdf5merge.merge_hdf5_files(\"../data/greedy\")"
   ]
  },
  {
   "cell_type": "code",
   "execution_count": null,
   "id": "ba40b6e6-6a41-456e-866a-09c36fd0d4f6",
   "metadata": {},
   "outputs": [],
   "source": [
    "Trials = 1\n",
    "for unitary_seed in range(Trials):\n",
    "    initial_pops = [0.25, 0.43, 0.31, 0.23, 0.28, 0.32002, 0.21, 0.23, 0.36, 0.25,0.152871, 0.408125, 0.321763, 0.15]\n",
    "    #initial_pops = [0.2, 0.2, 0.4, 0.2, 0.2, 0.2, 0.2, 0.4, 0.2, 0.2, 0.2, 0.2, 0.4, 0.2]\n",
    "    system = DM.n_thermal_qbits(initial_pops)\n",
    "    connectivity = \"c2_2local\"\n",
    "    unitary_energy_subspace = 1\n",
    "    ordering_seed = 1\n",
    "    chunk_size = 2\n",
    "    order_rule_name = \"mimic\"\n",
    "    num_steps = 500\n",
    "    data = cleo.execute(file_name=\"mimic\",\n",
    "                       connectivity=connectivity,\n",
    "                       order_rule_name = order_rule_name, \n",
    "                       unitary_seed=unitary_seed,\n",
    "                       unitary_energy_subspace=unitary_energy_subspace,\n",
    "                       evolution_generation_type=\"haar2Qunitary\",\n",
    "                       chunk_size=chunk_size,\n",
    "                       num_steps=num_steps,\n",
    "                       initial_pops=initial_pops,\n",
    "                       verbosity = .9)"
   ]
  },
  {
   "cell_type": "code",
   "execution_count": null,
   "id": "66bedc0b-262e-4a6f-91d2-96fbb41bb893",
   "metadata": {},
   "outputs": [],
   "source": [
    "Trials = 1\n",
    "for unitary_seed in range(Trials):\n",
    "    initial_pops = [0.25, 0.43, 0.31, 0.23, 0.28, 0.32002, 0.21, 0.23, 0.36, 0.25,0.152871, 0.408125, 0.321763, 0.15]\n",
    "    #initial_pops = [0.2, 0.2, 0.4, 0.2, 0.2, 0.2, 0.2, 0.4, 0.2, 0.2, 0.2, 0.2, 0.4, 0.2]\n",
    "    system = DM.n_thermal_qbits(initial_pops)\n",
    "    connectivity = \"c4_2local\"\n",
    "    unitary_energy_subspace = 1\n",
    "    ordering_seed = 1\n",
    "    chunk_size = 2\n",
    "    order_rule_name = \"mimic\"\n",
    "    num_steps = 500\n",
    "    data = cleo.execute(file_name=\"mimic\",\n",
    "                       connectivity=connectivity,\n",
    "                       order_rule_name = order_rule_name, \n",
    "                       unitary_seed=unitary_seed,\n",
    "                       unitary_energy_subspace=unitary_energy_subspace,\n",
    "                       evolution_generation_type=\"haar2Qunitary\",\n",
    "                       chunk_size=chunk_size,\n",
    "                       num_steps=num_steps,\n",
    "                       initial_pops=initial_pops,\n",
    "                       verbosity = .9)"
   ]
  },
  {
   "cell_type": "code",
   "execution_count": null,
   "id": "03cc5774-39c2-48b9-b74b-798a544d1dbc",
   "metadata": {},
   "outputs": [],
   "source": [
    "Trials = 1\n",
    "for unitary_seed in range(Trials):\n",
    "    initial_pops = [0.25, 0.43, 0.31, 0.23, 0.28, 0.32002, 0.21, 0.23, 0.36, 0.25,0.152871, 0.408125, 0.321763, 0.15]\n",
    "    #initial_pops = [0.2, 0.2, 0.4, 0.2, 0.2, 0.2, 0.2, 0.4, 0.2, 0.2, 0.2, 0.2, 0.4, 0.2]\n",
    "    system = DM.n_thermal_qbits(initial_pops)\n",
    "    connectivity = \"c5_2local\"\n",
    "    unitary_energy_subspace = 1\n",
    "    ordering_seed = 1\n",
    "    chunk_size = 2\n",
    "    order_rule_name = \"mimic\"\n",
    "    num_steps = 500\n",
    "    data = cleo.execute(file_name=\"mimic\",\n",
    "                       connectivity=connectivity,\n",
    "                       order_rule_name = order_rule_name, \n",
    "                       unitary_seed=unitary_seed,\n",
    "                       unitary_energy_subspace=unitary_energy_subspace,\n",
    "                       evolution_generation_type=\"haar2Qunitary\",\n",
    "                       chunk_size=chunk_size,\n",
    "                       num_steps=num_steps,\n",
    "                       initial_pops=initial_pops,\n",
    "                       verbosity = .9)"
   ]
  },
  {
   "cell_type": "code",
   "execution_count": null,
   "id": "c8e599c6-29eb-44fb-b163-7bac5c857def",
   "metadata": {},
   "outputs": [],
   "source": [
    "Trials = 1\n",
    "for unitary_seed in range(Trials):\n",
    "    initial_pops = [0.25, 0.43, 0.31, 0.23, 0.28, 0.32002, 0.21, 0.23, 0.36, 0.25,0.152871, 0.408125, 0.321763, 0.15]\n",
    "    #initial_pops = [0.2, 0.2, 0.4, 0.2, 0.2, 0.2, 0.2, 0.4, 0.2, 0.2, 0.2, 0.2, 0.4, 0.2]\n",
    "    system = DM.n_thermal_qbits(initial_pops)\n",
    "    connectivity = \"c6_2local\"\n",
    "    unitary_energy_subspace = 1\n",
    "    ordering_seed = 1\n",
    "    chunk_size = 2\n",
    "    order_rule_name = \"mimic\"\n",
    "    num_steps = 500\n",
    "    data = cleo.execute(file_name=\"mimic\",\n",
    "                       connectivity=connectivity,\n",
    "                       order_rule_name = order_rule_name, \n",
    "                       unitary_seed=unitary_seed,\n",
    "                       unitary_energy_subspace=unitary_energy_subspace,\n",
    "                       evolution_generation_type=\"haar2Qunitary\",\n",
    "                       chunk_size=chunk_size,\n",
    "                       num_steps=num_steps,\n",
    "                       initial_pops=initial_pops,\n",
    "                       verbosity = .9)"
   ]
  },
  {
   "cell_type": "code",
   "execution_count": null,
   "id": "c605c750-600e-4ee2-9c80-7707a1f62334",
   "metadata": {},
   "outputs": [],
   "source": [
    "Trials = 1\n",
    "for unitary_seed in range(Trials):\n",
    "    initial_pops = [0.25, 0.43, 0.31, 0.23, 0.28, 0.32002, 0.21, 0.23, 0.36, 0.25,0.152871, 0.408125, 0.321763, 0.15]\n",
    "    #initial_pops = [0.2, 0.2, 0.4, 0.2, 0.2, 0.2, 0.2, 0.4, 0.2, 0.2, 0.2, 0.2, 0.4, 0.2]\n",
    "    system = DM.n_thermal_qbits(initial_pops)\n",
    "    connectivity = \"cN_2local\"\n",
    "    unitary_energy_subspace = 1\n",
    "    ordering_seed = 1\n",
    "    chunk_size = 2\n",
    "    order_rule_name = \"mimic\"\n",
    "    num_steps = 500\n",
    "    data = cleo.execute(file_name=\"mimic\",\n",
    "                       connectivity=connectivity,\n",
    "                       order_rule_name = order_rule_name, \n",
    "                       unitary_seed=unitary_seed,\n",
    "                       unitary_energy_subspace=unitary_energy_subspace,\n",
    "                       evolution_generation_type=\"haar2Qunitary\",\n",
    "                       chunk_size=chunk_size,\n",
    "                       num_steps=num_steps,\n",
    "                       initial_pops=initial_pops,\n",
    "                       verbosity = .9)"
   ]
  },
  {
   "cell_type": "code",
   "execution_count": null,
   "id": "59e1ae6b-0706-4353-a3a5-f4e717c40853",
   "metadata": {},
   "outputs": [],
   "source": [
    "import sys as SYS; SYS.path.insert(0, '../..')\n",
    "from Scripts import hdf5merge\n",
    "hdf5merge.merge_hdf5_files(\"../data/mimic\")"
   ]
  },
  {
   "cell_type": "code",
   "execution_count": null,
   "id": "e42b84b4-6857-453a-abd2-b5e32e232332",
   "metadata": {},
   "outputs": [],
   "source": [
    "Trials = 1\n",
    "for unitary_seed in range(Trials):\n",
    "    initial_pops = [0.25, 0.43, 0.31, 0.23, 0.28, 0.32002, 0.21, 0.23, 0.36, 0.25,0.152871, 0.408125, 0.321763, 0.15]\n",
    "    #initial_pops = [0.2, 0.2, 0.4, 0.2, 0.2, 0.2, 0.2, 0.4, 0.2, 0.2, 0.2, 0.2, 0.4, 0.2]\n",
    "    system = DM.n_thermal_qbits(initial_pops)\n",
    "    connectivity = \"c2_2local\"\n",
    "    unitary_energy_subspace = 1\n",
    "    ordering_seed = 1\n",
    "    chunk_size = 2\n",
    "    order_rule_name = \"landscape_maximizes\"\n",
    "    num_steps = 500\n",
    "    data = cleo.execute(file_name=\"landscape_maximizes\",\n",
    "                       connectivity=connectivity,\n",
    "                       order_rule_name = order_rule_name, \n",
    "                       unitary_seed=unitary_seed,\n",
    "                       unitary_energy_subspace=unitary_energy_subspace,\n",
    "                       evolution_generation_type=\"haar2Qunitary\",\n",
    "                       chunk_size=chunk_size,\n",
    "                       num_steps=num_steps,\n",
    "                       initial_pops=initial_pops,\n",
    "                       verbosity = .9)"
   ]
  },
  {
   "cell_type": "code",
   "execution_count": null,
   "id": "fda75c1c-26a9-4a70-98d7-9c117eb0f57f",
   "metadata": {},
   "outputs": [],
   "source": [
    "Trials = 1\n",
    "for unitary_seed in range(Trials):\n",
    "    initial_pops = [0.25, 0.43, 0.31, 0.23, 0.28, 0.32002, 0.21, 0.23, 0.36, 0.25,0.152871, 0.408125, 0.321763, 0.15]\n",
    "    #initial_pops = [0.2, 0.2, 0.4, 0.2, 0.2, 0.2, 0.2, 0.4, 0.2, 0.2, 0.2, 0.2, 0.4, 0.2]\n",
    "    #initial_pops = [0.4,.2,.2,.4, 0.2, .2, .2, .2,0.4,0.2,0.2,0.2]\n",
    "    system = DM.n_thermal_qbits(initial_pops)\n",
    "    connectivity = \"c4_2local\"\n",
    "    unitary_energy_subspace = 1\n",
    "    ordering_seed = 1\n",
    "    chunk_size = 2\n",
    "    order_rule_name = \"landscape_maximizes\"\n",
    "    num_steps = 500\n",
    "    data = cleo.execute(file_name=\"landscape_maximizes\",\n",
    "                       connectivity=connectivity,\n",
    "                       order_rule_name = order_rule_name, \n",
    "                       unitary_seed=unitary_seed,\n",
    "                       unitary_energy_subspace=unitary_energy_subspace,\n",
    "                       evolution_generation_type=\"haar2Qunitary\",\n",
    "                       chunk_size=chunk_size,\n",
    "                       num_steps=num_steps,\n",
    "                       initial_pops=initial_pops,\n",
    "                       verbosity = .9)"
   ]
  },
  {
   "cell_type": "code",
   "execution_count": null,
   "id": "54bc92b1-1108-4180-914d-8c7888165591",
   "metadata": {},
   "outputs": [],
   "source": [
    "Trials = 1\n",
    "for unitary_seed in range(Trials):\n",
    "    initial_pops = [0.25, 0.43, 0.31, 0.23, 0.28, 0.32002, 0.21, 0.23, 0.36, 0.25,0.152871, 0.408125, 0.321763, 0.15]\n",
    "    #initial_pops = [0.2, 0.2, 0.4, 0.2, 0.2, 0.2, 0.2, 0.4, 0.2, 0.2, 0.2, 0.2, 0.4, 0.2]\n",
    "    system = DM.n_thermal_qbits(initial_pops)\n",
    "    connectivity = \"c5_2local\"\n",
    "    unitary_energy_subspace = 1\n",
    "    ordering_seed = 1\n",
    "    chunk_size = 2\n",
    "    order_rule_name = \"landscape_maximizes\"\n",
    "    num_steps = 500\n",
    "    data = cleo.execute(file_name=\"landscape_maximizes\",\n",
    "                       connectivity=connectivity,\n",
    "                       order_rule_name = order_rule_name, \n",
    "                       unitary_seed=unitary_seed,\n",
    "                       unitary_energy_subspace=unitary_energy_subspace,\n",
    "                       evolution_generation_type=\"haar2Qunitary\",\n",
    "                       chunk_size=chunk_size,\n",
    "                       num_steps=num_steps,\n",
    "                       initial_pops=initial_pops,\n",
    "                       verbosity = .9)"
   ]
  },
  {
   "cell_type": "code",
   "execution_count": null,
   "id": "3294890f-af44-40a6-89a5-0ecc33bf082f",
   "metadata": {},
   "outputs": [],
   "source": [
    "Trials = 1\n",
    "for unitary_seed in range(Trials):\n",
    "    initial_pops = [0.25, 0.43, 0.31, 0.23, 0.28, 0.32002, 0.21, 0.23, 0.36, 0.25,0.152871, 0.408125, 0.321763, 0.15]\n",
    "    #initial_pops = [0.2, 0.2, 0.4, 0.2, 0.2, 0.2, 0.2, 0.4, 0.2, 0.2, 0.2, 0.2, 0.4, 0.2]\n",
    "    system = DM.n_thermal_qbits(initial_pops)\n",
    "    connectivity = \"c6_2local\"\n",
    "    unitary_energy_subspace = 1\n",
    "    ordering_seed = 1\n",
    "    chunk_size = 2\n",
    "    order_rule_name = \"landscape_maximizes\"\n",
    "    num_steps = 500\n",
    "    data = cleo.execute(file_name=\"landscape_maximizes\",\n",
    "                       connectivity=connectivity,\n",
    "                       order_rule_name = order_rule_name, \n",
    "                       unitary_seed=unitary_seed,\n",
    "                       unitary_energy_subspace=unitary_energy_subspace,\n",
    "                       evolution_generation_type=\"haar2Qunitary\",\n",
    "                       chunk_size=chunk_size,\n",
    "                       num_steps=num_steps,\n",
    "                       initial_pops=initial_pops,\n",
    "                       verbosity = .9)"
   ]
  },
  {
   "cell_type": "code",
   "execution_count": null,
   "id": "f4ee1d6b-ede1-4676-a133-44a9afdbef0f",
   "metadata": {},
   "outputs": [],
   "source": [
    "Trials = 1\n",
    "for unitary_seed in range(Trials):\n",
    "    initial_pops = [0.25, 0.43, 0.31, 0.23, 0.28, 0.32002, 0.21, 0.23, 0.36, 0.25,0.152871, 0.408125, 0.321763, 0.15]\n",
    "    #initial_pops = [0.2, 0.2, 0.4, 0.2, 0.2, 0.2, 0.2, 0.4, 0.2, 0.2, 0.2, 0.2, 0.4, 0.2]\n",
    "    system = DM.n_thermal_qbits(initial_pops)\n",
    "    connectivity = \"cN_2local\"\n",
    "    unitary_energy_subspace = 1\n",
    "    ordering_seed = 1\n",
    "    chunk_size = 2\n",
    "    order_rule_name = \"landscape_maximizes\"\n",
    "    num_steps = 500\n",
    "    data = cleo.execute(file_name=\"landscape_maximizes\",\n",
    "                       connectivity=connectivity,\n",
    "                       order_rule_name = order_rule_name, \n",
    "                       unitary_seed=unitary_seed,\n",
    "                       unitary_energy_subspace=unitary_energy_subspace,\n",
    "                       evolution_generation_type=\"haar2Qunitary\",\n",
    "                       chunk_size=chunk_size,\n",
    "                       num_steps=num_steps,\n",
    "                       initial_pops=initial_pops,\n",
    "                       verbosity = .9)"
   ]
  },
  {
   "cell_type": "code",
   "execution_count": null,
   "id": "0299af18-b014-49e1-8d5c-c0f89e6470f9",
   "metadata": {},
   "outputs": [],
   "source": [
    "import sys as SYS; SYS.path.insert(0, '../..')\n",
    "from Scripts import hdf5merge\n",
    "hdf5merge.merge_hdf5_files(\"../data/landscape_maximizes\")"
   ]
  },
  {
   "cell_type": "code",
   "execution_count": null,
   "id": "28287915-db1d-4323-b775-6273c4adba7d",
   "metadata": {},
   "outputs": [],
   "source": []
  },
  {
   "cell_type": "code",
   "execution_count": null,
   "id": "614639ab-f8ba-450d-a237-d75e7717de95",
   "metadata": {},
   "outputs": [],
   "source": []
  },
  {
   "cell_type": "code",
   "execution_count": null,
   "id": "4bd16121-846a-49ff-b9d5-6895e331b279",
   "metadata": {},
   "outputs": [],
   "source": []
  },
  {
   "cell_type": "code",
   "execution_count": null,
   "id": "e899ca93-4707-4b3d-92b8-dfe10c41d4ff",
   "metadata": {},
   "outputs": [],
   "source": []
  }
 ],
 "metadata": {
  "kernelspec": {
   "display_name": "Python 3 (ipykernel)",
   "language": "python",
   "name": "python3"
  },
  "language_info": {
   "codemirror_mode": {
    "name": "ipython",
    "version": 3
   },
   "file_extension": ".py",
   "mimetype": "text/x-python",
   "name": "python",
   "nbconvert_exporter": "python",
   "pygments_lexer": "ipython3",
   "version": "3.11.7"
  }
 },
 "nbformat": 4,
 "nbformat_minor": 5
}
