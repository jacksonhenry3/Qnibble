{
 "cells": [
  {
   "cell_type": "code",
   "execution_count": 1,
   "id": "20dc9393",
   "metadata": {},
   "outputs": [],
   "source": [
    "# Add directory above current directory to path\n",
    "import sys as SYS; SYS.path.insert(0, '../..')\n",
    "import os"
   ]
  },
  {
   "cell_type": "code",
   "execution_count": 2,
   "id": "81120c09",
   "metadata": {},
   "outputs": [],
   "source": [
    "from src.ket import Ket,Basis"
   ]
  },
  {
   "cell_type": "code",
   "execution_count": 3,
   "id": "0640b260",
   "metadata": {},
   "outputs": [],
   "source": [
    "import matplotlib.pyplot as plt\n",
    "def disp_basis(basis):\n",
    "    plt.imshow([[k.num for k in basis]], cmap = \"coolwarm\")\n",
    "    plt.axis('off')"
   ]
  },
  {
   "cell_type": "code",
   "execution_count": 4,
   "id": "7b89679f",
   "metadata": {},
   "outputs": [
    {
     "data": {
      "text/plain": [
       "['0', '1', '0', '1']"
      ]
     },
     "execution_count": 4,
     "metadata": {},
     "output_type": "execute_result"
    }
   ],
   "source": [
    "example_ket = Ket(int('0b0101', 2),4)\n",
    "example_ket.data()"
   ]
  },
  {
   "cell_type": "code",
   "execution_count": 5,
   "id": "fcbc8690",
   "metadata": {},
   "outputs": [
    {
     "name": "stdout",
     "output_type": "stream",
     "text": [
      "|5,2:↓↑↓↑⟩\n"
     ]
    }
   ],
   "source": [
    "print(example_ket)"
   ]
  },
  {
   "cell_type": "markdown",
   "id": "9b70a2db",
   "metadata": {},
   "source": [
    "|num,energy subspace:qbit configuration⟩"
   ]
  },
  {
   "cell_type": "markdown",
   "id": "baa95b06",
   "metadata": {},
   "source": [
    "A basis is a tuple of kets. There are very few safeties on this."
   ]
  },
  {
   "cell_type": "code",
   "execution_count": 6,
   "id": "e720b016",
   "metadata": {},
   "outputs": [
    {
     "data": {
      "text/plain": [
       "[5 5 5]"
      ]
     },
     "execution_count": 6,
     "metadata": {},
     "output_type": "execute_result"
    }
   ],
   "source": [
    "Basis([example_ket,example_ket,example_ket])"
   ]
  },
  {
   "cell_type": "markdown",
   "id": "55976464",
   "metadata": {},
   "source": [
    "A better example might be"
   ]
  },
  {
   "cell_type": "code",
   "execution_count": 8,
   "id": "b7eddf12",
   "metadata": {},
   "outputs": [
    {
     "name": "stdout",
     "output_type": "stream",
     "text": [
      "[0 1 2 3]\n"
     ]
    },
    {
     "data": {
      "image/png": "[encoded data removed]",
      "text/plain": [
       "<Figure size 640x480 with 1 Axes>"
      ]
     },
     "metadata": {},
     "output_type": "display_data"
    }
   ],
   "source": [
    "b = Basis([Ket(0,2),Ket(1,2),Ket(2,2),Ket(3,2)])\n",
    "print(b)\n",
    "disp_basis(b)"
   ]
  },
  {
   "cell_type": "code",
   "execution_count": 9,
   "id": "3198d32e",
   "metadata": {},
   "outputs": [
    {
     "name": "stdout",
     "output_type": "stream",
     "text": [
      "|0,0:↓↓⟩\n",
      "|1,1:↓↑⟩\n",
      "|2,1:↑↓⟩\n",
      "|3,2:↑↑⟩\n"
     ]
    }
   ],
   "source": [
    "for k in b:\n",
    "    print(k)"
   ]
  },
  {
   "cell_type": "markdown",
   "id": "08ac3450",
   "metadata": {},
   "source": [
    "This basis is in \"canonical\" or \"numerical\" order."
   ]
  },
  {
   "cell_type": "code",
   "execution_count": 10,
   "id": "16a15eb6",
   "metadata": {},
   "outputs": [],
   "source": [
    "from src.ket import canonical_basis"
   ]
  },
  {
   "cell_type": "code",
   "execution_count": 11,
   "id": "857e8267",
   "metadata": {},
   "outputs": [
    {
     "name": "stdout",
     "output_type": "stream",
     "text": [
      "|0,0:↓↓↓⟩\n",
      "|1,1:↓↓↑⟩\n",
      "|2,1:↓↑↓⟩\n",
      "|3,2:↓↑↑⟩\n",
      "|4,1:↑↓↓⟩\n",
      "|5,2:↑↓↑⟩\n",
      "|6,2:↑↑↓⟩\n",
      "|7,3:↑↑↑⟩\n"
     ]
    },
    {
     "data": {
      "image/png": "[encoded data removed]",
      "text/plain": [
       "<Figure size 640x480 with 1 Axes>"
      ]
     },
     "metadata": {},
     "output_type": "display_data"
    }
   ],
   "source": [
    "b = canonical_basis(3)\n",
    "for k in b:\n",
    "    print(k)\n",
    "disp_basis(b)"
   ]
  },
  {
   "cell_type": "markdown",
   "id": "15d438af",
   "metadata": {},
   "source": [
    "Becouse we will be considering energy preserving unitaries it is also usefull to have states with the same energy grouped together. "
   ]
  },
  {
   "cell_type": "code",
   "execution_count": 12,
   "id": "cfef50dd",
   "metadata": {},
   "outputs": [],
   "source": [
    "from src.ket import energy_basis"
   ]
  },
  {
   "cell_type": "code",
   "execution_count": 13,
   "id": "642ee632",
   "metadata": {},
   "outputs": [
    {
     "name": "stdout",
     "output_type": "stream",
     "text": [
      "|0,0:↓↓↓⟩\n",
      "|1,1:↓↓↑⟩\n",
      "|2,1:↓↑↓⟩\n",
      "|4,1:↑↓↓⟩\n",
      "|3,2:↓↑↑⟩\n",
      "|5,2:↑↓↑⟩\n",
      "|6,2:↑↑↓⟩\n",
      "|7,3:↑↑↑⟩\n",
      "[0 1 2 4 3 5 6 7]\n"
     ]
    },
    {
     "data": {
      "image/png": "[encoded data removed]",
      "text/plain": [
       "<Figure size 640x480 with 1 Axes>"
      ]
     },
     "metadata": {},
     "output_type": "display_data"
    }
   ],
   "source": [
    "b = energy_basis(3)\n",
    "for k in b:\n",
    "    print(k)\n",
    "print(b)\n",
    "disp_basis(b)"
   ]
  },
  {
   "cell_type": "code",
   "execution_count": 14,
   "id": "2834ba5d",
   "metadata": {},
   "outputs": [
    {
     "name": "stdout",
     "output_type": "stream",
     "text": [
      "[0 1 2 4 8 16 32 64 3 5 6 9 10 12 17 18 20 24 33 34 36 40 48 65 66 68 72 80 96 7 11 13 14 19 21 22 25 26 28 35 37 38 41 42 44 49 50 52 56 67 69 70 73 74 76 81 82 84 88 97 98 100 104 112 15 23 27 29 30 39 43 45 46 51 53 54 57 58 60 71 75 77 78 83 85 86 89 90 92 99 101 102 105 106 108 113 114 116 120 31 47 55 59 61 62 79 87 91 93 94 103 107 109 110 115 117 118 121 122 124 63 95 111 119 123 125 126 127]\n"
     ]
    },
    {
     "data": {
      "image/png": "[encoded data removed]",
      "text/plain": [
       "<Figure size 640x480 with 1 Axes>"
      ]
     },
     "metadata": {},
     "output_type": "display_data"
    }
   ],
   "source": [
    "print(energy_basis(7))\n",
    "disp_basis(energy_basis(7))"
   ]
  },
  {
   "cell_type": "markdown",
   "id": "00592a1e",
   "metadata": {},
   "source": [
    "we can also change basis just by reordering."
   ]
  },
  {
   "cell_type": "code",
   "execution_count": 15,
   "id": "b9305a44",
   "metadata": {},
   "outputs": [
    {
     "data": {
      "text/plain": [
       "True"
      ]
     },
     "execution_count": 15,
     "metadata": {},
     "output_type": "execute_result"
    }
   ],
   "source": [
    "canonical_basis(3).reorder([0,1,2,4,3,5,6,7]) == energy_basis(3)"
   ]
  },
  {
   "cell_type": "markdown",
   "id": "b6201a92",
   "metadata": {},
   "source": [
    "New basis can be created by tensoring two existing basis"
   ]
  },
  {
   "cell_type": "code",
   "execution_count": 16,
   "id": "275403f2",
   "metadata": {},
   "outputs": [
    {
     "data": {
      "image/png": "[encoded data removed]",
      "text/plain": [
       "<Figure size 640x480 with 1 Axes>"
      ]
     },
     "metadata": {},
     "output_type": "display_data"
    }
   ],
   "source": [
    "b = canonical_basis(3).tensor(canonical_basis(3))\n",
    "disp_basis(b)"
   ]
  },
  {
   "cell_type": "code",
   "execution_count": 17,
   "id": "7d196cea",
   "metadata": {},
   "outputs": [
    {
     "data": {
      "text/plain": [
       "True"
      ]
     },
     "execution_count": 17,
     "metadata": {},
     "output_type": "execute_result"
    }
   ],
   "source": [
    "b == canonical_basis(6)"
   ]
  },
  {
   "cell_type": "markdown",
   "id": "4cf94ca2",
   "metadata": {},
   "source": [
    "A nice property of the numerical basis is that it is preserverd during tensor products. Where as the energy basis is broken."
   ]
  },
  {
   "cell_type": "code",
   "execution_count": 18,
   "id": "a979a8ab",
   "metadata": {},
   "outputs": [
    {
     "data": {
      "image/png": "[encoded data removed]",
      "text/plain": [
       "<Figure size 640x480 with 1 Axes>"
      ]
     },
     "metadata": {},
     "output_type": "display_data"
    }
   ],
   "source": [
    "b = energy_basis(3).tensor(energy_basis(3))\n",
    "disp_basis(b)"
   ]
  },
  {
   "cell_type": "code",
   "execution_count": 19,
   "id": "efdeb967",
   "metadata": {},
   "outputs": [
    {
     "data": {
      "text/plain": [
       "False"
      ]
     },
     "execution_count": 19,
     "metadata": {},
     "output_type": "execute_result"
    }
   ],
   "source": [
    "b == energy_basis(6)"
   ]
  }
 ],
 "metadata": {
  "kernelspec": {
   "display_name": "PyCharm (Qnibble)",
   "language": "python",
   "name": "pycharm-c82c9ad0"
  },
  "language_info": {
   "codemirror_mode": {
    "name": "ipython",
    "version": 3
   },
   "file_extension": ".py",
   "mimetype": "text/x-python",
   "name": "python",
   "nbconvert_exporter": "python",
   "pygments_lexer": "ipython3",
   "version": "3.10.4"
  }
 },
 "nbformat": 4,
 "nbformat_minor": 5
}
