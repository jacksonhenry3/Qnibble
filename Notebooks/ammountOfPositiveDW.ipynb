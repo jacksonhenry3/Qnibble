{
 "cells": [
  {
   "cell_type": "code",
   "execution_count": 1,
   "id": "0ec17b33-d28d-4708-b482-5e13127790ca",
   "metadata": {},
   "outputs": [],
   "source": [
    "# Add directory above current directory to path\n",
    "import sys as SYS; SYS.path.insert(0, '..')\n",
    "import os"
   ]
  },
  {
   "cell_type": "code",
   "execution_count": 2,
   "id": "59c5a8ea-72fa-44ec-b80f-21fb2faee9b0",
   "metadata": {},
   "outputs": [],
   "source": [
    "from src import ( \n",
    "    measurements as measure,\n",
    "    density_matrix as DM,\n",
    "    simulation as sim,\n",
    "    orders)"
   ]
  },
  {
   "cell_type": "code",
   "execution_count": 3,
   "id": "248bdb14-b9dd-40e4-9a6b-ea2a4cf4d62d",
   "metadata": {},
   "outputs": [],
   "source": [
    "N = 8\n",
    "num_chunks = 2\n",
    "measurments = [measure.pops,measure.extractable_work_of_each_qubit]\n",
    "ordering = orders.n_random_line_orders(line_length = 4,n = 50)\n",
    "initial_pops = [.2 for _ in range(N)]\n",
    "initial_pops[5] = .4"
   ]
  },
  {
   "cell_type": "code",
   "execution_count": 4,
   "id": "762997d2-4738-4b6d-8fd0-8cc1282e4d8b",
   "metadata": {},
   "outputs": [
    {
     "name": "stdout",
     "output_type": "stream",
     "text": [
      "using random unitaries\n"
     ]
    },
    {
     "ename": "ValueError",
     "evalue": "Expected 1D or 2D array, got 3D array instead",
     "output_type": "error",
     "traceback": [
      "\u001B[1;31m---------------------------------------------------------------------------\u001B[0m",
      "\u001B[1;31mValueError\u001B[0m                                Traceback (most recent call last)",
      "Input \u001B[1;32mIn [4]\u001B[0m, in \u001B[0;36m<cell line: 1>\u001B[1;34m()\u001B[0m\n\u001B[0;32m      4\u001B[0m system\u001B[38;5;241m.\u001B[39mchange_to_energy_basis()\n\u001B[0;32m      6\u001B[0m results \u001B[38;5;241m=\u001B[39m sim\u001B[38;5;241m.\u001B[39mrun(system,\n\u001B[0;32m      7\u001B[0m                   measurement_set \u001B[38;5;241m=\u001B[39m [measure\u001B[38;5;241m.\u001B[39mpops,measure\u001B[38;5;241m.\u001B[39mextractable_work_of_each_qubit],\n\u001B[0;32m      8\u001B[0m                   num_iterations\u001B[38;5;241m=\u001B[39m\u001B[38;5;241m100\u001B[39m,\n\u001B[0;32m      9\u001B[0m                   num_chunks\u001B[38;5;241m=\u001B[39mnum_chunks,\n\u001B[0;32m     10\u001B[0m                   orders \u001B[38;5;241m=\u001B[39m [[\u001B[38;5;241m0\u001B[39m,\u001B[38;5;241m1\u001B[39m,\u001B[38;5;241m2\u001B[39m,\u001B[38;5;241m3\u001B[39m,\u001B[38;5;241m4\u001B[39m,\u001B[38;5;241m5\u001B[39m,\u001B[38;5;241m6\u001B[39m,\u001B[38;5;241m7\u001B[39m],[\u001B[38;5;241m0\u001B[39m,\u001B[38;5;241m1\u001B[39m,\u001B[38;5;241m2\u001B[39m,\u001B[38;5;241m4\u001B[39m,\u001B[38;5;241m3\u001B[39m,\u001B[38;5;241m5\u001B[39m,\u001B[38;5;241m6\u001B[39m,\u001B[38;5;241m7\u001B[39m]]);\n\u001B[1;32m---> 12\u001B[0m \u001B[43msim\u001B[49m\u001B[38;5;241;43m.\u001B[39;49m\u001B[43msave_data\u001B[49m\u001B[43m(\u001B[49m\u001B[43mresults\u001B[49m\u001B[43m[\u001B[49m\u001B[38;5;241;43m0\u001B[39;49m\u001B[43m]\u001B[49m\u001B[43m,\u001B[49m\u001B[43m \u001B[49m\u001B[43mN\u001B[49m\u001B[43m,\u001B[49m\u001B[43m \u001B[49m\u001B[38;5;124;43m\"\u001B[39;49m\u001B[38;5;124;43mpops\u001B[39;49m\u001B[38;5;124;43m\"\u001B[39;49m\u001B[43m \u001B[49m\u001B[43m,\u001B[49m\u001B[43mnum_chunks\u001B[49m\u001B[43m,\u001B[49m\u001B[38;5;124;43m\"\u001B[39;49m\u001B[38;5;124;43mmess_with_same_uni\u001B[39;49m\u001B[38;5;124;43m\"\u001B[39;49m\u001B[43m,\u001B[49m\u001B[43mindex\u001B[49m\u001B[43m,\u001B[49m\u001B[38;5;241;43m0\u001B[39;49m\u001B[43m)\u001B[49m\n\u001B[0;32m     13\u001B[0m sim\u001B[38;5;241m.\u001B[39msave_data(results[\u001B[38;5;241m1\u001B[39m], N, \u001B[38;5;124m\"\u001B[39m\u001B[38;5;124mextractable_work\u001B[39m\u001B[38;5;124m\"\u001B[39m,num_chunks,\u001B[38;5;124m\"\u001B[39m\u001B[38;5;124mmess_with_same_uni\u001B[39m\u001B[38;5;124m\"\u001B[39m,index,\u001B[38;5;241m0\u001B[39m)\n",
      "File \u001B[1;32m~\\Documents\\GitHub\\Qnibble\\Notebooks\\..\\src\\simulation.py:109\u001B[0m, in \u001B[0;36msave_data\u001B[1;34m(data, num_qbits, measurement, num_chunks, connectivity_type, run_index, sim_index, extra)\u001B[0m\n\u001B[0;32m    107\u001B[0m     os\u001B[38;5;241m.\u001B[39mmkdir(path)\n\u001B[0;32m    108\u001B[0m file_name \u001B[38;5;241m=\u001B[39m path \u001B[38;5;241m+\u001B[39m \u001B[38;5;124mf\u001B[39m\u001B[38;5;124m\"\u001B[39m\u001B[38;5;124m/\u001B[39m\u001B[38;5;132;01m{\u001B[39;00mmeasurement\u001B[38;5;132;01m}\u001B[39;00m\u001B[38;5;124m_\u001B[39m\u001B[38;5;132;01m{\u001B[39;00mrun_index\u001B[38;5;132;01m}\u001B[39;00m\u001B[38;5;124m.dat\u001B[39m\u001B[38;5;124m\"\u001B[39m\n\u001B[1;32m--> 109\u001B[0m \u001B[43mnp\u001B[49m\u001B[38;5;241;43m.\u001B[39;49m\u001B[43msavetxt\u001B[49m\u001B[43m(\u001B[49m\u001B[43mfile_name\u001B[49m\u001B[43m,\u001B[49m\u001B[43m \u001B[49m\u001B[43mdata\u001B[49m\u001B[43m,\u001B[49m\u001B[43m \u001B[49m\u001B[43mheader\u001B[49m\u001B[38;5;241;43m=\u001B[39;49m\u001B[38;5;124;43mf\u001B[39;49m\u001B[38;5;124;43m\"\u001B[39;49m\u001B[38;5;132;43;01m{\u001B[39;49;00m\u001B[43mmeasurement\u001B[49m\u001B[38;5;132;43;01m}\u001B[39;49;00m\u001B[38;5;124;43m for \u001B[39;49m\u001B[38;5;132;43;01m{\u001B[39;49;00m\u001B[43mnum_qbits\u001B[49m\u001B[38;5;132;43;01m}\u001B[39;49;00m\u001B[38;5;124;43m qbits with connectivity \u001B[39;49m\u001B[38;5;132;43;01m{\u001B[39;49;00m\u001B[43mconnectivity_type\u001B[49m\u001B[38;5;132;43;01m}\u001B[39;49;00m\u001B[38;5;124;43m in chunks \u001B[39;49m\u001B[38;5;132;43;01m{\u001B[39;49;00m\u001B[43mnum_chunks\u001B[49m\u001B[38;5;132;43;01m}\u001B[39;49;00m\u001B[38;5;124;43m\"\u001B[39;49m\u001B[43m)\u001B[49m\n",
      "File \u001B[1;32m<__array_function__ internals>:5\u001B[0m, in \u001B[0;36msavetxt\u001B[1;34m(*args, **kwargs)\u001B[0m\n",
      "File \u001B[1;32m~\\anaconda3\\envs\\Qnibble\\lib\\site-packages\\numpy\\lib\\npyio.py:1382\u001B[0m, in \u001B[0;36msavetxt\u001B[1;34m(fname, X, fmt, delimiter, newline, header, footer, comments, encoding)\u001B[0m\n\u001B[0;32m   1380\u001B[0m \u001B[38;5;66;03m# Handle 1-dimensional arrays\u001B[39;00m\n\u001B[0;32m   1381\u001B[0m \u001B[38;5;28;01mif\u001B[39;00m X\u001B[38;5;241m.\u001B[39mndim \u001B[38;5;241m==\u001B[39m \u001B[38;5;241m0\u001B[39m \u001B[38;5;129;01mor\u001B[39;00m X\u001B[38;5;241m.\u001B[39mndim \u001B[38;5;241m>\u001B[39m \u001B[38;5;241m2\u001B[39m:\n\u001B[1;32m-> 1382\u001B[0m     \u001B[38;5;28;01mraise\u001B[39;00m \u001B[38;5;167;01mValueError\u001B[39;00m(\n\u001B[0;32m   1383\u001B[0m         \u001B[38;5;124m\"\u001B[39m\u001B[38;5;124mExpected 1D or 2D array, got \u001B[39m\u001B[38;5;132;01m%d\u001B[39;00m\u001B[38;5;124mD array instead\u001B[39m\u001B[38;5;124m\"\u001B[39m \u001B[38;5;241m%\u001B[39m X\u001B[38;5;241m.\u001B[39mndim)\n\u001B[0;32m   1384\u001B[0m \u001B[38;5;28;01melif\u001B[39;00m X\u001B[38;5;241m.\u001B[39mndim \u001B[38;5;241m==\u001B[39m \u001B[38;5;241m1\u001B[39m:\n\u001B[0;32m   1385\u001B[0m     \u001B[38;5;66;03m# Common case -- 1d array of numbers\u001B[39;00m\n\u001B[0;32m   1386\u001B[0m     \u001B[38;5;28;01mif\u001B[39;00m X\u001B[38;5;241m.\u001B[39mdtype\u001B[38;5;241m.\u001B[39mnames \u001B[38;5;129;01mis\u001B[39;00m \u001B[38;5;28;01mNone\u001B[39;00m:\n",
      "\u001B[1;31mValueError\u001B[0m: Expected 1D or 2D array, got 3D array instead"
     ]
    }
   ],
   "source": [
    "for index in range(1):\n",
    "    \n",
    "    system = DM.n_thermal_qbits(initial_pops)\n",
    "    system.change_to_energy_basis()\n",
    "    \n",
    "    results = sim.run(system,\n",
    "                      measurement_set = [measure.pops,measure.extractable_work_of_each_qubit],\n",
    "                      num_iterations=100,\n",
    "                      num_chunks=num_chunks,\n",
    "                      orders = [[0,1,2,3,4,5,6,7],[0,1,2,4,3,5,6,7]]);\n",
    "    \n",
    "    sim.save_data(results[0], N, \"pops\" ,num_chunks,\"mess_with_same_uni\",index,0)\n",
    "    sim.save_data(results[1], N, \"extractable_work\",num_chunks,\"mess_with_same_uni\",index,0)"
   ]
  },
  {
   "cell_type": "code",
   "execution_count": null,
   "id": "13fdfd5b-7085-4e4a-8026-65a4922f457d",
   "metadata": {},
   "outputs": [],
   "source": []
  }
 ],
 "metadata": {
  "kernelspec": {
   "display_name": "PyCharm (Qnibble)",
   "language": "python",
   "name": "pycharm-c82c9ad0"
  },
  "language_info": {
   "codemirror_mode": {
    "name": "ipython",
    "version": 3
   },
   "file_extension": ".py",
   "mimetype": "text/x-python",
   "name": "python",
   "nbconvert_exporter": "python",
   "pygments_lexer": "ipython3",
   "version": "3.10.4"
  }
 },
 "nbformat": 4,
 "nbformat_minor": 5
}