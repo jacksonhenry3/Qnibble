{
 "cells": [
  {
   "cell_type": "code",
   "execution_count": 1,
   "id": "f83ff3f6-3672-4fa4-a1c3-2af0eec25fe8",
   "metadata": {},
   "outputs": [],
   "source": [
    "# Add directory above current directory to path\n",
    "import sys as SYS; SYS.path.insert(0, '..')\n",
    "import os\n",
    "import numpy as np\n",
    "import matplotlib.pyplot as plt\n",
    "from multiprocessing import Pool\n",
    "\n",
    "from src import setup"
   ]
  },
  {
   "cell_type": "code",
   "execution_count": null,
   "id": "3c34d5b7-0f55-4109-8c81-c3dd31ece0ad",
   "metadata": {},
   "outputs": [],
   "source": [
    "sx = np.array([[0,1],[1,0]])\n",
    "sy = np.array([[0,1j],[-1j,0]])"
   ]
  }
 ],
 "metadata": {
  "kernelspec": {
   "display_name": "PyCharm (Qnibble)",
   "language": "python",
   "name": "pycharm-c82c9ad0"
  },
  "language_info": {
   "codemirror_mode": {
    "name": "ipython",
    "version": 3
   },
   "file_extension": ".py",
   "mimetype": "text/x-python",
   "name": "python",
   "nbconvert_exporter": "python",
   "pygments_lexer": "ipython3",
   "version": "3.10.4"
  }
 },
 "nbformat": 4,
 "nbformat_minor": 5
}
