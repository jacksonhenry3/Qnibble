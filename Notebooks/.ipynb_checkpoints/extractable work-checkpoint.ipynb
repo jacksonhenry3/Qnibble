{
 "cells": [
  {
   "cell_type": "code",
   "execution_count": 1,
   "id": "269764e2",
   "metadata": {
    "tags": []
   },
   "outputs": [],
   "source": [
    "# Add directory above current directory to path\n",
    "import sys as SYS; SYS.path.insert(0, '..')"
   ]
  },
  {
   "cell_type": "code",
   "execution_count": 2,
   "id": "d2b978f7",
   "metadata": {
    "tags": []
   },
   "outputs": [],
   "source": [
    "from src.random_hamiltonian import random_unitary\n",
    "import matplotlib.pyplot as plt\n",
    "import numpy as np\n",
    "rng = np.random.default_rng()\n",
    "\n",
    "from src import measurements as measure, density_matrix as DM\n",
    "\n",
    "import time"
   ]
  },
  {
   "cell_type": "code",
   "execution_count": 17,
   "id": "ce6de1b6",
   "metadata": {
    "tags": []
   },
   "outputs": [],
   "source": [
    "def line_order(n):\n",
    "    shift = rng.integers(n)\n",
    "    return lambda:  np.roll(list(range(n)), shift)\n",
    "\n",
    "def random_order(n):\n",
    "    return lambda: rng.permutation(n)\n",
    "\n",
    "def messenger_order_8():\n",
    "    orders = [[0,1,2,3,4,5,6,7],[0,1,2,4,3,5,6,7]]\n",
    "    return lambda: rng.choice(orders)\n",
    "\n",
    "def messenger_order_12_type1_chunk_size_4():\n",
    "    orders = [[0,1,2,3,4,5,6,7,8,9,10,11],[0,1,2,7,4,5,6,3,8,9,10,11],[0,1,2,3,4,5,6,11,8,9,10,7],[0,1,2,11,4,5,6,7,8,9,10,3]]\n",
    "    return lambda: rng.choice(orders)\n",
    "\n",
    "def messenger_order_12_type2_chunk_size_6():\n",
    "    orders = [[0,1,2,3,4,5,6,7,8,9,10,11],[0,1,2,3,4,6,5,7,8,9,10,11]]\n",
    "    return lambda: rng.choice(orders)"
   ]
  },
  {
   "cell_type": "code",
   "execution_count": 18,
   "id": "f3887e95",
   "metadata": {
    "tags": []
   },
   "outputs": [],
   "source": [
    "def run_n_trials(qm_sys: DM.DensityMatrix, num_blocks: int, measurment, num_trials: int, possible_orders):\n",
    "    start = time.time()\n",
    "    N = qm_sys.number_of_qbits\n",
    "\n",
    "    measurments = np.array(measurment(qm_sys))\n",
    "\n",
    "    assert N % num_blocks == 0, f\"num_block = {num_blocks} must divide the size of the system {N}\"\n",
    "    block_size = N // num_blocks\n",
    "    for i in range(num_trials):\n",
    "        sub_system_unitaries = [random_unitary(block_size) for _ in range(num_blocks)]\n",
    "        U = DM.tensor(sub_system_unitaries)\n",
    "\n",
    "        # shift the order of the qbits\n",
    "\n",
    "        order = possible_orders()\n",
    "\n",
    "        U.relabel_basis(order)\n",
    "        U.change_to_energy_basis()\n",
    "\n",
    "        qm_sys = U * qm_sys * U.H\n",
    "\n",
    "        measurments = np.vstack((measurments, measurment(qm_sys)))\n",
    "    print(f\"{np.round(time.time() - start, 2)} seconds elapsed\")\n",
    "    return measurments"
   ]
  },
  {
   "cell_type": "code",
   "execution_count": 23,
   "id": "afdfc9e9",
   "metadata": {},
   "outputs": [],
   "source": [
    "N = 12\n",
    "num_blocks = 2\n",
    "pops = [.1, .1, .1, .1, .4, .4, .4, .4,.2,.2,.2,.2]\n",
    "my_sys = DM.n_thermal_qbits(pops)\n",
    "my_sys.change_to_energy_basis()\n"
   ]
  },
  {
   "cell_type": "code",
   "execution_count": 24,
   "id": "ff98a5d0",
   "metadata": {},
   "outputs": [
    {
     "name": "stdout",
     "output_type": "stream",
     "text": [
      "242.01 seconds elapsed\n"
     ]
    }
   ],
   "source": [
    "extractable_work = run_n_trials(my_sys,num_blocks,measure.extractable_work_of_each_qubit,50,messenger_order_12_type2_chunk_size_6())"
   ]
  },
  {
   "cell_type": "code",
   "execution_count": 25,
   "id": "c956851e",
   "metadata": {},
   "outputs": [
    {
     "data": {
      "image/png": "[encoded data removed]",
      "text/plain": [
       "<Figure size 432x288 with 1 Axes>"
      ]
     },
     "metadata": {
      "needs_background": "light"
     },
     "output_type": "display_data"
    }
   ],
   "source": [
    "plt.plot(np.real(extractable_work),linestyle='-', marker='.',alpha = .5)\n",
    "plt.show()"
   ]
  },
  {
   "cell_type": "code",
   "execution_count": 253,
   "id": "8ee4237c",
   "metadata": {},
   "outputs": [
    {
     "name": "stdout",
     "output_type": "stream",
     "text": [
      "289\n",
      "[26, 20, 26, 20, 30, 21, 24, 27, 26, 18, 25]\n",
      "26\n"
     ]
    }
   ],
   "source": [
    "#this gets the change in work between each time step\n",
    "change_in_work = extractable_work[1:]-extractable_work[:-1]\n",
    "\n",
    "#this finds where the change in work is greater than zero (a larger cutoff can be used here to find more significant changes)\n",
    "where_positive = change_in_work>0\n",
    "\n",
    "#this gets where the change in work is positive for the ith qubit in time ordered manner\n",
    "def change_in_work_Q_i(i):\n",
    "    return change_in_work.real[0:,i]>0\n",
    "\n",
    "#find the number of positive changes\n",
    "num_positive_change = np.sum(where_positive)\n",
    "print(num_positive_change)\n",
    "\n",
    "#find the percent of positive changes\n",
    "num_positive_change/(len(change_in_work)*N)\n",
    "\n",
    "#find the number of positive changes across landscape for initially cold qubits\n",
    "list_number_of_positive_for_initially_cold_qubits = [ sum(x) for x in zip(*where_positive)]\n",
    "list_number_of_positive_for_initially_cold_qubits.pop(5)\n",
    "print(list_number_of_positive_for_initially_cold_qubits)\n",
    "\n",
    "#find the number of positive changes across landscape for initially hot qubits\n",
    "print(sum(change_in_work_Q_i(5)))\n"
   ]
  },
  {
   "cell_type": "code",
   "execution_count": 194,
   "id": "5423320d",
   "metadata": {},
   "outputs": [],
   "source": [
    "#gives a list of intervals for each qubit i where change in work is positive\n",
    "def intervals_length_for_Q_i(qubit):\n",
    "    interval = [0]\n",
    "    length = 0\n",
    "    change_in_work_qubit = change_in_work_Q_i(qubit).tolist()\n",
    "    change_in_work_qubit.append(0)\n",
    "    for i in range(0,51):\n",
    "        if change_in_work_qubit[i]==1:\n",
    "            length = length +1\n",
    "        else:\n",
    "            interval.append(length)\n",
    "            length = 0 \n",
    "    return interval"
   ]
  },
  {
   "cell_type": "code",
   "execution_count": 186,
   "id": "8c66ff82",
   "metadata": {},
   "outputs": [],
   "source": [
    "#gives list of interval for which change in work is positive for the entire landscape\n",
    "def all_intervals_on_landscape():\n",
    "    all_intervals_on_landscape = []\n",
    "    for i in range (0,N):\n",
    "        all_intervals_on_landscape = all_intervals_on_landscape + intervals_length_for_Q_i(i)\n",
    "    return all_intervals_on_landscape"
   ]
  },
  {
   "cell_type": "code",
   "execution_count": 204,
   "id": "d9afdc7b",
   "metadata": {},
   "outputs": [
    {
     "data": {
      "image/png": "[encoded data removed]",
      "text/plain": [
       "<Figure size 432x288 with 1 Axes>"
      ]
     },
     "metadata": {
      "needs_background": "light"
     },
     "output_type": "display_data"
    }
   ],
   "source": [
    "#plot histogram of interval lengths\n",
    "plt.hist(all_intervals_on_landscape(),range=[1,10])\n",
    "plt.show()"
   ]
  },
  {
   "cell_type": "code",
   "execution_count": 254,
   "id": "42149199",
   "metadata": {},
   "outputs": [
    {
     "data": {
      "image/png": "[encoded data removed]",
      "text/plain": [
       "<Figure size 432x288 with 1 Axes>"
      ]
     },
     "metadata": {
      "needs_background": "light"
     },
     "output_type": "display_data"
    }
   ],
   "source": [
    "#creates boxplot for number of positive events for the initial hot vs cold qubit\n",
    "plt.boxplot([list_number_of_positive_for_initially_cold_qubits])\n",
    "plt.show()"
   ]
  },
  {
   "cell_type": "code",
   "execution_count": null,
   "id": "dae915b7",
   "metadata": {},
   "outputs": [],
   "source": []
  }
 ],
 "metadata": {
  "kernelspec": {
   "display_name": "Python 3 (ipykernel)",
   "language": "python",
   "name": "python3"
  },
  "language_info": {
   "codemirror_mode": {
    "name": "ipython",
    "version": 3
   },
   "file_extension": ".py",
   "mimetype": "text/x-python",
   "name": "python",
   "nbconvert_exporter": "python",
   "pygments_lexer": "ipython3",
   "version": "3.9.7"
  }
 },
 "nbformat": 4,
 "nbformat_minor": 5
}
