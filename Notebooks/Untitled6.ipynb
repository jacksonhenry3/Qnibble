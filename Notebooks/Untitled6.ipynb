{
 "cells": [
  {
   "cell_type": "code",
   "execution_count": 57,
   "id": "59124ac8-c4c1-4274-9699-e8637367ee7a",
   "metadata": {},
   "outputs": [
    {
     "ename": "SyntaxError",
     "evalue": "'return' outside function (2922601503.py, line 10)",
     "output_type": "error",
     "traceback": [
      "\u001b[0;36m  Cell \u001b[0;32mIn[57], line 10\u001b[0;36m\u001b[0m\n\u001b[0;31m    return(j)\u001b[0m\n\u001b[0m    ^\u001b[0m\n\u001b[0;31mSyntaxError\u001b[0m\u001b[0;31m:\u001b[0m 'return' outside function\n"
     ]
    }
   ],
   "source": [
    "for i in range(50,000000):\n",
    "    p1=random.randint(-1000,1000)/1000\n",
    "    p2=random.randint(-1000,1000)/1000\n",
    "    Corr=random.randint(0,1000)/1000\n",
    "    ZZ=random.randint(0,1000)/1000\n",
    "    theta=(random.randint(0,2000)/1000)*np.pi\n",
    "    Cond1=p1*p2+((p1-p2)**2+4 *Corr**2)**0.5 + ZZ\n",
    "    if p1*p2+((p1-p2)**2+4 *Corr**2)**0.5 + ZZ <=1 and ((-1 + p1)* (-1 + p2) + ZZ) *(1 + p1 + p2 + p1 *p2 + ZZ) <= 4*Corr**2 and abs(p2 *np.sin(theta) **2 - Corr* np.sin(2 *theta)) + np.cos(theta)**2 >1:\n",
    "        j=j+1\n",
    "    return(j)\n",
    "    \n",
    "\n",
    "    \n",
    "    "
   ]
  },
  {
   "cell_type": "code",
   "execution_count": 120,
   "id": "3d342ffd-bdd6-4a3f-9b68-4bb854d9aaf5",
   "metadata": {},
   "outputs": [
    {
     "name": "stdout",
     "output_type": "stream",
     "text": [
      "false\n"
     ]
    },
    {
     "data": {
      "text/plain": [
       "False"
      ]
     },
     "execution_count": 120,
     "metadata": {},
     "output_type": "execute_result"
    }
   ],
   "source": [
    "p1=random.randint(-1000,1000)/1000\n",
    "p2=random.randint(-1000,1000)/1000\n",
    "Corr=random.randint(0,1000)/1000\n",
    "ZZ=random.randint(0,1000)/1000\n",
    "theta=(random.randint(0,2000)/1000)*np.pi\n",
    "if p1*p2+((p1-p2)**2+4 *(Corr**2))**0.5 + ZZ <=1 and ((-1 + p1)* (-1 + p2) + ZZ) *(1 + p1 + p2 + p1 *p2 + ZZ) <= 4*(Corr**2):\n",
    "    print(\"yes\")\n",
    "else:\n",
    "    print (\"false\")\n",
    "((-1 + p1)* (-1 + p2) + ZZ) *(1 + p1 + p2 + p1 *p2 + ZZ) <= 4*(Corr**2)\n",
    "p1*p2+((p1-p2)**2+4 *(Corr**2))**0.5 + ZZ <=1"
   ]
  },
  {
   "cell_type": "code",
   "execution_count": 127,
   "id": "02ca29f4-a165-40bd-a908-495cbdd330e2",
   "metadata": {},
   "outputs": [
    {
     "data": {
      "text/plain": [
       "True"
      ]
     },
     "execution_count": 127,
     "metadata": {},
     "output_type": "execute_result"
    }
   ],
   "source": [
    "((-1 + p1)* (-1 + p2) + ZZ) *(1 + p1 + p2 + p1 *p2 + ZZ) <= 4*(Corr**2)\n"
   ]
  },
  {
   "cell_type": "code",
   "execution_count": 126,
   "id": "fb15a483-d24b-4b12-a831-022c5bdc060f",
   "metadata": {},
   "outputs": [
    {
     "data": {
      "text/plain": [
       "True"
      ]
     },
     "execution_count": 126,
     "metadata": {},
     "output_type": "execute_result"
    }
   ],
   "source": [
    "abs(p2 *np.sin(theta) **2 - Corr* np.sin(2 *theta)) + np.cos(theta)**2 >1"
   ]
  },
  {
   "cell_type": "code",
   "execution_count": null,
   "id": "18652039-6758-4c94-b6ef-a43537c203ac",
   "metadata": {},
   "outputs": [],
   "source": [
    "For[i = 1; j = 0, i < 500, i++, p1 = RandomReal[{-1, 1}]; \n",
    " p2 = RandomReal[{-1, 1}]; Corr = RandomReal[{0, 1}]; \n",
    " ZZ = RandomReal[{0, 1}]; \\[Theta] = RandomReal[{0, 2 \\[Pi]}]; \n",
    " If[p1 p2 + Sqrt[(p1 - p2)^2 + 4 Corr Conjugate[Corr]] + ZZ <= \n",
    "    1 && ((-1 + p1) (-1 + p2) + ZZ) (1 + p1 + p2 + p1 p2 + ZZ) <= \n",
    "    4 Corr Conjugate[Corr] && \n",
    "   Abs[p2 Sin[\\[Theta]]^2 - Corr Sin[2 \\[Theta]]] + Cos[\\[Theta]]^2 > \n",
    "    1, j++, Null]]\n",
    "Print[j]"
   ]
  }
 ],
 "metadata": {
  "kernelspec": {
   "display_name": "Python 3 (ipykernel)",
   "language": "python",
   "name": "python3"
  },
  "language_info": {
   "codemirror_mode": {
    "name": "ipython",
    "version": 3
   },
   "file_extension": ".py",
   "mimetype": "text/x-python",
   "name": "python",
   "nbconvert_exporter": "python",
   "pygments_lexer": "ipython3",
   "version": "3.11.7"
  }
 },
 "nbformat": 4,
 "nbformat_minor": 5
}
