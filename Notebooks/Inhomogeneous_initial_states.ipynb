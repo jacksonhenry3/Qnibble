{
 "cells": [
  {
   "cell_type": "code",
   "execution_count": 83,
   "id": "49e51f47-60b3-4311-b7e3-70f66611aed8",
   "metadata": {},
   "outputs": [],
   "source": [
    "import numpy as np\n",
    "def E(N):\n",
    "    return (N-1)*0.1 + 0.4\n",
    "\n"
   ]
  },
  {
   "cell_type": "code",
   "execution_count": 74,
   "id": "b60b9f32-ac8e-420e-b3e0-2ce25bb553f8",
   "metadata": {},
   "outputs": [
    {
     "name": "stdout",
     "output_type": "stream",
     "text": [
      "1.1\n"
     ]
    },
    {
     "data": {
      "text/plain": [
       "np.float64(1.1)"
      ]
     },
     "execution_count": 74,
     "metadata": {},
     "output_type": "execute_result"
    }
   ],
   "source": [
    "print(E(8))\n",
    "pops_inhomo =[0.04340705, 0.12, 0.09, 0.15, 0.3,0.14, 0.23, 0.02659295]\n",
    "np.sum(pops_inhomo)"
   ]
  },
  {
   "cell_type": "code",
   "execution_count": 30,
   "id": "4d8544fb-4754-48ad-b3ed-e7b9f3448559",
   "metadata": {},
   "outputs": [],
   "source": [
    "def S(p):\n",
    "    return -(1 - p) * log(1 - p) - p * log(p)"
   ]
  },
  {
   "cell_type": "code",
   "execution_count": 36,
   "id": "724a3b2a-37fb-4caf-8cee-49b061026ab1",
   "metadata": {},
   "outputs": [],
   "source": [
    "def S_list_of_pops(list_of_pops):\n",
    "    S=[]\n",
    "    for p in list_of_pops:\n",
    "        S.append(-(1-p)*np.log(1-p) - p*np.log(p))\n",
    "    return sum(S)"
   ]
  },
  {
   "cell_type": "code",
   "execution_count": 86,
   "id": "0f4839bb-586b-4639-a814-af389c29e096",
   "metadata": {},
   "outputs": [
    {
     "data": {
      "text/latex": [
       "$\\displaystyle 4.24892437431519$"
      ],
      "text/plain": [
       "4.24892437431519"
      ]
     },
     "execution_count": 86,
     "metadata": {},
     "output_type": "execute_result"
    }
   ],
   "source": [
    "def S_int(p1,p2,N):\n",
    "    return (N-1)*S(p1) + S(p2)\n",
    "\n",
    "S_in = S_int(0.1,0.4,12)\n",
    "E_in=E(12)\n",
    "E_in\n",
    "S_in"
   ]
  },
  {
   "cell_type": "code",
   "execution_count": 87,
   "id": "cd3281e3-76c5-4972-874b-baabe93e0b51",
   "metadata": {},
   "outputs": [
    {
     "name": "stdout",
     "output_type": "stream",
     "text": [
      "Energy: 1.5\n",
      "Entropy:4.24892437431519\n"
     ]
    }
   ],
   "source": [
    "# 8 qubits \n",
    "print(f\"Energy: {E_in}\")\n",
    "print(f\"Entropy:{S_in}\")"
   ]
  },
  {
   "cell_type": "code",
   "execution_count": 53,
   "id": "7a5d145b-36f6-4992-8230-00f60bfbd7f3",
   "metadata": {},
   "outputs": [
    {
     "name": "stdout",
     "output_type": "stream",
     "text": [
      "Energy of inohmo: 1.1\n",
      "Entropy:2.9485924793814773\n"
     ]
    }
   ],
   "source": [
    "print(f\"Energy of inohmo: {np.sum(pops_inhomo)}\")\n",
    "print(f\"Entropy:{S_list_of_pops(pops_inhomo)}\")"
   ]
  },
  {
   "cell_type": "code",
   "execution_count": 59,
   "id": "ad97d33e-a02d-432f-a8a4-8c32b9806ac4",
   "metadata": {},
   "outputs": [
    {
     "ename": "KeyboardInterrupt",
     "evalue": "",
     "output_type": "error",
     "traceback": [
      "\u001b[0;31m---------------------------------------------------------------------------\u001b[0m",
      "\u001b[0;31mKeyboardInterrupt\u001b[0m                         Traceback (most recent call last)",
      "Cell \u001b[0;32mIn[59], line 12\u001b[0m\n\u001b[1;32m      9\u001b[0m eq2 \u001b[38;5;241m=\u001b[39m Eq(\u001b[38;5;28msum\u001b[39m(S(p) \u001b[38;5;28;01mfor\u001b[39;00m p \u001b[38;5;129;01min\u001b[39;00m p_list), S_in)\n\u001b[1;32m     11\u001b[0m \u001b[38;5;66;03m# Solve the system of equations\u001b[39;00m\n\u001b[0;32m---> 12\u001b[0m solution \u001b[38;5;241m=\u001b[39m \u001b[43msolve\u001b[49m\u001b[43m(\u001b[49m\u001b[43m(\u001b[49m\u001b[43meq1\u001b[49m\u001b[43m,\u001b[49m\u001b[43m \u001b[49m\u001b[43meq2\u001b[49m\u001b[43m)\u001b[49m\u001b[43m,\u001b[49m\u001b[43m \u001b[49m\u001b[43m(\u001b[49m\u001b[43ma\u001b[49m\u001b[43m,\u001b[49m\u001b[43m \u001b[49m\u001b[43mb\u001b[49m\u001b[43m)\u001b[49m\u001b[43m)\u001b[49m\n\u001b[1;32m     14\u001b[0m \u001b[38;5;28mprint\u001b[39m(\u001b[38;5;124m\"\u001b[39m\u001b[38;5;124mSolution:\u001b[39m\u001b[38;5;124m\"\u001b[39m, solution)\n",
      "File \u001b[0;32m~/Library/Python/3.9/lib/python/site-packages/sympy/solvers/solvers.py:1172\u001b[0m, in \u001b[0;36msolve\u001b[0;34m(f, *symbols, **flags)\u001b[0m\n\u001b[1;32m   1170\u001b[0m         solution \u001b[38;5;241m=\u001b[39m _solve(f[\u001b[38;5;241m0\u001b[39m], \u001b[38;5;241m*\u001b[39msymbols, \u001b[38;5;241m*\u001b[39m\u001b[38;5;241m*\u001b[39mflags)\n\u001b[1;32m   1171\u001b[0m \u001b[38;5;28;01melse\u001b[39;00m:\n\u001b[0;32m-> 1172\u001b[0m     linear, solution \u001b[38;5;241m=\u001b[39m \u001b[43m_solve_system\u001b[49m\u001b[43m(\u001b[49m\u001b[43mf\u001b[49m\u001b[43m,\u001b[49m\u001b[43m \u001b[49m\u001b[43msymbols\u001b[49m\u001b[43m,\u001b[49m\u001b[43m \u001b[49m\u001b[38;5;241;43m*\u001b[39;49m\u001b[38;5;241;43m*\u001b[39;49m\u001b[43mflags\u001b[49m\u001b[43m)\u001b[49m\n\u001b[1;32m   1173\u001b[0m \u001b[38;5;28;01massert\u001b[39;00m \u001b[38;5;28mtype\u001b[39m(solution) \u001b[38;5;129;01mis\u001b[39;00m \u001b[38;5;28mlist\u001b[39m\n\u001b[1;32m   1174\u001b[0m \u001b[38;5;28;01massert\u001b[39;00m \u001b[38;5;129;01mnot\u001b[39;00m solution \u001b[38;5;129;01mor\u001b[39;00m \u001b[38;5;28mtype\u001b[39m(solution[\u001b[38;5;241m0\u001b[39m]) \u001b[38;5;129;01mis\u001b[39;00m \u001b[38;5;28mdict\u001b[39m, solution\n",
      "File \u001b[0;32m~/Library/Python/3.9/lib/python/site-packages/sympy/solvers/solvers.py:1970\u001b[0m, in \u001b[0;36m_solve_system\u001b[0;34m(exprs, symbols, **flags)\u001b[0m\n\u001b[1;32m   1968\u001b[0m \u001b[38;5;28;01mfor\u001b[39;00m s \u001b[38;5;129;01min\u001b[39;00m ok_syms:\n\u001b[1;32m   1969\u001b[0m     \u001b[38;5;28;01mtry\u001b[39;00m:\n\u001b[0;32m-> 1970\u001b[0m         soln \u001b[38;5;241m=\u001b[39m \u001b[43m_vsolve\u001b[49m\u001b[43m(\u001b[49m\u001b[43meq2\u001b[49m\u001b[43m,\u001b[49m\u001b[43m \u001b[49m\u001b[43ms\u001b[49m\u001b[43m,\u001b[49m\u001b[43m \u001b[49m\u001b[38;5;241;43m*\u001b[39;49m\u001b[38;5;241;43m*\u001b[39;49m\u001b[43mflags\u001b[49m\u001b[43m)\u001b[49m\n\u001b[1;32m   1971\u001b[0m     \u001b[38;5;28;01mexcept\u001b[39;00m \u001b[38;5;167;01mNotImplementedError\u001b[39;00m:\n\u001b[1;32m   1972\u001b[0m         \u001b[38;5;28;01mcontinue\u001b[39;00m\n",
      "File \u001b[0;32m~/Library/Python/3.9/lib/python/site-packages/sympy/solvers/solvers.py:2642\u001b[0m, in \u001b[0;36m_vsolve\u001b[0;34m(e, s, **flags)\u001b[0m\n\u001b[1;32m   2640\u001b[0m \u001b[38;5;28;01mdef\u001b[39;00m\u001b[38;5;250m \u001b[39m\u001b[38;5;21m_vsolve\u001b[39m(e, s, \u001b[38;5;241m*\u001b[39m\u001b[38;5;241m*\u001b[39mflags):\n\u001b[1;32m   2641\u001b[0m \u001b[38;5;250m    \u001b[39m\u001b[38;5;124;03m\"\"\"return list of scalar values for the solution of e for symbol s\"\"\"\u001b[39;00m\n\u001b[0;32m-> 2642\u001b[0m     \u001b[38;5;28;01mreturn\u001b[39;00m [i[s] \u001b[38;5;28;01mfor\u001b[39;00m i \u001b[38;5;129;01min\u001b[39;00m \u001b[43m_solve\u001b[49m\u001b[43m(\u001b[49m\u001b[43me\u001b[49m\u001b[43m,\u001b[49m\u001b[43m \u001b[49m\u001b[43ms\u001b[49m\u001b[43m,\u001b[49m\u001b[43m \u001b[49m\u001b[38;5;241;43m*\u001b[39;49m\u001b[38;5;241;43m*\u001b[39;49m\u001b[43mflags\u001b[49m\u001b[43m)\u001b[49m]\n",
      "File \u001b[0;32m~/Library/Python/3.9/lib/python/site-packages/sympy/solvers/solvers.py:1721\u001b[0m, in \u001b[0;36m_solve\u001b[0;34m(f, *symbols, **flags)\u001b[0m\n\u001b[1;32m   1719\u001b[0m flags\u001b[38;5;241m.\u001b[39mpop(\u001b[38;5;124m'\u001b[39m\u001b[38;5;124mtsolve\u001b[39m\u001b[38;5;124m'\u001b[39m, \u001b[38;5;28;01mNone\u001b[39;00m)  \u001b[38;5;66;03m# allow tsolve to be used on next pass\u001b[39;00m\n\u001b[1;32m   1720\u001b[0m \u001b[38;5;28;01mtry\u001b[39;00m:\n\u001b[0;32m-> 1721\u001b[0m     soln \u001b[38;5;241m=\u001b[39m \u001b[43m_tsolve\u001b[49m\u001b[43m(\u001b[49m\u001b[43mf_num\u001b[49m\u001b[43m,\u001b[49m\u001b[43m \u001b[49m\u001b[43msymbol\u001b[49m\u001b[43m,\u001b[49m\u001b[43m \u001b[49m\u001b[38;5;241;43m*\u001b[39;49m\u001b[38;5;241;43m*\u001b[39;49m\u001b[43mflags\u001b[49m\u001b[43m)\u001b[49m\n\u001b[1;32m   1722\u001b[0m     \u001b[38;5;28;01mif\u001b[39;00m soln \u001b[38;5;129;01mis\u001b[39;00m \u001b[38;5;129;01mnot\u001b[39;00m \u001b[38;5;28;01mNone\u001b[39;00m:\n\u001b[1;32m   1723\u001b[0m         result \u001b[38;5;241m=\u001b[39m [{symbol: v} \u001b[38;5;28;01mfor\u001b[39;00m v \u001b[38;5;129;01min\u001b[39;00m soln]\n",
      "File \u001b[0;32m~/Library/Python/3.9/lib/python/site-packages/sympy/solvers/solvers.py:2690\u001b[0m, in \u001b[0;36m_tsolve\u001b[0;34m(eq, sym, **flags)\u001b[0m\n\u001b[1;32m   2688\u001b[0m f \u001b[38;5;241m=\u001b[39m factor(powdenest(lhs \u001b[38;5;241m-\u001b[39m rhs))\n\u001b[1;32m   2689\u001b[0m \u001b[38;5;28;01mif\u001b[39;00m f\u001b[38;5;241m.\u001b[39mis_Mul:\n\u001b[0;32m-> 2690\u001b[0m     \u001b[38;5;28;01mreturn\u001b[39;00m \u001b[43m_vsolve\u001b[49m\u001b[43m(\u001b[49m\u001b[43mf\u001b[49m\u001b[43m,\u001b[49m\u001b[43m \u001b[49m\u001b[43msym\u001b[49m\u001b[43m,\u001b[49m\u001b[43m \u001b[49m\u001b[38;5;241;43m*\u001b[39;49m\u001b[38;5;241;43m*\u001b[39;49m\u001b[43mflags\u001b[49m\u001b[43m)\u001b[49m\n\u001b[1;32m   2691\u001b[0m \u001b[38;5;28;01mif\u001b[39;00m rhs:\n\u001b[1;32m   2692\u001b[0m     f \u001b[38;5;241m=\u001b[39m logcombine(lhs, force\u001b[38;5;241m=\u001b[39mflags\u001b[38;5;241m.\u001b[39mget(\u001b[38;5;124m'\u001b[39m\u001b[38;5;124mforce\u001b[39m\u001b[38;5;124m'\u001b[39m, \u001b[38;5;28;01mTrue\u001b[39;00m))\n",
      "File \u001b[0;32m~/Library/Python/3.9/lib/python/site-packages/sympy/solvers/solvers.py:2642\u001b[0m, in \u001b[0;36m_vsolve\u001b[0;34m(e, s, **flags)\u001b[0m\n\u001b[1;32m   2640\u001b[0m \u001b[38;5;28;01mdef\u001b[39;00m\u001b[38;5;250m \u001b[39m\u001b[38;5;21m_vsolve\u001b[39m(e, s, \u001b[38;5;241m*\u001b[39m\u001b[38;5;241m*\u001b[39mflags):\n\u001b[1;32m   2641\u001b[0m \u001b[38;5;250m    \u001b[39m\u001b[38;5;124;03m\"\"\"return list of scalar values for the solution of e for symbol s\"\"\"\u001b[39;00m\n\u001b[0;32m-> 2642\u001b[0m     \u001b[38;5;28;01mreturn\u001b[39;00m [i[s] \u001b[38;5;28;01mfor\u001b[39;00m i \u001b[38;5;129;01min\u001b[39;00m \u001b[43m_solve\u001b[49m\u001b[43m(\u001b[49m\u001b[43me\u001b[49m\u001b[43m,\u001b[49m\u001b[43m \u001b[49m\u001b[43ms\u001b[49m\u001b[43m,\u001b[49m\u001b[43m \u001b[49m\u001b[38;5;241;43m*\u001b[39;49m\u001b[38;5;241;43m*\u001b[39;49m\u001b[43mflags\u001b[49m\u001b[43m)\u001b[49m]\n",
      "File \u001b[0;32m~/Library/Python/3.9/lib/python/site-packages/sympy/solvers/solvers.py:1399\u001b[0m, in \u001b[0;36m_solve\u001b[0;34m(f, *symbols, **flags)\u001b[0m\n\u001b[1;32m   1397\u001b[0m         result \u001b[38;5;241m=\u001b[39m \u001b[38;5;28mset\u001b[39m()\n\u001b[1;32m   1398\u001b[0m         \u001b[38;5;28;01mbreak\u001b[39;00m\n\u001b[0;32m-> 1399\u001b[0m     soln \u001b[38;5;241m=\u001b[39m \u001b[43m_vsolve\u001b[49m\u001b[43m(\u001b[49m\u001b[43mm\u001b[49m\u001b[43m,\u001b[49m\u001b[43m \u001b[49m\u001b[43msymbol\u001b[49m\u001b[43m,\u001b[49m\u001b[43m \u001b[49m\u001b[38;5;241;43m*\u001b[39;49m\u001b[38;5;241;43m*\u001b[39;49m\u001b[43mflags\u001b[49m\u001b[43m)\u001b[49m\n\u001b[1;32m   1400\u001b[0m     result\u001b[38;5;241m.\u001b[39mupdate(\u001b[38;5;28mset\u001b[39m(soln))\n\u001b[1;32m   1401\u001b[0m result \u001b[38;5;241m=\u001b[39m [{symbol: v} \u001b[38;5;28;01mfor\u001b[39;00m v \u001b[38;5;129;01min\u001b[39;00m result]\n",
      "File \u001b[0;32m~/Library/Python/3.9/lib/python/site-packages/sympy/solvers/solvers.py:2642\u001b[0m, in \u001b[0;36m_vsolve\u001b[0;34m(e, s, **flags)\u001b[0m\n\u001b[1;32m   2640\u001b[0m \u001b[38;5;28;01mdef\u001b[39;00m\u001b[38;5;250m \u001b[39m\u001b[38;5;21m_vsolve\u001b[39m(e, s, \u001b[38;5;241m*\u001b[39m\u001b[38;5;241m*\u001b[39mflags):\n\u001b[1;32m   2641\u001b[0m \u001b[38;5;250m    \u001b[39m\u001b[38;5;124;03m\"\"\"return list of scalar values for the solution of e for symbol s\"\"\"\u001b[39;00m\n\u001b[0;32m-> 2642\u001b[0m     \u001b[38;5;28;01mreturn\u001b[39;00m [i[s] \u001b[38;5;28;01mfor\u001b[39;00m i \u001b[38;5;129;01min\u001b[39;00m \u001b[43m_solve\u001b[49m\u001b[43m(\u001b[49m\u001b[43me\u001b[49m\u001b[43m,\u001b[49m\u001b[43m \u001b[49m\u001b[43ms\u001b[49m\u001b[43m,\u001b[49m\u001b[43m \u001b[49m\u001b[38;5;241;43m*\u001b[39;49m\u001b[38;5;241;43m*\u001b[39;49m\u001b[43mflags\u001b[49m\u001b[43m)\u001b[49m]\n",
      "File \u001b[0;32m~/Library/Python/3.9/lib/python/site-packages/sympy/solvers/solvers.py:1721\u001b[0m, in \u001b[0;36m_solve\u001b[0;34m(f, *symbols, **flags)\u001b[0m\n\u001b[1;32m   1719\u001b[0m flags\u001b[38;5;241m.\u001b[39mpop(\u001b[38;5;124m'\u001b[39m\u001b[38;5;124mtsolve\u001b[39m\u001b[38;5;124m'\u001b[39m, \u001b[38;5;28;01mNone\u001b[39;00m)  \u001b[38;5;66;03m# allow tsolve to be used on next pass\u001b[39;00m\n\u001b[1;32m   1720\u001b[0m \u001b[38;5;28;01mtry\u001b[39;00m:\n\u001b[0;32m-> 1721\u001b[0m     soln \u001b[38;5;241m=\u001b[39m \u001b[43m_tsolve\u001b[49m\u001b[43m(\u001b[49m\u001b[43mf_num\u001b[49m\u001b[43m,\u001b[49m\u001b[43m \u001b[49m\u001b[43msymbol\u001b[49m\u001b[43m,\u001b[49m\u001b[43m \u001b[49m\u001b[38;5;241;43m*\u001b[39;49m\u001b[38;5;241;43m*\u001b[39;49m\u001b[43mflags\u001b[49m\u001b[43m)\u001b[49m\n\u001b[1;32m   1722\u001b[0m     \u001b[38;5;28;01mif\u001b[39;00m soln \u001b[38;5;129;01mis\u001b[39;00m \u001b[38;5;129;01mnot\u001b[39;00m \u001b[38;5;28;01mNone\u001b[39;00m:\n\u001b[1;32m   1723\u001b[0m         result \u001b[38;5;241m=\u001b[39m [{symbol: v} \u001b[38;5;28;01mfor\u001b[39;00m v \u001b[38;5;129;01min\u001b[39;00m soln]\n",
      "File \u001b[0;32m~/Library/Python/3.9/lib/python/site-packages/sympy/solvers/solvers.py:2695\u001b[0m, in \u001b[0;36m_tsolve\u001b[0;34m(eq, sym, **flags)\u001b[0m\n\u001b[1;32m   2693\u001b[0m         \u001b[38;5;28;01mif\u001b[39;00m f\u001b[38;5;241m.\u001b[39mcount(log) \u001b[38;5;241m!=\u001b[39m lhs\u001b[38;5;241m.\u001b[39mcount(log):\n\u001b[1;32m   2694\u001b[0m             \u001b[38;5;28;01mif\u001b[39;00m \u001b[38;5;28misinstance\u001b[39m(f, log):\n\u001b[0;32m-> 2695\u001b[0m                 \u001b[38;5;28;01mreturn\u001b[39;00m \u001b[43m_vsolve\u001b[49m\u001b[43m(\u001b[49m\u001b[43mf\u001b[49m\u001b[38;5;241;43m.\u001b[39;49m\u001b[43margs\u001b[49m\u001b[43m[\u001b[49m\u001b[38;5;241;43m0\u001b[39;49m\u001b[43m]\u001b[49m\u001b[43m \u001b[49m\u001b[38;5;241;43m-\u001b[39;49m\u001b[43m \u001b[49m\u001b[43mexp\u001b[49m\u001b[43m(\u001b[49m\u001b[43mrhs\u001b[49m\u001b[43m)\u001b[49m\u001b[43m,\u001b[49m\u001b[43m \u001b[49m\u001b[43msym\u001b[49m\u001b[43m,\u001b[49m\u001b[43m \u001b[49m\u001b[38;5;241;43m*\u001b[39;49m\u001b[38;5;241;43m*\u001b[39;49m\u001b[43mflags\u001b[49m\u001b[43m)\u001b[49m\n\u001b[1;32m   2696\u001b[0m             \u001b[38;5;28;01mreturn\u001b[39;00m _tsolve(f \u001b[38;5;241m-\u001b[39m rhs, sym, \u001b[38;5;241m*\u001b[39m\u001b[38;5;241m*\u001b[39mflags)\n\u001b[1;32m   2698\u001b[0m \u001b[38;5;28;01melif\u001b[39;00m lhs\u001b[38;5;241m.\u001b[39mis_Pow:\n",
      "File \u001b[0;32m~/Library/Python/3.9/lib/python/site-packages/sympy/solvers/solvers.py:2642\u001b[0m, in \u001b[0;36m_vsolve\u001b[0;34m(e, s, **flags)\u001b[0m\n\u001b[1;32m   2640\u001b[0m \u001b[38;5;28;01mdef\u001b[39;00m\u001b[38;5;250m \u001b[39m\u001b[38;5;21m_vsolve\u001b[39m(e, s, \u001b[38;5;241m*\u001b[39m\u001b[38;5;241m*\u001b[39mflags):\n\u001b[1;32m   2641\u001b[0m \u001b[38;5;250m    \u001b[39m\u001b[38;5;124;03m\"\"\"return list of scalar values for the solution of e for symbol s\"\"\"\u001b[39;00m\n\u001b[0;32m-> 2642\u001b[0m     \u001b[38;5;28;01mreturn\u001b[39;00m [i[s] \u001b[38;5;28;01mfor\u001b[39;00m i \u001b[38;5;129;01min\u001b[39;00m \u001b[43m_solve\u001b[49m\u001b[43m(\u001b[49m\u001b[43me\u001b[49m\u001b[43m,\u001b[49m\u001b[43m \u001b[49m\u001b[43ms\u001b[49m\u001b[43m,\u001b[49m\u001b[43m \u001b[49m\u001b[38;5;241;43m*\u001b[39;49m\u001b[38;5;241;43m*\u001b[39;49m\u001b[43mflags\u001b[49m\u001b[43m)\u001b[49m]\n",
      "File \u001b[0;32m~/Library/Python/3.9/lib/python/site-packages/sympy/solvers/solvers.py:1464\u001b[0m, in \u001b[0;36m_solve\u001b[0;34m(f, *symbols, **flags)\u001b[0m\n\u001b[1;32m   1460\u001b[0m     \u001b[38;5;28;01mreturn\u001b[39;00m [{symbol: r} \u001b[38;5;28;01mfor\u001b[39;00m r \u001b[38;5;129;01min\u001b[39;00m result]\n\u001b[1;32m   1461\u001b[0m \u001b[38;5;28;01melse\u001b[39;00m:\n\u001b[1;32m   1462\u001b[0m     \u001b[38;5;66;03m# first see if it really depends on symbol and whether there\u001b[39;00m\n\u001b[1;32m   1463\u001b[0m     \u001b[38;5;66;03m# is only a linear solution\u001b[39;00m\n\u001b[0;32m-> 1464\u001b[0m     f_num, sol \u001b[38;5;241m=\u001b[39m \u001b[43msolve_linear\u001b[49m\u001b[43m(\u001b[49m\u001b[43mf\u001b[49m\u001b[43m,\u001b[49m\u001b[43m \u001b[49m\u001b[43msymbols\u001b[49m\u001b[38;5;241;43m=\u001b[39;49m\u001b[43msymbols\u001b[49m\u001b[43m)\u001b[49m\n\u001b[1;32m   1465\u001b[0m     \u001b[38;5;28;01mif\u001b[39;00m f_num\u001b[38;5;241m.\u001b[39mis_zero \u001b[38;5;129;01mor\u001b[39;00m sol \u001b[38;5;129;01mis\u001b[39;00m S\u001b[38;5;241m.\u001b[39mNaN:\n\u001b[1;32m   1466\u001b[0m         \u001b[38;5;28;01mreturn\u001b[39;00m []\n",
      "File \u001b[0;32m~/Library/Python/3.9/lib/python/site-packages/sympy/solvers/solvers.py:2150\u001b[0m, in \u001b[0;36msolve_linear\u001b[0;34m(lhs, rhs, symbols, exclude)\u001b[0m\n\u001b[1;32m   2148\u001b[0m dens \u001b[38;5;241m=\u001b[39m \u001b[38;5;28;01mNone\u001b[39;00m\n\u001b[1;32m   2149\u001b[0m eq \u001b[38;5;241m=\u001b[39m lhs \u001b[38;5;241m-\u001b[39m rhs\n\u001b[0;32m-> 2150\u001b[0m n, d \u001b[38;5;241m=\u001b[39m \u001b[43meq\u001b[49m\u001b[38;5;241;43m.\u001b[39;49m\u001b[43mas_numer_denom\u001b[49m\u001b[43m(\u001b[49m\u001b[43m)\u001b[49m\n\u001b[1;32m   2151\u001b[0m \u001b[38;5;28;01mif\u001b[39;00m \u001b[38;5;129;01mnot\u001b[39;00m n:\n\u001b[1;32m   2152\u001b[0m     \u001b[38;5;28;01mreturn\u001b[39;00m S\u001b[38;5;241m.\u001b[39mZero, S\u001b[38;5;241m.\u001b[39mOne\n",
      "File \u001b[0;32m~/Library/Python/3.9/lib/python/site-packages/sympy/core/add.py:594\u001b[0m, in \u001b[0;36mAdd.as_numer_denom\u001b[0;34m(self)\u001b[0m\n\u001b[1;32m    592\u001b[0m nd \u001b[38;5;241m=\u001b[39m defaultdict(\u001b[38;5;28mlist\u001b[39m)\n\u001b[1;32m    593\u001b[0m \u001b[38;5;28;01mfor\u001b[39;00m f \u001b[38;5;129;01min\u001b[39;00m expr\u001b[38;5;241m.\u001b[39margs:\n\u001b[0;32m--> 594\u001b[0m     ni, di \u001b[38;5;241m=\u001b[39m \u001b[43mf\u001b[49m\u001b[38;5;241;43m.\u001b[39;49m\u001b[43mas_numer_denom\u001b[49m\u001b[43m(\u001b[49m\u001b[43m)\u001b[49m\n\u001b[1;32m    595\u001b[0m     nd[di]\u001b[38;5;241m.\u001b[39mappend(ni)\n\u001b[1;32m    597\u001b[0m \u001b[38;5;66;03m# check for quick exit\u001b[39;00m\n",
      "File \u001b[0;32m~/Library/Python/3.9/lib/python/site-packages/sympy/core/mul.py:1235\u001b[0m, in \u001b[0;36mMul.as_numer_denom\u001b[0;34m(self)\u001b[0m\n\u001b[1;32m   1231\u001b[0m \u001b[38;5;28;01mdef\u001b[39;00m\u001b[38;5;250m \u001b[39m\u001b[38;5;21mas_numer_denom\u001b[39m(\u001b[38;5;28mself\u001b[39m):\n\u001b[1;32m   1232\u001b[0m     \u001b[38;5;66;03m# don't use _from_args to rebuild the numerators and denominators\u001b[39;00m\n\u001b[1;32m   1233\u001b[0m     \u001b[38;5;66;03m# as the order is not guaranteed to be the same once they have\u001b[39;00m\n\u001b[1;32m   1234\u001b[0m     \u001b[38;5;66;03m# been separated from each other\u001b[39;00m\n\u001b[0;32m-> 1235\u001b[0m     numers, denoms \u001b[38;5;241m=\u001b[39m \u001b[38;5;28mlist\u001b[39m(\u001b[38;5;28mzip\u001b[39m(\u001b[38;5;241m*\u001b[39m[f\u001b[38;5;241m.\u001b[39mas_numer_denom() \u001b[38;5;28;01mfor\u001b[39;00m f \u001b[38;5;129;01min\u001b[39;00m \u001b[38;5;28mself\u001b[39m\u001b[38;5;241m.\u001b[39margs]))\n\u001b[1;32m   1236\u001b[0m     \u001b[38;5;28;01mreturn\u001b[39;00m \u001b[38;5;28mself\u001b[39m\u001b[38;5;241m.\u001b[39mfunc(\u001b[38;5;241m*\u001b[39mnumers), \u001b[38;5;28mself\u001b[39m\u001b[38;5;241m.\u001b[39mfunc(\u001b[38;5;241m*\u001b[39mdenoms)\n",
      "File \u001b[0;32m~/Library/Python/3.9/lib/python/site-packages/sympy/core/mul.py:1235\u001b[0m, in \u001b[0;36m<listcomp>\u001b[0;34m(.0)\u001b[0m\n\u001b[1;32m   1231\u001b[0m \u001b[38;5;28;01mdef\u001b[39;00m\u001b[38;5;250m \u001b[39m\u001b[38;5;21mas_numer_denom\u001b[39m(\u001b[38;5;28mself\u001b[39m):\n\u001b[1;32m   1232\u001b[0m     \u001b[38;5;66;03m# don't use _from_args to rebuild the numerators and denominators\u001b[39;00m\n\u001b[1;32m   1233\u001b[0m     \u001b[38;5;66;03m# as the order is not guaranteed to be the same once they have\u001b[39;00m\n\u001b[1;32m   1234\u001b[0m     \u001b[38;5;66;03m# been separated from each other\u001b[39;00m\n\u001b[0;32m-> 1235\u001b[0m     numers, denoms \u001b[38;5;241m=\u001b[39m \u001b[38;5;28mlist\u001b[39m(\u001b[38;5;28mzip\u001b[39m(\u001b[38;5;241m*\u001b[39m[\u001b[43mf\u001b[49m\u001b[38;5;241;43m.\u001b[39;49m\u001b[43mas_numer_denom\u001b[49m\u001b[43m(\u001b[49m\u001b[43m)\u001b[49m \u001b[38;5;28;01mfor\u001b[39;00m f \u001b[38;5;129;01min\u001b[39;00m \u001b[38;5;28mself\u001b[39m\u001b[38;5;241m.\u001b[39margs]))\n\u001b[1;32m   1236\u001b[0m     \u001b[38;5;28;01mreturn\u001b[39;00m \u001b[38;5;28mself\u001b[39m\u001b[38;5;241m.\u001b[39mfunc(\u001b[38;5;241m*\u001b[39mnumers), \u001b[38;5;28mself\u001b[39m\u001b[38;5;241m.\u001b[39mfunc(\u001b[38;5;241m*\u001b[39mdenoms)\n",
      "File \u001b[0;32m~/Library/Python/3.9/lib/python/site-packages/sympy/core/power.py:1424\u001b[0m, in \u001b[0;36mPow.as_numer_denom\u001b[0;34m(self)\u001b[0m\n\u001b[1;32m   1422\u001b[0m     \u001b[38;5;28;01mif\u001b[39;00m n \u001b[38;5;129;01mis\u001b[39;00m \u001b[38;5;129;01mnot\u001b[39;00m S\u001b[38;5;241m.\u001b[39mOne \u001b[38;5;129;01mand\u001b[39;00m d \u001b[38;5;129;01mis\u001b[39;00m S\u001b[38;5;241m.\u001b[39mOne:\n\u001b[1;32m   1423\u001b[0m         \u001b[38;5;28;01mreturn\u001b[39;00m \u001b[38;5;28mself\u001b[39m\u001b[38;5;241m.\u001b[39mfunc(n, exp), d\n\u001b[0;32m-> 1424\u001b[0m \u001b[38;5;28;01mreturn\u001b[39;00m \u001b[38;5;28;43mself\u001b[39;49m\u001b[38;5;241;43m.\u001b[39;49m\u001b[43mfunc\u001b[49m\u001b[43m(\u001b[49m\u001b[43mn\u001b[49m\u001b[43m,\u001b[49m\u001b[43m \u001b[49m\u001b[43mexp\u001b[49m\u001b[43m)\u001b[49m, \u001b[38;5;28mself\u001b[39m\u001b[38;5;241m.\u001b[39mfunc(d, exp)\n",
      "File \u001b[0;32m~/Library/Python/3.9/lib/python/site-packages/sympy/core/cache.py:72\u001b[0m, in \u001b[0;36m__cacheit.<locals>.func_wrapper.<locals>.wrapper\u001b[0;34m(*args, **kwargs)\u001b[0m\n\u001b[1;32m     69\u001b[0m \u001b[38;5;129m@wraps\u001b[39m(func)\n\u001b[1;32m     70\u001b[0m \u001b[38;5;28;01mdef\u001b[39;00m\u001b[38;5;250m \u001b[39m\u001b[38;5;21mwrapper\u001b[39m(\u001b[38;5;241m*\u001b[39margs, \u001b[38;5;241m*\u001b[39m\u001b[38;5;241m*\u001b[39mkwargs):\n\u001b[1;32m     71\u001b[0m     \u001b[38;5;28;01mtry\u001b[39;00m:\n\u001b[0;32m---> 72\u001b[0m         retval \u001b[38;5;241m=\u001b[39m \u001b[43mcfunc\u001b[49m\u001b[43m(\u001b[49m\u001b[38;5;241;43m*\u001b[39;49m\u001b[43margs\u001b[49m\u001b[43m,\u001b[49m\u001b[43m \u001b[49m\u001b[38;5;241;43m*\u001b[39;49m\u001b[38;5;241;43m*\u001b[39;49m\u001b[43mkwargs\u001b[49m\u001b[43m)\u001b[49m\n\u001b[1;32m     73\u001b[0m     \u001b[38;5;28;01mexcept\u001b[39;00m \u001b[38;5;167;01mTypeError\u001b[39;00m \u001b[38;5;28;01mas\u001b[39;00m e:\n\u001b[1;32m     74\u001b[0m         \u001b[38;5;28;01mif\u001b[39;00m \u001b[38;5;129;01mnot\u001b[39;00m e\u001b[38;5;241m.\u001b[39margs \u001b[38;5;129;01mor\u001b[39;00m \u001b[38;5;129;01mnot\u001b[39;00m e\u001b[38;5;241m.\u001b[39margs[\u001b[38;5;241m0\u001b[39m]\u001b[38;5;241m.\u001b[39mstartswith(\u001b[38;5;124m'\u001b[39m\u001b[38;5;124munhashable type:\u001b[39m\u001b[38;5;124m'\u001b[39m):\n",
      "File \u001b[0;32m~/Library/Python/3.9/lib/python/site-packages/sympy/core/power.py:207\u001b[0m, in \u001b[0;36mPow.__new__\u001b[0;34m(cls, b, e, evaluate)\u001b[0m\n\u001b[1;32m    203\u001b[0m         \u001b[38;5;28;01mif\u001b[39;00m s\u001b[38;5;241m.\u001b[39mis_Number \u001b[38;5;129;01mand\u001b[39;00m s \u001b[38;5;129;01mand\u001b[39;00m den \u001b[38;5;241m==\u001b[39m \\\n\u001b[1;32m    204\u001b[0m                 log(\u001b[38;5;241m-\u001b[39mfactor_terms(b, sign\u001b[38;5;241m=\u001b[39m\u001b[38;5;28;01mFalse\u001b[39;00m)) \u001b[38;5;241m+\u001b[39m s\u001b[38;5;241m*\u001b[39mS\u001b[38;5;241m.\u001b[39mImaginaryUnit\u001b[38;5;241m*\u001b[39mS\u001b[38;5;241m.\u001b[39mPi:\n\u001b[1;32m    205\u001b[0m             \u001b[38;5;28;01mreturn\u001b[39;00m S\u001b[38;5;241m.\u001b[39mExp1\u001b[38;5;241m*\u001b[39m\u001b[38;5;241m*\u001b[39m(c\u001b[38;5;241m*\u001b[39mnum)\n\u001b[0;32m--> 207\u001b[0m obj \u001b[38;5;241m=\u001b[39m \u001b[43mb\u001b[49m\u001b[38;5;241;43m.\u001b[39;49m\u001b[43m_eval_power\u001b[49m\u001b[43m(\u001b[49m\u001b[43me\u001b[49m\u001b[43m)\u001b[49m\n\u001b[1;32m    208\u001b[0m \u001b[38;5;28;01mif\u001b[39;00m obj \u001b[38;5;129;01mis\u001b[39;00m \u001b[38;5;129;01mnot\u001b[39;00m \u001b[38;5;28;01mNone\u001b[39;00m:\n\u001b[1;32m    209\u001b[0m     \u001b[38;5;28;01mreturn\u001b[39;00m obj\n",
      "File \u001b[0;32m~/Library/Python/3.9/lib/python/site-packages/sympy/core/numbers.py:2045\u001b[0m, in \u001b[0;36mInteger._eval_power\u001b[0;34m(self, expt)\u001b[0m\n\u001b[1;32m   2042\u001b[0m x, xexact \u001b[38;5;241m=\u001b[39m integer_nthroot(\u001b[38;5;28mabs\u001b[39m(\u001b[38;5;28mself\u001b[39m\u001b[38;5;241m.\u001b[39mp), expt\u001b[38;5;241m.\u001b[39mq)\n\u001b[1;32m   2043\u001b[0m \u001b[38;5;28;01mif\u001b[39;00m xexact:\n\u001b[1;32m   2044\u001b[0m     \u001b[38;5;66;03m# if it's a perfect root we've finished\u001b[39;00m\n\u001b[0;32m-> 2045\u001b[0m     result \u001b[38;5;241m=\u001b[39m Integer(\u001b[43mx\u001b[49m\u001b[38;5;241;43m*\u001b[39;49m\u001b[38;5;241;43m*\u001b[39;49m\u001b[38;5;28;43mabs\u001b[39;49m\u001b[43m(\u001b[49m\u001b[43mexpt\u001b[49m\u001b[38;5;241;43m.\u001b[39;49m\u001b[43mp\u001b[49m\u001b[43m)\u001b[49m)\n\u001b[1;32m   2046\u001b[0m     \u001b[38;5;28;01mif\u001b[39;00m \u001b[38;5;28mself\u001b[39m\u001b[38;5;241m.\u001b[39mis_negative:\n\u001b[1;32m   2047\u001b[0m         result \u001b[38;5;241m*\u001b[39m\u001b[38;5;241m=\u001b[39m S\u001b[38;5;241m.\u001b[39mNegativeOne\u001b[38;5;241m*\u001b[39m\u001b[38;5;241m*\u001b[39mexpt\n",
      "\u001b[0;31mKeyboardInterrupt\u001b[0m: "
     ]
    }
   ],
   "source": [
    "from sympy import symbols, Eq, solve, log\n",
    "E_in=E(8)\n",
    "# Define the symbolic variables\n",
    "a, b = symbols('a b')\n",
    "p_list = [a, 0.12, 0.09, 0.15, 0.3,0.14, 0.23,b]\n",
    "eq1 = Eq(sum(p_list), E_in)\n",
    "\n",
    "# Second equation: sum of S(p) equals S_in\n",
    "eq2 = Eq(sum(S(p) for p in p_list), S_in)\n",
    "\n",
    "# Solve the system of equations\n",
    "solution = solve((eq1, eq2), (a, b))\n",
    "\n",
    "print(\"Solution:\", solution)"
   ]
  },
  {
   "cell_type": "code",
   "execution_count": 38,
   "id": "e782f756-8204-431d-8694-cbd5df2c5e2e",
   "metadata": {},
   "outputs": [
    {
     "data": {
      "text/latex": [
       "$\\displaystyle 2.94859248074939$"
      ],
      "text/plain": [
       "2.94859248074939"
      ]
     },
     "execution_count": 38,
     "metadata": {},
     "output_type": "execute_result"
    }
   ],
   "source": [
    "S_in"
   ]
  },
  {
   "cell_type": "code",
   "execution_count": 88,
   "id": "41bba580-5d7c-4ab7-88dd-c5ed7dfb5ee6",
   "metadata": {},
   "outputs": [
    {
     "name": "stdout",
     "output_type": "stream",
     "text": [
      "Optimized parameters: [0.1 0.1]\n"
     ]
    }
   ],
   "source": [
    "import numpy as np\n",
    "from scipy.optimize import minimize\n",
    "N=12\n",
    "# Define the p_list elements as functions of a and b\n",
    "def p_list(a, b, N):\n",
    "    return [a,0.1,0.04340705, 0.12, 0.09, 0.15, 0.3,0.14, 0.23, 0.02659295,0.1,b]\n",
    "\n",
    "# Define the objective function to minimize\n",
    "def objective(params):\n",
    "    a, b = params\n",
    "    p_vals = p_list(a, b, N)\n",
    "    sum_p = np.sum(p_vals)\n",
    "    sum_Sp = np.sum([S(p) for p in p_vals])\n",
    "    # Return the sum of squared differences (error terms)\n",
    "    return float(((sum_p - E_in)**2 + (sum_Sp - S_in)**2).evalf().as_real_imag()[0])\n",
    "\n",
    "# Initial guesses for a and b\n",
    "initial_guess = [0.002002, 0.00002201]  # Adjust based on expected range\n",
    "\n",
    "# Use scipy's minimize function to find the optimal a and b\n",
    "result = minimize(objective, initial_guess, method='Nelder-Mead', tol=1e-10)\n",
    "\n",
    "# Print the optimized parameters\n",
    "print(\"Optimized parameters:\", result.x)\n"
   ]
  },
  {
   "cell_type": "code",
   "execution_count": 43,
   "id": "39f14a82-b77e-4701-9bb9-fb86d13d6463",
   "metadata": {},
   "outputs": [
    {
     "data": {
      "text/latex": [
       "$\\displaystyle \\left(a + b - 0.0700000000000001\\right)^{2} + \\left(- a \\log{\\left(a \\right)} - b \\log{\\left(b \\right)} + \\left(a - 1\\right) \\log{\\left(1 - a \\right)} + \\left(b - 1\\right) \\log{\\left(1 - b \\right)} - 0.301316449957313\\right)^{2}$"
      ],
      "text/plain": [
       "(a + b - 0.0700000000000001)**2 + (-a*log(a) - b*log(b) + (a - 1)*log(1 - a) + (b - 1)*log(1 - b) - 0.301316449957313)**2"
      ]
     },
     "execution_count": 43,
     "metadata": {},
     "output_type": "execute_result"
    }
   ],
   "source": [
    "def objective(a,b):\n",
    "    p_vals = p_list(a, b, N)\n",
    "    sum_p = np.sum(p_vals)\n",
    "    sum_Sp = np.sum([S(p) for p in p_vals])\n",
    "    # Return the sum of squared differences (error terms)\n",
    "    return (sum_p - E_in)**2 + (sum_Sp - S_in)**2\n",
    "\n",
    "objective(a,b)"
   ]
  },
  {
   "cell_type": "code",
   "execution_count": 66,
   "id": "33afb297-1cba-420a-8661-abf672e294fc",
   "metadata": {},
   "outputs": [
    {
     "name": "stdout",
     "output_type": "stream",
     "text": [
      "Trying method: Nelder-Mead\n",
      "Trying method: Powell\n",
      "Trying method: BFGS\n",
      "Trying method: L-BFGS-B\n",
      "Trying method: TNC\n",
      "Trying method: COBYLA\n",
      "Trying method: SLSQP\n"
     ]
    },
    {
     "name": "stderr",
     "output_type": "stream",
     "text": [
      "/var/folders/58/gxcqk5bd4055b6n0b6yszvlw0000gn/T/ipykernel_23236/3616594845.py:15: RuntimeWarning: overflow encountered in scalar power\n",
      "  return float(((sum_p - E_in)**2 + (sum_Sp - S_in)**2).evalf().as_real_imag()[0])\n"
     ]
    },
    {
     "name": "stdout",
     "output_type": "stream",
     "text": [
      "Trying method: trust-constr\n",
      "\n",
      "Best Method:\n",
      "Method: Powell\n",
      "Objective Function Value: -inf\n",
      "Success: True\n",
      "Message: Optimization terminated successfully.\n"
     ]
    }
   ],
   "source": [
    "methods = ['Nelder-Mead', 'Powell', 'BFGS', 'L-BFGS-B', 'TNC', 'COBYLA', 'SLSQP', 'trust-constr']\n",
    "\n",
    "# Store results\n",
    "results = []\n",
    "\n",
    "# Initial guess for the optimization\n",
    "initial_guess = [0.0000002, 0.0000201]\n",
    "\n",
    "# Try each method and store the results\n",
    "for method in methods:\n",
    "    print(f\"Trying method: {method}\")\n",
    "    \n",
    "    # Run the optimization using the current method\n",
    "    result = minimize(objective, initial_guess, method=method)\n",
    "    \n",
    "    # Store the result\n",
    "    results.append((method, result.fun, result.success, result.message))\n",
    "\n",
    "# Find the best method based on the objective function value\n",
    "best_method = min(results, key=lambda x: x[1])\n",
    "\n",
    "# Print the best method and its results\n",
    "print(\"\\nBest Method:\")\n",
    "print(f\"Method: {best_method[0]}\")\n",
    "print(f\"Objective Function Value: {best_method[1]}\")\n",
    "print(f\"Success: {best_method[2]}\")\n",
    "print(f\"Message: {best_method[3]}\")"
   ]
  },
  {
   "cell_type": "code",
   "execution_count": null,
   "id": "cfb298b3-9a21-44e2-9279-4a3fb03d18fe",
   "metadata": {},
   "outputs": [],
   "source": []
  }
 ],
 "metadata": {
  "kernelspec": {
   "display_name": "Python 3 (ipykernel)",
   "language": "python",
   "name": "python3"
  },
  "language_info": {
   "codemirror_mode": {
    "name": "ipython",
    "version": 3
   },
   "file_extension": ".py",
   "mimetype": "text/x-python",
   "name": "python",
   "nbconvert_exporter": "python",
   "pygments_lexer": "ipython3",
   "version": "3.9.6"
  }
 },
 "nbformat": 4,
 "nbformat_minor": 5
}
