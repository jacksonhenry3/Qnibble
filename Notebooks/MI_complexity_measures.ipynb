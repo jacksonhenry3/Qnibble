{
 "cells": [
  {
   "cell_type": "code",
   "execution_count": null,
   "id": "8508f4d8-5099-4379-bc26-8f544ffa4cf1",
   "metadata": {},
   "outputs": [],
   "source": [
    "# Add directory above current directory to path\n",
    "import sys as SYS; SYS.path.insert(0, '..')\n",
    "\n",
    "# for saving\n",
    "import os\n",
    "\n",
    "from collections import defaultdict\n",
    "import numpy as np\n",
    "import matplotlib.pyplot as plt\n",
    "\n",
    "from src import setup\n",
    "# setup.use_gpu()"
   ]
  },
  {
   "cell_type": "code",
   "execution_count": null,
   "id": "3588f42a-9b71-4eaa-ba28-079e15f76d5d",
   "metadata": {},
   "outputs": [],
   "source": [
    "# Add directory above current directory to path\n",
    "import sys as SYS; SYS.path.insert(0, '..')\n",
    "\n",
    "# for saving\n",
    "import os\n",
    "\n",
    "from collections import defaultdict\n",
    "import numpy as np\n",
    "import matplotlib.pyplot as plt\n",
    "\n",
    "from src import setup\n",
    "# setup.use_gpu()"
   ]
  },
  {
   "cell_type": "code",
   "execution_count": null,
   "id": "2fc16334-4750-40a5-8272-b1c74c82a08f",
   "metadata": {},
   "outputs": [],
   "source": [
    "Trials = 5\n",
    "for unitary_seed in range(Trials):\n",
    "    initial_pops = [.02,0.02, .02, .02, .499, .02, .02, .02]\n",
    "    system = DM.n_thermal_qbits(initial_pops)\n",
    "    connectivity = \"c5\"\n",
    "    unitary_energy_subspace = 1\n",
    "    ordering_seed = 1\n",
    "    chunk_size = 2\n",
    "    order_rule_name = \"greedy\"\n",
    "    num_steps = 50\n",
    "    data = cleo.execute(file_name=\"greedy\",\n",
    "                       connectivity=connectivity,\n",
    "                       order_rule_name = order_rule_name, \n",
    "                       unitary_seed=unitary_seed,\n",
    "                       unitary_energy_subspace=unitary_energy_subspace,\n",
    "                       evolution_generation_type=\"unitary\",\n",
    "                       chunk_size=chunk_size,\n",
    "                       num_steps=num_steps,\n",
    "                       initial_pops=initial_pops,\n",
    "                       verbosity = .9)"
   ]
  },
  {
   "cell_type": "code",
   "execution_count": null,
   "id": "1a06f184-e35c-434e-a99b-22532150c5ff",
   "metadata": {},
   "outputs": [],
   "source": [
    "import sys as SYS; SYS.path.insert(0, '../..')\n",
    "from Scripts import hdf5merge\n",
    "hdf5merge.merge_hdf5_files(\"../data/greedy\")"
   ]
  },
  {
   "cell_type": "code",
   "execution_count": null,
   "id": "6d85456f-d6d9-4d79-ac9a-0a4ee1328590",
   "metadata": {},
   "outputs": [],
   "source": [
    "import matplotlib.pyplot as plt \n",
    "import matplotlib.animation as animation\n",
    "# Add directory above current directory to path\n",
    "import sys as SYS; SYS.path.insert(0, '../..')\n",
    "import h5py\n",
    "import networkx as nx\n",
    "import matplotlib.pyplot as plt\n",
    "import numpy as np\n",
    "from src import ket as ket\n",
    "from src import density_matrix as DM"
   ]
  },
  {
   "cell_type": "code",
   "execution_count": null,
   "id": "811e6de1-a722-4b52-84f3-7337ec7ae31e",
   "metadata": {},
   "outputs": [],
   "source": [
    "newdata1 = dict(h5py.File(\"../data/greedy/greedy.hdf5\"))"
   ]
  },
  {
   "cell_type": "code",
   "execution_count": null,
   "id": "11a0fb06-6e88-435b-b700-de582ca7071b",
   "metadata": {},
   "outputs": [],
   "source": [
    "def get_pops(data, n_qubits, connectivity,update_rule):\n",
    "    #dimension 0 is each trial\n",
    "    #dimension 1 is each time step\n",
    "    #dimension 2 is each qubit\n",
    "    result = []\n",
    "    for trial in data[f'{n_qubits} qubits'][f'{connectivity} connectivity']['unitary energy subspace 1']:\n",
    "        seed = trial.split(' ')[-1]\n",
    "        dat = dict(data[f'{n_qubits} qubits'][f'{connectivity} connectivity']['unitary energy subspace 1'][f'unitary seed {seed}'][f'ordering seed {update_rule}']['pops'])\n",
    "        dat = {int(k.split('(')[0]): dat[k] for k in dat}\n",
    "        dat = np.array([np.array([dat[k][subkey][()] for subkey in sorted(dat[k])]) for k in sorted(dat)])\n",
    "        result.append(dat)\n",
    "    return(np.array(result))\n",
    "\n",
    "def get_2_qbit_dms(data, n_qubits, connectivity,update_rule):\n",
    "    basis = ket.canonical_basis(2)\n",
    "    #dimension 0 is each trial\n",
    "    #dimension 1 is each time step (recall that sampling step is 5 by default)\n",
    "    #dimension 2 is qubit pair\n",
    "    #dimension 3 and 4 is the 2 qubit density matrix\n",
    "    result = []\n",
    "    \n",
    "    def to_tuple(string):\n",
    "        tuple_elements = string.strip('()').split(',')\n",
    "        return tuple(int(elem.strip()) for elem in tuple_elements)\n",
    "\n",
    "    for trial in data[f'{n_qubits} qubits'][f'{connectivity} connectivity']['unitary energy subspace 1']:\n",
    "        seed = trial.split(' ')[-1]\n",
    "        dat = dict(data[f'{n_qubits} qubits'][f'{connectivity} connectivity']['unitary energy subspace 1'][f'unitary seed {seed}'][f'ordering seed {update_rule}']['two_qubit_dms'])\n",
    "        dat = {int(k.split('(')[0]): dat[k] for k in dat}\n",
    "        \n",
    "        dat = np.array([{to_tuple(subkey):DM.DensityMatrix(dat[k][subkey],basis) for subkey in sorted(dat[k])} for k in sorted(dat)])\n",
    "        result.append(dat)\n",
    "    return(np.array(result))\n",
    "\n",
    "def get_3_qbit_dms(data, n_qubits, connectivity,update_rule):\n",
    "    basis = ket.canonical_basis(3)\n",
    "    #dimension 0 is each trial\n",
    "    #dimension 1 is each time step (recall that sampling step is 5 by default)\n",
    "    #dimension 2 is qubit triplet\n",
    "    #dimension 3 and 4 is the 3 qubit density matrix\n",
    "    result = []\n",
    "    \n",
    "    def to_tuple(string):\n",
    "        tuple_elements = string.strip('()').split(',')\n",
    "        return tuple(int(elem.strip()) for elem in tuple_elements)\n",
    "\n",
    "    for trial in data[f'{n_qubits} qubits'][f'{connectivity} connectivity']['unitary energy subspace 1']:\n",
    "        seed = trial.split(' ')[-1]\n",
    "        dat = dict(data[f'{n_qubits} qubits'][f'{connectivity} connectivity']['unitary energy subspace 1'][f'unitary seed {seed}'][f'ordering seed {update_rule}']['three_qubit_dms'])\n",
    "        dat = {int(k.split('(')[0]): dat[k] for k in dat}\n",
    "        \n",
    "        dat = np.array([{to_tuple(subkey):DM.DensityMatrix(dat[k][subkey],basis) for subkey in sorted(dat[k])} for k in sorted(dat)])\n",
    "        result.append(dat)\n",
    "    return(np.array(result))"
   ]
  },
  {
   "cell_type": "code",
   "execution_count": null,
   "id": "591cb77c-b4d4-4798-9515-f93351837a4f",
   "metadata": {},
   "outputs": [],
   "source": [
    "twoQdmsgreedy = get_2_qbit_dms(newdata1,8,\"c5\",\"greedy\")"
   ]
  },
  {
   "cell_type": "code",
   "execution_count": null,
   "id": "22d75a12-19e5-49b8-8701-6a757ad5be14",
   "metadata": {},
   "outputs": [],
   "source": [
    "popsrandom = get_pops(newdata_mmi_random,8,\"c5\",\"random\")"
   ]
  },
  {
   "cell_type": "code",
   "execution_count": null,
   "id": "5da3fd60-7136-465d-bb49-8b60c247fac7",
   "metadata": {},
   "outputs": [],
   "source": [
    "for i in range(5):\n",
    "    plt.imshow(popsgreedy[i], interpolation='none')\n",
    "    plt.show()"
   ]
  },
  {
   "cell_type": "code",
   "execution_count": null,
   "id": "31f480af-6d1e-4a21-acef-675a10ec6ac8",
   "metadata": {},
   "outputs": [],
   "source": [
    "#MI of every pair\n",
    "def mutual_info_dicts(twoQdms, trial_index):\n",
    "    mutual_info_list = []\n",
    "    for time_step in twoQdms[trial_index]:\n",
    "        mutual_info_dict = {}\n",
    "        mutual_info = measure.mutual_information_of_every_pair_dict(time_step)\n",
    "        # Filter out values below the precision threshold\n",
    "        filtered_mutual_info = {k: v if v >= 1e-6 else 0 for k, v in mutual_info.items()}\n",
    "        # Update the mutual_info_dict with the filtered mutual info for the current time step\n",
    "        mutual_info_dict.update(filtered_mutual_info)\n",
    "        # Append the mutual_info_dict to the list\n",
    "        mutual_info_list.append(mutual_info_dict)\n",
    "    return mutual_info_list"
   ]
  },
  {
   "cell_type": "code",
   "execution_count": null,
   "id": "262149ba-309f-4848-93d3-caa53f6a3e92",
   "metadata": {},
   "outputs": [],
   "source": [
    "# Call the two_point_dict function for each trial index\n",
    "# Get the list of dictionaries containing two point values for each time step\n",
    "def create_adjacency_matrix_two_dim(two_point_dict, num_nodes):\n",
    "    adjacency_matrix = [[0] * num_nodes for _ in range(num_nodes)]\n",
    "    for (node1, node2), two_point_value in two_point_dict.items():\n",
    "        adjacency_matrix[node1][node2] = two_point_value\n",
    "        adjacency_matrix[node2][node1] = two_point_value  # Assuming undirected graph\n",
    "    return adjacency_matrix\n"
   ]
  },
  {
   "cell_type": "code",
   "execution_count": null,
   "id": "6e5d74fb-ba29-4e62-8df1-a0c74555d834",
   "metadata": {},
   "outputs": [],
   "source": [
    "def adjacency_matrices_list_two_dim(twoQdms, trial_index, num_nodes, two_point_dicts):\n",
    "    # Get the list of dictionaries containing mutual information values for each time step\n",
    "    two_point_dicts_list = two_point_dicts(twoQdms, trial_index)\n",
    "    # Create adjacency matrices for each time step\n",
    "    adjacency_matrices = []\n",
    "    for two_point_dict in two_point_dicts_list:\n",
    "        adj_matrix = create_adjacency_matrix(two_point_dict, num_nodes)\n",
    "        adjacency_matrices.append(adj_matrix)\n",
    "    return adjacency_matrices"
   ]
  },
  {
   "cell_type": "code",
   "execution_count": null,
   "id": "68684739-f988-4621-8eda-b71be266abaa",
   "metadata": {},
   "outputs": [],
   "source": [
    "# Example usage:\n",
    "# Assuming num_nodes is known\n",
    "num_nodes = 8  # Update this with the actual number of nodes\n",
    "# Get the list of adjacency matrices\n",
    "adj_matrices_list = adjacency_matrices_list_two_dim(twoQdmsgreedy,1, num_nodes,mutual_info_dicts)\n",
    "#adj_matrices_list"
   ]
  }
 ],
 "metadata": {
  "kernelspec": {
   "display_name": "Python 3 (ipykernel)",
   "language": "python",
   "name": "python3"
  },
  "language_info": {
   "codemirror_mode": {
    "name": "ipython",
    "version": 3
   },
   "file_extension": ".py",
   "mimetype": "text/x-python",
   "name": "python",
   "nbconvert_exporter": "python",
   "pygments_lexer": "ipython3",
   "version": "3.11.7"
  }
 },
 "nbformat": 4,
 "nbformat_minor": 5
}
