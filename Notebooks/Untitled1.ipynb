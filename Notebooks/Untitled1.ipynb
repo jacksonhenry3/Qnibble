{
 "cells": [
  {
   "cell_type": "code",
   "execution_count": 3,
   "id": "71f70c39-162e-4fe0-a6ac-5714afc38aa3",
   "metadata": {},
   "outputs": [
    {
     "data": {
      "image/png": "[encoded data removed]",
      "text/plain": [
       "<Figure size 640x480 with 1 Axes>"
      ]
     },
     "metadata": {},
     "output_type": "display_data"
    }
   ],
   "source": [
    "import numpy as np \n",
    "import matplotlib.pyplot as plt\n",
    "\n",
    "X = np.array([[1,1], [2,2.5], [3, 1], [8, 7.5], [7, 9], [9, 9]])\n",
    "Y = ['red', 'red', 'red', 'blue', 'blue', 'blue']\n",
    "\n",
    "plt.figure()\n",
    "plt.scatter(X[:, 0], X[:, 1], s = 170, color = Y[:])\n",
    "\n",
    "t1 = plt.Polygon(X[:3,:], color=Y[0])\n",
    "plt.gca().add_patch(t1)\n",
    "\n",
    "t2 = plt.Polygon(X[3:6,:], color=Y[3])\n",
    "plt.gca().add_patch(t2)\n",
    "\n",
    "plt.show()"
   ]
  },
  {
   "cell_type": "code",
   "execution_count": 20,
   "id": "4093c743-1da0-47ee-a5a8-935de2b4942d",
   "metadata": {},
   "outputs": [],
   "source": [
    "class Triangle:\n",
    "\n",
    "    def __init__(self, direction: bool):\n",
    "        self.direction = direction\n",
    "        \n",
    "    def __repr__(self):\n",
    "        return f\"{self.direction}\"\n",
    "\n",
    "class Slab:\n",
    "\n",
    "    def __init__(self, triangles: list[Triangle]):\n",
    "        self.triangles = triangles\n"
   ]
  },
  {
   "cell_type": "code",
   "execution_count": 21,
   "id": "383d96e7-e5ad-417d-bea5-4ec6d8e139a5",
   "metadata": {},
   "outputs": [],
   "source": [
    "a = Triangle(False)"
   ]
  },
  {
   "cell_type": "code",
   "execution_count": 22,
   "id": "3d21ab4e-22af-436c-8698-0094f2afe79e",
   "metadata": {},
   "outputs": [],
   "source": [
    "slab = Slab([a])"
   ]
  },
  {
   "cell_type": "code",
   "execution_count": 23,
   "id": "eb7afe3b-c4c6-4ccf-abc9-3767c6455425",
   "metadata": {},
   "outputs": [
    {
     "data": {
      "text/plain": [
       "[False]"
      ]
     },
     "execution_count": 23,
     "metadata": {},
     "output_type": "execute_result"
    }
   ],
   "source": [
    "slab.triangles"
   ]
  },
  {
   "cell_type": "code",
   "execution_count": null,
   "id": "fda11884-5ceb-44df-8a34-b13c034f4f76",
   "metadata": {},
   "outputs": [],
   "source": []
  }
 ],
 "metadata": {
  "kernelspec": {
   "display_name": "PyCharm (Qnibble)",
   "language": "python",
   "name": "pycharm-c82c9ad0"
  },
  "language_info": {
   "codemirror_mode": {
    "name": "ipython",
    "version": 3
   },
   "file_extension": ".py",
   "mimetype": "text/x-python",
   "name": "python",
   "nbconvert_exporter": "python",
   "pygments_lexer": "ipython3",
   "version": "3.10.4"
  }
 },
 "nbformat": 4,
 "nbformat_minor": 5
}
