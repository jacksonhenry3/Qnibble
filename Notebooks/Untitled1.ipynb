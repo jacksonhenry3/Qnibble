{
 "cells": [
  {
   "cell_type": "code",
   "execution_count": null,
   "id": "b2769d42-9f22-48bf-b83c-0a77f8eecccc",
   "metadata": {},
   "outputs": [],
   "source": []
  }
 ],
 "metadata": {
  "kernelspec": {
   "display_name": "PyCharm (Qnibble)",
   "language": "python",
   "name": "pycharm-c82c9ad0"
  },
  "language_info": {
   "codemirror_mode": {
    "name": "ipython",
    "version": 3
   },
   "file_extension": ".py",
   "mimetype": "text/x-python",
   "name": "python",
   "nbconvert_exporter": "python",
   "pygments_lexer": "ipython3",
   "version": "3.10.4"
  }
 },
 "nbformat": 4,
 "nbformat_minor": 5
}
