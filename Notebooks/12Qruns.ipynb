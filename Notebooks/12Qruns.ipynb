{
 "cells": [
  {
   "cell_type": "code",
   "execution_count": 1,
   "id": "540ae469-005a-4148-babb-d29ebcf39076",
   "metadata": {},
   "outputs": [],
   "source": [
    "# Add directory above current directory to path\n",
    "import sys as SYS; SYS.path.insert(0, '..')\n",
    "\n",
    "# for saving\n",
    "import os\n",
    "\n",
    "from collections import defaultdict\n",
    "import numpy as np\n",
    "import matplotlib.pyplot as plt\n",
    "\n",
    "from src import setup\n",
    "# setup.use_gpu()"
   ]
  },
  {
   "cell_type": "code",
   "execution_count": 2,
   "id": "88ebe62b-80bc-492e-827b-bcddc823e997",
   "metadata": {},
   "outputs": [],
   "source": [
    "from src import ( \n",
    "    measurements as measure,\n",
    "    density_matrix as DM,\n",
    "    simulation as sim,\n",
    "    orders,\n",
    "    order_rules,\n",
    "    random_unitary,\n",
    "    simulation)\n",
    "\n",
    "from Scripts import simulation_CLI as cleo"
   ]
  },
  {
   "cell_type": "code",
   "execution_count": 3,
   "id": "5eb70c2b-44b0-4205-99cc-3f6617c4e8a9",
   "metadata": {},
   "outputs": [
    {
     "name": "stdout",
     "output_type": "stream",
     "text": [
      "90%\n",
      "simulation complete, extracting and saving data to : ../data/random/random-12_qubits-c2_2local_connectivity-unitary_energy_subspace_1-unitary_seed_0-order_rule_name_random\n",
      "simulation complete, extracting and saving data to : ../data/random/random-12_qubits-c2_2local_connectivity-unitary_energy_subspace_1-unitary_seed_0-order_rule_name_random\n"
     ]
    }
   ],
   "source": [
    "Trials = 1\n",
    "for unitary_seed in range(Trials):\n",
    "#    initial_pops = [0.25, 0.43, 0.31, 0.23, 0.28, 0.21, 0.23, 0.36, 0.25, 0.408125,0.423676, 0.15]\n",
    "    initial_pops = [0.2, 0.4, 0.2, 0.2, 0.2, 0.2, 0.4, 0.2, 0.2, 0.2, 0.2, 0.4]\n",
    "    system = DM.n_thermal_qbits(initial_pops)\n",
    "    connectivity = \"c2_2local\"\n",
    "    unitary_energy_subspace = 1\n",
    "    ordering_seed = 1\n",
    "    chunk_size = 2\n",
    "    order_rule_name = \"random\"\n",
    "    num_steps = 500\n",
    "    data = cleo.execute(file_name=\"random\",\n",
    "                       connectivity=connectivity,\n",
    "                       order_rule_name = order_rule_name, \n",
    "                       unitary_seed=unitary_seed,\n",
    "                       unitary_energy_subspace=unitary_energy_subspace,\n",
    "                       evolution_generation_type=\"haar2Qunitary\",\n",
    "                       chunk_size=chunk_size,\n",
    "                       num_steps=num_steps,\n",
    "                       initial_pops=initial_pops,\n",
    "                       verbosity = .9)"
   ]
  },
  {
   "cell_type": "code",
   "execution_count": 4,
   "id": "89edef00-9213-4933-8c69-4f059455c768",
   "metadata": {},
   "outputs": [
    {
     "name": "stdout",
     "output_type": "stream",
     "text": [
      "90%\n",
      "simulation complete, extracting and saving data to : ../data/random/random-12_qubits-c4_2local_connectivity-unitary_energy_subspace_1-unitary_seed_0-order_rule_name_random\n",
      "simulation complete, extracting and saving data to : ../data/random/random-12_qubits-c4_2local_connectivity-unitary_energy_subspace_1-unitary_seed_0-order_rule_name_random\n"
     ]
    }
   ],
   "source": [
    "Trials = 1\n",
    "for unitary_seed in range(Trials):\n",
    "#    initial_pops = [0.25, 0.43, 0.31, 0.23, 0.28, 0.21, 0.23, 0.36, 0.25, 0.408125,0.423676, 0.15]\n",
    "    initial_pops = [0.2, 0.4, 0.2, 0.2, 0.2, 0.2, 0.4, 0.2, 0.2, 0.2, 0.2, 0.4]\n",
    "    system = DM.n_thermal_qbits(initial_pops)\n",
    "    connectivity = \"c4_2local\"\n",
    "    unitary_energy_subspace = 1\n",
    "    ordering_seed = 1\n",
    "    chunk_size = 2\n",
    "    order_rule_name = \"random\"\n",
    "    num_steps = 500\n",
    "    data = cleo.execute(file_name=\"random\",\n",
    "                       connectivity=connectivity,\n",
    "                       order_rule_name = order_rule_name, \n",
    "                       unitary_seed=unitary_seed,\n",
    "                       unitary_energy_subspace=unitary_energy_subspace,\n",
    "                       evolution_generation_type=\"haar2Qunitary\",\n",
    "                       chunk_size=chunk_size,\n",
    "                       num_steps=num_steps,\n",
    "                       initial_pops=initial_pops,\n",
    "                       verbosity = .9)"
   ]
  },
  {
   "cell_type": "code",
   "execution_count": 5,
   "id": "5de6c3b3-f124-45ab-8d20-82da7151fec7",
   "metadata": {},
   "outputs": [
    {
     "name": "stdout",
     "output_type": "stream",
     "text": [
      "90%\n",
      "simulation complete, extracting and saving data to : ../data/random/random-12_qubits-c5_2local_connectivity-unitary_energy_subspace_1-unitary_seed_0-order_rule_name_random\n",
      "simulation complete, extracting and saving data to : ../data/random/random-12_qubits-c5_2local_connectivity-unitary_energy_subspace_1-unitary_seed_0-order_rule_name_random\n"
     ]
    }
   ],
   "source": [
    "Trials = 1\n",
    "for unitary_seed in range(Trials):\n",
    "#    initial_pops = [0.25, 0.43, 0.31, 0.23, 0.28, 0.21, 0.23, 0.36, 0.25, 0.408125,0.423676, 0.15]\n",
    "    initial_pops = [0.2, 0.4, 0.2, 0.2, 0.2, 0.2, 0.4, 0.2, 0.2, 0.2, 0.2, 0.4]\n",
    "    system = DM.n_thermal_qbits(initial_pops)\n",
    "    connectivity = \"c5_2local\"\n",
    "    unitary_energy_subspace = 1\n",
    "    ordering_seed = 1\n",
    "    chunk_size = 2\n",
    "    order_rule_name = \"random\"\n",
    "    num_steps = 500\n",
    "    data = cleo.execute(file_name=\"random\",\n",
    "                       connectivity=connectivity,\n",
    "                       order_rule_name = order_rule_name, \n",
    "                       unitary_seed=unitary_seed,\n",
    "                       unitary_energy_subspace=unitary_energy_subspace,\n",
    "                       evolution_generation_type=\"haar2Qunitary\",\n",
    "                       chunk_size=chunk_size,\n",
    "                       num_steps=num_steps,\n",
    "                       initial_pops=initial_pops,\n",
    "                       verbosity = .9)"
   ]
  },
  {
   "cell_type": "code",
   "execution_count": 3,
   "id": "00634891-c389-452e-aeaa-127cb272e9c8",
   "metadata": {},
   "outputs": [
    {
     "name": "stdout",
     "output_type": "stream",
     "text": [
      "90%\n",
      "simulation complete, extracting and saving data to : ../data/random/random-12_qubits-c6_2local_connectivity-unitary_energy_subspace_1-unitary_seed_0-order_rule_name_random\n",
      "simulation complete, extracting and saving data to : ../data/random/random-12_qubits-c6_2local_connectivity-unitary_energy_subspace_1-unitary_seed_0-order_rule_name_random\n"
     ]
    }
   ],
   "source": [
    "Trials = 1\n",
    "for unitary_seed in range(Trials):\n",
    "    #initial_pops = [0.31, 0.23, 0.23, 0.32002, 0.2, 0.23, 0.36, 0.15, 0.18, 0.408125]\n",
    "    initial_pops = [0.2, 0.4, 0.2, 0.2, 0.2, 0.2, 0.4, 0.2, 0.2, 0.2, 0.2, 0.4]\n",
    "    system = DM.n_thermal_qbits(initial_pops)\n",
    "    connectivity = \"c6_2local\"\n",
    "    unitary_energy_subspace = 1\n",
    "    ordering_seed = 1\n",
    "    chunk_size = 2\n",
    "    order_rule_name = \"random\"\n",
    "    num_steps = 500\n",
    "    data = cleo.execute(file_name=\"random\",\n",
    "                       connectivity=connectivity,\n",
    "                       order_rule_name = order_rule_name, \n",
    "                       unitary_seed=unitary_seed,\n",
    "                       unitary_energy_subspace=unitary_energy_subspace,\n",
    "                       evolution_generation_type=\"haar2Qunitary\",\n",
    "                       chunk_size=chunk_size,\n",
    "                       num_steps=num_steps,\n",
    "                       initial_pops=initial_pops,\n",
    "                       verbosity = .9)"
   ]
  },
  {
   "cell_type": "code",
   "execution_count": 3,
   "id": "2bec75b0-62af-43a7-8d46-428b72b342ec",
   "metadata": {},
   "outputs": [
    {
     "name": "stdout",
     "output_type": "stream",
     "text": [
      "90%\n",
      "simulation complete, extracting and saving data to : ../data/random/random-12_qubits-cN_2local_connectivity-unitary_energy_subspace_1-unitary_seed_0-order_rule_name_random\n",
      "simulation complete, extracting and saving data to : ../data/random/random-12_qubits-cN_2local_connectivity-unitary_energy_subspace_1-unitary_seed_0-order_rule_name_random\n"
     ]
    }
   ],
   "source": [
    "Trials = 1\n",
    "for unitary_seed in range(Trials):\n",
    "    #initial_pops = [0.31, 0.23, 0.23, 0.32002, 0.2, 0.23, 0.36, 0.15, 0.18, 0.408125]\n",
    "\n",
    "   # initial_pops = [0,0.5,0,0,0,0.5,0,0,0,0]\n",
    "    initial_pops = [0.2, 0.4, 0.2, 0.2, 0.2, 0.2, 0.4, 0.2, 0.2, 0.2, 0.2, 0.4]\n",
    "\n",
    "    system = DM.n_thermal_qbits(initial_pops)\n",
    "    connectivity = \"cN_2local\"\n",
    "    unitary_energy_subspace = 1\n",
    "    ordering_seed = 1\n",
    "    chunk_size = 2\n",
    "    order_rule_name = \"random\"\n",
    "    num_steps = 500\n",
    "    data = cleo.execute(file_name=\"random\",\n",
    "                       connectivity=connectivity,\n",
    "                       order_rule_name = order_rule_name, \n",
    "                       unitary_seed=unitary_seed,\n",
    "                       unitary_energy_subspace=unitary_energy_subspace,\n",
    "                       evolution_generation_type=\"haar2Qunitary\",\n",
    "                       chunk_size=chunk_size,\n",
    "                       num_steps=num_steps,\n",
    "                       initial_pops=initial_pops,\n",
    "                       verbosity = .9)"
   ]
  },
  {
   "cell_type": "code",
   "execution_count": 6,
   "id": "78b773b4-8c2b-443a-91db-6fec9dd43cb1",
   "metadata": {},
   "outputs": [
    {
     "ename": "BlockingIOError",
     "evalue": "[Errno 35] Unable to create file (unable to lock file, errno = 35, error message = 'Resource temporarily unavailable')",
     "output_type": "error",
     "traceback": [
      "\u001b[0;31m---------------------------------------------------------------------------\u001b[0m",
      "\u001b[0;31mBlockingIOError\u001b[0m                           Traceback (most recent call last)",
      "Cell \u001b[0;32mIn[6], line 3\u001b[0m\n\u001b[1;32m      1\u001b[0m \u001b[38;5;28;01mimport\u001b[39;00m \u001b[38;5;21;01msys\u001b[39;00m \u001b[38;5;28;01mas\u001b[39;00m \u001b[38;5;21;01mSYS\u001b[39;00m; SYS\u001b[38;5;241m.\u001b[39mpath\u001b[38;5;241m.\u001b[39minsert(\u001b[38;5;241m0\u001b[39m, \u001b[38;5;124m'\u001b[39m\u001b[38;5;124m../..\u001b[39m\u001b[38;5;124m'\u001b[39m)\n\u001b[1;32m      2\u001b[0m \u001b[38;5;28;01mfrom\u001b[39;00m \u001b[38;5;21;01mScripts\u001b[39;00m \u001b[38;5;28;01mimport\u001b[39;00m hdf5merge\n\u001b[0;32m----> 3\u001b[0m hdf5merge\u001b[38;5;241m.\u001b[39mmerge_hdf5_files(\u001b[38;5;124m\"\u001b[39m\u001b[38;5;124m../data/random\u001b[39m\u001b[38;5;124m\"\u001b[39m)\n",
      "File \u001b[0;32m~/Documents/GitHub/Qnibble/Notebooks/../Scripts/hdf5merge.py:37\u001b[0m, in \u001b[0;36mmerge_hdf5_files\u001b[0;34m(directory)\u001b[0m\n\u001b[1;32m     35\u001b[0m \u001b[38;5;66;03m# extract the last part of the directory name\u001b[39;00m\n\u001b[1;32m     36\u001b[0m output_file \u001b[38;5;241m=\u001b[39m directory \u001b[38;5;241m+\u001b[39m \u001b[38;5;124m\"\u001b[39m\u001b[38;5;124m/\u001b[39m\u001b[38;5;124m\"\u001b[39m \u001b[38;5;241m+\u001b[39m directory\u001b[38;5;241m.\u001b[39msplit(\u001b[38;5;124m'\u001b[39m\u001b[38;5;124m/\u001b[39m\u001b[38;5;124m'\u001b[39m)[\u001b[38;5;241m-\u001b[39m\u001b[38;5;241m1\u001b[39m] \u001b[38;5;241m+\u001b[39m \u001b[38;5;124m'\u001b[39m\u001b[38;5;124m.hdf5\u001b[39m\u001b[38;5;124m'\u001b[39m\n\u001b[0;32m---> 37\u001b[0m \u001b[38;5;28;01mwith\u001b[39;00m h5py\u001b[38;5;241m.\u001b[39mFile(output_file, \u001b[38;5;124m'\u001b[39m\u001b[38;5;124mw\u001b[39m\u001b[38;5;124m'\u001b[39m) \u001b[38;5;28;01mas\u001b[39;00m fo:\n\u001b[1;32m     38\u001b[0m     \u001b[38;5;28;01mfor\u001b[39;00m file \u001b[38;5;129;01min\u001b[39;00m file_list:\n\u001b[1;32m     39\u001b[0m         \u001b[38;5;28;01mwith\u001b[39;00m h5py\u001b[38;5;241m.\u001b[39mFile(file, \u001b[38;5;124m'\u001b[39m\u001b[38;5;124mr\u001b[39m\u001b[38;5;124m'\u001b[39m) \u001b[38;5;28;01mas\u001b[39;00m fi:\n",
      "File \u001b[0;32m/opt/anaconda3/lib/python3.11/site-packages/h5py/_hl/files.py:567\u001b[0m, in \u001b[0;36mFile.__init__\u001b[0;34m(self, name, mode, driver, libver, userblock_size, swmr, rdcc_nslots, rdcc_nbytes, rdcc_w0, track_order, fs_strategy, fs_persist, fs_threshold, fs_page_size, page_buf_size, min_meta_keep, min_raw_keep, locking, alignment_threshold, alignment_interval, meta_block_size, **kwds)\u001b[0m\n\u001b[1;32m    558\u001b[0m     fapl \u001b[38;5;241m=\u001b[39m make_fapl(driver, libver, rdcc_nslots, rdcc_nbytes, rdcc_w0,\n\u001b[1;32m    559\u001b[0m                      locking, page_buf_size, min_meta_keep, min_raw_keep,\n\u001b[1;32m    560\u001b[0m                      alignment_threshold\u001b[38;5;241m=\u001b[39malignment_threshold,\n\u001b[1;32m    561\u001b[0m                      alignment_interval\u001b[38;5;241m=\u001b[39malignment_interval,\n\u001b[1;32m    562\u001b[0m                      meta_block_size\u001b[38;5;241m=\u001b[39mmeta_block_size,\n\u001b[1;32m    563\u001b[0m                      \u001b[38;5;241m*\u001b[39m\u001b[38;5;241m*\u001b[39mkwds)\n\u001b[1;32m    564\u001b[0m     fcpl \u001b[38;5;241m=\u001b[39m make_fcpl(track_order\u001b[38;5;241m=\u001b[39mtrack_order, fs_strategy\u001b[38;5;241m=\u001b[39mfs_strategy,\n\u001b[1;32m    565\u001b[0m                      fs_persist\u001b[38;5;241m=\u001b[39mfs_persist, fs_threshold\u001b[38;5;241m=\u001b[39mfs_threshold,\n\u001b[1;32m    566\u001b[0m                      fs_page_size\u001b[38;5;241m=\u001b[39mfs_page_size)\n\u001b[0;32m--> 567\u001b[0m     fid \u001b[38;5;241m=\u001b[39m make_fid(name, mode, userblock_size, fapl, fcpl, swmr\u001b[38;5;241m=\u001b[39mswmr)\n\u001b[1;32m    569\u001b[0m \u001b[38;5;28;01mif\u001b[39;00m \u001b[38;5;28misinstance\u001b[39m(libver, \u001b[38;5;28mtuple\u001b[39m):\n\u001b[1;32m    570\u001b[0m     \u001b[38;5;28mself\u001b[39m\u001b[38;5;241m.\u001b[39m_libver \u001b[38;5;241m=\u001b[39m libver\n",
      "File \u001b[0;32m/opt/anaconda3/lib/python3.11/site-packages/h5py/_hl/files.py:237\u001b[0m, in \u001b[0;36mmake_fid\u001b[0;34m(name, mode, userblock_size, fapl, fcpl, swmr)\u001b[0m\n\u001b[1;32m    235\u001b[0m     fid \u001b[38;5;241m=\u001b[39m h5f\u001b[38;5;241m.\u001b[39mcreate(name, h5f\u001b[38;5;241m.\u001b[39mACC_EXCL, fapl\u001b[38;5;241m=\u001b[39mfapl, fcpl\u001b[38;5;241m=\u001b[39mfcpl)\n\u001b[1;32m    236\u001b[0m \u001b[38;5;28;01melif\u001b[39;00m mode \u001b[38;5;241m==\u001b[39m \u001b[38;5;124m'\u001b[39m\u001b[38;5;124mw\u001b[39m\u001b[38;5;124m'\u001b[39m:\n\u001b[0;32m--> 237\u001b[0m     fid \u001b[38;5;241m=\u001b[39m h5f\u001b[38;5;241m.\u001b[39mcreate(name, h5f\u001b[38;5;241m.\u001b[39mACC_TRUNC, fapl\u001b[38;5;241m=\u001b[39mfapl, fcpl\u001b[38;5;241m=\u001b[39mfcpl)\n\u001b[1;32m    238\u001b[0m \u001b[38;5;28;01melif\u001b[39;00m mode \u001b[38;5;241m==\u001b[39m \u001b[38;5;124m'\u001b[39m\u001b[38;5;124ma\u001b[39m\u001b[38;5;124m'\u001b[39m:\n\u001b[1;32m    239\u001b[0m     \u001b[38;5;66;03m# Open in append mode (read/write).\u001b[39;00m\n\u001b[1;32m    240\u001b[0m     \u001b[38;5;66;03m# If that fails, create a new file only if it won't clobber an\u001b[39;00m\n\u001b[1;32m    241\u001b[0m     \u001b[38;5;66;03m# existing one (ACC_EXCL)\u001b[39;00m\n\u001b[1;32m    242\u001b[0m     \u001b[38;5;28;01mtry\u001b[39;00m:\n",
      "File \u001b[0;32mh5py/_objects.pyx:54\u001b[0m, in \u001b[0;36mh5py._objects.with_phil.wrapper\u001b[0;34m()\u001b[0m\n",
      "File \u001b[0;32mh5py/_objects.pyx:55\u001b[0m, in \u001b[0;36mh5py._objects.with_phil.wrapper\u001b[0;34m()\u001b[0m\n",
      "File \u001b[0;32mh5py/h5f.pyx:126\u001b[0m, in \u001b[0;36mh5py.h5f.create\u001b[0;34m()\u001b[0m\n",
      "\u001b[0;31mBlockingIOError\u001b[0m: [Errno 35] Unable to create file (unable to lock file, errno = 35, error message = 'Resource temporarily unavailable')"
     ]
    }
   ],
   "source": [
    "import sys as SYS; SYS.path.insert(0, '../..')\n",
    "from Scripts import hdf5merge\n",
    "hdf5merge.merge_hdf5_files(\"../data/random\")"
   ]
  },
  {
   "cell_type": "code",
   "execution_count": 6,
   "id": "6ddba038-8b85-4822-8544-c62b5ef80c06",
   "metadata": {},
   "outputs": [
    {
     "name": "stdout",
     "output_type": "stream",
     "text": [
      "90%\n",
      "simulation complete, extracting and saving data to : ../data/greedy/greedy-12_qubits-c2_2local_connectivity-unitary_energy_subspace_1-unitary_seed_0-order_rule_name_greedy\n",
      "simulation complete, extracting and saving data to : ../data/greedy/greedy-12_qubits-c2_2local_connectivity-unitary_energy_subspace_1-unitary_seed_0-order_rule_name_greedy\n"
     ]
    }
   ],
   "source": [
    "Trials = 1\n",
    "for unitary_seed in range(Trials):\n",
    "#    initial_pops = [0.25, 0.43, 0.31, 0.23, 0.28, 0.21, 0.23, 0.36, 0.25, 0.408125,0.423676, 0.15]\n",
    "    initial_pops = [0.2, 0.4, 0.2, 0.2, 0.2, 0.2, 0.4, 0.2, 0.2, 0.2, 0.2, 0.4]\n",
    "    system = DM.n_thermal_qbits(initial_pops)\n",
    "    connectivity = \"c2_2local\"\n",
    "    unitary_energy_subspace = 1\n",
    "    ordering_seed = 1\n",
    "    chunk_size = 2\n",
    "    order_rule_name = \"greedy\"\n",
    "    num_steps = 500\n",
    "    data = cleo.execute(file_name=\"greedy\",\n",
    "                       connectivity=connectivity,\n",
    "                       order_rule_name = order_rule_name, \n",
    "                       unitary_seed=unitary_seed,\n",
    "                       unitary_energy_subspace=unitary_energy_subspace,\n",
    "                       evolution_generation_type=\"haar2Qunitary\",\n",
    "                       chunk_size=chunk_size,\n",
    "                       num_steps=num_steps,\n",
    "                       initial_pops=initial_pops,\n",
    "                       verbosity = .9)"
   ]
  },
  {
   "cell_type": "code",
   "execution_count": 7,
   "id": "16f59f33-d4af-4239-bceb-82e9982ce6a6",
   "metadata": {},
   "outputs": [
    {
     "name": "stdout",
     "output_type": "stream",
     "text": [
      "90%\n",
      "simulation complete, extracting and saving data to : ../data/greedy/greedy-12_qubits-c4_2local_connectivity-unitary_energy_subspace_1-unitary_seed_0-order_rule_name_greedy\n",
      "simulation complete, extracting and saving data to : ../data/greedy/greedy-12_qubits-c4_2local_connectivity-unitary_energy_subspace_1-unitary_seed_0-order_rule_name_greedy\n"
     ]
    }
   ],
   "source": [
    "Trials = 1\n",
    "for unitary_seed in range(Trials):\n",
    "#    initial_pops = [0.25, 0.43, 0.31, 0.23, 0.28, 0.21, 0.23, 0.36, 0.25, 0.408125,0.423676, 0.15]\n",
    "    initial_pops = [0.2, 0.4, 0.2, 0.2, 0.2, 0.2, 0.4, 0.2, 0.2, 0.2, 0.2, 0.4]\n",
    "    system = DM.n_thermal_qbits(initial_pops)\n",
    "    connectivity = \"c4_2local\"\n",
    "    unitary_energy_subspace = 1\n",
    "    ordering_seed = 1\n",
    "    chunk_size = 2\n",
    "    order_rule_name = \"greedy\"\n",
    "    num_steps = 500\n",
    "    data = cleo.execute(file_name=\"greedy\",\n",
    "                       connectivity=connectivity,\n",
    "                       order_rule_name = order_rule_name, \n",
    "                       unitary_seed=unitary_seed,\n",
    "                       unitary_energy_subspace=unitary_energy_subspace,\n",
    "                       evolution_generation_type=\"haar2Qunitary\",\n",
    "                       chunk_size=chunk_size,\n",
    "                       num_steps=num_steps,\n",
    "                       initial_pops=initial_pops,\n",
    "                       verbosity = .9)"
   ]
  },
  {
   "cell_type": "code",
   "execution_count": 8,
   "id": "beb19c98-403b-42aa-a303-ba315cda0edd",
   "metadata": {},
   "outputs": [
    {
     "name": "stdout",
     "output_type": "stream",
     "text": [
      "90%\n",
      "simulation complete, extracting and saving data to : ../data/greedy/greedy-12_qubits-c5_2local_connectivity-unitary_energy_subspace_1-unitary_seed_0-order_rule_name_greedy\n",
      "simulation complete, extracting and saving data to : ../data/greedy/greedy-12_qubits-c5_2local_connectivity-unitary_energy_subspace_1-unitary_seed_0-order_rule_name_greedy\n"
     ]
    }
   ],
   "source": [
    "Trials = 1\n",
    "for unitary_seed in range(Trials):\n",
    "#    initial_pops = [0.25, 0.43, 0.31, 0.23, 0.28, 0.21, 0.23, 0.36, 0.25, 0.408125,0.423676, 0.15]\n",
    "    initial_pops = [0.2, 0.4, 0.2, 0.2, 0.2, 0.2, 0.4, 0.2, 0.2, 0.2, 0.2, 0.4]\n",
    "    system = DM.n_thermal_qbits(initial_pops)\n",
    "    connectivity = \"c5_2local\"\n",
    "    unitary_energy_subspace = 1\n",
    "    ordering_seed = 1\n",
    "    chunk_size = 2\n",
    "    order_rule_name = \"greedy\"\n",
    "    num_steps = 500\n",
    "    data = cleo.execute(file_name=\"greedy\",\n",
    "                       connectivity=connectivity,\n",
    "                       order_rule_name = order_rule_name, \n",
    "                       unitary_seed=unitary_seed,\n",
    "                       unitary_energy_subspace=unitary_energy_subspace,\n",
    "                       evolution_generation_type=\"haar2Qunitary\",\n",
    "                       chunk_size=chunk_size,\n",
    "                       num_steps=num_steps,\n",
    "                       initial_pops=initial_pops,\n",
    "                       verbosity = .9)"
   ]
  },
  {
   "cell_type": "code",
   "execution_count": 12,
   "id": "723d2552-5c81-4596-bddc-9d7b7e6e85bc",
   "metadata": {},
   "outputs": [
    {
     "name": "stdout",
     "output_type": "stream",
     "text": [
      "90%\n",
      "simulation complete, extracting and saving data to : ../data/greedy/greedy-10_qubits-c6_2local_connectivity-unitary_energy_subspace_1-unitary_seed_0-order_rule_name_greedy\n",
      "simulation complete, extracting and saving data to : ../data/greedy/greedy-10_qubits-c6_2local_connectivity-unitary_energy_subspace_1-unitary_seed_0-order_rule_name_greedy\n"
     ]
    }
   ],
   "source": [
    "Trials = 1\n",
    "for unitary_seed in range(Trials):\n",
    "    #initial_pops = [0.31, 0.23, 0.23, 0.32002, 0.2, 0.23, 0.36, 0.15, 0.18, 0.408125]\n",
    "\n",
    "   # initial_pops = [0,0.5,0,0,0,0.5,0,0,0,0]\n",
    "    initial_pops = [0.2, 0.4, 0.2, 0.2, 0.2, 0.2, 0.4, 0.2, 0.2, 0.2, 0.2, 0.4]\n",
    "\n",
    "    system = DM.n_thermal_qbits(initial_pops)\n",
    "    connectivity = \"c6_2local\"\n",
    "    unitary_energy_subspace = 1\n",
    "    ordering_seed = 1\n",
    "    chunk_size = 2\n",
    "    order_rule_name = \"greedy\"\n",
    "    num_steps = 500\n",
    "    data = cleo.execute(file_name=\"greedy\",\n",
    "                       connectivity=connectivity,\n",
    "                       order_rule_name = order_rule_name, \n",
    "                       unitary_seed=unitary_seed,\n",
    "                       unitary_energy_subspace=unitary_energy_subspace,\n",
    "                       evolution_generation_type=\"haar2Qunitary\",\n",
    "                       chunk_size=chunk_size,\n",
    "                       num_steps=num_steps,\n",
    "                       initial_pops=initial_pops,\n",
    "                       verbosity = .9)"
   ]
  },
  {
   "cell_type": "code",
   "execution_count": 13,
   "id": "f900ceb8-95f9-4ebf-80c3-fb5e4909f094",
   "metadata": {},
   "outputs": [
    {
     "name": "stdout",
     "output_type": "stream",
     "text": [
      "90%\n",
      "simulation complete, extracting and saving data to : ../data/greedy/greedy-10_qubits-cN_2local_connectivity-unitary_energy_subspace_1-unitary_seed_0-order_rule_name_greedy\n",
      "simulation complete, extracting and saving data to : ../data/greedy/greedy-10_qubits-cN_2local_connectivity-unitary_energy_subspace_1-unitary_seed_0-order_rule_name_greedy\n"
     ]
    }
   ],
   "source": [
    "Trials = 1\n",
    "for unitary_seed in range(Trials):\n",
    "   # initial_pops = [0.31, 0.23, 0.23, 0.32002, 0.2, 0.23, 0.36, 0.15, 0.18, 0.408125]\n",
    "\n",
    "   # initial_pops = [0,0.5,0,0,0,0.5,0,0,0,0]\n",
    "    initial_pops = [0.2, 0.4, 0.2, 0.2, 0.2, 0.2, 0.4, 0.2, 0.2, 0.2, 0.2, 0.4]\n",
    "\n",
    "    system = DM.n_thermal_qbits(initial_pops)\n",
    "    connectivity = \"cN_2local\"\n",
    "    unitary_energy_subspace = 1\n",
    "    ordering_seed = 1\n",
    "    chunk_size = 2\n",
    "    order_rule_name = \"greedy\"\n",
    "    num_steps = 500\n",
    "    data = cleo.execute(file_name=\"greedy\",\n",
    "                       connectivity=connectivity,\n",
    "                       order_rule_name = order_rule_name, \n",
    "                       unitary_seed=unitary_seed,\n",
    "                       unitary_energy_subspace=unitary_energy_subspace,\n",
    "                       evolution_generation_type=\"haar2Qunitary\",\n",
    "                       chunk_size=chunk_size,\n",
    "                       num_steps=num_steps,\n",
    "                       initial_pops=initial_pops,\n",
    "                       verbosity = .9)"
   ]
  },
  {
   "cell_type": "code",
   "execution_count": null,
   "id": "06343074-d1db-44c1-ae9f-decd2594369d",
   "metadata": {},
   "outputs": [],
   "source": [
    "import sys as SYS; SYS.path.insert(0, '../..')\n",
    "from Scripts import hdf5merge\n",
    "hdf5merge.merge_hdf5_files(\"../data/greedy\")"
   ]
  },
  {
   "cell_type": "code",
   "execution_count": 9,
   "id": "ba40b6e6-6a41-456e-866a-09c36fd0d4f6",
   "metadata": {},
   "outputs": [
    {
     "name": "stderr",
     "output_type": "stream",
     "text": [
      "/Users/uja5020/Documents/GitHub/Qnibble/Notebooks/../src/measurements.py:56: RuntimeWarning: invalid value encountered in log\n",
      "  return 1 / (np.log((1 - pop) / pop))\n"
     ]
    },
    {
     "name": "stdout",
     "output_type": "stream",
     "text": [
      "90%\n",
      "simulation complete, extracting and saving data to : ../data/mimic/mimic-12_qubits-c2_2local_connectivity-unitary_energy_subspace_1-unitary_seed_0-order_rule_name_mimic\n",
      "simulation complete, extracting and saving data to : ../data/mimic/mimic-12_qubits-c2_2local_connectivity-unitary_energy_subspace_1-unitary_seed_0-order_rule_name_mimic\n"
     ]
    }
   ],
   "source": [
    "Trials = 1\n",
    "for unitary_seed in range(Trials):\n",
    "#    initial_pops = [0.25, 0.43, 0.31, 0.23, 0.28, 0.21, 0.23, 0.36, 0.25, 0.408125,0.423676, 0.15]\n",
    "    initial_pops = [0.2, 0.4, 0.2, 0.2, 0.2, 0.2, 0.4, 0.2, 0.2, 0.2, 0.2, 0.4]\n",
    "    system = DM.n_thermal_qbits(initial_pops)\n",
    "    connectivity = \"c2_2local\"\n",
    "    unitary_energy_subspace = 1\n",
    "    ordering_seed = 1\n",
    "    chunk_size = 2\n",
    "    order_rule_name = \"mimic\"\n",
    "    num_steps = 500\n",
    "    data = cleo.execute(file_name=\"mimic\",\n",
    "                       connectivity=connectivity,\n",
    "                       order_rule_name = order_rule_name, \n",
    "                       unitary_seed=unitary_seed,\n",
    "                       unitary_energy_subspace=unitary_energy_subspace,\n",
    "                       evolution_generation_type=\"haar2Qunitary\",\n",
    "                       chunk_size=chunk_size,\n",
    "                       num_steps=num_steps,\n",
    "                       initial_pops=initial_pops,\n",
    "                       verbosity = .9)"
   ]
  },
  {
   "cell_type": "code",
   "execution_count": 10,
   "id": "66bedc0b-262e-4a6f-91d2-96fbb41bb893",
   "metadata": {},
   "outputs": [
    {
     "name": "stdout",
     "output_type": "stream",
     "text": [
      "90%\n",
      "simulation complete, extracting and saving data to : ../data/mimic/mimic-12_qubits-c4_2local_connectivity-unitary_energy_subspace_1-unitary_seed_0-order_rule_name_mimic\n",
      "simulation complete, extracting and saving data to : ../data/mimic/mimic-12_qubits-c4_2local_connectivity-unitary_energy_subspace_1-unitary_seed_0-order_rule_name_mimic\n"
     ]
    }
   ],
   "source": [
    "Trials = 1\n",
    "for unitary_seed in range(Trials):\n",
    "#    initial_pops = [0.25, 0.43, 0.31, 0.23, 0.28, 0.21, 0.23, 0.36, 0.25, 0.408125,0.423676, 0.15]\n",
    "    initial_pops = [0.2, 0.4, 0.2, 0.2, 0.2, 0.2, 0.4, 0.2, 0.2, 0.2, 0.2, 0.4]\n",
    "    system = DM.n_thermal_qbits(initial_pops)\n",
    "    connectivity = \"c4_2local\"\n",
    "    unitary_energy_subspace = 1\n",
    "    ordering_seed = 1\n",
    "    chunk_size = 2\n",
    "    order_rule_name = \"mimic\"\n",
    "    num_steps = 500\n",
    "    data = cleo.execute(file_name=\"mimic\",\n",
    "                       connectivity=connectivity,\n",
    "                       order_rule_name = order_rule_name, \n",
    "                       unitary_seed=unitary_seed,\n",
    "                       unitary_energy_subspace=unitary_energy_subspace,\n",
    "                       evolution_generation_type=\"haar2Qunitary\",\n",
    "                       chunk_size=chunk_size,\n",
    "                       num_steps=num_steps,\n",
    "                       initial_pops=initial_pops,\n",
    "                       verbosity = .9)"
   ]
  },
  {
   "cell_type": "code",
   "execution_count": 11,
   "id": "03cc5774-39c2-48b9-b74b-798a544d1dbc",
   "metadata": {},
   "outputs": [
    {
     "name": "stdout",
     "output_type": "stream",
     "text": [
      "90%\n",
      "simulation complete, extracting and saving data to : ../data/mimic/mimic-12_qubits-c5_2local_connectivity-unitary_energy_subspace_1-unitary_seed_0-order_rule_name_mimic\n",
      "simulation complete, extracting and saving data to : ../data/mimic/mimic-12_qubits-c5_2local_connectivity-unitary_energy_subspace_1-unitary_seed_0-order_rule_name_mimic\n"
     ]
    }
   ],
   "source": [
    "Trials = 1\n",
    "for unitary_seed in range(Trials):\n",
    "#    initial_pops = [0.25, 0.43, 0.31, 0.23, 0.28, 0.21, 0.23, 0.36, 0.25, 0.408125,0.423676, 0.15]\n",
    "    initial_pops = [0.2, 0.4, 0.2, 0.2, 0.2, 0.2, 0.4, 0.2, 0.2, 0.2, 0.2, 0.4]\n",
    "    system = DM.n_thermal_qbits(initial_pops)\n",
    "    connectivity = \"c5_2local\"\n",
    "    unitary_energy_subspace = 1\n",
    "    ordering_seed = 1\n",
    "    chunk_size = 2\n",
    "    order_rule_name = \"mimic\"\n",
    "    num_steps = 500\n",
    "    data = cleo.execute(file_name=\"mimic\",\n",
    "                       connectivity=connectivity,\n",
    "                       order_rule_name = order_rule_name, \n",
    "                       unitary_seed=unitary_seed,\n",
    "                       unitary_energy_subspace=unitary_energy_subspace,\n",
    "                       evolution_generation_type=\"haar2Qunitary\",\n",
    "                       chunk_size=chunk_size,\n",
    "                       num_steps=num_steps,\n",
    "                       initial_pops=initial_pops,\n",
    "                       verbosity = .9)"
   ]
  },
  {
   "cell_type": "code",
   "execution_count": 18,
   "id": "c8e599c6-29eb-44fb-b163-7bac5c857def",
   "metadata": {},
   "outputs": [
    {
     "name": "stdout",
     "output_type": "stream",
     "text": [
      "90%\n",
      "simulation complete, extracting and saving data to : ../data/mimic/mimic-10_qubits-c6_2local_connectivity-unitary_energy_subspace_1-unitary_seed_0-order_rule_name_mimic\n",
      "simulation complete, extracting and saving data to : ../data/mimic/mimic-10_qubits-c6_2local_connectivity-unitary_energy_subspace_1-unitary_seed_0-order_rule_name_mimic\n"
     ]
    }
   ],
   "source": [
    "Trials = 1\n",
    "for unitary_seed in range(Trials):\n",
    "    #initial_pops = [0.31, 0.23, 0.23, 0.32002, 0.2, 0.23, 0.36, 0.15, 0.18, 0.408125]\n",
    "\n",
    "   # initial_pops = [0,0.5,0,0,0,0.5,0,0,0,0]\n",
    "    initial_pops = [0.2, 0.4, 0.2, 0.2, 0.2, 0.2, 0.4, 0.2, 0.2, 0.2, 0.2, 0.4]\n",
    "\n",
    "    system = DM.n_thermal_qbits(initial_pops)\n",
    "    connectivity = \"c6_2local\"\n",
    "    unitary_energy_subspace = 1\n",
    "    ordering_seed = 1\n",
    "    chunk_size = 2\n",
    "    order_rule_name = \"mimic\"\n",
    "    num_steps = 500\n",
    "    data = cleo.execute(file_name=\"mimic\",\n",
    "                       connectivity=connectivity,\n",
    "                       order_rule_name = order_rule_name, \n",
    "                       unitary_seed=unitary_seed,\n",
    "                       unitary_energy_subspace=unitary_energy_subspace,\n",
    "                       evolution_generation_type=\"haar2Qunitary\",\n",
    "                       chunk_size=chunk_size,\n",
    "                       num_steps=num_steps,\n",
    "                       initial_pops=initial_pops,\n",
    "                       verbosity = .9)"
   ]
  },
  {
   "cell_type": "code",
   "execution_count": 19,
   "id": "c605c750-600e-4ee2-9c80-7707a1f62334",
   "metadata": {},
   "outputs": [
    {
     "name": "stdout",
     "output_type": "stream",
     "text": [
      "90%\n",
      "simulation complete, extracting and saving data to : ../data/mimic/mimic-10_qubits-cN_2local_connectivity-unitary_energy_subspace_1-unitary_seed_0-order_rule_name_mimic\n",
      "simulation complete, extracting and saving data to : ../data/mimic/mimic-10_qubits-cN_2local_connectivity-unitary_energy_subspace_1-unitary_seed_0-order_rule_name_mimic\n"
     ]
    }
   ],
   "source": [
    "Trials = 1\n",
    "for unitary_seed in range(Trials):\n",
    "   # initial_pops = [0.31, 0.23, 0.23, 0.32002, 0.2, 0.23, 0.36, 0.15, 0.18, 0.408125]\n",
    "\n",
    "   # initial_pops = [0,0.5,0,0,0,0.5,0,0,0,0]\n",
    "    initial_pops = [0.2, 0.4, 0.2, 0.2, 0.2, 0.2, 0.4, 0.2, 0.2, 0.2, 0.2, 0.4]\n",
    "\n",
    "    system = DM.n_thermal_qbits(initial_pops)\n",
    "    connectivity = \"cN_2local\"\n",
    "    unitary_energy_subspace = 1\n",
    "    ordering_seed = 1\n",
    "    chunk_size = 2\n",
    "    order_rule_name = \"mimic\"\n",
    "    num_steps = 500\n",
    "    data = cleo.execute(file_name=\"mimic\",\n",
    "                       connectivity=connectivity,\n",
    "                       order_rule_name = order_rule_name, \n",
    "                       unitary_seed=unitary_seed,\n",
    "                       unitary_energy_subspace=unitary_energy_subspace,\n",
    "                       evolution_generation_type=\"haar2Qunitary\",\n",
    "                       chunk_size=chunk_size,\n",
    "                       num_steps=num_steps,\n",
    "                       initial_pops=initial_pops,\n",
    "                       verbosity = .9)"
   ]
  },
  {
   "cell_type": "code",
   "execution_count": null,
   "id": "59e1ae6b-0706-4353-a3a5-f4e717c40853",
   "metadata": {},
   "outputs": [],
   "source": [
    "import sys as SYS; SYS.path.insert(0, '../..')\n",
    "from Scripts import hdf5merge\n",
    "hdf5merge.merge_hdf5_files(\"../data/mimic\")"
   ]
  },
  {
   "cell_type": "code",
   "execution_count": 12,
   "id": "e42b84b4-6857-453a-abd2-b5e32e232332",
   "metadata": {},
   "outputs": [
    {
     "name": "stdout",
     "output_type": "stream",
     "text": [
      "90%\n",
      "simulation complete, extracting and saving data to : ../data/landscape_maximizes/landscape_maximizes-12_qubits-c2_2local_connectivity-unitary_energy_subspace_1-unitary_seed_0-order_rule_name_landscape_maximizes\n",
      "simulation complete, extracting and saving data to : ../data/landscape_maximizes/landscape_maximizes-12_qubits-c2_2local_connectivity-unitary_energy_subspace_1-unitary_seed_0-order_rule_name_landscape_maximizes\n"
     ]
    }
   ],
   "source": [
    "Trials = 1\n",
    "for unitary_seed in range(Trials):\n",
    "#    initial_pops = [0.25, 0.43, 0.31, 0.23, 0.28, 0.21, 0.23, 0.36, 0.25, 0.408125,0.423676, 0.15]\n",
    "    initial_pops = [0.2, 0.4, 0.2, 0.2, 0.2, 0.2, 0.4, 0.2, 0.2, 0.2, 0.2, 0.4]\n",
    "    system = DM.n_thermal_qbits(initial_pops)\n",
    "    connectivity = \"c2_2local\"\n",
    "    unitary_energy_subspace = 1\n",
    "    ordering_seed = 1\n",
    "    chunk_size = 2\n",
    "    order_rule_name = \"landscape_maximizes\"\n",
    "    num_steps = 500\n",
    "    data = cleo.execute(file_name=\"landscape_maximizes\",\n",
    "                       connectivity=connectivity,\n",
    "                       order_rule_name = order_rule_name, \n",
    "                       unitary_seed=unitary_seed,\n",
    "                       unitary_energy_subspace=unitary_energy_subspace,\n",
    "                       evolution_generation_type=\"haar2Qunitary\",\n",
    "                       chunk_size=chunk_size,\n",
    "                       num_steps=num_steps,\n",
    "                       initial_pops=initial_pops,\n",
    "                       verbosity = .9)"
   ]
  },
  {
   "cell_type": "code",
   "execution_count": 13,
   "id": "fda75c1c-26a9-4a70-98d7-9c117eb0f57f",
   "metadata": {},
   "outputs": [
    {
     "name": "stdout",
     "output_type": "stream",
     "text": [
      "90%\n",
      "simulation complete, extracting and saving data to : ../data/landscape_maximizes/landscape_maximizes-12_qubits-c4_2local_connectivity-unitary_energy_subspace_1-unitary_seed_0-order_rule_name_landscape_maximizes\n",
      "simulation complete, extracting and saving data to : ../data/landscape_maximizes/landscape_maximizes-12_qubits-c4_2local_connectivity-unitary_energy_subspace_1-unitary_seed_0-order_rule_name_landscape_maximizes\n"
     ]
    }
   ],
   "source": [
    "Trials = 1\n",
    "for unitary_seed in range(Trials):\n",
    "#    initial_pops = [0.25, 0.43, 0.31, 0.23, 0.28, 0.21, 0.23, 0.36, 0.25, 0.408125,0.423676, 0.15]\n",
    "    initial_pops = [0.2, 0.4, 0.2, 0.2, 0.2, 0.2, 0.4, 0.2, 0.2, 0.2, 0.2, 0.4]\n",
    "    system = DM.n_thermal_qbits(initial_pops)\n",
    "    connectivity = \"c4_2local\"\n",
    "    unitary_energy_subspace = 1\n",
    "    ordering_seed = 1\n",
    "    chunk_size = 2\n",
    "    order_rule_name = \"landscape_maximizes\"\n",
    "    num_steps = 500\n",
    "    data = cleo.execute(file_name=\"landscape_maximizes\",\n",
    "                       connectivity=connectivity,\n",
    "                       order_rule_name = order_rule_name, \n",
    "                       unitary_seed=unitary_seed,\n",
    "                       unitary_energy_subspace=unitary_energy_subspace,\n",
    "                       evolution_generation_type=\"haar2Qunitary\",\n",
    "                       chunk_size=chunk_size,\n",
    "                       num_steps=num_steps,\n",
    "                       initial_pops=initial_pops,\n",
    "                       verbosity = .9)"
   ]
  },
  {
   "cell_type": "code",
   "execution_count": 14,
   "id": "54bc92b1-1108-4180-914d-8c7888165591",
   "metadata": {},
   "outputs": [
    {
     "name": "stdout",
     "output_type": "stream",
     "text": [
      "90%\n",
      "simulation complete, extracting and saving data to : ../data/landscape_maximizes/landscape_maximizes-12_qubits-c5_2local_connectivity-unitary_energy_subspace_1-unitary_seed_0-order_rule_name_landscape_maximizes\n",
      "simulation complete, extracting and saving data to : ../data/landscape_maximizes/landscape_maximizes-12_qubits-c5_2local_connectivity-unitary_energy_subspace_1-unitary_seed_0-order_rule_name_landscape_maximizes\n"
     ]
    }
   ],
   "source": [
    "Trials = 1\n",
    "for unitary_seed in range(Trials):\n",
    "#    initial_pops = [0.25, 0.43, 0.31, 0.23, 0.28, 0.21, 0.23, 0.36, 0.25, 0.408125,0.423676, 0.15]\n",
    "    initial_pops = [0.2, 0.4, 0.2, 0.2, 0.2, 0.2, 0.4, 0.2, 0.2, 0.2, 0.2, 0.4]\n",
    "    system = DM.n_thermal_qbits(initial_pops)\n",
    "    connectivity = \"c5_2local\"\n",
    "    unitary_energy_subspace = 1\n",
    "    ordering_seed = 1\n",
    "    chunk_size = 2\n",
    "    order_rule_name = \"landscape_maximizes\"\n",
    "    num_steps = 500\n",
    "    data = cleo.execute(file_name=\"landscape_maximizes\",\n",
    "                       connectivity=connectivity,\n",
    "                       order_rule_name = order_rule_name, \n",
    "                       unitary_seed=unitary_seed,\n",
    "                       unitary_energy_subspace=unitary_energy_subspace,\n",
    "                       evolution_generation_type=\"haar2Qunitary\",\n",
    "                       chunk_size=chunk_size,\n",
    "                       num_steps=num_steps,\n",
    "                       initial_pops=initial_pops,\n",
    "                       verbosity = .9)"
   ]
  },
  {
   "cell_type": "code",
   "execution_count": 24,
   "id": "3294890f-af44-40a6-89a5-0ecc33bf082f",
   "metadata": {},
   "outputs": [
    {
     "name": "stdout",
     "output_type": "stream",
     "text": [
      "90%\n",
      "simulation complete, extracting and saving data to : ../data/landscape_maximizes/landscape_maximizes-10_qubits-c6_2local_connectivity-unitary_energy_subspace_1-unitary_seed_0-order_rule_name_landscape_maximizes\n",
      "simulation complete, extracting and saving data to : ../data/landscape_maximizes/landscape_maximizes-10_qubits-c6_2local_connectivity-unitary_energy_subspace_1-unitary_seed_0-order_rule_name_landscape_maximizes\n"
     ]
    }
   ],
   "source": [
    "Trials = 1\n",
    "for unitary_seed in range(Trials):\n",
    "    #initial_pops = [0.31, 0.23, 0.23, 0.32002, 0.2, 0.23, 0.36, 0.15, 0.18, 0.408125]\n",
    "\n",
    "   # initial_pops = [0,0.5,0,0,0,0.5,0,0,0,0]\n",
    "    initial_pops = [0.2, 0.4, 0.2, 0.2, 0.2, 0.2, 0.4, 0.2, 0.2, 0.2, 0.2, 0.4]\n",
    "\n",
    "    system = DM.n_thermal_qbits(initial_pops)\n",
    "    connectivity = \"c6_2local\"\n",
    "    unitary_energy_subspace = 1\n",
    "    ordering_seed = 1\n",
    "    chunk_size = 2\n",
    "    order_rule_name = \"landscape_maximizes\"\n",
    "    num_steps = 500\n",
    "    data = cleo.execute(file_name=\"landscape_maximizes\",\n",
    "                       connectivity=connectivity,\n",
    "                       order_rule_name = order_rule_name, \n",
    "                       unitary_seed=unitary_seed,\n",
    "                       unitary_energy_subspace=unitary_energy_subspace,\n",
    "                       evolution_generation_type=\"haar2Qunitary\",\n",
    "                       chunk_size=chunk_size,\n",
    "                       num_steps=num_steps,\n",
    "                       initial_pops=initial_pops,\n",
    "                       verbosity = .9)"
   ]
  },
  {
   "cell_type": "code",
   "execution_count": 25,
   "id": "f4ee1d6b-ede1-4676-a133-44a9afdbef0f",
   "metadata": {},
   "outputs": [
    {
     "name": "stdout",
     "output_type": "stream",
     "text": [
      "90%\n",
      "simulation complete, extracting and saving data to : ../data/landscape_maximizes/landscape_maximizes-10_qubits-cN_2local_connectivity-unitary_energy_subspace_1-unitary_seed_0-order_rule_name_landscape_maximizes\n",
      "simulation complete, extracting and saving data to : ../data/landscape_maximizes/landscape_maximizes-10_qubits-cN_2local_connectivity-unitary_energy_subspace_1-unitary_seed_0-order_rule_name_landscape_maximizes\n"
     ]
    }
   ],
   "source": [
    "Trials = 1\n",
    "for unitary_seed in range(Trials):\n",
    "   # initial_pops = [0.31, 0.23, 0.23, 0.32002, 0.2, 0.23, 0.36, 0.15, 0.18, 0.408125]\n",
    "\n",
    "   # initial_pops = [0,0.5,0,0,0,0.5,0,0,0,0]\n",
    "    initial_pops = [0.2, 0.4, 0.2, 0.2, 0.2, 0.2, 0.4, 0.2, 0.2, 0.2, 0.2, 0.4]\n",
    "\n",
    "    system = DM.n_thermal_qbits(initial_pops)\n",
    "    connectivity = \"cN_2local\"\n",
    "    unitary_energy_subspace = 1\n",
    "    ordering_seed = 1\n",
    "    chunk_size = 2\n",
    "    order_rule_name = \"landscape_maximizes\"\n",
    "    num_steps = 500\n",
    "    data = cleo.execute(file_name=\"landscape_maximizes\",\n",
    "                       connectivity=connectivity,\n",
    "                       order_rule_name = order_rule_name, \n",
    "                       unitary_seed=unitary_seed,\n",
    "                       unitary_energy_subspace=unitary_energy_subspace,\n",
    "                       evolution_generation_type=\"haar2Qunitary\",\n",
    "                       chunk_size=chunk_size,\n",
    "                       num_steps=num_steps,\n",
    "                       initial_pops=initial_pops,\n",
    "                       verbosity = .9)"
   ]
  },
  {
   "cell_type": "code",
   "execution_count": null,
   "id": "0299af18-b014-49e1-8d5c-c0f89e6470f9",
   "metadata": {},
   "outputs": [],
   "source": [
    "import sys as SYS; SYS.path.insert(0, '../..')\n",
    "from Scripts import hdf5merge\n",
    "hdf5merge.merge_hdf5_files(\"../data/landscape_maximizes\")"
   ]
  },
  {
   "cell_type": "code",
   "execution_count": 30,
   "id": "28287915-db1d-4323-b775-6273c4adba7d",
   "metadata": {},
   "outputs": [
    {
     "data": {
      "text/plain": [
       "array([[ 1, 11],\n",
       "       [10,  5],\n",
       "       [ 2,  8],\n",
       "       [ 4,  0],\n",
       "       [ 6,  3],\n",
       "       [ 9,  7]])"
      ]
     },
     "execution_count": 30,
     "metadata": {},
     "output_type": "execute_result"
    }
   ],
   "source": [
    "import random\n",
    "\n",
    "def generate_unique_pairs(num_qbits):\n",
    "    # Create a list of numbers from 0 to 11\n",
    "    numbers = list(range(num_qbits))\n",
    "    # Shuffle the list to randomize the order\n",
    "    random.shuffle(numbers)\n",
    "    # Create pairs from the shuffled list\n",
    "    pairs = [[numbers[i], numbers[i + 1]] for i in range(0, num_qbits, 2)]\n",
    "    return np.array(pairs)\n",
    "\n",
    "# Example usage:\n",
    "generate_unique_pairs(12)\n"
   ]
  },
  {
   "cell_type": "code",
   "execution_count": 35,
   "id": "614639ab-f8ba-450d-a237-d75e7717de95",
   "metadata": {},
   "outputs": [
    {
     "ename": "TypeError",
     "evalue": "unhashable type: 'list'",
     "output_type": "error",
     "traceback": [
      "\u001b[0;31m---------------------------------------------------------------------------\u001b[0m",
      "\u001b[0;31mTypeError\u001b[0m                                 Traceback (most recent call last)",
      "Cell \u001b[0;32mIn[35], line 37\u001b[0m\n\u001b[1;32m     34\u001b[0m     \u001b[38;5;28;01mreturn\u001b[39;00m unique_pairings\n\u001b[1;32m     36\u001b[0m numbers \u001b[38;5;241m=\u001b[39m \u001b[38;5;28mlist\u001b[39m(\u001b[38;5;28mrange\u001b[39m(\u001b[38;5;241m12\u001b[39m))\n\u001b[0;32m---> 37\u001b[0m pairings \u001b[38;5;241m=\u001b[39m unique_pairings(numbers)\n\u001b[1;32m     39\u001b[0m \u001b[38;5;66;03m# Example: print the total number of unique pairings and the first few pairings\u001b[39;00m\n\u001b[1;32m     40\u001b[0m \u001b[38;5;28mprint\u001b[39m(\u001b[38;5;124mf\u001b[39m\u001b[38;5;124m\"\u001b[39m\u001b[38;5;124mTotal number of unique pairings: \u001b[39m\u001b[38;5;132;01m{\u001b[39;00m\u001b[38;5;28mlen\u001b[39m(pairings)\u001b[38;5;132;01m}\u001b[39;00m\u001b[38;5;124m\"\u001b[39m)\n",
      "Cell \u001b[0;32mIn[35], line 30\u001b[0m, in \u001b[0;36munique_pairings\u001b[0;34m(numbers)\u001b[0m\n\u001b[1;32m     28\u001b[0m     sorted_pairs \u001b[38;5;241m=\u001b[39m \u001b[38;5;28mtuple\u001b[39m(\u001b[38;5;28msorted\u001b[39m(pair) \u001b[38;5;28;01mfor\u001b[39;00m pair \u001b[38;5;129;01min\u001b[39;00m pairing)\n\u001b[1;32m     29\u001b[0m     sorted_pairing \u001b[38;5;241m=\u001b[39m \u001b[38;5;28mtuple\u001b[39m(\u001b[38;5;28msorted\u001b[39m(sorted_pairs))\n\u001b[0;32m---> 30\u001b[0m     unique_pairings_set\u001b[38;5;241m.\u001b[39madd(sorted_pairing)\n\u001b[1;32m     32\u001b[0m unique_pairings \u001b[38;5;241m=\u001b[39m [\u001b[38;5;28mlist\u001b[39m(\u001b[38;5;28mmap\u001b[39m(\u001b[38;5;28mlist\u001b[39m, up)) \u001b[38;5;28;01mfor\u001b[39;00m up \u001b[38;5;129;01min\u001b[39;00m unique_pairings_set]\n\u001b[1;32m     34\u001b[0m \u001b[38;5;28;01mreturn\u001b[39;00m unique_pairings\n",
      "\u001b[0;31mTypeError\u001b[0m: unhashable type: 'list'"
     ]
    }
   ],
   "source": [
    "from itertools import combinations\n",
    "from itertools import permutations\n",
    "from math import factorial\n",
    "\n",
    "def unique_pairings(numbers):\n",
    "    if len(numbers) % 2 != 0:\n",
    "        return []  # Return an empty list if the number of elements is odd\n",
    "\n",
    "    # Recursively generate unique pairings\n",
    "    def generate_pairings(remaining_numbers):\n",
    "        if not remaining_numbers:\n",
    "            return [[]]\n",
    "        \n",
    "        pairings = []\n",
    "        for i in range(1, len(remaining_numbers)):\n",
    "            first_pair = (remaining_numbers[0], remaining_numbers[i])\n",
    "            for rest in generate_pairings(remaining_numbers[1:i] + remaining_numbers[i+1:]):\n",
    "                pairings.append([first_pair] + rest)\n",
    "        \n",
    "        return pairings\n",
    "\n",
    "    # Generate all pairings and filter out duplicates\n",
    "    all_pairings = generate_pairings(numbers)\n",
    "    \n",
    "    # Sort each pair internally and each pairing list, then convert to tuples for hashing\n",
    "    unique_pairings_set = set()\n",
    "    for pairing in all_pairings:\n",
    "        sorted_pairs = tuple(sorted(pair) for pair in pairing)\n",
    "        sorted_pairing = tuple(sorted(sorted_pairs))\n",
    "        unique_pairings_set.add(sorted_pairing)\n",
    "    \n",
    "    unique_pairings = [list(map(list, up)) for up in unique_pairings_set]\n",
    "    \n",
    "    return unique_pairings\n",
    "\n",
    "numbers = list(range(12))\n",
    "pairings = unique_pairings(numbers)\n",
    "\n",
    "# Example: print the total number of unique pairings and the first few pairings\n",
    "print(f\"Total number of unique pairings: {len(pairings)}\")\n",
    "for i, pairing in enumerate(pairings[:10]):  # Display first 10 pairings for brevity\n",
    "    print(f\"Pairing {i+1}: {pairing}\")"
   ]
  },
  {
   "cell_type": "code",
   "execution_count": 6,
   "id": "4bd16121-846a-49ff-b9d5-6895e331b279",
   "metadata": {},
   "outputs": [
    {
     "data": {
      "text/plain": [
       "array([[ 0, 10],\n",
       "       [ 5,  7],\n",
       "       [ 1,  4],\n",
       "       [ 2,  3],\n",
       "       [ 6,  9],\n",
       "       [ 8, 11]])"
      ]
     },
     "execution_count": 6,
     "metadata": {},
     "output_type": "execute_result"
    }
   ],
   "source": [
    "orders.n_random_c6_2local_orders(12)"
   ]
  },
  {
   "cell_type": "code",
   "execution_count": null,
   "id": "e899ca93-4707-4b3d-92b8-dfe10c41d4ff",
   "metadata": {},
   "outputs": [],
   "source": []
  }
 ],
 "metadata": {
  "kernelspec": {
   "display_name": "Python 3 (ipykernel)",
   "language": "python",
   "name": "python3"
  },
  "language_info": {
   "codemirror_mode": {
    "name": "ipython",
    "version": 3
   },
   "file_extension": ".py",
   "mimetype": "text/x-python",
   "name": "python",
   "nbconvert_exporter": "python",
   "pygments_lexer": "ipython3",
   "version": "3.11.7"
  }
 },
 "nbformat": 4,
 "nbformat_minor": 5
}
