{
 "cells": [
  {
   "cell_type": "code",
   "execution_count": 1,
   "id": "540ae469-005a-4148-babb-d29ebcf39076",
   "metadata": {},
   "outputs": [],
   "source": [
    "# Add directory above current directory to path\n",
    "import sys as SYS; SYS.path.insert(0, '..')\n",
    "\n",
    "# for saving\n",
    "import os\n",
    "\n",
    "from collections import defaultdict\n",
    "import numpy as np\n",
    "import matplotlib.pyplot as plt\n",
    "\n",
    "from src import setup\n",
    "# setup.use_gpu()"
   ]
  },
  {
   "cell_type": "code",
   "execution_count": 2,
   "id": "88ebe62b-80bc-492e-827b-bcddc823e997",
   "metadata": {},
   "outputs": [],
   "source": [
    "from src import ( \n",
    "    measurements as measure,\n",
    "    density_matrix as DM,\n",
    "    simulation as sim,\n",
    "    orders,\n",
    "    order_rules,\n",
    "    random_unitary,\n",
    "    simulation)\n",
    "\n",
    "from Scripts import simulation_CLI as cleo"
   ]
  },
  {
   "cell_type": "code",
   "execution_count": 3,
   "id": "5eb70c2b-44b0-4205-99cc-3f6617c4e8a9",
   "metadata": {},
   "outputs": [
    {
     "name": "stdout",
     "output_type": "stream",
     "text": [
      "90%\n",
      "simulation complete, extracting and saving data to : ../data/random/random-10_qubits-c2_2local_connectivity-unitary_energy_subspace_1-unitary_seed_0-order_rule_name_random\n",
      "simulation complete, extracting and saving data to : ../data/random/random-10_qubits-c2_2local_connectivity-unitary_energy_subspace_1-unitary_seed_0-order_rule_name_random\n"
     ]
    }
   ],
   "source": [
    "Trials = 1\n",
    "for unitary_seed in range(Trials):\n",
    "    ##initial_pops = [0.31, 0.23, 0.23, 0.32002, 0.2, 0.23, 0.36, 0.15, 0.18, 0.408125]\n",
    "    #initial_pops = [0,0.5,0,0,0,0.5,0,0,0,0]\n",
    "    initial_pops = [0,0,0,0,0,1,0,0,0,0]\n",
    "    system = DM.n_thermal_qbits(initial_pops)\n",
    "    connectivity = \"c2_2local\"\n",
    "    unitary_energy_subspace = 1\n",
    "    ordering_seed = 1\n",
    "    chunk_size = 2\n",
    "    order_rule_name = \"random\"\n",
    "    num_steps = 500\n",
    "    data = cleo.execute(file_name=\"random\",\n",
    "                       connectivity=connectivity,\n",
    "                       order_rule_name = order_rule_name, \n",
    "                       unitary_seed=unitary_seed,\n",
    "                       unitary_energy_subspace=unitary_energy_subspace,\n",
    "                       evolution_generation_type=\"haar2Qunitary\",\n",
    "                       chunk_size=chunk_size,\n",
    "                       num_steps=num_steps,\n",
    "                       initial_pops=initial_pops,\n",
    "                       verbosity = .9)"
   ]
  },
  {
   "cell_type": "code",
   "execution_count": 4,
   "id": "89edef00-9213-4933-8c69-4f059455c768",
   "metadata": {},
   "outputs": [
    {
     "name": "stdout",
     "output_type": "stream",
     "text": [
      "90%\n",
      "simulation complete, extracting and saving data to : ../data/random/random-10_qubits-c4_2local_connectivity-unitary_energy_subspace_1-unitary_seed_0-order_rule_name_random\n",
      "simulation complete, extracting and saving data to : ../data/random/random-10_qubits-c4_2local_connectivity-unitary_energy_subspace_1-unitary_seed_0-order_rule_name_random\n"
     ]
    }
   ],
   "source": [
    "Trials = 1\n",
    "for unitary_seed in range(Trials):\n",
    "    ##initial_pops = [0.31, 0.23, 0.23, 0.32002, 0.2, 0.23, 0.36, 0.15, 0.18, 0.408125]\n",
    "    #initial_pops = [0,0.5,0,0,0,0.5,0,0,0,0]\n",
    "    initial_pops = [0,0,0,0,0,1,0,0,0,0]\n",
    "    system = DM.n_thermal_qbits(initial_pops)\n",
    "    connectivity = \"c4_2local\"\n",
    "    unitary_energy_subspace = 1\n",
    "    ordering_seed = 1\n",
    "    chunk_size = 2\n",
    "    order_rule_name = \"random\"\n",
    "    num_steps = 500\n",
    "    data = cleo.execute(file_name=\"random\",\n",
    "                       connectivity=connectivity,\n",
    "                       order_rule_name = order_rule_name, \n",
    "                       unitary_seed=unitary_seed,\n",
    "                       unitary_energy_subspace=unitary_energy_subspace,\n",
    "                       evolution_generation_type=\"haar2Qunitary\",\n",
    "                       chunk_size=chunk_size,\n",
    "                       num_steps=num_steps,\n",
    "                       initial_pops=initial_pops,\n",
    "                       verbosity = .9)"
   ]
  },
  {
   "cell_type": "code",
   "execution_count": 5,
   "id": "5de6c3b3-f124-45ab-8d20-82da7151fec7",
   "metadata": {},
   "outputs": [
    {
     "name": "stdout",
     "output_type": "stream",
     "text": [
      "90%\n",
      "simulation complete, extracting and saving data to : ../data/random/random-10_qubits-c5_2local_connectivity-unitary_energy_subspace_1-unitary_seed_0-order_rule_name_random\n",
      "simulation complete, extracting and saving data to : ../data/random/random-10_qubits-c5_2local_connectivity-unitary_energy_subspace_1-unitary_seed_0-order_rule_name_random\n"
     ]
    }
   ],
   "source": [
    "Trials = 1\n",
    "for unitary_seed in range(Trials):\n",
    "    ##initial_pops = [0.31, 0.23, 0.23, 0.32002, 0.2, 0.23, 0.36, 0.15, 0.18, 0.408125]\n",
    "    #initial_pops = [0,0.5,0,0,0,0.5,0,0,0,0]\n",
    "    initial_pops = [0,0,0,0,0,1,0,0,0,0]\n",
    "    system = DM.n_thermal_qbits(initial_pops)\n",
    "    connectivity = \"c5_2local\"\n",
    "    unitary_energy_subspace = 1\n",
    "    ordering_seed = 1\n",
    "    chunk_size = 2\n",
    "    order_rule_name = \"random\"\n",
    "    num_steps = 500\n",
    "    data = cleo.execute(file_name=\"random\",\n",
    "                       connectivity=connectivity,\n",
    "                       order_rule_name = order_rule_name, \n",
    "                       unitary_seed=unitary_seed,\n",
    "                       unitary_energy_subspace=unitary_energy_subspace,\n",
    "                       evolution_generation_type=\"haar2Qunitary\",\n",
    "                       chunk_size=chunk_size,\n",
    "                       num_steps=num_steps,\n",
    "                       initial_pops=initial_pops,\n",
    "                       verbosity = .9)"
   ]
  },
  {
   "cell_type": "code",
   "execution_count": 6,
   "id": "00634891-c389-452e-aeaa-127cb272e9c8",
   "metadata": {},
   "outputs": [
    {
     "name": "stdout",
     "output_type": "stream",
     "text": [
      "90%\n",
      "simulation complete, extracting and saving data to : ../data/random/random-10_qubits-c6_2local_connectivity-unitary_energy_subspace_1-unitary_seed_0-order_rule_name_random\n",
      "simulation complete, extracting and saving data to : ../data/random/random-10_qubits-c6_2local_connectivity-unitary_energy_subspace_1-unitary_seed_0-order_rule_name_random\n"
     ]
    }
   ],
   "source": [
    "Trials = 1\n",
    "for unitary_seed in range(Trials):\n",
    "    ##initial_pops = [0.31, 0.23, 0.23, 0.32002, 0.2, 0.23, 0.36, 0.15, 0.18, 0.408125]\n",
    "    #initial_pops = [0,0.5,0,0,0,0.5,0,0,0,0]\n",
    "    initial_pops = [0,0,0,0,0,1,0,0,0,0]\n",
    "    system = DM.n_thermal_qbits(initial_pops)\n",
    "    connectivity = \"c6_2local\"\n",
    "    unitary_energy_subspace = 1\n",
    "    ordering_seed = 1\n",
    "    chunk_size = 2\n",
    "    order_rule_name = \"random\"\n",
    "    num_steps = 500\n",
    "    data = cleo.execute(file_name=\"random\",\n",
    "                       connectivity=connectivity,\n",
    "                       order_rule_name = order_rule_name, \n",
    "                       unitary_seed=unitary_seed,\n",
    "                       unitary_energy_subspace=unitary_energy_subspace,\n",
    "                       evolution_generation_type=\"haar2Qunitary\",\n",
    "                       chunk_size=chunk_size,\n",
    "                       num_steps=num_steps,\n",
    "                       initial_pops=initial_pops,\n",
    "                       verbosity = .9)"
   ]
  },
  {
   "cell_type": "code",
   "execution_count": 7,
   "id": "2bec75b0-62af-43a7-8d46-428b72b342ec",
   "metadata": {},
   "outputs": [
    {
     "name": "stdout",
     "output_type": "stream",
     "text": [
      "90%\n",
      "simulation complete, extracting and saving data to : ../data/random/random-10_qubits-cN_2local_connectivity-unitary_energy_subspace_1-unitary_seed_0-order_rule_name_random\n",
      "simulation complete, extracting and saving data to : ../data/random/random-10_qubits-cN_2local_connectivity-unitary_energy_subspace_1-unitary_seed_0-order_rule_name_random\n"
     ]
    }
   ],
   "source": [
    "Trials = 1\n",
    "for unitary_seed in range(Trials):\n",
    "    ##initial_pops = [0.31, 0.23, 0.23, 0.32002, 0.2, 0.23, 0.36, 0.15, 0.18, 0.408125]\n",
    "    #initial_pops = [0,0.5,0,0,0,0.5,0,0,0,0]\n",
    "    initial_pops = [0,0,0,0,0,1,0,0,0,0]\n",
    "    system = DM.n_thermal_qbits(initial_pops)\n",
    "    connectivity = \"cN_2local\"\n",
    "    unitary_energy_subspace = 1\n",
    "    ordering_seed = 1\n",
    "    chunk_size = 2\n",
    "    order_rule_name = \"random\"\n",
    "    num_steps = 500\n",
    "    data = cleo.execute(file_name=\"random\",\n",
    "                       connectivity=connectivity,\n",
    "                       order_rule_name = order_rule_name, \n",
    "                       unitary_seed=unitary_seed,\n",
    "                       unitary_energy_subspace=unitary_energy_subspace,\n",
    "                       evolution_generation_type=\"haar2Qunitary\",\n",
    "                       chunk_size=chunk_size,\n",
    "                       num_steps=num_steps,\n",
    "                       initial_pops=initial_pops,\n",
    "                       verbosity = .9)"
   ]
  },
  {
   "cell_type": "code",
   "execution_count": 34,
   "id": "78b773b4-8c2b-443a-91db-6fec9dd43cb1",
   "metadata": {},
   "outputs": [],
   "source": [
    "import sys as SYS; SYS.path.insert(0, '../..')\n",
    "from Scripts import hdf5merge\n",
    "hdf5merge.merge_hdf5_files(\"../data/random\")"
   ]
  },
  {
   "cell_type": "code",
   "execution_count": 9,
   "id": "6ddba038-8b85-4822-8544-c62b5ef80c06",
   "metadata": {},
   "outputs": [
    {
     "name": "stdout",
     "output_type": "stream",
     "text": [
      "90%\n",
      "simulation complete, extracting and saving data to : ../data/greedy/greedy-10_qubits-c2_2local_connectivity-unitary_energy_subspace_1-unitary_seed_0-order_rule_name_greedy\n",
      "simulation complete, extracting and saving data to : ../data/greedy/greedy-10_qubits-c2_2local_connectivity-unitary_energy_subspace_1-unitary_seed_0-order_rule_name_greedy\n"
     ]
    }
   ],
   "source": [
    "Trials = 1\n",
    "for unitary_seed in range(Trials):\n",
    "    ##initial_pops = [0.31, 0.23, 0.23, 0.32002, 0.2, 0.23, 0.36, 0.15, 0.18, 0.408125]\n",
    "    #initial_pops = [0,0.5,0,0,0,0.5,0,0,0,0]\n",
    "    initial_pops = [0,0,0,0,0,1,0,0,0,0]\n",
    "    system = DM.n_thermal_qbits(initial_pops)\n",
    "    connectivity = \"c2_2local\"\n",
    "    unitary_energy_subspace = 1\n",
    "    ordering_seed = 1\n",
    "    chunk_size = 2\n",
    "    order_rule_name = \"greedy\"\n",
    "    num_steps = 500\n",
    "    data = cleo.execute(file_name=\"greedy\",\n",
    "                       connectivity=connectivity,\n",
    "                       order_rule_name = order_rule_name, \n",
    "                       unitary_seed=unitary_seed,\n",
    "                       unitary_energy_subspace=unitary_energy_subspace,\n",
    "                       evolution_generation_type=\"haar2Qunitary\",\n",
    "                       chunk_size=chunk_size,\n",
    "                       num_steps=num_steps,\n",
    "                       initial_pops=initial_pops,\n",
    "                       verbosity = .9)"
   ]
  },
  {
   "cell_type": "code",
   "execution_count": 10,
   "id": "16f59f33-d4af-4239-bceb-82e9982ce6a6",
   "metadata": {},
   "outputs": [
    {
     "name": "stdout",
     "output_type": "stream",
     "text": [
      "90%\n",
      "simulation complete, extracting and saving data to : ../data/greedy/greedy-10_qubits-c4_2local_connectivity-unitary_energy_subspace_1-unitary_seed_0-order_rule_name_greedy\n",
      "simulation complete, extracting and saving data to : ../data/greedy/greedy-10_qubits-c4_2local_connectivity-unitary_energy_subspace_1-unitary_seed_0-order_rule_name_greedy\n"
     ]
    }
   ],
   "source": [
    "Trials = 1\n",
    "for unitary_seed in range(Trials):\n",
    "    ##initial_pops = [0.31, 0.23, 0.23, 0.32002, 0.2, 0.23, 0.36, 0.15, 0.18, 0.408125]\n",
    "    #initial_pops = [0,0.5,0,0,0,0.5,0,0,0,0]\n",
    "    initial_pops = [0,0,0,0,0,1,0,0,0,0]\n",
    "    system = DM.n_thermal_qbits(initial_pops)\n",
    "    connectivity = \"c4_2local\"\n",
    "    unitary_energy_subspace = 1\n",
    "    ordering_seed = 1\n",
    "    chunk_size = 2\n",
    "    order_rule_name = \"greedy\"\n",
    "    num_steps = 500\n",
    "    data = cleo.execute(file_name=\"greedy\",\n",
    "                       connectivity=connectivity,\n",
    "                       order_rule_name = order_rule_name, \n",
    "                       unitary_seed=unitary_seed,\n",
    "                       unitary_energy_subspace=unitary_energy_subspace,\n",
    "                       evolution_generation_type=\"haar2Qunitary\",\n",
    "                       chunk_size=chunk_size,\n",
    "                       num_steps=num_steps,\n",
    "                       initial_pops=initial_pops,\n",
    "                       verbosity = .9)"
   ]
  },
  {
   "cell_type": "code",
   "execution_count": 11,
   "id": "beb19c98-403b-42aa-a303-ba315cda0edd",
   "metadata": {},
   "outputs": [
    {
     "name": "stdout",
     "output_type": "stream",
     "text": [
      "90%\n",
      "simulation complete, extracting and saving data to : ../data/greedy/greedy-10_qubits-c5_2local_connectivity-unitary_energy_subspace_1-unitary_seed_0-order_rule_name_greedy\n",
      "simulation complete, extracting and saving data to : ../data/greedy/greedy-10_qubits-c5_2local_connectivity-unitary_energy_subspace_1-unitary_seed_0-order_rule_name_greedy\n"
     ]
    }
   ],
   "source": [
    "Trials = 1\n",
    "for unitary_seed in range(Trials):\n",
    "    ##initial_pops = [0.31, 0.23, 0.23, 0.32002, 0.2, 0.23, 0.36, 0.15, 0.18, 0.408125]\n",
    "    #initial_pops = [0,0.5,0,0,0,0.5,0,0,0,0]\n",
    "    initial_pops = [0,0,0,0,0,1,0,0,0,0]\n",
    "    system = DM.n_thermal_qbits(initial_pops)\n",
    "    connectivity = \"c5_2local\"\n",
    "    unitary_energy_subspace = 1\n",
    "    ordering_seed = 1\n",
    "    chunk_size = 2\n",
    "    order_rule_name = \"greedy\"\n",
    "    num_steps = 500\n",
    "    data = cleo.execute(file_name=\"greedy\",\n",
    "                       connectivity=connectivity,\n",
    "                       order_rule_name = order_rule_name, \n",
    "                       unitary_seed=unitary_seed,\n",
    "                       unitary_energy_subspace=unitary_energy_subspace,\n",
    "                       evolution_generation_type=\"haar2Qunitary\",\n",
    "                       chunk_size=chunk_size,\n",
    "                       num_steps=num_steps,\n",
    "                       initial_pops=initial_pops,\n",
    "                       verbosity = .9)"
   ]
  },
  {
   "cell_type": "code",
   "execution_count": 12,
   "id": "723d2552-5c81-4596-bddc-9d7b7e6e85bc",
   "metadata": {},
   "outputs": [
    {
     "name": "stdout",
     "output_type": "stream",
     "text": [
      "90%\n",
      "simulation complete, extracting and saving data to : ../data/greedy/greedy-10_qubits-c6_2local_connectivity-unitary_energy_subspace_1-unitary_seed_0-order_rule_name_greedy\n",
      "simulation complete, extracting and saving data to : ../data/greedy/greedy-10_qubits-c6_2local_connectivity-unitary_energy_subspace_1-unitary_seed_0-order_rule_name_greedy\n"
     ]
    }
   ],
   "source": [
    "Trials = 1\n",
    "for unitary_seed in range(Trials):\n",
    "    ##initial_pops = [0.31, 0.23, 0.23, 0.32002, 0.2, 0.23, 0.36, 0.15, 0.18, 0.408125]\n",
    "    #initial_pops = [0,0.5,0,0,0,0.5,0,0,0,0]\n",
    "    initial_pops = [0,0,0,0,0,1,0,0,0,0]\n",
    "    system = DM.n_thermal_qbits(initial_pops)\n",
    "    connectivity = \"c6_2local\"\n",
    "    unitary_energy_subspace = 1\n",
    "    ordering_seed = 1\n",
    "    chunk_size = 2\n",
    "    order_rule_name = \"greedy\"\n",
    "    num_steps = 500\n",
    "    data = cleo.execute(file_name=\"greedy\",\n",
    "                       connectivity=connectivity,\n",
    "                       order_rule_name = order_rule_name, \n",
    "                       unitary_seed=unitary_seed,\n",
    "                       unitary_energy_subspace=unitary_energy_subspace,\n",
    "                       evolution_generation_type=\"haar2Qunitary\",\n",
    "                       chunk_size=chunk_size,\n",
    "                       num_steps=num_steps,\n",
    "                       initial_pops=initial_pops,\n",
    "                       verbosity = .9)"
   ]
  },
  {
   "cell_type": "code",
   "execution_count": 13,
   "id": "f900ceb8-95f9-4ebf-80c3-fb5e4909f094",
   "metadata": {},
   "outputs": [
    {
     "name": "stdout",
     "output_type": "stream",
     "text": [
      "90%\n",
      "simulation complete, extracting and saving data to : ../data/greedy/greedy-10_qubits-cN_2local_connectivity-unitary_energy_subspace_1-unitary_seed_0-order_rule_name_greedy\n",
      "simulation complete, extracting and saving data to : ../data/greedy/greedy-10_qubits-cN_2local_connectivity-unitary_energy_subspace_1-unitary_seed_0-order_rule_name_greedy\n"
     ]
    }
   ],
   "source": [
    "Trials = 1\n",
    "for unitary_seed in range(Trials):\n",
    "    ##initial_pops = [0.31, 0.23, 0.23, 0.32002, 0.2, 0.23, 0.36, 0.15, 0.18, 0.408125]\n",
    "    #initial_pops = [0,0.5,0,0,0,0.5,0,0,0,0]\n",
    "    initial_pops = [0,0,0,0,0,1,0,0,0,0]\n",
    "    system = DM.n_thermal_qbits(initial_pops)\n",
    "    connectivity = \"cN_2local\"\n",
    "    unitary_energy_subspace = 1\n",
    "    ordering_seed = 1\n",
    "    chunk_size = 2\n",
    "    order_rule_name = \"greedy\"\n",
    "    num_steps = 500\n",
    "    data = cleo.execute(file_name=\"greedy\",\n",
    "                       connectivity=connectivity,\n",
    "                       order_rule_name = order_rule_name, \n",
    "                       unitary_seed=unitary_seed,\n",
    "                       unitary_energy_subspace=unitary_energy_subspace,\n",
    "                       evolution_generation_type=\"haar2Qunitary\",\n",
    "                       chunk_size=chunk_size,\n",
    "                       num_steps=num_steps,\n",
    "                       initial_pops=initial_pops,\n",
    "                       verbosity = .9)"
   ]
  },
  {
   "cell_type": "code",
   "execution_count": 40,
   "id": "06343074-d1db-44c1-ae9f-decd2594369d",
   "metadata": {},
   "outputs": [],
   "source": [
    "import sys as SYS; SYS.path.insert(0, '../..')\n",
    "from Scripts import hdf5merge\n",
    "hdf5merge.merge_hdf5_files(\"../data/greedy\")"
   ]
  },
  {
   "cell_type": "code",
   "execution_count": 14,
   "id": "ba40b6e6-6a41-456e-866a-09c36fd0d4f6",
   "metadata": {},
   "outputs": [
    {
     "name": "stderr",
     "output_type": "stream",
     "text": [
      "/Users/uja5020/Documents/GitHub/Qnibble/Notebooks/../src/measurements.py:56: RuntimeWarning: invalid value encountered in log\n",
      "  return 1 / (np.log((1 - pop) / pop))\n",
      "/Users/uja5020/Documents/GitHub/Qnibble/Notebooks/../src/measurements.py:74: RuntimeWarning: divide by zero encountered in log\n",
      "  tr_1 = (1 - pop_1) * np.log(1 - pop_1) + (pop_1) * np.log(pop_1)\n",
      "/Users/uja5020/Documents/GitHub/Qnibble/Notebooks/../src/measurements.py:74: RuntimeWarning: invalid value encountered in scalar multiply\n",
      "  tr_1 = (1 - pop_1) * np.log(1 - pop_1) + (pop_1) * np.log(pop_1)\n"
     ]
    },
    {
     "name": "stdout",
     "output_type": "stream",
     "text": [
      "90%\n",
      "simulation complete, extracting and saving data to : ../data/mimic/mimic-10_qubits-c2_2local_connectivity-unitary_energy_subspace_1-unitary_seed_0-order_rule_name_mimic\n",
      "simulation complete, extracting and saving data to : ../data/mimic/mimic-10_qubits-c2_2local_connectivity-unitary_energy_subspace_1-unitary_seed_0-order_rule_name_mimic\n"
     ]
    }
   ],
   "source": [
    "Trials = 1\n",
    "for unitary_seed in range(Trials):\n",
    "    ##initial_pops = [0.31, 0.23, 0.23, 0.32002, 0.2, 0.23, 0.36, 0.15, 0.18, 0.408125]\n",
    "    #initial_pops = [0,0.5,0,0,0,0.5,0,0,0,0]\n",
    "    initial_pops = [0,0,0,0,0,1,0,0,0,0]\n",
    "    system = DM.n_thermal_qbits(initial_pops)\n",
    "    connectivity = \"c2_2local\"\n",
    "    unitary_energy_subspace = 1\n",
    "    ordering_seed = 1\n",
    "    chunk_size = 2\n",
    "    order_rule_name = \"mimic\"\n",
    "    num_steps = 500\n",
    "    data = cleo.execute(file_name=\"mimic\",\n",
    "                       connectivity=connectivity,\n",
    "                       order_rule_name = order_rule_name, \n",
    "                       unitary_seed=unitary_seed,\n",
    "                       unitary_energy_subspace=unitary_energy_subspace,\n",
    "                       evolution_generation_type=\"haar2Qunitary\",\n",
    "                       chunk_size=chunk_size,\n",
    "                       num_steps=num_steps,\n",
    "                       initial_pops=initial_pops,\n",
    "                       verbosity = .9)"
   ]
  },
  {
   "cell_type": "code",
   "execution_count": 15,
   "id": "66bedc0b-262e-4a6f-91d2-96fbb41bb893",
   "metadata": {},
   "outputs": [
    {
     "name": "stderr",
     "output_type": "stream",
     "text": [
      "/Users/uja5020/Documents/GitHub/Qnibble/Notebooks/../src/measurements.py:74: RuntimeWarning: invalid value encountered in log\n",
      "  tr_1 = (1 - pop_1) * np.log(1 - pop_1) + (pop_1) * np.log(pop_1)\n"
     ]
    },
    {
     "name": "stdout",
     "output_type": "stream",
     "text": [
      "90%\n",
      "simulation complete, extracting and saving data to : ../data/mimic/mimic-10_qubits-c4_2local_connectivity-unitary_energy_subspace_1-unitary_seed_0-order_rule_name_mimic\n",
      "simulation complete, extracting and saving data to : ../data/mimic/mimic-10_qubits-c4_2local_connectivity-unitary_energy_subspace_1-unitary_seed_0-order_rule_name_mimic\n"
     ]
    }
   ],
   "source": [
    "Trials = 1\n",
    "for unitary_seed in range(Trials):\n",
    "    ##initial_pops = [0.31, 0.23, 0.23, 0.32002, 0.2, 0.23, 0.36, 0.15, 0.18, 0.408125]\n",
    "    #initial_pops = [0,0.5,0,0,0,0.5,0,0,0,0]\n",
    "    initial_pops = [0,0,0,0,0,1,0,0,0,0]\n",
    "    system = DM.n_thermal_qbits(initial_pops)\n",
    "    connectivity = \"c4_2local\"\n",
    "    unitary_energy_subspace = 1\n",
    "    ordering_seed = 1\n",
    "    chunk_size = 2\n",
    "    order_rule_name = \"mimic\"\n",
    "    num_steps = 500\n",
    "    data = cleo.execute(file_name=\"mimic\",\n",
    "                       connectivity=connectivity,\n",
    "                       order_rule_name = order_rule_name, \n",
    "                       unitary_seed=unitary_seed,\n",
    "                       unitary_energy_subspace=unitary_energy_subspace,\n",
    "                       evolution_generation_type=\"haar2Qunitary\",\n",
    "                       chunk_size=chunk_size,\n",
    "                       num_steps=num_steps,\n",
    "                       initial_pops=initial_pops,\n",
    "                       verbosity = .9)"
   ]
  },
  {
   "cell_type": "code",
   "execution_count": 16,
   "id": "03cc5774-39c2-48b9-b74b-798a544d1dbc",
   "metadata": {},
   "outputs": [
    {
     "name": "stdout",
     "output_type": "stream",
     "text": [
      "90%\n",
      "simulation complete, extracting and saving data to : ../data/mimic/mimic-10_qubits-c5_2local_connectivity-unitary_energy_subspace_1-unitary_seed_0-order_rule_name_mimic\n",
      "simulation complete, extracting and saving data to : ../data/mimic/mimic-10_qubits-c5_2local_connectivity-unitary_energy_subspace_1-unitary_seed_0-order_rule_name_mimic\n"
     ]
    }
   ],
   "source": [
    "Trials = 1\n",
    "for unitary_seed in range(Trials):\n",
    "    ##initial_pops = [0.31, 0.23, 0.23, 0.32002, 0.2, 0.23, 0.36, 0.15, 0.18, 0.408125]\n",
    "    #initial_pops = [0,0.5,0,0,0,0.5,0,0,0,0]\n",
    "    initial_pops = [0,0,0,0,0,1,0,0,0,0]\n",
    "    system = DM.n_thermal_qbits(initial_pops)\n",
    "    connectivity = \"c5_2local\"\n",
    "    unitary_energy_subspace = 1\n",
    "    ordering_seed = 1\n",
    "    chunk_size = 2\n",
    "    order_rule_name = \"mimic\"\n",
    "    num_steps = 500\n",
    "    data = cleo.execute(file_name=\"mimic\",\n",
    "                       connectivity=connectivity,\n",
    "                       order_rule_name = order_rule_name, \n",
    "                       unitary_seed=unitary_seed,\n",
    "                       unitary_energy_subspace=unitary_energy_subspace,\n",
    "                       evolution_generation_type=\"haar2Qunitary\",\n",
    "                       chunk_size=chunk_size,\n",
    "                       num_steps=num_steps,\n",
    "                       initial_pops=initial_pops,\n",
    "                       verbosity = .9)"
   ]
  },
  {
   "cell_type": "code",
   "execution_count": 17,
   "id": "c8e599c6-29eb-44fb-b163-7bac5c857def",
   "metadata": {},
   "outputs": [
    {
     "name": "stdout",
     "output_type": "stream",
     "text": [
      "90%\n",
      "simulation complete, extracting and saving data to : ../data/mimic/mimic-10_qubits-c6_2local_connectivity-unitary_energy_subspace_1-unitary_seed_0-order_rule_name_mimic\n",
      "simulation complete, extracting and saving data to : ../data/mimic/mimic-10_qubits-c6_2local_connectivity-unitary_energy_subspace_1-unitary_seed_0-order_rule_name_mimic\n"
     ]
    }
   ],
   "source": [
    "Trials = 1\n",
    "for unitary_seed in range(Trials):\n",
    "    ##initial_pops = [0.31, 0.23, 0.23, 0.32002, 0.2, 0.23, 0.36, 0.15, 0.18, 0.408125]\n",
    "    #initial_pops = [0,0.5,0,0,0,0.5,0,0,0,0]\n",
    "    initial_pops = [0,0,0,0,0,1,0,0,0,0]\n",
    "    system = DM.n_thermal_qbits(initial_pops)\n",
    "    connectivity = \"c6_2local\"\n",
    "    unitary_energy_subspace = 1\n",
    "    ordering_seed = 1\n",
    "    chunk_size = 2\n",
    "    order_rule_name = \"mimic\"\n",
    "    num_steps = 500\n",
    "    data = cleo.execute(file_name=\"mimic\",\n",
    "                       connectivity=connectivity,\n",
    "                       order_rule_name = order_rule_name, \n",
    "                       unitary_seed=unitary_seed,\n",
    "                       unitary_energy_subspace=unitary_energy_subspace,\n",
    "                       evolution_generation_type=\"haar2Qunitary\",\n",
    "                       chunk_size=chunk_size,\n",
    "                       num_steps=num_steps,\n",
    "                       initial_pops=initial_pops,\n",
    "                       verbosity = .9)"
   ]
  },
  {
   "cell_type": "code",
   "execution_count": 18,
   "id": "c605c750-600e-4ee2-9c80-7707a1f62334",
   "metadata": {},
   "outputs": [
    {
     "name": "stdout",
     "output_type": "stream",
     "text": [
      "90%\n",
      "simulation complete, extracting and saving data to : ../data/mimic/mimic-10_qubits-cN_2local_connectivity-unitary_energy_subspace_1-unitary_seed_0-order_rule_name_mimic\n",
      "simulation complete, extracting and saving data to : ../data/mimic/mimic-10_qubits-cN_2local_connectivity-unitary_energy_subspace_1-unitary_seed_0-order_rule_name_mimic\n"
     ]
    }
   ],
   "source": [
    "Trials = 1\n",
    "for unitary_seed in range(Trials):\n",
    "    ##initial_pops = [0.31, 0.23, 0.23, 0.32002, 0.2, 0.23, 0.36, 0.15, 0.18, 0.408125]\n",
    "    #initial_pops = [0,0.5,0,0,0,0.5,0,0,0,0]\n",
    "    initial_pops = [0,0,0,0,0,1,0,0,0,0]\n",
    "    system = DM.n_thermal_qbits(initial_pops)\n",
    "    connectivity = \"cN_2local\"\n",
    "    unitary_energy_subspace = 1\n",
    "    ordering_seed = 1\n",
    "    chunk_size = 2\n",
    "    order_rule_name = \"mimic\"\n",
    "    num_steps = 500\n",
    "    data = cleo.execute(file_name=\"mimic\",\n",
    "                       connectivity=connectivity,\n",
    "                       order_rule_name = order_rule_name, \n",
    "                       unitary_seed=unitary_seed,\n",
    "                       unitary_energy_subspace=unitary_energy_subspace,\n",
    "                       evolution_generation_type=\"haar2Qunitary\",\n",
    "                       chunk_size=chunk_size,\n",
    "                       num_steps=num_steps,\n",
    "                       initial_pops=initial_pops,\n",
    "                       verbosity = .9)"
   ]
  },
  {
   "cell_type": "code",
   "execution_count": 46,
   "id": "59e1ae6b-0706-4353-a3a5-f4e717c40853",
   "metadata": {},
   "outputs": [],
   "source": [
    "import sys as SYS; SYS.path.insert(0, '../..')\n",
    "from Scripts import hdf5merge\n",
    "hdf5merge.merge_hdf5_files(\"../data/mimic\")"
   ]
  },
  {
   "cell_type": "code",
   "execution_count": 19,
   "id": "e42b84b4-6857-453a-abd2-b5e32e232332",
   "metadata": {},
   "outputs": [
    {
     "name": "stderr",
     "output_type": "stream",
     "text": [
      "/Users/uja5020/Documents/GitHub/Qnibble/Notebooks/../src/measurements.py:75: RuntimeWarning: divide by zero encountered in log\n",
      "  tr_2 = (1 - pop_1) * np.log(1 - pop_2) + (pop_1) * np.log(pop_2)\n",
      "/Users/uja5020/Documents/GitHub/Qnibble/Notebooks/../src/measurements.py:60: RuntimeWarning: overflow encountered in exp\n",
      "  pop = 1 / (1 + np.exp(1 / T))\n"
     ]
    },
    {
     "name": "stdout",
     "output_type": "stream",
     "text": [
      "90%\n",
      "simulation complete, extracting and saving data to : ../data/landscape_maximizes/landscape_maximizes-10_qubits-c2_2local_connectivity-unitary_energy_subspace_1-unitary_seed_0-order_rule_name_landscape_maximizes\n",
      "simulation complete, extracting and saving data to : ../data/landscape_maximizes/landscape_maximizes-10_qubits-c2_2local_connectivity-unitary_energy_subspace_1-unitary_seed_0-order_rule_name_landscape_maximizes\n"
     ]
    }
   ],
   "source": [
    "Trials = 1\n",
    "for unitary_seed in range(Trials):\n",
    "    ##initial_pops = [0.31, 0.23, 0.23, 0.32002, 0.2, 0.23, 0.36, 0.15, 0.18, 0.408125]\n",
    "    #initial_pops = [0,0.5,0,0,0,0.5,0,0,0,0]\n",
    "    initial_pops = [0,0,0,0,0,1,0,0,0,0]\n",
    "    system = DM.n_thermal_qbits(initial_pops)\n",
    "    connectivity = \"c2_2local\"\n",
    "    unitary_energy_subspace = 1\n",
    "    ordering_seed = 1\n",
    "    chunk_size = 2\n",
    "    order_rule_name = \"landscape_maximizes\"\n",
    "    num_steps = 500\n",
    "    data = cleo.execute(file_name=\"landscape_maximizes\",\n",
    "                       connectivity=connectivity,\n",
    "                       order_rule_name = order_rule_name, \n",
    "                       unitary_seed=unitary_seed,\n",
    "                       unitary_energy_subspace=unitary_energy_subspace,\n",
    "                       evolution_generation_type=\"haar2Qunitary\",\n",
    "                       chunk_size=chunk_size,\n",
    "                       num_steps=num_steps,\n",
    "                       initial_pops=initial_pops,\n",
    "                       verbosity = .9)"
   ]
  },
  {
   "cell_type": "code",
   "execution_count": 20,
   "id": "fda75c1c-26a9-4a70-98d7-9c117eb0f57f",
   "metadata": {},
   "outputs": [
    {
     "name": "stdout",
     "output_type": "stream",
     "text": [
      "90%\n",
      "simulation complete, extracting and saving data to : ../data/landscape_maximizes/landscape_maximizes-10_qubits-c4_2local_connectivity-unitary_energy_subspace_1-unitary_seed_0-order_rule_name_landscape_maximizes\n",
      "simulation complete, extracting and saving data to : ../data/landscape_maximizes/landscape_maximizes-10_qubits-c4_2local_connectivity-unitary_energy_subspace_1-unitary_seed_0-order_rule_name_landscape_maximizes\n"
     ]
    }
   ],
   "source": [
    "Trials = 1\n",
    "for unitary_seed in range(Trials):\n",
    "    ##initial_pops = [0.31, 0.23, 0.23, 0.32002, 0.2, 0.23, 0.36, 0.15, 0.18, 0.408125]\n",
    "    #initial_pops = [0,0.5,0,0,0,0.5,0,0,0,0]\n",
    "    initial_pops = [0,0,0,0,0,1,0,0,0,0]\n",
    "    system = DM.n_thermal_qbits(initial_pops)\n",
    "    connectivity = \"c4_2local\"\n",
    "    unitary_energy_subspace = 1\n",
    "    ordering_seed = 1\n",
    "    chunk_size = 2\n",
    "    order_rule_name = \"landscape_maximizes\"\n",
    "    num_steps = 500\n",
    "    data = cleo.execute(file_name=\"landscape_maximizes\",\n",
    "                       connectivity=connectivity,\n",
    "                       order_rule_name = order_rule_name, \n",
    "                       unitary_seed=unitary_seed,\n",
    "                       unitary_energy_subspace=unitary_energy_subspace,\n",
    "                       evolution_generation_type=\"haar2Qunitary\",\n",
    "                       chunk_size=chunk_size,\n",
    "                       num_steps=num_steps,\n",
    "                       initial_pops=initial_pops,\n",
    "                       verbosity = .9)"
   ]
  },
  {
   "cell_type": "code",
   "execution_count": 21,
   "id": "54bc92b1-1108-4180-914d-8c7888165591",
   "metadata": {},
   "outputs": [
    {
     "name": "stdout",
     "output_type": "stream",
     "text": [
      "90%\n",
      "simulation complete, extracting and saving data to : ../data/landscape_maximizes/landscape_maximizes-10_qubits-c5_2local_connectivity-unitary_energy_subspace_1-unitary_seed_0-order_rule_name_landscape_maximizes\n",
      "simulation complete, extracting and saving data to : ../data/landscape_maximizes/landscape_maximizes-10_qubits-c5_2local_connectivity-unitary_energy_subspace_1-unitary_seed_0-order_rule_name_landscape_maximizes\n"
     ]
    }
   ],
   "source": [
    "Trials = 1\n",
    "for unitary_seed in range(Trials):\n",
    "    ##initial_pops = [0.31, 0.23, 0.23, 0.32002, 0.2, 0.23, 0.36, 0.15, 0.18, 0.408125]\n",
    "    #initial_pops = [0,0.5,0,0,0,0.5,0,0,0,0]\n",
    "    initial_pops = [0,0,0,0,0,1,0,0,0,0]\n",
    "    system = DM.n_thermal_qbits(initial_pops)\n",
    "    connectivity = \"c5_2local\"\n",
    "    unitary_energy_subspace = 1\n",
    "    ordering_seed = 1\n",
    "    chunk_size = 2\n",
    "    order_rule_name = \"landscape_maximizes\"\n",
    "    num_steps = 500\n",
    "    data = cleo.execute(file_name=\"landscape_maximizes\",\n",
    "                       connectivity=connectivity,\n",
    "                       order_rule_name = order_rule_name, \n",
    "                       unitary_seed=unitary_seed,\n",
    "                       unitary_energy_subspace=unitary_energy_subspace,\n",
    "                       evolution_generation_type=\"haar2Qunitary\",\n",
    "                       chunk_size=chunk_size,\n",
    "                       num_steps=num_steps,\n",
    "                       initial_pops=initial_pops,\n",
    "                       verbosity = .9)"
   ]
  },
  {
   "cell_type": "code",
   "execution_count": 22,
   "id": "3294890f-af44-40a6-89a5-0ecc33bf082f",
   "metadata": {},
   "outputs": [
    {
     "name": "stdout",
     "output_type": "stream",
     "text": [
      "90%\n",
      "simulation complete, extracting and saving data to : ../data/landscape_maximizes/landscape_maximizes-10_qubits-c6_2local_connectivity-unitary_energy_subspace_1-unitary_seed_0-order_rule_name_landscape_maximizes\n",
      "simulation complete, extracting and saving data to : ../data/landscape_maximizes/landscape_maximizes-10_qubits-c6_2local_connectivity-unitary_energy_subspace_1-unitary_seed_0-order_rule_name_landscape_maximizes\n"
     ]
    }
   ],
   "source": [
    "Trials = 1\n",
    "for unitary_seed in range(Trials):\n",
    "    ##initial_pops = [0.31, 0.23, 0.23, 0.32002, 0.2, 0.23, 0.36, 0.15, 0.18, 0.408125]\n",
    "    #initial_pops = [0,0.5,0,0,0,0.5,0,0,0,0]\n",
    "    initial_pops = [0,0,0,0,0,1,0,0,0,0]\n",
    "    system = DM.n_thermal_qbits(initial_pops)\n",
    "    connectivity = \"c6_2local\"\n",
    "    unitary_energy_subspace = 1\n",
    "    ordering_seed = 1\n",
    "    chunk_size = 2\n",
    "    order_rule_name = \"landscape_maximizes\"\n",
    "    num_steps = 500\n",
    "    data = cleo.execute(file_name=\"landscape_maximizes\",\n",
    "                       connectivity=connectivity,\n",
    "                       order_rule_name = order_rule_name, \n",
    "                       unitary_seed=unitary_seed,\n",
    "                       unitary_energy_subspace=unitary_energy_subspace,\n",
    "                       evolution_generation_type=\"haar2Qunitary\",\n",
    "                       chunk_size=chunk_size,\n",
    "                       num_steps=num_steps,\n",
    "                       initial_pops=initial_pops,\n",
    "                       verbosity = .9)"
   ]
  },
  {
   "cell_type": "code",
   "execution_count": 23,
   "id": "f4ee1d6b-ede1-4676-a133-44a9afdbef0f",
   "metadata": {},
   "outputs": [
    {
     "name": "stderr",
     "output_type": "stream",
     "text": [
      "/Users/uja5020/Documents/GitHub/Qnibble/Notebooks/../src/measurements.py:75: RuntimeWarning: invalid value encountered in scalar multiply\n",
      "  tr_2 = (1 - pop_1) * np.log(1 - pop_2) + (pop_1) * np.log(pop_2)\n"
     ]
    },
    {
     "name": "stdout",
     "output_type": "stream",
     "text": [
      "90%\n",
      "simulation complete, extracting and saving data to : ../data/landscape_maximizes/landscape_maximizes-10_qubits-cN_2local_connectivity-unitary_energy_subspace_1-unitary_seed_0-order_rule_name_landscape_maximizes\n",
      "simulation complete, extracting and saving data to : ../data/landscape_maximizes/landscape_maximizes-10_qubits-cN_2local_connectivity-unitary_energy_subspace_1-unitary_seed_0-order_rule_name_landscape_maximizes\n"
     ]
    }
   ],
   "source": [
    "Trials = 1\n",
    "for unitary_seed in range(Trials):\n",
    "    ##initial_pops = [0.31, 0.23, 0.23, 0.32002, 0.2, 0.23, 0.36, 0.15, 0.18, 0.408125]\n",
    "    #initial_pops = [0,0.5,0,0,0,0.5,0,0,0,0]\n",
    "    initial_pops = [0,0,0,0,0,1,0,0,0,0]\n",
    "    system = DM.n_thermal_qbits(initial_pops)\n",
    "    connectivity = \"cN_2local\"\n",
    "    unitary_energy_subspace = 1\n",
    "    ordering_seed = 1\n",
    "    chunk_size = 2\n",
    "    order_rule_name = \"landscape_maximizes\"\n",
    "    num_steps = 500\n",
    "    data = cleo.execute(file_name=\"landscape_maximizes\",\n",
    "                       connectivity=connectivity,\n",
    "                       order_rule_name = order_rule_name, \n",
    "                       unitary_seed=unitary_seed,\n",
    "                       unitary_energy_subspace=unitary_energy_subspace,\n",
    "                       evolution_generation_type=\"haar2Qunitary\",\n",
    "                       chunk_size=chunk_size,\n",
    "                       num_steps=num_steps,\n",
    "                       initial_pops=initial_pops,\n",
    "                       verbosity = .9)"
   ]
  },
  {
   "cell_type": "code",
   "execution_count": 52,
   "id": "0299af18-b014-49e1-8d5c-c0f89e6470f9",
   "metadata": {},
   "outputs": [],
   "source": [
    "import sys as SYS; SYS.path.insert(0, '../..')\n",
    "from Scripts import hdf5merge\n",
    "hdf5merge.merge_hdf5_files(\"../data/landscape_maximizes\")"
   ]
  },
  {
   "cell_type": "code",
   "execution_count": 24,
   "id": "28287915-db1d-4323-b775-6273c4adba7d",
   "metadata": {},
   "outputs": [
    {
     "name": "stdout",
     "output_type": "stream",
     "text": [
      "90%\n",
      "simulation complete, extracting and saving data to : ../data/random/random-12_qubits-c2_2local_connectivity-unitary_energy_subspace_1-unitary_seed_0-order_rule_name_random\n",
      "simulation complete, extracting and saving data to : ../data/random/random-12_qubits-c2_2local_connectivity-unitary_energy_subspace_1-unitary_seed_0-order_rule_name_random\n"
     ]
    }
   ],
   "source": [
    "#RANDOM\n",
    "Trials = 1\n",
    "for unitary_seed in range(Trials):\n",
    "#    initial_pops = [0.25, 0.43, 0.31, 0.23, 0.28, 0.21, 0.23, 0.36, 0.25, 0.408125,0.423676, 0.15]\n",
    "    initial_pops = [0,0,0,0,0,1,0,0,0,0,0,0]\n",
    "    system = DM.n_thermal_qbits(initial_pops)\n",
    "    connectivity = \"c2_2local\"\n",
    "    unitary_energy_subspace = 1\n",
    "    ordering_seed = 1\n",
    "    chunk_size = 2\n",
    "    order_rule_name = \"random\"\n",
    "    num_steps = 500\n",
    "    data = cleo.execute(file_name=\"random\",\n",
    "                       connectivity=connectivity,\n",
    "                       order_rule_name = order_rule_name, \n",
    "                       unitary_seed=unitary_seed,\n",
    "                       unitary_energy_subspace=unitary_energy_subspace,\n",
    "                       evolution_generation_type=\"haar2Qunitary\",\n",
    "                       chunk_size=chunk_size,\n",
    "                       num_steps=num_steps,\n",
    "                       initial_pops=initial_pops,\n",
    "                       verbosity = .9)"
   ]
  },
  {
   "cell_type": "code",
   "execution_count": 25,
   "id": "614639ab-f8ba-450d-a237-d75e7717de95",
   "metadata": {},
   "outputs": [
    {
     "name": "stdout",
     "output_type": "stream",
     "text": [
      "90%\n",
      "simulation complete, extracting and saving data to : ../data/random/random-12_qubits-c4_2local_connectivity-unitary_energy_subspace_1-unitary_seed_0-order_rule_name_random\n",
      "simulation complete, extracting and saving data to : ../data/random/random-12_qubits-c4_2local_connectivity-unitary_energy_subspace_1-unitary_seed_0-order_rule_name_random\n"
     ]
    }
   ],
   "source": [
    "#RANDOM\n",
    "Trials = 1\n",
    "for unitary_seed in range(Trials):\n",
    "#    initial_pops = [0.25, 0.43, 0.31, 0.23, 0.28, 0.21, 0.23, 0.36, 0.25, 0.408125,0.423676, 0.15]\n",
    "    initial_pops = [0,0,0,0,0,1,0,0,0,0,0,0]\n",
    "    system = DM.n_thermal_qbits(initial_pops)\n",
    "    connectivity = \"c4_2local\"\n",
    "    unitary_energy_subspace = 1\n",
    "    ordering_seed = 1\n",
    "    chunk_size = 2\n",
    "    order_rule_name = \"random\"\n",
    "    num_steps = 500\n",
    "    data = cleo.execute(file_name=\"random\",\n",
    "                       connectivity=connectivity,\n",
    "                       order_rule_name = order_rule_name, \n",
    "                       unitary_seed=unitary_seed,\n",
    "                       unitary_energy_subspace=unitary_energy_subspace,\n",
    "                       evolution_generation_type=\"haar2Qunitary\",\n",
    "                       chunk_size=chunk_size,\n",
    "                       num_steps=num_steps,\n",
    "                       initial_pops=initial_pops,\n",
    "                       verbosity = .9)"
   ]
  },
  {
   "cell_type": "code",
   "execution_count": 26,
   "id": "4bd16121-846a-49ff-b9d5-6895e331b279",
   "metadata": {},
   "outputs": [
    {
     "name": "stdout",
     "output_type": "stream",
     "text": [
      "90%\n",
      "simulation complete, extracting and saving data to : ../data/random/random-12_qubits-c5_2local_connectivity-unitary_energy_subspace_1-unitary_seed_0-order_rule_name_random\n",
      "simulation complete, extracting and saving data to : ../data/random/random-12_qubits-c5_2local_connectivity-unitary_energy_subspace_1-unitary_seed_0-order_rule_name_random\n"
     ]
    }
   ],
   "source": [
    "#RANDOM\n",
    "Trials = 1\n",
    "for unitary_seed in range(Trials):\n",
    "#    initial_pops = [0.25, 0.43, 0.31, 0.23, 0.28, 0.21, 0.23, 0.36, 0.25, 0.408125,0.423676, 0.15]\n",
    "    initial_pops = [0,0,0,0,0,1,0,0,0,0,0,0]\n",
    "    system = DM.n_thermal_qbits(initial_pops)\n",
    "    connectivity = \"c5_2local\"\n",
    "    unitary_energy_subspace = 1\n",
    "    ordering_seed = 1\n",
    "    chunk_size = 2\n",
    "    order_rule_name = \"random\"\n",
    "    num_steps = 500\n",
    "    data = cleo.execute(file_name=\"random\",\n",
    "                       connectivity=connectivity,\n",
    "                       order_rule_name = order_rule_name, \n",
    "                       unitary_seed=unitary_seed,\n",
    "                       unitary_energy_subspace=unitary_energy_subspace,\n",
    "                       evolution_generation_type=\"haar2Qunitary\",\n",
    "                       chunk_size=chunk_size,\n",
    "                       num_steps=num_steps,\n",
    "                       initial_pops=initial_pops,\n",
    "                       verbosity = .9)"
   ]
  },
  {
   "cell_type": "code",
   "execution_count": 27,
   "id": "e899ca93-4707-4b3d-92b8-dfe10c41d4ff",
   "metadata": {},
   "outputs": [
    {
     "name": "stdout",
     "output_type": "stream",
     "text": [
      "90%\n",
      "simulation complete, extracting and saving data to : ../data/random/random-12_qubits-c6_2local_connectivity-unitary_energy_subspace_1-unitary_seed_0-order_rule_name_random\n",
      "simulation complete, extracting and saving data to : ../data/random/random-12_qubits-c6_2local_connectivity-unitary_energy_subspace_1-unitary_seed_0-order_rule_name_random\n"
     ]
    }
   ],
   "source": [
    "#RANDOM\n",
    "Trials = 1\n",
    "for unitary_seed in range(Trials):\n",
    "#    initial_pops = [0.25, 0.43, 0.31, 0.23, 0.28, 0.21, 0.23, 0.36, 0.25, 0.408125,0.423676, 0.15]\n",
    "    initial_pops = [0,0,0,0,0,1,0,0,0,0,0,0]\n",
    "    system = DM.n_thermal_qbits(initial_pops)\n",
    "    connectivity = \"c6_2local\"\n",
    "    unitary_energy_subspace = 1\n",
    "    ordering_seed = 1\n",
    "    chunk_size = 2\n",
    "    order_rule_name = \"random\"\n",
    "    num_steps = 500\n",
    "    data = cleo.execute(file_name=\"random\",\n",
    "                       connectivity=connectivity,\n",
    "                       order_rule_name = order_rule_name, \n",
    "                       unitary_seed=unitary_seed,\n",
    "                       unitary_energy_subspace=unitary_energy_subspace,\n",
    "                       evolution_generation_type=\"haar2Qunitary\",\n",
    "                       chunk_size=chunk_size,\n",
    "                       num_steps=num_steps,\n",
    "                       initial_pops=initial_pops,\n",
    "                       verbosity = .9)"
   ]
  },
  {
   "cell_type": "code",
   "execution_count": 28,
   "id": "4751b008-5473-4cc1-bfaa-89f373273aae",
   "metadata": {},
   "outputs": [
    {
     "name": "stdout",
     "output_type": "stream",
     "text": [
      "90%\n",
      "simulation complete, extracting and saving data to : ../data/random/random-12_qubits-cN_2local_connectivity-unitary_energy_subspace_1-unitary_seed_0-order_rule_name_random\n",
      "simulation complete, extracting and saving data to : ../data/random/random-12_qubits-cN_2local_connectivity-unitary_energy_subspace_1-unitary_seed_0-order_rule_name_random\n"
     ]
    }
   ],
   "source": [
    "#RANDOM\n",
    "Trials = 1\n",
    "for unitary_seed in range(Trials):\n",
    "#    initial_pops = [0.25, 0.43, 0.31, 0.23, 0.28, 0.21, 0.23, 0.36, 0.25, 0.408125,0.423676, 0.15]\n",
    "    initial_pops = [0,0,0,0,0,1,0,0,0,0,0,0]\n",
    "    system = DM.n_thermal_qbits(initial_pops)\n",
    "    connectivity = \"cN_2local\"\n",
    "    unitary_energy_subspace = 1\n",
    "    ordering_seed = 1\n",
    "    chunk_size = 2\n",
    "    order_rule_name = \"random\"\n",
    "    num_steps = 500\n",
    "    data = cleo.execute(file_name=\"random\",\n",
    "                       connectivity=connectivity,\n",
    "                       order_rule_name = order_rule_name, \n",
    "                       unitary_seed=unitary_seed,\n",
    "                       unitary_energy_subspace=unitary_energy_subspace,\n",
    "                       evolution_generation_type=\"haar2Qunitary\",\n",
    "                       chunk_size=chunk_size,\n",
    "                       num_steps=num_steps,\n",
    "                       initial_pops=initial_pops,\n",
    "                       verbosity = .9)"
   ]
  },
  {
   "cell_type": "code",
   "execution_count": 29,
   "id": "5bf5be48-dcab-4872-9b29-6b8d399a583c",
   "metadata": {},
   "outputs": [
    {
     "name": "stdout",
     "output_type": "stream",
     "text": [
      "90%\n",
      "simulation complete, extracting and saving data to : ../data/greedy/greedy-12_qubits-c2_2local_connectivity-unitary_energy_subspace_1-unitary_seed_0-order_rule_name_greedy\n",
      "simulation complete, extracting and saving data to : ../data/greedy/greedy-12_qubits-c2_2local_connectivity-unitary_energy_subspace_1-unitary_seed_0-order_rule_name_greedy\n"
     ]
    }
   ],
   "source": [
    "#RANDOM\n",
    "Trials = 1\n",
    "for unitary_seed in range(Trials):\n",
    "#    initial_pops = [0.25, 0.43, 0.31, 0.23, 0.28, 0.21, 0.23, 0.36, 0.25, 0.408125,0.423676, 0.15]\n",
    "    initial_pops = [0,0,0,0,0,1,0,0,0,0,0,0]\n",
    "    system = DM.n_thermal_qbits(initial_pops)\n",
    "    connectivity = \"c2_2local\"\n",
    "    unitary_energy_subspace = 1\n",
    "    ordering_seed = 1\n",
    "    chunk_size = 2\n",
    "    order_rule_name = \"greedy\"\n",
    "    num_steps = 500\n",
    "    data = cleo.execute(file_name=\"greedy\",\n",
    "                       connectivity=connectivity,\n",
    "                       order_rule_name = order_rule_name, \n",
    "                       unitary_seed=unitary_seed,\n",
    "                       unitary_energy_subspace=unitary_energy_subspace,\n",
    "                       evolution_generation_type=\"haar2Qunitary\",\n",
    "                       chunk_size=chunk_size,\n",
    "                       num_steps=num_steps,\n",
    "                       initial_pops=initial_pops,\n",
    "                       verbosity = .9)"
   ]
  },
  {
   "cell_type": "code",
   "execution_count": 30,
   "id": "d3c33107-0289-4fce-8b80-3403d93de88e",
   "metadata": {},
   "outputs": [
    {
     "name": "stdout",
     "output_type": "stream",
     "text": [
      "90%\n",
      "simulation complete, extracting and saving data to : ../data/greedy/greedy-12_qubits-c4_2local_connectivity-unitary_energy_subspace_1-unitary_seed_0-order_rule_name_greedy\n",
      "simulation complete, extracting and saving data to : ../data/greedy/greedy-12_qubits-c4_2local_connectivity-unitary_energy_subspace_1-unitary_seed_0-order_rule_name_greedy\n"
     ]
    }
   ],
   "source": [
    "#RANDOM\n",
    "Trials = 1\n",
    "for unitary_seed in range(Trials):\n",
    "#    initial_pops = [0.25, 0.43, 0.31, 0.23, 0.28, 0.21, 0.23, 0.36, 0.25, 0.408125,0.423676, 0.15]\n",
    "    initial_pops = [0,0,0,0,0,1,0,0,0,0,0,0]\n",
    "    system = DM.n_thermal_qbits(initial_pops)\n",
    "    connectivity = \"c4_2local\"\n",
    "    unitary_energy_subspace = 1\n",
    "    ordering_seed = 1\n",
    "    chunk_size = 2\n",
    "    order_rule_name = \"greedy\"\n",
    "    num_steps = 500\n",
    "    data = cleo.execute(file_name=\"greedy\",\n",
    "                       connectivity=connectivity,\n",
    "                       order_rule_name = order_rule_name, \n",
    "                       unitary_seed=unitary_seed,\n",
    "                       unitary_energy_subspace=unitary_energy_subspace,\n",
    "                       evolution_generation_type=\"haar2Qunitary\",\n",
    "                       chunk_size=chunk_size,\n",
    "                       num_steps=num_steps,\n",
    "                       initial_pops=initial_pops,\n",
    "                       verbosity = .9)"
   ]
  },
  {
   "cell_type": "code",
   "execution_count": 31,
   "id": "7dbeba08-2e8b-4013-88fd-6a72f1f5a934",
   "metadata": {},
   "outputs": [
    {
     "name": "stdout",
     "output_type": "stream",
     "text": [
      "90%\n",
      "simulation complete, extracting and saving data to : ../data/greedy/greedy-12_qubits-c5_2local_connectivity-unitary_energy_subspace_1-unitary_seed_0-order_rule_name_greedy\n",
      "simulation complete, extracting and saving data to : ../data/greedy/greedy-12_qubits-c5_2local_connectivity-unitary_energy_subspace_1-unitary_seed_0-order_rule_name_greedy\n"
     ]
    }
   ],
   "source": [
    "#RANDOM\n",
    "Trials = 1\n",
    "for unitary_seed in range(Trials):\n",
    "#    initial_pops = [0.25, 0.43, 0.31, 0.23, 0.28, 0.21, 0.23, 0.36, 0.25, 0.408125,0.423676, 0.15]\n",
    "    initial_pops = [0,0,0,0,0,1,0,0,0,0,0,0]\n",
    "    system = DM.n_thermal_qbits(initial_pops)\n",
    "    connectivity = \"c5_2local\"\n",
    "    unitary_energy_subspace = 1\n",
    "    ordering_seed = 1\n",
    "    chunk_size = 2\n",
    "    order_rule_name = \"greedy\"\n",
    "    num_steps = 500\n",
    "    data = cleo.execute(file_name=\"greedy\",\n",
    "                       connectivity=connectivity,\n",
    "                       order_rule_name = order_rule_name, \n",
    "                       unitary_seed=unitary_seed,\n",
    "                       unitary_energy_subspace=unitary_energy_subspace,\n",
    "                       evolution_generation_type=\"haar2Qunitary\",\n",
    "                       chunk_size=chunk_size,\n",
    "                       num_steps=num_steps,\n",
    "                       initial_pops=initial_pops,\n",
    "                       verbosity = .9)"
   ]
  },
  {
   "cell_type": "code",
   "execution_count": 32,
   "id": "18d68784-a961-40f8-8287-5712feffff27",
   "metadata": {},
   "outputs": [
    {
     "name": "stdout",
     "output_type": "stream",
     "text": [
      "90%\n",
      "simulation complete, extracting and saving data to : ../data/greedy/greedy-12_qubits-c6_2local_connectivity-unitary_energy_subspace_1-unitary_seed_0-order_rule_name_greedy\n",
      "simulation complete, extracting and saving data to : ../data/greedy/greedy-12_qubits-c6_2local_connectivity-unitary_energy_subspace_1-unitary_seed_0-order_rule_name_greedy\n"
     ]
    }
   ],
   "source": [
    "#RANDOM\n",
    "Trials = 1\n",
    "for unitary_seed in range(Trials):\n",
    "#    initial_pops = [0.25, 0.43, 0.31, 0.23, 0.28, 0.21, 0.23, 0.36, 0.25, 0.408125,0.423676, 0.15]\n",
    "    initial_pops = [0,0,0,0,0,1,0,0,0,0,0,0]\n",
    "    system = DM.n_thermal_qbits(initial_pops)\n",
    "    connectivity = \"c6_2local\"\n",
    "    unitary_energy_subspace = 1\n",
    "    ordering_seed = 1\n",
    "    chunk_size = 2\n",
    "    order_rule_name = \"greedy\"\n",
    "    num_steps = 500\n",
    "    data = cleo.execute(file_name=\"greedy\",\n",
    "                       connectivity=connectivity,\n",
    "                       order_rule_name = order_rule_name, \n",
    "                       unitary_seed=unitary_seed,\n",
    "                       unitary_energy_subspace=unitary_energy_subspace,\n",
    "                       evolution_generation_type=\"haar2Qunitary\",\n",
    "                       chunk_size=chunk_size,\n",
    "                       num_steps=num_steps,\n",
    "                       initial_pops=initial_pops,\n",
    "                       verbosity = .9)"
   ]
  },
  {
   "cell_type": "code",
   "execution_count": null,
   "id": "d9cafdb2-d7cb-4aca-8369-c9939df47e5c",
   "metadata": {},
   "outputs": [],
   "source": [
    "#RANDOM\n",
    "Trials = 1\n",
    "for unitary_seed in range(Trials):\n",
    "#    initial_pops = [0.25, 0.43, 0.31, 0.23, 0.28, 0.21, 0.23, 0.36, 0.25, 0.408125,0.423676, 0.15]\n",
    "    initial_pops = [0,0,0,0,0,1,0,0,0,0,0,0]\n",
    "    system = DM.n_thermal_qbits(initial_pops)\n",
    "    connectivity = \"cN_2local\"\n",
    "    unitary_energy_subspace = 1\n",
    "    ordering_seed = 1\n",
    "    chunk_size = 2\n",
    "    order_rule_name = \"greedy\"\n",
    "    num_steps = 500\n",
    "    data = cleo.execute(file_name=\"greedy\",\n",
    "                       connectivity=connectivity,\n",
    "                       order_rule_name = order_rule_name, \n",
    "                       unitary_seed=unitary_seed,\n",
    "                       unitary_energy_subspace=unitary_energy_subspace,\n",
    "                       evolution_generation_type=\"haar2Qunitary\",\n",
    "                       chunk_size=chunk_size,\n",
    "                       num_steps=num_steps,\n",
    "                       initial_pops=initial_pops,\n",
    "                       verbosity = .9)"
   ]
  },
  {
   "cell_type": "code",
   "execution_count": null,
   "id": "c970bc26-03a7-41c9-8b87-c26233af670a",
   "metadata": {},
   "outputs": [],
   "source": [
    "#RANDOM\n",
    "Trials = 1\n",
    "for unitary_seed in range(Trials):\n",
    "#    initial_pops = [0.25, 0.43, 0.31, 0.23, 0.28, 0.21, 0.23, 0.36, 0.25, 0.408125,0.423676, 0.15]\n",
    "    initial_pops = [0,0,0,0,0,1,0,0,0,0,0,0]\n",
    "    system = DM.n_thermal_qbits(initial_pops)\n",
    "    connectivity = \"c2_2local\"\n",
    "    unitary_energy_subspace = 1\n",
    "    ordering_seed = 1\n",
    "    chunk_size = 2\n",
    "    order_rule_name = \"mimic\"\n",
    "    num_steps = 500\n",
    "    data = cleo.execute(file_name=\"mimic\",\n",
    "                       connectivity=connectivity,\n",
    "                       order_rule_name = order_rule_name, \n",
    "                       unitary_seed=unitary_seed,\n",
    "                       unitary_energy_subspace=unitary_energy_subspace,\n",
    "                       evolution_generation_type=\"haar2Qunitary\",\n",
    "                       chunk_size=chunk_size,\n",
    "                       num_steps=num_steps,\n",
    "                       initial_pops=initial_pops,\n",
    "                       verbosity = .9)"
   ]
  },
  {
   "cell_type": "code",
   "execution_count": null,
   "id": "2b993635-9f79-4040-9dc0-170dcca67c46",
   "metadata": {},
   "outputs": [],
   "source": [
    "#RANDOM\n",
    "Trials = 1\n",
    "for unitary_seed in range(Trials):\n",
    "#    initial_pops = [0.25, 0.43, 0.31, 0.23, 0.28, 0.21, 0.23, 0.36, 0.25, 0.408125,0.423676, 0.15]\n",
    "    initial_pops = [0,0,0,0,0,1,0,0,0,0,0,0]\n",
    "    system = DM.n_thermal_qbits(initial_pops)\n",
    "    connectivity = \"c4_2local\"\n",
    "    unitary_energy_subspace = 1\n",
    "    ordering_seed = 1\n",
    "    chunk_size = 2\n",
    "    order_rule_name = \"mimic\"\n",
    "    num_steps = 500\n",
    "    data = cleo.execute(file_name=\"mimic\",\n",
    "                       connectivity=connectivity,\n",
    "                       order_rule_name = order_rule_name, \n",
    "                       unitary_seed=unitary_seed,\n",
    "                       unitary_energy_subspace=unitary_energy_subspace,\n",
    "                       evolution_generation_type=\"haar2Qunitary\",\n",
    "                       chunk_size=chunk_size,\n",
    "                       num_steps=num_steps,\n",
    "                       initial_pops=initial_pops,\n",
    "                       verbosity = .9)"
   ]
  },
  {
   "cell_type": "code",
   "execution_count": null,
   "id": "ff7fe67f-fc87-4e6a-b8ff-77823a9c2e63",
   "metadata": {},
   "outputs": [],
   "source": [
    "#RANDOM\n",
    "Trials = 1\n",
    "for unitary_seed in range(Trials):\n",
    "#    initial_pops = [0.25, 0.43, 0.31, 0.23, 0.28, 0.21, 0.23, 0.36, 0.25, 0.408125,0.423676, 0.15]\n",
    "    initial_pops = [0,0,0,0,0,1,0,0,0,0,0,0]\n",
    "    system = DM.n_thermal_qbits(initial_pops)\n",
    "    connectivity = \"c5_2local\"\n",
    "    unitary_energy_subspace = 1\n",
    "    ordering_seed = 1\n",
    "    chunk_size = 2\n",
    "    order_rule_name = \"mimic\"\n",
    "    num_steps = 500\n",
    "    data = cleo.execute(file_name=\"mimic\",\n",
    "                       connectivity=connectivity,\n",
    "                       order_rule_name = order_rule_name, \n",
    "                       unitary_seed=unitary_seed,\n",
    "                       unitary_energy_subspace=unitary_energy_subspace,\n",
    "                       evolution_generation_type=\"haar2Qunitary\",\n",
    "                       chunk_size=chunk_size,\n",
    "                       num_steps=num_steps,\n",
    "                       initial_pops=initial_pops,\n",
    "                       verbosity = .9)"
   ]
  },
  {
   "cell_type": "code",
   "execution_count": null,
   "id": "edba96a8-9dce-4239-8b1b-b2ff6ff056fb",
   "metadata": {},
   "outputs": [],
   "source": [
    "#RANDOM\n",
    "Trials = 1\n",
    "for unitary_seed in range(Trials):\n",
    "#    initial_pops = [0.25, 0.43, 0.31, 0.23, 0.28, 0.21, 0.23, 0.36, 0.25, 0.408125,0.423676, 0.15]\n",
    "    initial_pops = [0,0,0,0,0,1,0,0,0,0,0,0]\n",
    "    system = DM.n_thermal_qbits(initial_pops)\n",
    "    connectivity = \"c6_2local\"\n",
    "    unitary_energy_subspace = 1\n",
    "    ordering_seed = 1\n",
    "    chunk_size = 2\n",
    "    order_rule_name = \"mimic\"\n",
    "    num_steps = 500\n",
    "    data = cleo.execute(file_name=\"mimic\",\n",
    "                       connectivity=connectivity,\n",
    "                       order_rule_name = order_rule_name, \n",
    "                       unitary_seed=unitary_seed,\n",
    "                       unitary_energy_subspace=unitary_energy_subspace,\n",
    "                       evolution_generation_type=\"haar2Qunitary\",\n",
    "                       chunk_size=chunk_size,\n",
    "                       num_steps=num_steps,\n",
    "                       initial_pops=initial_pops,\n",
    "                       verbosity = .9)"
   ]
  },
  {
   "cell_type": "code",
   "execution_count": null,
   "id": "8efc90d5-fcdc-4f6f-827f-b5189dc6c0da",
   "metadata": {},
   "outputs": [],
   "source": [
    "#RANDOM\n",
    "Trials = 1\n",
    "for unitary_seed in range(Trials):\n",
    "#    initial_pops = [0.25, 0.43, 0.31, 0.23, 0.28, 0.21, 0.23, 0.36, 0.25, 0.408125,0.423676, 0.15]\n",
    "    initial_pops = [0,0,0,0,0,1,0,0,0,0,0,0]\n",
    "    system = DM.n_thermal_qbits(initial_pops)\n",
    "    connectivity = \"cN_2local\"\n",
    "    unitary_energy_subspace = 1\n",
    "    ordering_seed = 1\n",
    "    chunk_size = 2\n",
    "    order_rule_name = \"mimic\"\n",
    "    num_steps = 500\n",
    "    data = cleo.execute(file_name=\"mimic\",\n",
    "                       connectivity=connectivity,\n",
    "                       order_rule_name = order_rule_name, \n",
    "                       unitary_seed=unitary_seed,\n",
    "                       unitary_energy_subspace=unitary_energy_subspace,\n",
    "                       evolution_generation_type=\"haar2Qunitary\",\n",
    "                       chunk_size=chunk_size,\n",
    "                       num_steps=num_steps,\n",
    "                       initial_pops=initial_pops,\n",
    "                       verbosity = .9)"
   ]
  },
  {
   "cell_type": "code",
   "execution_count": null,
   "id": "83c4bb5d-3c4b-44e4-8cad-00d6516ff50b",
   "metadata": {},
   "outputs": [],
   "source": []
  }
 ],
 "metadata": {
  "kernelspec": {
   "display_name": "Python 3 (ipykernel)",
   "language": "python",
   "name": "python3"
  },
  "language_info": {
   "codemirror_mode": {
    "name": "ipython",
    "version": 3
   },
   "file_extension": ".py",
   "mimetype": "text/x-python",
   "name": "python",
   "nbconvert_exporter": "python",
   "pygments_lexer": "ipython3",
   "version": "3.11.7"
  }
 },
 "nbformat": 4,
 "nbformat_minor": 5
}
