{
 "cells": [
  {
   "cell_type": "code",
   "execution_count": 2,
   "id": "bf7dcdce-361e-4495-9ae5-f1c5609893fe",
   "metadata": {},
   "outputs": [],
   "source": [
    "import numpy as np\n",
    "import matplotlib.pyplot as plt\n",
    "\n",
    "import Python.density_matrix as DM\n",
    "from Python.random_hamiltonian import random_hamiltonian\n",
    "from Python.ket import canonical_basis, energy_basis"
   ]
  },
  {
   "cell_type": "code",
   "execution_count": 3,
   "id": "214688f5-fb4d-4c6d-8d93-7df8d6ee9716",
   "metadata": {},
   "outputs": [
    {
     "name": "stdout",
     "output_type": "stream",
     "text": [
      "0.0\n",
      "10.0\n",
      "20.0\n",
      "30.0\n",
      "40.0\n",
      "50.0\n",
      "60.0\n",
      "70.0\n",
      "80.0\n",
      "90.0\n"
     ]
    },
    {
     "data": {
      "text/plain": "<Figure size 432x288 with 2 Axes>",
      "image/png": "[encoded data removed]"
     },
     "metadata": {
      "needs_background": "light"
     },
     "output_type": "display_data"
    }
   ],
   "source": [
    "#the initial populations of each qbit\n",
    "pops = [.1, .1, .1, .1, .1, 10]\n",
    "\n",
    "# an nqbit system with the specified pops.\n",
    "system = DM.nqbit(pops)\n",
    "system.change_to_energy_basis()\n",
    "\n",
    "#the identity in the energy basis of 3 qbits. This is usefull for calculating the full hamiltonian.\n",
    "I = DM.Identity(energy_basis(3))\n",
    "\n",
    "#we are going to do 1000 steps.\n",
    "for i in range(1000):\n",
    "    \n",
    "    #every ten steps print the progress\n",
    "    if i%100==0:print(i/10)\n",
    "    \n",
    "    #Calculate a random hamiltonain \n",
    "    H = random_hamiltonian(3).tensor(I) + I.tensor(random_hamiltonian(3))\n",
    "    \n",
    "    #get the unitary by matrix exponentiation\n",
    "    U = DM.exp(H * .1j)\n",
    "    \n",
    "    #change to the energu basis so it can act on the system.\n",
    "    U.change_to_energy_basis() \n",
    "   \n",
    "    #update the system\n",
    "    system = U * system * U.H\n",
    "    \n",
    "system.plot()"
   ]
  },
  {
   "cell_type": "code",
   "execution_count": null,
   "id": "bd9d4a4d-58cf-4ee3-b7af-ad27c7d520b4",
   "metadata": {},
   "outputs": [],
   "source": []
  },
  {
   "cell_type": "code",
   "execution_count": null,
   "id": "8a032e0c-bcb7-461f-b154-3129ed9b4728",
   "metadata": {},
   "outputs": [],
   "source": []
  }
 ],
 "metadata": {
  "kernelspec": {
   "display_name": "Python 3",
   "language": "python",
   "name": "python3"
  },
  "language_info": {
   "codemirror_mode": {
    "name": "ipython",
    "version": 3
   },
   "file_extension": ".py",
   "mimetype": "text/x-python",
   "name": "python",
   "nbconvert_exporter": "python",
   "pygments_lexer": "ipython3",
   "version": "3.8.8"
  }
 },
 "nbformat": 4,
 "nbformat_minor": 5
}