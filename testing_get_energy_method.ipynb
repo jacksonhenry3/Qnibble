{
 "cells": [
  {
   "cell_type": "code",
   "execution_count": 1,
   "id": "823281d5-78d7-481a-ac0a-d9f07e7245b6",
   "metadata": {},
   "outputs": [],
   "source": [
    "def method_1(n):\n",
    "    return(bin(n).count(\"1\"))"
   ]
  },
  {
   "cell_type": "code",
   "execution_count": 17,
   "id": "73671d61-3bce-46b8-bc5e-ea49ea1c2f9e",
   "metadata": {},
   "outputs": [],
   "source": [
    "def method_2(n):\n",
    "    total = 0\n",
    "    i = 0\n",
    "    while n>0:\n",
    "        res = n & (2**i)\n",
    "        \n",
    "        n-= res\n",
    "        total += bool( res)\n",
    "        i+=1\n",
    "    return total"
   ]
  },
  {
   "cell_type": "code",
   "execution_count": 11,
   "id": "3da1f6a7-b794-4a78-8b5f-e22aaaea2aa1",
   "metadata": {},
   "outputs": [
    {
     "name": "stdout",
     "output_type": "stream",
     "text": [
      "237 ns ± 1.34 ns per loop (mean ± std. dev. of 7 runs, 1,000,000 loops each)\n"
     ]
    }
   ],
   "source": [
    "%%timeit\n",
    "method_1(65526)"
   ]
  },
  {
   "cell_type": "code",
   "execution_count": 18,
   "id": "2d7f57e4-0759-4c73-ac97-e48cde808f5e",
   "metadata": {},
   "outputs": [
    {
     "name": "stdout",
     "output_type": "stream",
     "text": [
      "5.13 µs ± 20.7 ns per loop (mean ± std. dev. of 7 runs, 100,000 loops each)\n"
     ]
    }
   ],
   "source": [
    "%%timeit\n",
    "method_2(65526)"
   ]
  },
  {
   "cell_type": "code",
   "execution_count": null,
   "id": "4f69a81d-c5b1-458f-854a-d0f411b67dcf",
   "metadata": {},
   "outputs": [],
   "source": []
  }
 ],
 "metadata": {
  "kernelspec": {
   "display_name": "PyCharm (Qnibble)",
   "language": "python",
   "name": "pycharm-c82c9ad0"
  },
  "language_info": {
   "codemirror_mode": {
    "name": "ipython",
    "version": 3
   },
   "file_extension": ".py",
   "mimetype": "text/x-python",
   "name": "python",
   "nbconvert_exporter": "python",
   "pygments_lexer": "ipython3",
   "version": "3.10.4"
  }
 },
 "nbformat": 4,
 "nbformat_minor": 5
}
